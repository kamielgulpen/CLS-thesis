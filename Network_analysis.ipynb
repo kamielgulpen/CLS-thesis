{
 "cells": [
  {
   "cell_type": "code",
   "execution_count": 2,
   "metadata": {},
   "outputs": [
    {
     "name": "stdout",
     "output_type": "stream",
     "text": [
      "Requirement already satisfied: leidenalg in c:\\users\\kgulp\\anaconda3\\lib\\site-packages (0.8.8)\n",
      "Requirement already satisfied: python-igraph>=0.9.0 in c:\\users\\kgulp\\anaconda3\\lib\\site-packages (from leidenalg) (0.9.9)\n",
      "Requirement already satisfied: igraph==0.9.9 in c:\\users\\kgulp\\anaconda3\\lib\\site-packages (from python-igraph>=0.9.0->leidenalg) (0.9.9)\n",
      "Requirement already satisfied: texttable>=1.6.2 in c:\\users\\kgulp\\anaconda3\\lib\\site-packages (from igraph==0.9.9->python-igraph>=0.9.0->leidenalg) (1.6.4)\n"
     ]
    }
   ],
   "source": [
    "import sys\n",
    "# !{sys.executable} -m pip install pyvis\n",
    "# !{sys.executable} -m pip install datashader\n",
    "!{sys.executable} -m pip install leidenalg\n"
   ]
  },
  {
   "cell_type": "code",
   "execution_count": 1,
   "metadata": {},
   "outputs": [
    {
     "data": {
      "text/plain": [
       "-1797347457666682785"
      ]
     },
     "execution_count": 1,
     "metadata": {},
     "output_type": "execute_result"
    }
   ],
   "source": [
    "hash('Hallo mijn nam is kamiel')"
   ]
  },
  {
   "cell_type": "code",
   "execution_count": 375,
   "metadata": {},
   "outputs": [
    {
     "data": {
      "text/plain": [
       "61"
      ]
     },
     "execution_count": 375,
     "metadata": {},
     "output_type": "execute_result"
    }
   ],
   "source": [
    "np.random.choice([i for i in range (100)], p= [1/100 for i in range(100)])"
   ]
  },
  {
   "cell_type": "code",
   "execution_count": 377,
   "metadata": {},
   "outputs": [
    {
     "ename": "ValueError",
     "evalue": "maximum supported dimension for an ndarray is 32, found 100",
     "output_type": "error",
     "traceback": [
      "\u001b[1;31m---------------------------------------------------------------------------\u001b[0m",
      "\u001b[1;31mValueError\u001b[0m                                Traceback (most recent call last)",
      "\u001b[1;32m<ipython-input-377-342c5256cdb0>\u001b[0m in \u001b[0;36m<module>\u001b[1;34m\u001b[0m\n\u001b[1;32m----> 1\u001b[1;33m \u001b[0mnp\u001b[0m\u001b[1;33m.\u001b[0m\u001b[0mrandom\u001b[0m\u001b[1;33m.\u001b[0m\u001b[0mpower\u001b[0m\u001b[1;33m(\u001b[0m\u001b[1;36m.5\u001b[0m\u001b[1;33m,\u001b[0m\u001b[1;33m[\u001b[0m\u001b[0mi\u001b[0m \u001b[1;32mfor\u001b[0m \u001b[0mi\u001b[0m \u001b[1;32min\u001b[0m \u001b[0mrange\u001b[0m \u001b[1;33m(\u001b[0m\u001b[1;36m100\u001b[0m\u001b[1;33m)\u001b[0m\u001b[1;33m]\u001b[0m \u001b[1;33m)\u001b[0m\u001b[1;33m\u001b[0m\u001b[1;33m\u001b[0m\u001b[0m\n\u001b[0m",
      "\u001b[1;32mmtrand.pyx\u001b[0m in \u001b[0;36mnumpy.random.mtrand.RandomState.power\u001b[1;34m()\u001b[0m\n",
      "\u001b[1;32m_common.pyx\u001b[0m in \u001b[0;36mnumpy.random._common.cont\u001b[1;34m()\u001b[0m\n",
      "\u001b[1;31mValueError\u001b[0m: maximum supported dimension for an ndarray is 32, found 100"
     ]
    }
   ],
   "source": [
    "np.random.power(.5,[i for i in range (100)] )"
   ]
  },
  {
   "cell_type": "code",
   "execution_count": 1,
   "metadata": {},
   "outputs": [],
   "source": [
    "from pyvis.network import Network\n",
    "import networkx as nx\n",
    "import pandas as pd\n",
    "import math\n",
    "import numpy as np\n",
    "from scipy import stats\n",
    "\n",
    "import pylab \n",
    "\n",
    "import powerlaw\n",
    "\n",
    "\n",
    "import datashader as ds\n",
    "import datashader.transfer_functions as tf\n",
    "from datashader.layout import random_layout, circular_layout, forceatlas2_layout\n",
    "from datashader.bundling import connect_edges, hammer_bundle\n",
    "import matplotlib.pyplot as plt\n",
    "# from py3plex.core import multinet\n",
    "\n",
    "from itertools import chain\n",
    "import random\n",
    "import seaborn as sn"
   ]
  },
  {
   "cell_type": "code",
   "execution_count": 49,
   "metadata": {},
   "outputs": [
    {
     "data": {
      "text/plain": [
       "86100"
      ]
     },
     "execution_count": 49,
     "metadata": {},
     "output_type": "execute_result"
    }
   ],
   "source": []
  },
  {
   "cell_type": "code",
   "execution_count": 43,
   "metadata": {},
   "outputs": [
    {
     "name": "stdout",
     "output_type": "stream",
     "text": [
      "79422\n"
     ]
    }
   ],
   "source": [
    "nodes = pd.concat([df['source'],df['destination']]).unique()\n",
    "\n",
    "print(len(nodes))\n",
    "\n",
    "pd.DataFrame({'Nodes': nodes}).to_csv('gephi_nodes.csv')\n",
    "\n",
    "edges = df[['source', 'destination']]\n",
    "\n",
    "edges.to_csv('gephi_edges.csv')"
   ]
  },
  {
   "cell_type": "code",
   "execution_count": 68,
   "metadata": {},
   "outputs": [],
   "source": [
    "G = nx.from_pandas_edgelist(df, 'source', 'destination', create_using=nx.DiGraph())"
   ]
  },
  {
   "cell_type": "code",
   "execution_count": 69,
   "metadata": {},
   "outputs": [],
   "source": [
    "nodes = pd.DataFrame()\n",
    "temp_df = pd.concat([df['source'],df['destination']])\n",
    "\n",
    "temp_df = pd.factorize(df.source)[0] + 1\n",
    "\n",
    "length = np.array_split(temp_df, 2)\n",
    "\n",
    "df_ = pd.DataFrame()\n",
    "df_['source'] = length[0]\n",
    "df_['destination'] = length[1]\n",
    "\n",
    "\n",
    "nodes['name'] = pd.unique(df_[['source', 'destination']].values.ravel('K'))"
   ]
  },
  {
   "cell_type": "code",
   "execution_count": 70,
   "metadata": {},
   "outputs": [
    {
     "data": {
      "text/html": [
       "<div>\n",
       "<style scoped>\n",
       "    .dataframe tbody tr th:only-of-type {\n",
       "        vertical-align: middle;\n",
       "    }\n",
       "\n",
       "    .dataframe tbody tr th {\n",
       "        vertical-align: top;\n",
       "    }\n",
       "\n",
       "    .dataframe thead th {\n",
       "        text-align: right;\n",
       "    }\n",
       "</style>\n",
       "<table border=\"1\" class=\"dataframe\">\n",
       "  <thead>\n",
       "    <tr style=\"text-align: right;\">\n",
       "      <th></th>\n",
       "      <th>name</th>\n",
       "      <th>x</th>\n",
       "      <th>y</th>\n",
       "    </tr>\n",
       "  </thead>\n",
       "  <tbody>\n",
       "    <tr>\n",
       "      <th>76863</th>\n",
       "      <td>76864</td>\n",
       "      <td>0.043105</td>\n",
       "      <td>0.091400</td>\n",
       "    </tr>\n",
       "    <tr>\n",
       "      <th>76864</th>\n",
       "      <td>76865</td>\n",
       "      <td>0.745748</td>\n",
       "      <td>0.422766</td>\n",
       "    </tr>\n",
       "    <tr>\n",
       "      <th>76865</th>\n",
       "      <td>76866</td>\n",
       "      <td>0.104676</td>\n",
       "      <td>0.288981</td>\n",
       "    </tr>\n",
       "    <tr>\n",
       "      <th>76866</th>\n",
       "      <td>76867</td>\n",
       "      <td>0.166508</td>\n",
       "      <td>0.523104</td>\n",
       "    </tr>\n",
       "    <tr>\n",
       "      <th>76867</th>\n",
       "      <td>76868</td>\n",
       "      <td>0.677717</td>\n",
       "      <td>0.935504</td>\n",
       "    </tr>\n",
       "  </tbody>\n",
       "</table>\n",
       "</div>"
      ],
      "text/plain": [
       "        name         x         y\n",
       "76863  76864  0.043105  0.091400\n",
       "76864  76865  0.745748  0.422766\n",
       "76865  76866  0.104676  0.288981\n",
       "76866  76867  0.166508  0.523104\n",
       "76867  76868  0.677717  0.935504"
      ]
     },
     "execution_count": 70,
     "metadata": {},
     "output_type": "execute_result"
    }
   ],
   "source": [
    "circular  = circular_layout(nodes, uniform=False)\n",
    "randomloc = random_layout(nodes)\n",
    "randomloc.tail()\n"
   ]
  },
  {
   "cell_type": "code",
   "execution_count": 71,
   "metadata": {},
   "outputs": [
    {
     "data": {
      "text/html": [
       "<table style=\"width:100%; text-align: center\"><tbody><tr style=\"background-color:white\"><td style=\"text-align: center\"><b>Random layout</b><br><br><img style=\"margin: auto; border:1px solid\" src='data:image/png;base64,iVBORw0KGgoAAAANSUhEUgAAAZAAAAGQCAYAAACAvzbMAAAFm0lEQVR4nO3VQQ3AMBDAsK6Ujj+2DsPyqSbZCPLLc2bOAoCP9u0AAP7JQABIDASAxEAASAwEgMRAAEgMBIDEQABIDASAxEAASAwEgMRAAEgMBIDEQABIDASAxEAASAwEgMRAAEgMBIDEQABIDASAxEAASAwEgMRAAEgMBIDEQABIDASAxEAASAwEgMRAAEgMBIDEQABIDASAxEAASAwEgMRAAEgMBIDEQABIDASAxEAASAwEgMRAAEgMBIDEQABIDASAxEAASAwEgMRAAEgMBIDEQABIDASAxEAASAwEgMRAAEgMBIDEQABIDASAxEAASAwEgMRAAEgMBIDEQABIDASAxEAASAwEgMRAAEgMBIDEQABIDASAxEAASAwEgMRAAEgMBIDEQABIDASAxEAASAwEgMRAAEgMBIDEQABIDASAxEAASAwEgMRAAEgMBIDEQABIDASAxEAASAwEgMRAAEgMBIDEQABIDASAxEAASAwEgMRAAEgMBIDEQABIDASAxEAASAwEgMRAAEgMBIDEQABIDASAxEAASAwEgMRAAEgMBIDEQABIDASAxEAASAwEgMRAAEgMBIDEQABIDASAxEAASAwEgMRAAEgMBIDEQABIDASAxEAASAwEgMRAAEgMBIDEQABIDASAxEAASAwEgMRAAEgMBIDEQABIDASAxEAASAwEgMRAAEgMBIDEQABIDASAxEAASAwEgMRAAEgMBIDEQABIDASAxEAASAwEgMRAAEgMBIDEQABIDASAxEAASAwEgMRAAEgMBIDEQABIDASAxEAASAwEgMRAAEgMBIDEQABIDASAxEAASAwEgMRAAEgMBIDEQABIDASAxEAASAwEgMRAAEgMBIDEQABIDASAxEAASAwEgMRAAEgMBIDEQABIDASAxEAASAwEgMRAAEgMBIDEQABIDASAxEAASAwEgMRAAEgMBIDEQABIDASAxEAASAwEgMRAAEgMBIDEQABIDASAxEAASAwEgMRAAEgMBIDEQABIDASAxEAASAwEgMRAAEgMBIDEQABIDASAxEAASAwEgMRAAEgMBIDEQABIDASAxEAASAwEgMRAAEgMBIDEQABIDASAxEAASAwEgMRAAEgMBIDEQABIDASAxEAASAwEgMRAAEgMBIDEQABIDASAxEAASAwEgMRAAEgMBIDEQABIDASAxEAASAwEgMRAAEgMBIDEQABIDASAxEAASAwEgMRAAEgMBIDEQABIDASAxEAASAwEgMRAAEgMBIDEQABIDASAxEAASAwEgMRAAEgMBIDEQABIDASAxEAASAwEgMRAAEgMBIDEQABIDASAxEAASAwEgMRAAEgMBIDEQABIDASAxEAASAwEgMRAAEgMBIDEQABIDASAxEAASAwEgMRAAEgMBIDEQABIDASAxEAASAwEgMRAAEgMBIDEQABIDASAxEAASAwEgMRAAEgMBIDEQABIDASAxEAASAwEgMRAAEgMBIDEQABIDASAxEAASAwEgMRAAEgMBIDEQABIDASAxEAASAwEgMRAAEgMBIDEQABIDASAxEAASAwEgMRAAEgMBIDEQABIDASAxEAASAwEgMRAAEgMBIDEQABIDASAxEAASAwEgMRAAEgMBIDEQABIDASAxEAASAwEgMRAAEgMBIDEQABIDASAxEAASAwEgMRAAEgMBIDEQABIDASAxEAASAwEgMRAAEgMBIDEQABIDASAxEAASAwEgMRAAEgMBIDEQABIDASAxEAASAwEgMRAAEgMBIDEQABIDASAxEAASAwEgMRAAEgMBIDEQABIDASAxEAASAwEgMRAAEgMBIDEQABIDASAxEAASAwEgMRAAEgMBIDEQABIDASAxEAASAwEgMRAAEgMBIDEQABIDASAxEAASAwEgMRAAEgMBIDEQABIDASA5AUA+QWEsL9GYQAAAABJRU5ErkJggg=='/></td><td style=\"text-align: center\"><b>Circular layout</b><br><br><img style=\"margin: auto; border:1px solid\" src='data:image/png;base64,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'/></td></tr></tbody></table>"
      ],
      "text/plain": [
       "<datashader.transfer_functions.Images at 0x1f380294250>"
      ]
     },
     "execution_count": 71,
     "metadata": {},
     "output_type": "execute_result"
    }
   ],
   "source": [
    "cvsopts = dict(plot_height=400, plot_width=400)\n",
    "\n",
    "def nodesplot(nodes, name=None, canvas=None, cat=None):\n",
    "    canvas = ds.Canvas(**cvsopts) if canvas is None else canvas\n",
    "    aggregator=None if cat is None else ds.count_cat(cat)\n",
    "    agg=canvas.points(nodes,'x','y',aggregator)\n",
    "    return tf.spread(tf.shade(agg, cmap=[\"#FF3333\"]), px=3, name=name)\n",
    "\n",
    "tf.Images(nodesplot(randomloc,\"Random layout\"),\n",
    "          nodesplot(circular, \"Circular layout\"))"
   ]
  },
  {
   "cell_type": "code",
   "execution_count": 73,
   "metadata": {},
   "outputs": [],
   "source": [
    "df_ = df_.rename(columns={\"destination\": \"target\"})"
   ]
  },
  {
   "cell_type": "code",
   "execution_count": 75,
   "metadata": {},
   "outputs": [
    {
     "name": "stdout",
     "output_type": "stream",
     "text": [
      "        source  target\n",
      "0            1   36643\n",
      "1            2   36688\n",
      "2            3   35201\n",
      "3            4   37778\n",
      "4            5   37603\n",
      "...        ...     ...\n",
      "245037   36826   76770\n",
      "245038   34668   76802\n",
      "245039   36776   76645\n",
      "245040   34834   76697\n",
      "245041   37620   76862\n",
      "\n",
      "[245042 rows x 2 columns]\n",
      "Wall time: 0 ns\n"
     ]
    },
    {
     "ename": "KeyboardInterrupt",
     "evalue": "",
     "output_type": "error",
     "traceback": [
      "\u001b[1;31m---------------------------------------------------------------------------\u001b[0m",
      "\u001b[1;31mKeyboardInterrupt\u001b[0m                         Traceback (most recent call last)",
      "\u001b[1;32m<ipython-input-75-63d1375f17a9>\u001b[0m in \u001b[0;36m<module>\u001b[1;34m\u001b[0m\n\u001b[0;32m      5\u001b[0m \u001b[0mdf_\u001b[0m \u001b[1;33m=\u001b[0m \u001b[0mdf_\u001b[0m\u001b[1;33m[\u001b[0m\u001b[1;33m[\u001b[0m\u001b[1;34m'source'\u001b[0m\u001b[1;33m,\u001b[0m \u001b[1;34m'target'\u001b[0m\u001b[1;33m]\u001b[0m\u001b[1;33m]\u001b[0m\u001b[1;33m\u001b[0m\u001b[1;33m\u001b[0m\u001b[0m\n\u001b[0;32m      6\u001b[0m \u001b[1;33m\u001b[0m\u001b[0m\n\u001b[1;32m----> 7\u001b[1;33m \u001b[0mforcedirected\u001b[0m \u001b[1;33m=\u001b[0m \u001b[0mforceatlas2_layout\u001b[0m\u001b[1;33m(\u001b[0m\u001b[0mnodes\u001b[0m\u001b[1;33m,\u001b[0m \u001b[0mdf_\u001b[0m\u001b[1;33m)\u001b[0m\u001b[1;33m\u001b[0m\u001b[1;33m\u001b[0m\u001b[0m\n\u001b[0m\u001b[0;32m      8\u001b[0m \u001b[0mtf\u001b[0m\u001b[1;33m.\u001b[0m\u001b[0mImages\u001b[0m\u001b[1;33m(\u001b[0m\u001b[0mnodesplot\u001b[0m\u001b[1;33m(\u001b[0m\u001b[0mforcedirected\u001b[0m\u001b[1;33m,\u001b[0m \u001b[1;34m\"ForceAtlas2 layout\"\u001b[0m\u001b[1;33m)\u001b[0m\u001b[1;33m)\u001b[0m\u001b[1;33m\u001b[0m\u001b[1;33m\u001b[0m\u001b[0m\n",
      "\u001b[1;32m~\\anaconda3\\lib\\site-packages\\param\\parameterized.py\u001b[0m in \u001b[0;36m__new__\u001b[1;34m(class_, *args, **params)\u001b[0m\n\u001b[0;32m   3629\u001b[0m         \u001b[0minst\u001b[0m \u001b[1;33m=\u001b[0m \u001b[0mclass_\u001b[0m\u001b[1;33m.\u001b[0m\u001b[0minstance\u001b[0m\u001b[1;33m(\u001b[0m\u001b[1;33m)\u001b[0m\u001b[1;33m\u001b[0m\u001b[1;33m\u001b[0m\u001b[0m\n\u001b[0;32m   3630\u001b[0m         \u001b[0minst\u001b[0m\u001b[1;33m.\u001b[0m\u001b[0mparam\u001b[0m\u001b[1;33m.\u001b[0m\u001b[0m_set_name\u001b[0m\u001b[1;33m(\u001b[0m\u001b[0mclass_\u001b[0m\u001b[1;33m.\u001b[0m\u001b[0m__name__\u001b[0m\u001b[1;33m)\u001b[0m\u001b[1;33m\u001b[0m\u001b[1;33m\u001b[0m\u001b[0m\n\u001b[1;32m-> 3631\u001b[1;33m         \u001b[1;32mreturn\u001b[0m \u001b[0minst\u001b[0m\u001b[1;33m.\u001b[0m\u001b[0m__call__\u001b[0m\u001b[1;33m(\u001b[0m\u001b[1;33m*\u001b[0m\u001b[0margs\u001b[0m\u001b[1;33m,\u001b[0m\u001b[1;33m**\u001b[0m\u001b[0mparams\u001b[0m\u001b[1;33m)\u001b[0m\u001b[1;33m\u001b[0m\u001b[1;33m\u001b[0m\u001b[0m\n\u001b[0m\u001b[0;32m   3632\u001b[0m \u001b[1;33m\u001b[0m\u001b[0m\n\u001b[0;32m   3633\u001b[0m     \u001b[1;32mdef\u001b[0m \u001b[0m__call__\u001b[0m\u001b[1;33m(\u001b[0m\u001b[0mself\u001b[0m\u001b[1;33m,\u001b[0m\u001b[1;33m*\u001b[0m\u001b[0margs\u001b[0m\u001b[1;33m,\u001b[0m\u001b[1;33m**\u001b[0m\u001b[0mkw\u001b[0m\u001b[1;33m)\u001b[0m\u001b[1;33m:\u001b[0m\u001b[1;33m\u001b[0m\u001b[1;33m\u001b[0m\u001b[0m\n",
      "\u001b[1;32m~\\anaconda3\\lib\\site-packages\\datashader\\layout.py\u001b[0m in \u001b[0;36m__call__\u001b[1;34m(self, nodes, edges, **params)\u001b[0m\n\u001b[0;32m    259\u001b[0m         \u001b[1;31m# simple cooling scheme.\u001b[0m\u001b[1;33m\u001b[0m\u001b[1;33m\u001b[0m\u001b[1;33m\u001b[0m\u001b[0m\n\u001b[0;32m    260\u001b[0m         \u001b[1;31m# linearly step down by dt on each iteration so last iteration is size dt.\u001b[0m\u001b[1;33m\u001b[0m\u001b[1;33m\u001b[0m\u001b[1;33m\u001b[0m\u001b[0m\n\u001b[1;32m--> 261\u001b[1;33m         \u001b[0mcooling\u001b[0m\u001b[1;33m(\u001b[0m\u001b[0mmatrix\u001b[0m\u001b[1;33m,\u001b[0m \u001b[0mpoints\u001b[0m\u001b[1;33m,\u001b[0m \u001b[0mtemperature\u001b[0m\u001b[1;33m,\u001b[0m \u001b[0mp\u001b[0m\u001b[1;33m)\u001b[0m\u001b[1;33m\u001b[0m\u001b[1;33m\u001b[0m\u001b[0m\n\u001b[0m\u001b[0;32m    262\u001b[0m \u001b[1;33m\u001b[0m\u001b[0m\n\u001b[0;32m    263\u001b[0m         \u001b[1;31m# Return the nodes with updated positions\u001b[0m\u001b[1;33m\u001b[0m\u001b[1;33m\u001b[0m\u001b[1;33m\u001b[0m\u001b[0m\n",
      "\u001b[1;32m~\\anaconda3\\lib\\site-packages\\datashader\\layout.py\u001b[0m in \u001b[0;36mcooling\u001b[1;34m(matrix, points, temperature, params)\u001b[0m\n\u001b[0;32m    184\u001b[0m \u001b[1;33m\u001b[0m\u001b[0m\n\u001b[0;32m    185\u001b[0m             \u001b[1;31m# enforce minimum distance of 0.01\u001b[0m\u001b[1;33m\u001b[0m\u001b[1;33m\u001b[0m\u001b[1;33m\u001b[0m\u001b[0m\n\u001b[1;32m--> 186\u001b[1;33m             \u001b[0mdistance\u001b[0m \u001b[1;33m=\u001b[0m \u001b[0mnp\u001b[0m\u001b[1;33m.\u001b[0m\u001b[0mwhere\u001b[0m\u001b[1;33m(\u001b[0m\u001b[0mdistance\u001b[0m \u001b[1;33m<\u001b[0m \u001b[1;36m0.01\u001b[0m\u001b[1;33m,\u001b[0m \u001b[1;36m0.01\u001b[0m\u001b[1;33m,\u001b[0m \u001b[0mdistance\u001b[0m\u001b[1;33m)\u001b[0m\u001b[1;33m\u001b[0m\u001b[1;33m\u001b[0m\u001b[0m\n\u001b[0m\u001b[0;32m    187\u001b[0m \u001b[1;33m\u001b[0m\u001b[0m\n\u001b[0;32m    188\u001b[0m             \u001b[1;31m# the adjacency matrix row\u001b[0m\u001b[1;33m\u001b[0m\u001b[1;33m\u001b[0m\u001b[1;33m\u001b[0m\u001b[0m\n",
      "\u001b[1;32m<__array_function__ internals>\u001b[0m in \u001b[0;36mwhere\u001b[1;34m(*args, **kwargs)\u001b[0m\n",
      "\u001b[1;31mKeyboardInterrupt\u001b[0m: "
     ]
    }
   ],
   "source": [
    "print(df_)\n",
    "\n",
    "%time \n",
    "\n",
    "df_ = df_[['source', 'target']]\n",
    "\n",
    "forcedirected = forceatlas2_layout(nodes, df_)\n",
    "tf.Images(nodesplot(forcedirected, \"ForceAtlas2 layout\"))"
   ]
  },
  {
   "cell_type": "code",
   "execution_count": null,
   "metadata": {},
   "outputs": [],
   "source": [
    "def edgesplot(edges, name=None, canvas=None):\n",
    "    canvas = ds.Canvas(**cvsopts) if canvas is None else canvas\n",
    "    return tf.shade(canvas.line(edges, 'x','y', agg=ds.count()), name=name)\n",
    "    \n",
    "def graphplot(nodes, edges, name=\"\", canvas=None, cat=None):\n",
    "    if canvas is None:\n",
    "        xr = nodes.x.min(), nodes.x.max()\n",
    "        yr = nodes.y.min(), nodes.y.max()\n",
    "        canvas = ds.Canvas(x_range=xr, y_range=yr, **cvsopts)\n",
    "        \n",
    "    np = nodesplot(nodes, name + \" nodes\", canvas, cat)\n",
    "    ep = edgesplot(edges, name + \" edges\", canvas)\n",
    "    return tf.stack(ep, np, how=\"over\", name=name)"
   ]
  },
  {
   "cell_type": "code",
   "execution_count": null,
   "metadata": {},
   "outputs": [],
   "source": [
    "cd = circular\n",
    "fd = forcedirected\n",
    "\n",
    "# cd_d = graphplot(cd, connect_edges(cd,df), \"Circular layout\")\n",
    "# fd_d = graphplot(fd, connect_edges(fd,df), \"Force-directed\") \n",
    "# cd_b = graphplot(randomloc, hammer_bundle(randomloc,df), \"Circular layout, bundled\")\n",
    "fd_b = graphplot(fd, hammer_bundle(fd,df), \"Force-directed, bundled\") \n",
    "\n",
    "tf.Images(fd_d).cols(2)"
   ]
  },
  {
   "cell_type": "code",
   "execution_count": 66,
   "metadata": {},
   "outputs": [
    {
     "data": {
      "text/plain": [
       "'[0,20), Autochtoon, Vrouw, 1'"
      ]
     },
     "execution_count": 66,
     "metadata": {},
     "output_type": "execute_result"
    }
   ],
   "source": [
    "def hash_groups():\n",
    "    hash_dict = {}\n",
    "    rehash_dict = {}\n",
    "\n",
    "    df = pd.read_csv('Data/tab_n_(with oplniv).csv')\n",
    "\n",
    "    for i in range(df.shape[0]):\n",
    "        group = df.iloc[i]\n",
    "                \n",
    "        age = group['lft']\n",
    "        etnc = group['etngrp']\n",
    "        gender = group['geslacht']\n",
    "        education = group['oplniv']\n",
    "\n",
    "\n",
    "        hash_dict[f'{age}, {etnc}, {gender}, {education}'] = i\n",
    "        rehash_dict[i] = f'{age}, {etnc}, {gender}, {education}' \n",
    "    \n",
    "    return hash_dict, rehash_dict\n",
    "\n",
    "hash_dict, rehash_dict = hash_groups()\n",
    "\n",
    "rehash_dict[12]\n",
    "\n",
    "# hash_dict['[0,20), Autochtoon, Vrouw, 1']"
   ]
  },
  {
   "cell_type": "code",
   "execution_count": 2,
   "metadata": {},
   "outputs": [],
   "source": [
    "df = pd.read_csv(f'Data/NW_data/huishouden_nw_b=0.csv')\n"
   ]
  },
  {
   "cell_type": "code",
   "execution_count": 3,
   "metadata": {},
   "outputs": [],
   "source": [
    "\n",
    "df2 =  pd.read_csv(f'Data/NW_data/familie_nw_b=0_1_reciprocity.csv')\n"
   ]
  },
  {
   "cell_type": "code",
   "execution_count": 66,
   "metadata": {},
   "outputs": [],
   "source": [
    "df3 = pd.read_csv(f'Data/NW_data/buren_nw_b=0_try.csv')\n"
   ]
  },
  {
   "cell_type": "code",
   "execution_count": 67,
   "metadata": {},
   "outputs": [],
   "source": [
    "n_df = pd.concat([df])"
   ]
  },
  {
   "cell_type": "code",
   "execution_count": 56,
   "metadata": {},
   "outputs": [
    {
     "data": {
      "text/html": [
       "<div>\n",
       "<style scoped>\n",
       "    .dataframe tbody tr th:only-of-type {\n",
       "        vertical-align: middle;\n",
       "    }\n",
       "\n",
       "    .dataframe tbody tr th {\n",
       "        vertical-align: top;\n",
       "    }\n",
       "\n",
       "    .dataframe thead th {\n",
       "        text-align: right;\n",
       "    }\n",
       "</style>\n",
       "<table border=\"1\" class=\"dataframe\">\n",
       "  <thead>\n",
       "    <tr style=\"text-align: right;\">\n",
       "      <th></th>\n",
       "      <th>Unnamed: 0</th>\n",
       "      <th>source_id</th>\n",
       "      <th>destination_id</th>\n",
       "      <th>source_group</th>\n",
       "      <th>destination_group</th>\n",
       "    </tr>\n",
       "  </thead>\n",
       "  <tbody>\n",
       "    <tr>\n",
       "      <th>0</th>\n",
       "      <td>0</td>\n",
       "      <td>60615</td>\n",
       "      <td>92518</td>\n",
       "      <td>6</td>\n",
       "      <td>7</td>\n",
       "    </tr>\n",
       "    <tr>\n",
       "      <th>1</th>\n",
       "      <td>1</td>\n",
       "      <td>92518</td>\n",
       "      <td>60615</td>\n",
       "      <td>7</td>\n",
       "      <td>6</td>\n",
       "    </tr>\n",
       "    <tr>\n",
       "      <th>2</th>\n",
       "      <td>2</td>\n",
       "      <td>75801</td>\n",
       "      <td>92833</td>\n",
       "      <td>6</td>\n",
       "      <td>7</td>\n",
       "    </tr>\n",
       "    <tr>\n",
       "      <th>3</th>\n",
       "      <td>3</td>\n",
       "      <td>92833</td>\n",
       "      <td>75801</td>\n",
       "      <td>7</td>\n",
       "      <td>6</td>\n",
       "    </tr>\n",
       "    <tr>\n",
       "      <th>4</th>\n",
       "      <td>4</td>\n",
       "      <td>68638</td>\n",
       "      <td>92859</td>\n",
       "      <td>6</td>\n",
       "      <td>7</td>\n",
       "    </tr>\n",
       "  </tbody>\n",
       "</table>\n",
       "</div>"
      ],
      "text/plain": [
       "   Unnamed: 0  source_id  destination_id  source_group  destination_group\n",
       "0           0      60615           92518             6                  7\n",
       "1           1      92518           60615             7                  6\n",
       "2           2      75801           92833             6                  7\n",
       "3           3      92833           75801             7                  6\n",
       "4           4      68638           92859             6                  7"
      ]
     },
     "execution_count": 56,
     "metadata": {},
     "output_type": "execute_result"
    }
   ],
   "source": [
    "n_df.head()"
   ]
  },
  {
   "cell_type": "code",
   "execution_count": 3,
   "metadata": {},
   "outputs": [],
   "source": [
    "import pandas as pd\n",
    "import igraph as ig\n",
    "\n",
    "g = ig.Graph.TupleList(df[['source_id','destination_id']].itertuples(index=False), directed=True, weights=False)"
   ]
  },
  {
   "cell_type": "code",
   "execution_count": 4,
   "metadata": {},
   "outputs": [],
   "source": [
    "rn = np.random.randint(86000, size=(50,2))\n",
    "\n",
    "x = rn[:,0]\n",
    "y = rn[:,1]"
   ]
  },
  {
   "cell_type": "code",
   "execution_count": 50,
   "metadata": {},
   "outputs": [],
   "source": [
    "vs = ig.VertexSeq(g)"
   ]
  },
  {
   "cell_type": "code",
   "execution_count": 16,
   "metadata": {},
   "outputs": [
    {
     "data": {
      "text/plain": [
       "13.665849783409868"
      ]
     },
     "execution_count": 16,
     "metadata": {},
     "output_type": "execute_result"
    }
   ],
   "source": [
    "np.log(861000)"
   ]
  },
  {
   "cell_type": "code",
   "execution_count": 5,
   "metadata": {},
   "outputs": [],
   "source": [
    "sp = g.shortest_paths(x, y, mode='in')"
   ]
  },
  {
   "cell_type": "code",
   "execution_count": 28,
   "metadata": {},
   "outputs": [
    {
     "data": {
      "text/plain": [
       "8.1632"
      ]
     },
     "execution_count": 28,
     "metadata": {},
     "output_type": "execute_result"
    }
   ],
   "source": [
    "sp = np.array(sp)\n",
    "\n",
    "sp1 = sp.copy()\n",
    "sp1[sp == np.inf] = 20\n",
    "sp = sp.flatten()\n",
    "\n",
    "np.mean(sp1)\n",
    "# list(sp).count(np.inf)\n",
    "# len(sp)"
   ]
  },
  {
   "cell_type": "code",
   "execution_count": 25,
   "metadata": {},
   "outputs": [
    {
     "data": {
      "text/plain": [
       "2"
      ]
     },
     "execution_count": 25,
     "metadata": {},
     "output_type": "execute_result"
    }
   ],
   "source": [
    "len(g.clusters('strong')[0])"
   ]
  },
  {
   "cell_type": "code",
   "execution_count": 41,
   "metadata": {},
   "outputs": [
    {
     "name": "stderr",
     "output_type": "stream",
     "text": [
      "<ipython-input-41-cce00259b848>:1: RuntimeWarning: Couldn't reach some vertices at src/paths/unweighted.c:368\n",
      "  shortest = g.get_shortest_paths(x[0], to=y[0], weights=None, mode=None, output='vpath')\n"
     ]
    }
   ],
   "source": [
    "# shortest = g.get_shortest_paths(x[0], to=y[0], weights=None, mode=None, output='vpath')"
   ]
  },
  {
   "cell_type": "code",
   "execution_count": 27,
   "metadata": {},
   "outputs": [
    {
     "data": {
      "text/plain": [
       "0.6774706765540809"
      ]
     },
     "execution_count": 27,
     "metadata": {},
     "output_type": "execute_result"
    }
   ],
   "source": [
    "g.assortativity_degree()"
   ]
  },
  {
   "cell_type": "code",
   "execution_count": 12,
   "metadata": {},
   "outputs": [
    {
     "data": {
      "text/plain": [
       "13.665849783409868"
      ]
     },
     "execution_count": 12,
     "metadata": {},
     "output_type": "execute_result"
    }
   ],
   "source": [
    "np.log(861000)"
   ]
  },
  {
   "cell_type": "code",
   "execution_count": 77,
   "metadata": {},
   "outputs": [
    {
     "data": {
      "text/plain": [
       "0.6668319931481794"
      ]
     },
     "execution_count": 77,
     "metadata": {},
     "output_type": "execute_result"
    }
   ],
   "source": [
    "(nx.overall_reciprocity(G))"
   ]
  },
  {
   "cell_type": "code",
   "execution_count": 27,
   "metadata": {},
   "outputs": [],
   "source": [
    "df = pd.read_csv(f'Data/NW_data/werkschool_nw_b=1_try_100_percentage.csv')\n"
   ]
  },
  {
   "cell_type": "code",
   "execution_count": 45,
   "metadata": {},
   "outputs": [],
   "source": [
    "df_s = df[(df['source_group'] == 6) & (df['destination_group'] == 40)]"
   ]
  },
  {
   "cell_type": "code",
   "execution_count": 78,
   "metadata": {},
   "outputs": [
    {
     "data": {
      "text/html": [
       "<div>\n",
       "<style scoped>\n",
       "    .dataframe tbody tr th:only-of-type {\n",
       "        vertical-align: middle;\n",
       "    }\n",
       "\n",
       "    .dataframe tbody tr th {\n",
       "        vertical-align: top;\n",
       "    }\n",
       "\n",
       "    .dataframe thead th {\n",
       "        text-align: right;\n",
       "    }\n",
       "</style>\n",
       "<table border=\"1\" class=\"dataframe\">\n",
       "  <thead>\n",
       "    <tr style=\"text-align: right;\">\n",
       "      <th></th>\n",
       "      <th>Unnamed: 0</th>\n",
       "      <th>source_id</th>\n",
       "      <th>destination_id</th>\n",
       "      <th>source_group</th>\n",
       "      <th>destination_group</th>\n",
       "    </tr>\n",
       "  </thead>\n",
       "  <tbody>\n",
       "  </tbody>\n",
       "</table>\n",
       "</div>"
      ],
      "text/plain": [
       "Empty DataFrame\n",
       "Columns: [Unnamed: 0, source_id, destination_id, source_group, destination_group]\n",
       "Index: []"
      ]
     },
     "execution_count": 78,
     "metadata": {},
     "output_type": "execute_result"
    }
   ],
   "source": [
    "df_duplicates = df[df.duplicated(subset=['source_id','destination_id'], keep=False)]\n",
    "\n",
    "df_duplicates\n"
   ]
  },
  {
   "cell_type": "code",
   "execution_count": 76,
   "metadata": {},
   "outputs": [],
   "source": [
    "G = nx.from_pandas_edgelist(df, 'source_id', 'destination_id',create_using=nx.DiGraph())\n"
   ]
  },
  {
   "cell_type": "code",
   "execution_count": 46,
   "metadata": {},
   "outputs": [],
   "source": [
    "G_s = nx.from_pandas_edgelist(df_s, 'source_id', 'destination_id',create_using=nx.DiGraph())"
   ]
  },
  {
   "cell_type": "code",
   "execution_count": 48,
   "metadata": {},
   "outputs": [
    {
     "name": "stdout",
     "output_type": "stream",
     "text": [
      "630\n"
     ]
    },
    {
     "data": {
      "text/plain": [
       "29362450"
      ]
     },
     "execution_count": 48,
     "metadata": {},
     "output_type": "execute_result"
    }
   ],
   "source": [
    "print(len(G_s.edges()))\n",
    "\n",
    "\n",
    "# print(len(G))\n",
    "\n",
    "# G.degree()\n",
    "# degrees = {i[1]:i[0] for i in G.in_degree()}\n",
    "l_degrees = [ i[1] for i in G.in_degree()]\n",
    "l_degrees_s = [ i[1] for i in G_s.in_degree()]\n",
    "\n",
    "# print(len(l_degrees))\n",
    "# nx.overall_reciprocity(G)\n",
    "29362450"
   ]
  },
  {
   "cell_type": "code",
   "execution_count": 14,
   "metadata": {},
   "outputs": [
    {
     "data": {
      "text/html": [
       "<div>\n",
       "<style scoped>\n",
       "    .dataframe tbody tr th:only-of-type {\n",
       "        vertical-align: middle;\n",
       "    }\n",
       "\n",
       "    .dataframe tbody tr th {\n",
       "        vertical-align: top;\n",
       "    }\n",
       "\n",
       "    .dataframe thead th {\n",
       "        text-align: right;\n",
       "    }\n",
       "</style>\n",
       "<table border=\"1\" class=\"dataframe\">\n",
       "  <thead>\n",
       "    <tr style=\"text-align: right;\">\n",
       "      <th></th>\n",
       "      <th>Unnamed: 0</th>\n",
       "      <th>source_id</th>\n",
       "      <th>destination_id</th>\n",
       "      <th>source_group</th>\n",
       "      <th>destination_group</th>\n",
       "    </tr>\n",
       "  </thead>\n",
       "  <tbody>\n",
       "  </tbody>\n",
       "</table>\n",
       "</div>"
      ],
      "text/plain": [
       "Empty DataFrame\n",
       "Columns: [Unnamed: 0, source_id, destination_id, source_group, destination_group]\n",
       "Index: []"
      ]
     },
     "execution_count": 14,
     "metadata": {},
     "output_type": "execute_result"
    }
   ],
   "source": [
    "df_duplicates = df[df.duplicated(subset=['source_id','destination_id'], keep=False)]\n",
    "\n",
    "df_duplicates\n",
    "\n"
   ]
  },
  {
   "cell_type": "code",
   "execution_count": null,
   "metadata": {},
   "outputs": [],
   "source": []
  },
  {
   "cell_type": "code",
   "execution_count": null,
   "metadata": {},
   "outputs": [],
   "source": []
  },
  {
   "cell_type": "code",
   "execution_count": 51,
   "metadata": {
    "scrolled": true
   },
   "outputs": [
    {
     "data": {
      "image/png": "[encoded data removed]",
      "text/plain": [
       "<Figure size 432x288 with 1 Axes>"
      ]
     },
     "metadata": {
      "needs_background": "light"
     },
     "output_type": "display_data"
    }
   ],
   "source": [
    "sn.histplot(data=l_degrees, bins = 30)\n",
    "plt.show()\n",
    "\n",
    "\n"
   ]
  },
  {
   "cell_type": "code",
   "execution_count": 21,
   "metadata": {},
   "outputs": [
    {
     "name": "stdout",
     "output_type": "stream",
     "text": [
      "317\n"
     ]
    }
   ],
   "source": [
    "print(max(l_degrees))\n",
    "\n",
    "x = [i for i in l_degrees if i > 250]"
   ]
  },
  {
   "cell_type": "code",
   "execution_count": 22,
   "metadata": {},
   "outputs": [
    {
     "data": {
      "text/plain": [
       "15"
      ]
     },
     "execution_count": 22,
     "metadata": {},
     "output_type": "execute_result"
    }
   ],
   "source": [
    "len(x)"
   ]
  },
  {
   "cell_type": "code",
   "execution_count": 364,
   "metadata": {},
   "outputs": [
    {
     "data": {
      "image/png": "[encoded data removed]",
      "text/plain": [
       "<Figure size 432x288 with 1 Axes>"
      ]
     },
     "metadata": {
      "needs_background": "light"
     },
     "output_type": "display_data"
    }
   ],
   "source": [
    "def rndm(a, b, g, size=1):\n",
    "    \"\"\"Power-law gen for pdf(x)\\propto x^{g-1} for a<=x<=b\"\"\"\n",
    "    r = np.random.random(size=size)\n",
    "    ag, bg = a**g, b**g\n",
    "    return (ag + (bg - ag)*r)**(1./g)\n",
    "\n",
    "xx = rndm(1, 2, g=-2, size=1000000)\n",
    "\n",
    "from matplotlib import pyplot as plt\n",
    "import numpy as np\n",
    "import seaborn as sns\n",
    "\n",
    "samples = np.random.randn(300) ** -5\n",
    "ax = sns.histplot(l_degrees, bins=30, kde=True, color='skyblue')\n",
    "kdeline = ax.lines[0]\n",
    "xs = kdeline.get_xdata()\n",
    "ys = kdeline.get_ydata()\n",
    "# mode_idx = np.argmax(ys)\n",
    "ax.vlines(xs[mode_idx], 0, ys[mode_idx], color='tomato', ls='--', lw=2)\n",
    "plt.show()"
   ]
  },
  {
   "cell_type": "code",
   "execution_count": 25,
   "metadata": {
    "scrolled": true
   },
   "outputs": [
    {
     "name": "stderr",
     "output_type": "stream",
     "text": [
      "Values less than or equal to 0 in data. Throwing out 0 or negative values\n",
      "Calculating best minimal value for power law fit\n"
     ]
    }
   ],
   "source": [
    "# data = list(df_s['destination_id'].value_counts().value_counts())\n",
    "l_degrees\n",
    "\n",
    "x = powerlaw.Fit(l_degrees_s)\n",
    "\n",
    "D = x.D"
   ]
  },
  {
   "cell_type": "code",
   "execution_count": 26,
   "metadata": {},
   "outputs": [
    {
     "data": {
      "text/plain": [
       "(126.62976213221413, 1.6101237545237924e-10)"
      ]
     },
     "execution_count": 26,
     "metadata": {},
     "output_type": "execute_result"
    }
   ],
   "source": [
    "\n",
    "\n",
    "x.distribution_compare('power_law', 'exponential')\n",
    "\n"
   ]
  },
  {
   "cell_type": "code",
   "execution_count": 76,
   "metadata": {
    "scrolled": true
   },
   "outputs": [
    {
     "name": "stderr",
     "output_type": "stream",
     "text": [
      "C:\\Users\\KGulp\\anaconda3\\lib\\site-packages\\powerlaw.py:699: RuntimeWarning: invalid value encountered in true_divide\n",
      "  (CDF_diff**2) /\n"
     ]
    },
    {
     "data": {
      "text/plain": [
       "<AxesSubplot:>"
      ]
     },
     "execution_count": 76,
     "metadata": {},
     "output_type": "execute_result"
    },
    {
     "data": {
      "image/png": "[encoded data removed]",
      "text/plain": [
       "<Figure size 432x288 with 1 Axes>"
      ]
     },
     "metadata": {
      "needs_background": "light"
     },
     "output_type": "display_data"
    }
   ],
   "source": [
    "fig2 = x.plot_pdf(color='b', linear_bins = True)\n",
    "\n",
    "x.power_law.plot_pdf(color='b', linestyle='--', ax=fig2)\n",
    "\n"
   ]
  },
  {
   "cell_type": "code",
   "execution_count": 331,
   "metadata": {},
   "outputs": [
    {
     "name": "stderr",
     "output_type": "stream",
     "text": [
      "C:\\Users\\KGulp\\anaconda3\\lib\\site-packages\\powerlaw.py:1955: RuntimeWarning: divide by zero encountered in long_scalars\n",
      "  xmax2=xmax/xmin\n"
     ]
    },
    {
     "ename": "OverflowError",
     "evalue": "cannot convert float infinity to integer",
     "output_type": "error",
     "traceback": [
      "\u001b[1;31m---------------------------------------------------------------------------\u001b[0m",
      "\u001b[1;31mOverflowError\u001b[0m                             Traceback (most recent call last)",
      "\u001b[1;32m<ipython-input-331-1e9d461860a9>\u001b[0m in \u001b[0;36m<module>\u001b[1;34m\u001b[0m\n\u001b[1;32m----> 1\u001b[1;33m \u001b[0mpowerlaw\u001b[0m\u001b[1;33m.\u001b[0m\u001b[0mplot_pdf\u001b[0m\u001b[1;33m(\u001b[0m\u001b[0ml_degrees\u001b[0m\u001b[1;33m,\u001b[0m \u001b[0mlinear_bins\u001b[0m\u001b[1;33m=\u001b[0m\u001b[1;32mTrue\u001b[0m\u001b[1;33m,\u001b[0m \u001b[0mcolor\u001b[0m\u001b[1;33m=\u001b[0m\u001b[1;34m'r'\u001b[0m\u001b[1;33m)\u001b[0m\u001b[1;33m\u001b[0m\u001b[1;33m\u001b[0m\u001b[0m\n\u001b[0m",
      "\u001b[1;32m~\\anaconda3\\lib\\site-packages\\powerlaw.py\u001b[0m in \u001b[0;36mplot_pdf\u001b[1;34m(data, ax, linear_bins, **kwargs)\u001b[0m\n\u001b[0;32m   2071\u001b[0m         \u001b[0mThe\u001b[0m \u001b[0maxis\u001b[0m \u001b[0mto\u001b[0m \u001b[0mwhich\u001b[0m \u001b[0mthe\u001b[0m \u001b[0mplot\u001b[0m \u001b[0mwas\u001b[0m \u001b[0mmade\u001b[0m\u001b[1;33m.\u001b[0m\u001b[1;33m\u001b[0m\u001b[1;33m\u001b[0m\u001b[0m\n\u001b[0;32m   2072\u001b[0m     \"\"\"\n\u001b[1;32m-> 2073\u001b[1;33m     \u001b[0medges\u001b[0m\u001b[1;33m,\u001b[0m \u001b[0mhist\u001b[0m \u001b[1;33m=\u001b[0m \u001b[0mpdf\u001b[0m\u001b[1;33m(\u001b[0m\u001b[0mdata\u001b[0m\u001b[1;33m,\u001b[0m \u001b[0mlinear_bins\u001b[0m\u001b[1;33m=\u001b[0m\u001b[0mlinear_bins\u001b[0m\u001b[1;33m,\u001b[0m \u001b[1;33m**\u001b[0m\u001b[0mkwargs\u001b[0m\u001b[1;33m)\u001b[0m\u001b[1;33m\u001b[0m\u001b[1;33m\u001b[0m\u001b[0m\n\u001b[0m\u001b[0;32m   2074\u001b[0m     \u001b[0mbin_centers\u001b[0m \u001b[1;33m=\u001b[0m \u001b[1;33m(\u001b[0m\u001b[0medges\u001b[0m\u001b[1;33m[\u001b[0m\u001b[1;36m1\u001b[0m\u001b[1;33m:\u001b[0m\u001b[1;33m]\u001b[0m\u001b[1;33m+\u001b[0m\u001b[0medges\u001b[0m\u001b[1;33m[\u001b[0m\u001b[1;33m:\u001b[0m\u001b[1;33m-\u001b[0m\u001b[1;36m1\u001b[0m\u001b[1;33m]\u001b[0m\u001b[1;33m)\u001b[0m\u001b[1;33m/\u001b[0m\u001b[1;36m2.0\u001b[0m\u001b[1;33m\u001b[0m\u001b[1;33m\u001b[0m\u001b[0m\n\u001b[0;32m   2075\u001b[0m     \u001b[1;32mfrom\u001b[0m \u001b[0mnumpy\u001b[0m \u001b[1;32mimport\u001b[0m \u001b[0mnan\u001b[0m\u001b[1;33m\u001b[0m\u001b[1;33m\u001b[0m\u001b[0m\n",
      "\u001b[1;32m~\\anaconda3\\lib\\site-packages\\powerlaw.py\u001b[0m in \u001b[0;36mpdf\u001b[1;34m(data, xmin, xmax, linear_bins, **kwargs)\u001b[0m\n\u001b[0;32m   1962\u001b[0m         \u001b[0mbins\u001b[0m \u001b[1;33m=\u001b[0m \u001b[0mkwargs\u001b[0m\u001b[1;33m.\u001b[0m\u001b[0mpop\u001b[0m\u001b[1;33m(\u001b[0m\u001b[1;34m'bins'\u001b[0m\u001b[1;33m)\u001b[0m\u001b[1;33m\u001b[0m\u001b[1;33m\u001b[0m\u001b[0m\n\u001b[0;32m   1963\u001b[0m     \u001b[1;32melif\u001b[0m \u001b[0mlinear_bins\u001b[0m\u001b[1;33m:\u001b[0m\u001b[1;33m\u001b[0m\u001b[1;33m\u001b[0m\u001b[0m\n\u001b[1;32m-> 1964\u001b[1;33m         \u001b[0mbins\u001b[0m \u001b[1;33m=\u001b[0m \u001b[0mrange\u001b[0m\u001b[1;33m(\u001b[0m\u001b[0mint\u001b[0m\u001b[1;33m(\u001b[0m\u001b[0mxmin2\u001b[0m\u001b[1;33m)\u001b[0m\u001b[1;33m,\u001b[0m \u001b[0mceil\u001b[0m\u001b[1;33m(\u001b[0m\u001b[0mxmax2\u001b[0m\u001b[1;33m)\u001b[0m\u001b[1;33m+\u001b[0m\u001b[1;36m1\u001b[0m\u001b[1;33m)\u001b[0m\u001b[1;33m\u001b[0m\u001b[1;33m\u001b[0m\u001b[0m\n\u001b[0m\u001b[0;32m   1965\u001b[0m     \u001b[1;32melse\u001b[0m\u001b[1;33m:\u001b[0m\u001b[1;33m\u001b[0m\u001b[1;33m\u001b[0m\u001b[0m\n\u001b[0;32m   1966\u001b[0m         \u001b[0mlog_min_size\u001b[0m \u001b[1;33m=\u001b[0m \u001b[0mlog10\u001b[0m\u001b[1;33m(\u001b[0m\u001b[0mxmin2\u001b[0m\u001b[1;33m)\u001b[0m\u001b[1;33m\u001b[0m\u001b[1;33m\u001b[0m\u001b[0m\n",
      "\u001b[1;31mOverflowError\u001b[0m: cannot convert float infinity to integer"
     ]
    }
   ],
   "source": [
    "powerlaw.plot_pdf(l_degrees, linear_bins=True, color='r')"
   ]
  },
  {
   "cell_type": "code",
   "execution_count": 12,
   "metadata": {},
   "outputs": [],
   "source": [
    "x = sorted((list(df['destination_id'].value_counts())))\n",
    "\n",
    "from collections import Counter\n",
    "\n",
    "y = list(Counter(x).values())\n",
    "x = list(Counter(x).keys())\n",
    "# # df_s['destination_id'].value_counts()"
   ]
  },
  {
   "cell_type": "code",
   "execution_count": 13,
   "metadata": {},
   "outputs": [
    {
     "data": {
      "image/png": "[encoded data removed]",
      "text/plain": [
       "<Figure size 432x288 with 1 Axes>"
      ]
     },
     "metadata": {
      "needs_background": "light"
     },
     "output_type": "display_data"
    }
   ],
   "source": [
    "\n",
    "plt.plot(x,y)\n",
    "\n",
    "plt.xlabel('in_degree')\n",
    "plt.ylabel('frequency')\n",
    "plt.yscale('log')\n",
    "plt.xscale('log')"
   ]
  },
  {
   "cell_type": "code",
   "execution_count": 447,
   "metadata": {},
   "outputs": [
    {
     "name": "stdout",
     "output_type": "stream",
     "text": [
      "[74, 74, 84, 63, 77, 71, 72, 73, 80, 80, 76, 79, 79, 74, 75, 82, 74, 77, 74, 72, 80, 82, 78, 79, 71, 71, 83, 78, 74, 81, 80, 79, 82, 76, 74, 78, 74, 80, 79, 62, 74, 78, 69, 72, 86, 77, 77, 77, 74, 62, 70, 67, 75, 72, 84, 79, 81, 70, 81, 76, 78, 83, 80, 85, 79, 73, 71, 79, 86, 69, 86, 70, 76, 80, 85, 83, 72, 74, 73, 66, 72, 77, 79, 76, 67, 79, 69, 78, 80, 77, 65, 74, 76, 69, 73, 78, 73, 75, 84, 83, 73, 81, 74, 68, 84, 73, 72, 82, 78, 76, 71, 69, 76, 79, 86, 73, 88, 78, 86, 80, 76, 73, 74, 70, 67, 72, 73, 66, 73, 77, 84, 72, 82, 75, 69, 78, 74, 78, 73, 77, 70, 81, 75, 77, 80, 84, 65, 78, 77, 69, 71, 75, 81, 70, 77, 81, 65, 74, 73, 75, 80, 67, 77, 69, 74, 84, 78, 74, 77, 77, 77, 70, 75, 72, 76, 76, 69, 86, 69, 84, 77, 79, 81, 72, 83, 74, 83, 76, 76, 81, 76, 71, 77, 77, 76, 75, 75, 70, 84, 82, 299, 296, 294, 295, 295, 293, 293, 291, 289, 290, 287, 288, 286, 285, 284, 284, 282, 281, 280, 280, 277, 277, 276, 274, 275, 274, 270, 270, 271, 269, 268, 266, 267, 264, 264, 262, 262, 262, 259, 260, 257, 257, 256, 254, 254, 254, 252, 250, 251, 248, 248, 247, 246, 244, 243, 240, 243, 240, 238, 240, 235, 235, 232, 234, 232, 231, 231, 232, 229, 228, 227, 227, 226, 225, 224, 224, 222, 221, 219, 218, 217, 216, 216, 212, 212, 211, 212, 211, 208, 208, 209, 205, 205, 205, 204, 204, 201, 202, 201, 200]\n"
     ]
    }
   ],
   "source": [
    "BG = nx.barabasi_albert_graph(300, 200, seed=None)\n",
    "\n",
    "bg_degrees = [ i[1] for i in BG.degree()]\n",
    "\n",
    "\n",
    "print(bg_degrees)"
   ]
  },
  {
   "cell_type": "code",
   "execution_count": 440,
   "metadata": {},
   "outputs": [
    {
     "data": {
      "text/plain": [
       "<AxesSubplot:ylabel='Count'>"
      ]
     },
     "execution_count": 440,
     "metadata": {},
     "output_type": "execute_result"
    },
    {
     "data": {
      "image/png": "[encoded data removed]",
      "text/plain": [
       "<Figure size 432x288 with 1 Axes>"
      ]
     },
     "metadata": {
      "needs_background": "light"
     },
     "output_type": "display_data"
    }
   ],
   "source": [
    "sn.histplot(bg_degrees, bins = 30)"
   ]
  },
  {
   "cell_type": "code",
   "execution_count": 355,
   "metadata": {},
   "outputs": [
    {
     "name": "stdout",
     "output_type": "stream",
     "text": [
      "0.0 3.6539734050327178e-124 0.0\n"
     ]
    },
    {
     "name": "stderr",
     "output_type": "stream",
     "text": [
      "C:\\Users\\KGulp\\anaconda3\\lib\\site-packages\\scipy\\stats\\morestats.py:1681: UserWarning: p-value may not be accurate for N > 5000.\n",
      "  warnings.warn(\"p-value may not be accurate for N > 5000.\")\n"
     ]
    }
   ],
   "source": [
    "shapiro_test = stats.shapiro(l_degrees)\n",
    "normal_test = stats.normaltest(l_degrees)\n",
    "jacques_bera = stats.jarque_bera(l_degrees)\n",
    "\n",
    "# print(shapiro_test)\n",
    "print(shapiro_test[1],normal_test[1],jacques_bera[1])"
   ]
  },
  {
   "cell_type": "code",
   "execution_count": 334,
   "metadata": {},
   "outputs": [
    {
     "ename": "KeyboardInterrupt",
     "evalue": "",
     "output_type": "error",
     "traceback": [
      "\u001b[1;31m---------------------------------------------------------------------------\u001b[0m",
      "\u001b[1;31mKeyboardInterrupt\u001b[0m                         Traceback (most recent call last)",
      "\u001b[1;32m<ipython-input-334-0690626932a2>\u001b[0m in \u001b[0;36m<module>\u001b[1;34m\u001b[0m\n\u001b[0;32m      2\u001b[0m \u001b[0mtypes\u001b[0m \u001b[1;33m=\u001b[0m \u001b[1;33m[\u001b[0m\u001b[1;34m'werkschool'\u001b[0m\u001b[1;33m]\u001b[0m\u001b[1;33m\u001b[0m\u001b[1;33m\u001b[0m\u001b[0m\n\u001b[0;32m      3\u001b[0m \u001b[1;32mfor\u001b[0m \u001b[0mtype\u001b[0m \u001b[1;32min\u001b[0m \u001b[0mtypes\u001b[0m\u001b[1;33m:\u001b[0m\u001b[1;33m\u001b[0m\u001b[1;33m\u001b[0m\u001b[0m\n\u001b[1;32m----> 4\u001b[1;33m     \u001b[0mdf\u001b[0m \u001b[1;33m=\u001b[0m \u001b[0mpd\u001b[0m\u001b[1;33m.\u001b[0m\u001b[0mread_csv\u001b[0m\u001b[1;33m(\u001b[0m\u001b[1;34mf'Data/NW_data/{type}_nw_b=1.csv'\u001b[0m\u001b[1;33m)\u001b[0m\u001b[1;33m\u001b[0m\u001b[1;33m\u001b[0m\u001b[0m\n\u001b[0m\u001b[0;32m      5\u001b[0m     \u001b[0mG\u001b[0m \u001b[1;33m=\u001b[0m \u001b[0mnx\u001b[0m\u001b[1;33m.\u001b[0m\u001b[0mfrom_pandas_edgelist\u001b[0m\u001b[1;33m(\u001b[0m\u001b[0mdf\u001b[0m\u001b[1;33m,\u001b[0m \u001b[1;34m'source_id'\u001b[0m\u001b[1;33m,\u001b[0m \u001b[1;34m'destination_id'\u001b[0m\u001b[1;33m,\u001b[0m\u001b[1;33m[\u001b[0m\u001b[1;34m'source_group'\u001b[0m\u001b[1;33m,\u001b[0m \u001b[1;34m'destination_group'\u001b[0m\u001b[1;33m]\u001b[0m \u001b[1;33m,\u001b[0m\u001b[0mcreate_using\u001b[0m\u001b[1;33m=\u001b[0m\u001b[0mnx\u001b[0m\u001b[1;33m.\u001b[0m\u001b[0mDiGraph\u001b[0m\u001b[1;33m(\u001b[0m\u001b[1;33m)\u001b[0m\u001b[1;33m)\u001b[0m\u001b[1;33m\u001b[0m\u001b[1;33m\u001b[0m\u001b[0m\n\u001b[0;32m      6\u001b[0m \u001b[1;33m\u001b[0m\u001b[0m\n",
      "\u001b[1;32m~\\anaconda3\\lib\\site-packages\\pandas\\io\\parsers.py\u001b[0m in \u001b[0;36mread_csv\u001b[1;34m(filepath_or_buffer, sep, delimiter, header, names, index_col, usecols, squeeze, prefix, mangle_dupe_cols, dtype, engine, converters, true_values, false_values, skipinitialspace, skiprows, skipfooter, nrows, na_values, keep_default_na, na_filter, verbose, skip_blank_lines, parse_dates, infer_datetime_format, keep_date_col, date_parser, dayfirst, cache_dates, iterator, chunksize, compression, thousands, decimal, lineterminator, quotechar, quoting, doublequote, escapechar, comment, encoding, dialect, error_bad_lines, warn_bad_lines, delim_whitespace, low_memory, memory_map, float_precision)\u001b[0m\n\u001b[0;32m    684\u001b[0m     )\n\u001b[0;32m    685\u001b[0m \u001b[1;33m\u001b[0m\u001b[0m\n\u001b[1;32m--> 686\u001b[1;33m     \u001b[1;32mreturn\u001b[0m \u001b[0m_read\u001b[0m\u001b[1;33m(\u001b[0m\u001b[0mfilepath_or_buffer\u001b[0m\u001b[1;33m,\u001b[0m \u001b[0mkwds\u001b[0m\u001b[1;33m)\u001b[0m\u001b[1;33m\u001b[0m\u001b[1;33m\u001b[0m\u001b[0m\n\u001b[0m\u001b[0;32m    687\u001b[0m \u001b[1;33m\u001b[0m\u001b[0m\n\u001b[0;32m    688\u001b[0m \u001b[1;33m\u001b[0m\u001b[0m\n",
      "\u001b[1;32m~\\anaconda3\\lib\\site-packages\\pandas\\io\\parsers.py\u001b[0m in \u001b[0;36m_read\u001b[1;34m(filepath_or_buffer, kwds)\u001b[0m\n\u001b[0;32m    456\u001b[0m \u001b[1;33m\u001b[0m\u001b[0m\n\u001b[0;32m    457\u001b[0m     \u001b[1;32mtry\u001b[0m\u001b[1;33m:\u001b[0m\u001b[1;33m\u001b[0m\u001b[1;33m\u001b[0m\u001b[0m\n\u001b[1;32m--> 458\u001b[1;33m         \u001b[0mdata\u001b[0m \u001b[1;33m=\u001b[0m \u001b[0mparser\u001b[0m\u001b[1;33m.\u001b[0m\u001b[0mread\u001b[0m\u001b[1;33m(\u001b[0m\u001b[0mnrows\u001b[0m\u001b[1;33m)\u001b[0m\u001b[1;33m\u001b[0m\u001b[1;33m\u001b[0m\u001b[0m\n\u001b[0m\u001b[0;32m    459\u001b[0m     \u001b[1;32mfinally\u001b[0m\u001b[1;33m:\u001b[0m\u001b[1;33m\u001b[0m\u001b[1;33m\u001b[0m\u001b[0m\n\u001b[0;32m    460\u001b[0m         \u001b[0mparser\u001b[0m\u001b[1;33m.\u001b[0m\u001b[0mclose\u001b[0m\u001b[1;33m(\u001b[0m\u001b[1;33m)\u001b[0m\u001b[1;33m\u001b[0m\u001b[1;33m\u001b[0m\u001b[0m\n",
      "\u001b[1;32m~\\anaconda3\\lib\\site-packages\\pandas\\io\\parsers.py\u001b[0m in \u001b[0;36mread\u001b[1;34m(self, nrows)\u001b[0m\n\u001b[0;32m   1194\u001b[0m     \u001b[1;32mdef\u001b[0m \u001b[0mread\u001b[0m\u001b[1;33m(\u001b[0m\u001b[0mself\u001b[0m\u001b[1;33m,\u001b[0m \u001b[0mnrows\u001b[0m\u001b[1;33m=\u001b[0m\u001b[1;32mNone\u001b[0m\u001b[1;33m)\u001b[0m\u001b[1;33m:\u001b[0m\u001b[1;33m\u001b[0m\u001b[1;33m\u001b[0m\u001b[0m\n\u001b[0;32m   1195\u001b[0m         \u001b[0mnrows\u001b[0m \u001b[1;33m=\u001b[0m \u001b[0m_validate_integer\u001b[0m\u001b[1;33m(\u001b[0m\u001b[1;34m\"nrows\"\u001b[0m\u001b[1;33m,\u001b[0m \u001b[0mnrows\u001b[0m\u001b[1;33m)\u001b[0m\u001b[1;33m\u001b[0m\u001b[1;33m\u001b[0m\u001b[0m\n\u001b[1;32m-> 1196\u001b[1;33m         \u001b[0mret\u001b[0m \u001b[1;33m=\u001b[0m \u001b[0mself\u001b[0m\u001b[1;33m.\u001b[0m\u001b[0m_engine\u001b[0m\u001b[1;33m.\u001b[0m\u001b[0mread\u001b[0m\u001b[1;33m(\u001b[0m\u001b[0mnrows\u001b[0m\u001b[1;33m)\u001b[0m\u001b[1;33m\u001b[0m\u001b[1;33m\u001b[0m\u001b[0m\n\u001b[0m\u001b[0;32m   1197\u001b[0m \u001b[1;33m\u001b[0m\u001b[0m\n\u001b[0;32m   1198\u001b[0m         \u001b[1;31m# May alter columns / col_dict\u001b[0m\u001b[1;33m\u001b[0m\u001b[1;33m\u001b[0m\u001b[1;33m\u001b[0m\u001b[0m\n",
      "\u001b[1;32m~\\anaconda3\\lib\\site-packages\\pandas\\io\\parsers.py\u001b[0m in \u001b[0;36mread\u001b[1;34m(self, nrows)\u001b[0m\n\u001b[0;32m   2153\u001b[0m     \u001b[1;32mdef\u001b[0m \u001b[0mread\u001b[0m\u001b[1;33m(\u001b[0m\u001b[0mself\u001b[0m\u001b[1;33m,\u001b[0m \u001b[0mnrows\u001b[0m\u001b[1;33m=\u001b[0m\u001b[1;32mNone\u001b[0m\u001b[1;33m)\u001b[0m\u001b[1;33m:\u001b[0m\u001b[1;33m\u001b[0m\u001b[1;33m\u001b[0m\u001b[0m\n\u001b[0;32m   2154\u001b[0m         \u001b[1;32mtry\u001b[0m\u001b[1;33m:\u001b[0m\u001b[1;33m\u001b[0m\u001b[1;33m\u001b[0m\u001b[0m\n\u001b[1;32m-> 2155\u001b[1;33m             \u001b[0mdata\u001b[0m \u001b[1;33m=\u001b[0m \u001b[0mself\u001b[0m\u001b[1;33m.\u001b[0m\u001b[0m_reader\u001b[0m\u001b[1;33m.\u001b[0m\u001b[0mread\u001b[0m\u001b[1;33m(\u001b[0m\u001b[0mnrows\u001b[0m\u001b[1;33m)\u001b[0m\u001b[1;33m\u001b[0m\u001b[1;33m\u001b[0m\u001b[0m\n\u001b[0m\u001b[0;32m   2156\u001b[0m         \u001b[1;32mexcept\u001b[0m \u001b[0mStopIteration\u001b[0m\u001b[1;33m:\u001b[0m\u001b[1;33m\u001b[0m\u001b[1;33m\u001b[0m\u001b[0m\n\u001b[0;32m   2157\u001b[0m             \u001b[1;32mif\u001b[0m \u001b[0mself\u001b[0m\u001b[1;33m.\u001b[0m\u001b[0m_first_chunk\u001b[0m\u001b[1;33m:\u001b[0m\u001b[1;33m\u001b[0m\u001b[1;33m\u001b[0m\u001b[0m\n",
      "\u001b[1;32mpandas\\_libs\\parsers.pyx\u001b[0m in \u001b[0;36mpandas._libs.parsers.TextReader.read\u001b[1;34m()\u001b[0m\n",
      "\u001b[1;32mpandas\\_libs\\parsers.pyx\u001b[0m in \u001b[0;36mpandas._libs.parsers.TextReader._read_low_memory\u001b[1;34m()\u001b[0m\n",
      "\u001b[1;32mpandas\\_libs\\parsers.pyx\u001b[0m in \u001b[0;36mpandas._libs.parsers.TextReader._read_rows\u001b[1;34m()\u001b[0m\n",
      "\u001b[1;32mpandas\\_libs\\parsers.pyx\u001b[0m in \u001b[0;36mpandas._libs.parsers.TextReader._convert_column_data\u001b[1;34m()\u001b[0m\n",
      "\u001b[1;32mpandas\\_libs\\parsers.pyx\u001b[0m in \u001b[0;36mpandas._libs.parsers.TextReader._convert_tokens\u001b[1;34m()\u001b[0m\n",
      "\u001b[1;32mpandas\\_libs\\parsers.pyx\u001b[0m in \u001b[0;36mpandas._libs.parsers.TextReader._convert_with_dtype\u001b[1;34m()\u001b[0m\n",
      "\u001b[1;32m~\\anaconda3\\lib\\site-packages\\pandas\\core\\dtypes\\common.py\u001b[0m in \u001b[0;36mis_categorical_dtype\u001b[1;34m(arr_or_dtype)\u001b[0m\n\u001b[0;32m    528\u001b[0m \u001b[1;33m\u001b[0m\u001b[0m\n\u001b[0;32m    529\u001b[0m \u001b[1;33m\u001b[0m\u001b[0m\n\u001b[1;32m--> 530\u001b[1;33m \u001b[1;32mdef\u001b[0m \u001b[0mis_categorical_dtype\u001b[0m\u001b[1;33m(\u001b[0m\u001b[0marr_or_dtype\u001b[0m\u001b[1;33m)\u001b[0m \u001b[1;33m->\u001b[0m \u001b[0mbool\u001b[0m\u001b[1;33m:\u001b[0m\u001b[1;33m\u001b[0m\u001b[1;33m\u001b[0m\u001b[0m\n\u001b[0m\u001b[0;32m    531\u001b[0m     \"\"\"\n\u001b[0;32m    532\u001b[0m     \u001b[0mCheck\u001b[0m \u001b[0mwhether\u001b[0m \u001b[0man\u001b[0m \u001b[0marray\u001b[0m\u001b[1;33m-\u001b[0m\u001b[0mlike\u001b[0m \u001b[1;32mor\u001b[0m \u001b[0mdtype\u001b[0m \u001b[1;32mis\u001b[0m \u001b[0mof\u001b[0m \u001b[0mthe\u001b[0m \u001b[0mCategorical\u001b[0m \u001b[0mdtype\u001b[0m\u001b[1;33m.\u001b[0m\u001b[1;33m\u001b[0m\u001b[1;33m\u001b[0m\u001b[0m\n",
      "\u001b[1;31mKeyboardInterrupt\u001b[0m: "
     ]
    }
   ],
   "source": [
    "graphs = []\n",
    "types = ['werkschool']\n",
    "for type in types:\n",
    "    df = pd.read_csv(f'Data/NW_data/{type}_nw_b=1.csv')\n",
    "    G = nx.from_pandas_edgelist(df, 'source_id', 'destination_id',['source_group', 'destination_group'] ,create_using=nx.DiGraph())\n",
    "    \n",
    "    graphs.append(G)"
   ]
  },
  {
   "cell_type": "code",
   "execution_count": 350,
   "metadata": {},
   "outputs": [
    {
     "name": "stdout",
     "output_type": "stream",
     "text": [
      "29362450\n"
     ]
    }
   ],
   "source": [
    "graphs = [G]\n",
    "\n",
    "\n",
    "def get_type_node(G, id):\n",
    "    print(list(G[id].values())[0])\n",
    "    return list(G[id].values())[0]['source_group']\n"
   ]
  },
  {
   "cell_type": "code",
   "execution_count": 352,
   "metadata": {},
   "outputs": [],
   "source": [
    "l_n_edges = []\n",
    "l_n_nodes = []\n",
    "l_average_in_degees = []\n",
    "l_type_max_in_degree = []\n",
    "l_average_out_degrees = []\n",
    "l_type_max_out_degree = []\n",
    "l_average_cluster_coefficient = []\n",
    "l_type_highest_cluster_coefficient = []\n",
    "l_reciprocity = []\n",
    "\n",
    "for G in graphs:\n",
    "    \n",
    "    \n",
    "    # Number of edges\n",
    "    n_edges = G.number_of_edges()\n",
    "    l_n_edges.append(n_edges)\n",
    "    \n",
    "    # Number of nodes\n",
    "    n_nodes = G.number_of_nodes() \n",
    "    l_n_nodes.append(n_nodes)\n",
    "    \n",
    "    # Calculate degree\n",
    "    G.degree()\n",
    "    degrees = {i[1]:i[0] for i in G.degree()}\n",
    "    l_degrees = [ i[1] for i in G.degree()]\n",
    "\n",
    "    average_degree = np.mean(l_degrees)\n",
    "\n",
    "    # Calculate indegree\n",
    "    G.in_degree()\n",
    "    in_degrees = {i[1]:i[0] for i in G.in_degree()}\n",
    "    l_in_degrees = [ i[1] for i in G.in_degree()]\n",
    "\n",
    "\n",
    "    max_in_degree = max(in_degrees.keys())\n",
    "    id_max_in_degree = in_degrees[max(in_degrees.keys())]\n",
    "#     type_max_in_degree = get_type_node(G,id_max_in_degree)\n",
    "#     l_type_max_in_degree.append(type_max_in_degree)\n",
    "    \n",
    "    average_in_degree = np.mean(l_in_degrees)\n",
    "    l_average_in_degees.append(average_in_degree)\n",
    "\n",
    "    # Calculate outdegree\n",
    "    G.out_degree()\n",
    "    out_degrees = {i[1]:i[0] for i in G.out_degree()}\n",
    "    l_out_degrees = [ i[1] for i in G.out_degree()]\n",
    "\n",
    "    max_out_degree = max(out_degrees.keys())\n",
    "    id_max_out_degree = out_degrees[max(out_degrees.keys())]\n",
    "#     type_max_out_degree = list(G[id_max_out_degree].values())[0]['source_group']\n",
    "#     l_type_max_out_degree.append(type_max_out_degree)\n",
    "    \n",
    "    average_out_degree = np.mean(l_out_degrees)\n",
    "    l_average_out_degrees.append(average_out_degree)\n",
    "\n",
    "#     # Density\n",
    "#     density = nx.classes.function.density(G)\n",
    "    \n",
    "#     # Cluster coefficient\n",
    "#     cluster_coefficient = nx.clustering(G)\n",
    "    \n",
    "#     highest_cluster_coefficient = max(cluster_coefficient.values())\n",
    "\n",
    "#     id_highest_cluster_coefficient = (list(cluster_coefficient.keys())\n",
    "#                                    [list(cluster_coefficient.values()).index(highest_cluster_coefficient)])  # Prints george\n",
    "\n",
    "    \n",
    "    l_reciprocity.append(nx.overall_reciprocity(G))"
   ]
  },
  {
   "cell_type": "code",
   "execution_count": 355,
   "metadata": {},
   "outputs": [
    {
     "name": "stdout",
     "output_type": "stream",
     "text": [
      "[]\n"
     ]
    }
   ],
   "source": [
    "total_nodes = [86100] * 1\n",
    "\n",
    "# l_type_max_in_degree = [rehash_dict[i] for i in l_type_max_in_degree]\n",
    "# l_type_max_out_degree = [rehash_dict[i] for i in l_type_max_out_degree]\n",
    "\n",
    "\n",
    "print(l_type_max_in_degree)\n",
    "df_stats = pd.DataFrame({'edges' : l_n_edges,\n",
    "                         'nodes' : total_nodes,\n",
    "                         'connected_nodes' : l_n_nodes,\n",
    "                         'avg indegree':l_average_in_degees, \n",
    "#                          'max in degree': l_type_max_in_degree, \n",
    "                         'avg out degree':l_average_out_degrees,\n",
    "#                          'max out degree':l_type_max_out_degree,\n",
    "                         'reciprocity' : l_reciprocity},\n",
    "                         index = types)\n",
    "#                          'max cluster coefficient':l_type_highest_cluster_coefficient, \n",
    "#                          }, \n",
    "                      "
   ]
  },
  {
   "cell_type": "code",
   "execution_count": 356,
   "metadata": {},
   "outputs": [
    {
     "data": {
      "text/html": [
       "<div>\n",
       "<style scoped>\n",
       "    .dataframe tbody tr th:only-of-type {\n",
       "        vertical-align: middle;\n",
       "    }\n",
       "\n",
       "    .dataframe tbody tr th {\n",
       "        vertical-align: top;\n",
       "    }\n",
       "\n",
       "    .dataframe thead th {\n",
       "        text-align: right;\n",
       "    }\n",
       "</style>\n",
       "<table border=\"1\" class=\"dataframe\">\n",
       "  <thead>\n",
       "    <tr style=\"text-align: right;\">\n",
       "      <th></th>\n",
       "      <th>edges</th>\n",
       "      <th>nodes</th>\n",
       "      <th>connected_nodes</th>\n",
       "      <th>avg indegree</th>\n",
       "      <th>avg out degree</th>\n",
       "      <th>reciprocity</th>\n",
       "    </tr>\n",
       "  </thead>\n",
       "  <tbody>\n",
       "    <tr>\n",
       "      <th>werkschool</th>\n",
       "      <td>29362450</td>\n",
       "      <td>86100</td>\n",
       "      <td>806306</td>\n",
       "      <td>36.416013</td>\n",
       "      <td>36.416013</td>\n",
       "      <td>0.000181</td>\n",
       "    </tr>\n",
       "  </tbody>\n",
       "</table>\n",
       "</div>"
      ],
      "text/plain": [
       "               edges  nodes  connected_nodes  avg indegree  avg out degree  \\\n",
       "werkschool  29362450  86100           806306     36.416013       36.416013   \n",
       "\n",
       "            reciprocity  \n",
       "werkschool     0.000181  "
      ]
     },
     "execution_count": 356,
     "metadata": {},
     "output_type": "execute_result"
    }
   ],
   "source": [
    "df_stats"
   ]
  },
  {
   "cell_type": "code",
   "execution_count": 485,
   "metadata": {},
   "outputs": [],
   "source": [
    "df = pd.read_csv(f'Data/NW_data/{type}_nw_b=0.csv')\n",
    "G = nx.from_pandas_edgelist(df, 'source_id', 'destination_id',['source_group', 'destination_group'] ,create_using=nx.DiGraph())"
   ]
  },
  {
   "cell_type": "code",
   "execution_count": 486,
   "metadata": {},
   "outputs": [
    {
     "name": "stdout",
     "output_type": "stream",
     "text": [
      "[0,20), Turks, Man, 3\n"
     ]
    }
   ],
   "source": [
    "G.in_degree()\n",
    "in_degrees = {i[1]:i[0] for i in G.in_degree()}\n",
    "l_in_degrees = [ i[1] for i in G.in_degree()]\n",
    "\n",
    "\n",
    "max_in_degree = max(in_degrees.keys())\n",
    "id_max_in_degree = in_degrees[max(in_degrees.keys())]\n",
    "type_max_in_degree = get_type_node(G,id_max_in_degree)\n",
    "l_type_max_in_degree.append(type_max_in_degree)"
   ]
  },
  {
   "cell_type": "code",
   "execution_count": 462,
   "metadata": {},
   "outputs": [
    {
     "data": {
      "text/plain": [
       "'[0,20), Overig, Man, 2'"
      ]
     },
     "execution_count": 462,
     "metadata": {},
     "output_type": "execute_result"
    }
   ],
   "source": [
    "type_max_in_degree\n",
    "\n",
    "rehash_dict[58]\n",
    "\n"
   ]
  },
  {
   "cell_type": "code",
   "execution_count": 1,
   "metadata": {},
   "outputs": [
    {
     "ename": "NameError",
     "evalue": "name 'pd' is not defined",
     "output_type": "error",
     "traceback": [
      "\u001b[1;31m---------------------------------------------------------------------------\u001b[0m",
      "\u001b[1;31mNameError\u001b[0m                                 Traceback (most recent call last)",
      "\u001b[1;32m<ipython-input-1-bc214848df21>\u001b[0m in \u001b[0;36m<module>\u001b[1;34m\u001b[0m\n\u001b[1;32m----> 1\u001b[1;33m \u001b[0mdf\u001b[0m \u001b[1;33m=\u001b[0m \u001b[0mpd\u001b[0m\u001b[1;33m.\u001b[0m\u001b[0mread_csv\u001b[0m\u001b[1;33m(\u001b[0m\u001b[1;34m'Data/NW_data/huishouden_nw_test.csv'\u001b[0m\u001b[1;33m)\u001b[0m\u001b[1;33m\u001b[0m\u001b[1;33m\u001b[0m\u001b[0m\n\u001b[0m\u001b[0;32m      2\u001b[0m \u001b[1;31m# G = nx.from_pandas_edgelist(df, 'source_id', 'destination_id',['source', 'destination'] ,create_using=nx.DiGraph())\u001b[0m\u001b[1;33m\u001b[0m\u001b[1;33m\u001b[0m\u001b[1;33m\u001b[0m\u001b[0m\n",
      "\u001b[1;31mNameError\u001b[0m: name 'pd' is not defined"
     ]
    }
   ],
   "source": [
    "df = pd.read_csv('Data/NW_data/huishouden_nw_test.csv')\n",
    "# G = nx.from_pandas_edgelist(df, 'source_id', 'destination_id',['source', 'destination'] ,create_using=nx.DiGraph())"
   ]
  },
  {
   "cell_type": "code",
   "execution_count": 364,
   "metadata": {},
   "outputs": [
    {
     "data": {
      "text/plain": [
       "1.0"
      ]
     },
     "execution_count": 364,
     "metadata": {},
     "output_type": "execute_result"
    }
   ],
   "source": [
    "nx.overall_reciprocity(G)"
   ]
  },
  {
   "cell_type": "code",
   "execution_count": 365,
   "metadata": {},
   "outputs": [
    {
     "data": {
      "text/html": [
       "<div>\n",
       "<style scoped>\n",
       "    .dataframe tbody tr th:only-of-type {\n",
       "        vertical-align: middle;\n",
       "    }\n",
       "\n",
       "    .dataframe tbody tr th {\n",
       "        vertical-align: top;\n",
       "    }\n",
       "\n",
       "    .dataframe thead th {\n",
       "        text-align: right;\n",
       "    }\n",
       "</style>\n",
       "<table border=\"1\" class=\"dataframe\">\n",
       "  <thead>\n",
       "    <tr style=\"text-align: right;\">\n",
       "      <th></th>\n",
       "      <th>Unnamed: 0</th>\n",
       "      <th>source_id</th>\n",
       "      <th>destination_id</th>\n",
       "      <th>source</th>\n",
       "      <th>destination</th>\n",
       "      <th>layer</th>\n",
       "    </tr>\n",
       "  </thead>\n",
       "  <tbody>\n",
       "    <tr>\n",
       "      <th>0</th>\n",
       "      <td>0</td>\n",
       "      <td>7_140</td>\n",
       "      <td>6_4590</td>\n",
       "      <td>7_140, [0,20), Autochtoon, 2</td>\n",
       "      <td>6_4590, [0,20), Autochtoon, 1</td>\n",
       "      <td>1</td>\n",
       "    </tr>\n",
       "    <tr>\n",
       "      <th>1</th>\n",
       "      <td>1</td>\n",
       "      <td>6_4590</td>\n",
       "      <td>7_140</td>\n",
       "      <td>6_4590, [0,20), Autochtoon, 1</td>\n",
       "      <td>7_140, [0,20), Autochtoon, 2</td>\n",
       "      <td>1</td>\n",
       "    </tr>\n",
       "    <tr>\n",
       "      <th>2</th>\n",
       "      <td>2</td>\n",
       "      <td>7_690</td>\n",
       "      <td>6_4985</td>\n",
       "      <td>7_690, [0,20), Autochtoon, 2</td>\n",
       "      <td>6_4985, [0,20), Autochtoon, 1</td>\n",
       "      <td>1</td>\n",
       "    </tr>\n",
       "    <tr>\n",
       "      <th>3</th>\n",
       "      <td>3</td>\n",
       "      <td>6_4985</td>\n",
       "      <td>7_690</td>\n",
       "      <td>6_4985, [0,20), Autochtoon, 1</td>\n",
       "      <td>7_690, [0,20), Autochtoon, 2</td>\n",
       "      <td>1</td>\n",
       "    </tr>\n",
       "    <tr>\n",
       "      <th>4</th>\n",
       "      <td>4</td>\n",
       "      <td>7_1319</td>\n",
       "      <td>6_11890</td>\n",
       "      <td>7_1319, [0,20), Autochtoon, 2</td>\n",
       "      <td>6_11890, [0,20), Autochtoon, 1</td>\n",
       "      <td>1</td>\n",
       "    </tr>\n",
       "    <tr>\n",
       "      <th>...</th>\n",
       "      <td>...</td>\n",
       "      <td>...</td>\n",
       "      <td>...</td>\n",
       "      <td>...</td>\n",
       "      <td>...</td>\n",
       "      <td>...</td>\n",
       "    </tr>\n",
       "    <tr>\n",
       "      <th>417</th>\n",
       "      <td>417</td>\n",
       "      <td>6_18550</td>\n",
       "      <td>7_1004</td>\n",
       "      <td>6_18550, [0,20), Autochtoon, 1</td>\n",
       "      <td>7_1004, [0,20), Autochtoon, 2</td>\n",
       "      <td>1</td>\n",
       "    </tr>\n",
       "    <tr>\n",
       "      <th>418</th>\n",
       "      <td>418</td>\n",
       "      <td>7_1632</td>\n",
       "      <td>6_17306</td>\n",
       "      <td>7_1632, [0,20), Autochtoon, 2</td>\n",
       "      <td>6_17306, [0,20), Autochtoon, 1</td>\n",
       "      <td>1</td>\n",
       "    </tr>\n",
       "    <tr>\n",
       "      <th>419</th>\n",
       "      <td>419</td>\n",
       "      <td>6_17306</td>\n",
       "      <td>7_1632</td>\n",
       "      <td>6_17306, [0,20), Autochtoon, 1</td>\n",
       "      <td>7_1632, [0,20), Autochtoon, 2</td>\n",
       "      <td>1</td>\n",
       "    </tr>\n",
       "    <tr>\n",
       "      <th>420</th>\n",
       "      <td>420</td>\n",
       "      <td>7_1491</td>\n",
       "      <td>6_12638</td>\n",
       "      <td>7_1491, [0,20), Autochtoon, 2</td>\n",
       "      <td>6_12638, [0,20), Autochtoon, 1</td>\n",
       "      <td>1</td>\n",
       "    </tr>\n",
       "    <tr>\n",
       "      <th>421</th>\n",
       "      <td>421</td>\n",
       "      <td>6_12638</td>\n",
       "      <td>7_1491</td>\n",
       "      <td>6_12638, [0,20), Autochtoon, 1</td>\n",
       "      <td>7_1491, [0,20), Autochtoon, 2</td>\n",
       "      <td>1</td>\n",
       "    </tr>\n",
       "  </tbody>\n",
       "</table>\n",
       "<p>422 rows × 6 columns</p>\n",
       "</div>"
      ],
      "text/plain": [
       "     Unnamed: 0 source_id destination_id                          source  \\\n",
       "0             0     7_140         6_4590    7_140, [0,20), Autochtoon, 2   \n",
       "1             1    6_4590          7_140   6_4590, [0,20), Autochtoon, 1   \n",
       "2             2     7_690         6_4985    7_690, [0,20), Autochtoon, 2   \n",
       "3             3    6_4985          7_690   6_4985, [0,20), Autochtoon, 1   \n",
       "4             4    7_1319        6_11890   7_1319, [0,20), Autochtoon, 2   \n",
       "..          ...       ...            ...                             ...   \n",
       "417         417   6_18550         7_1004  6_18550, [0,20), Autochtoon, 1   \n",
       "418         418    7_1632        6_17306   7_1632, [0,20), Autochtoon, 2   \n",
       "419         419   6_17306         7_1632  6_17306, [0,20), Autochtoon, 1   \n",
       "420         420    7_1491        6_12638   7_1491, [0,20), Autochtoon, 2   \n",
       "421         421   6_12638         7_1491  6_12638, [0,20), Autochtoon, 1   \n",
       "\n",
       "                        destination  layer  \n",
       "0     6_4590, [0,20), Autochtoon, 1      1  \n",
       "1      7_140, [0,20), Autochtoon, 2      1  \n",
       "2     6_4985, [0,20), Autochtoon, 1      1  \n",
       "3      7_690, [0,20), Autochtoon, 2      1  \n",
       "4    6_11890, [0,20), Autochtoon, 1      1  \n",
       "..                              ...    ...  \n",
       "417   7_1004, [0,20), Autochtoon, 2      1  \n",
       "418  6_17306, [0,20), Autochtoon, 1      1  \n",
       "419   7_1632, [0,20), Autochtoon, 2      1  \n",
       "420  6_12638, [0,20), Autochtoon, 1      1  \n",
       "421   7_1491, [0,20), Autochtoon, 2      1  \n",
       "\n",
       "[422 rows x 6 columns]"
      ]
     },
     "execution_count": 365,
     "metadata": {},
     "output_type": "execute_result"
    }
   ],
   "source": [
    "df"
   ]
  },
  {
   "cell_type": "code",
   "execution_count": 367,
   "metadata": {},
   "outputs": [
    {
     "data": {
      "text/html": [
       "<div>\n",
       "<style scoped>\n",
       "    .dataframe tbody tr th:only-of-type {\n",
       "        vertical-align: middle;\n",
       "    }\n",
       "\n",
       "    .dataframe tbody tr th {\n",
       "        vertical-align: top;\n",
       "    }\n",
       "\n",
       "    .dataframe thead th {\n",
       "        text-align: right;\n",
       "    }\n",
       "</style>\n",
       "<table border=\"1\" class=\"dataframe\">\n",
       "  <thead>\n",
       "    <tr style=\"text-align: right;\">\n",
       "      <th></th>\n",
       "      <th>Unnamed: 0</th>\n",
       "      <th>source_id</th>\n",
       "      <th>destination_id</th>\n",
       "      <th>source</th>\n",
       "      <th>destination</th>\n",
       "      <th>layer</th>\n",
       "    </tr>\n",
       "  </thead>\n",
       "  <tbody>\n",
       "  </tbody>\n",
       "</table>\n",
       "</div>"
      ],
      "text/plain": [
       "Empty DataFrame\n",
       "Columns: [Unnamed: 0, source_id, destination_id, source, destination, layer]\n",
       "Index: []"
      ]
     },
     "execution_count": 367,
     "metadata": {},
     "output_type": "execute_result"
    }
   ],
   "source": [
    "df = df[df.duplicated(subset=['source_id','destination_id'], keep=False)]\n",
    "\n",
    "df"
   ]
  },
  {
   "cell_type": "code",
   "execution_count": 344,
   "metadata": {
    "collapsed": true
   },
   "outputs": [
    {
     "data": {
      "text/html": [
       "<div>\n",
       "<style scoped>\n",
       "    .dataframe tbody tr th:only-of-type {\n",
       "        vertical-align: middle;\n",
       "    }\n",
       "\n",
       "    .dataframe tbody tr th {\n",
       "        vertical-align: top;\n",
       "    }\n",
       "\n",
       "    .dataframe thead th {\n",
       "        text-align: right;\n",
       "    }\n",
       "</style>\n",
       "<table border=\"1\" class=\"dataframe\">\n",
       "  <thead>\n",
       "    <tr style=\"text-align: right;\">\n",
       "      <th></th>\n",
       "      <th>Grade</th>\n",
       "    </tr>\n",
       "  </thead>\n",
       "  <tbody>\n",
       "    <tr>\n",
       "      <th>0</th>\n",
       "      <td>A</td>\n",
       "    </tr>\n",
       "    <tr>\n",
       "      <th>1</th>\n",
       "      <td>C</td>\n",
       "    </tr>\n",
       "    <tr>\n",
       "      <th>2</th>\n",
       "      <td>B</td>\n",
       "    </tr>\n",
       "    <tr>\n",
       "      <th>3</th>\n",
       "      <td>Ex</td>\n",
       "    </tr>\n",
       "  </tbody>\n",
       "</table>\n",
       "</div>"
      ],
      "text/plain": [
       "  Grade\n",
       "0     A\n",
       "1     C\n",
       "2     B\n",
       "3    Ex"
      ]
     },
     "execution_count": 344,
     "metadata": {},
     "output_type": "execute_result"
    }
   ],
   "source": [
    "df1= pd.DataFrame({\n",
    "        'Grade': ['A','C','B','Ex']})\n",
    "df2 = pd.DataFrame({\n",
    "        'Grade': ['A','B','F','X', 'D', 'F', 'C','A']})\n",
    "\n",
    "df1\n"
   ]
  },
  {
   "cell_type": "code",
   "execution_count": 365,
   "metadata": {
    "scrolled": true
   },
   "outputs": [
    {
     "data": {
      "text/plain": [
       "array([    1,    36,   121,   256,   441,   676,   961,  1296,  1681,\n",
       "        2116,  2601,  3136,  3721,  4356,  5041,  5776,  6561,  7396,\n",
       "        8281,  9216, 10201, 11236, 12321, 13456, 14641, 15876, 17161,\n",
       "       18496, 19881, 21316, 22801, 24336, 25921, 27556, 29241, 30976,\n",
       "       32761, 34596, 36481, 38416, 40401, 42436, 44521, 46656],\n",
       "      dtype=int32)"
      ]
     },
     "execution_count": 365,
     "metadata": {},
     "output_type": "execute_result"
    }
   ],
   "source": [
    "np.asarray([i for i in range(1, 220, 5)]) ** 2"
   ]
  },
  {
   "cell_type": "code",
   "execution_count": null,
   "metadata": {},
   "outputs": [],
   "source": [
    "graphs = []\n",
    "types = ['huishouden', 'familie', 'buren', 'werkschool']\n",
    "for type in types:\n",
    "    df = pd.read_csv(f'Data/NW_data/{type}_nw.csv')\n",
    "    G = nx.from_pandas_edgelist(df, 'source_id', 'destination_id',['source_group', 'destination_group'] ,create_using=nx.DiGraph())\n",
    "    \n",
    "    graphs.append(G)"
   ]
  },
  {
   "cell_type": "code",
   "execution_count": 56,
   "metadata": {},
   "outputs": [],
   "source": []
  },
  {
   "cell_type": "code",
   "execution_count": 1,
   "metadata": {},
   "outputs": [
    {
     "ename": "NameError",
     "evalue": "name 'pd' is not defined",
     "output_type": "error",
     "traceback": [
      "\u001b[1;31m---------------------------------------------------------------------------\u001b[0m",
      "\u001b[1;31mNameError\u001b[0m                                 Traceback (most recent call last)",
      "\u001b[1;32m<ipython-input-1-fa410abdba54>\u001b[0m in \u001b[0;36m<module>\u001b[1;34m\u001b[0m\n\u001b[1;32m----> 1\u001b[1;33m \u001b[0mdf\u001b[0m \u001b[1;33m=\u001b[0m \u001b[0mpd\u001b[0m\u001b[1;33m.\u001b[0m\u001b[0mread_csv\u001b[0m\u001b[1;33m(\u001b[0m\u001b[1;34m'Data/NW_datawerkschool_nw_b=0.csv'\u001b[0m\u001b[1;33m)\u001b[0m\u001b[1;33m\u001b[0m\u001b[1;33m\u001b[0m\u001b[0m\n\u001b[0m\u001b[0;32m      2\u001b[0m \u001b[0mG\u001b[0m \u001b[1;33m=\u001b[0m \u001b[0mnx\u001b[0m\u001b[1;33m.\u001b[0m\u001b[0mfrom_pandas_edgelist\u001b[0m\u001b[1;33m(\u001b[0m\u001b[0mdf\u001b[0m\u001b[1;33m,\u001b[0m \u001b[1;34m'source_id'\u001b[0m\u001b[1;33m,\u001b[0m \u001b[1;34m'destination_id'\u001b[0m \u001b[1;33m,\u001b[0m\u001b[0mcreate_using\u001b[0m\u001b[1;33m=\u001b[0m\u001b[0mnx\u001b[0m\u001b[1;33m.\u001b[0m\u001b[0mDiGraph\u001b[0m\u001b[1;33m(\u001b[0m\u001b[1;33m)\u001b[0m\u001b[1;33m)\u001b[0m\u001b[1;33m\u001b[0m\u001b[1;33m\u001b[0m\u001b[0m\n",
      "\u001b[1;31mNameError\u001b[0m: name 'pd' is not defined"
     ]
    }
   ],
   "source": []
  },
  {
   "cell_type": "code",
   "execution_count": 68,
   "metadata": {},
   "outputs": [],
   "source": []
  },
  {
   "cell_type": "code",
   "execution_count": 52,
   "metadata": {},
   "outputs": [],
   "source": [
    "# g.get_edgelist()\n",
    "\n",
    "# G.edges()"
   ]
  },
  {
   "cell_type": "code",
   "execution_count": 51,
   "metadata": {},
   "outputs": [],
   "source": []
  },
  {
   "cell_type": "code",
   "execution_count": 16,
   "metadata": {},
   "outputs": [
    {
     "data": {
      "text/plain": [
       "[8, 8, 1, 9, 7, 6, 10, 7, 6, 1]"
      ]
     },
     "execution_count": 16,
     "metadata": {},
     "output_type": "execute_result"
    }
   ],
   "source": [
    "random.choices([1,2,3,4,5,6,7,8,9,10],k=10)"
   ]
  },
  {
   "cell_type": "markdown",
   "metadata": {},
   "source": [
    "# 1 percent workschool"
   ]
  },
  {
   "cell_type": "code",
   "execution_count": 4,
   "metadata": {},
   "outputs": [],
   "source": [
    "df = pd.read_csv(f'Data/NW_data/werkschool_nw_b=1_1_percentage.csv')"
   ]
  },
  {
   "cell_type": "code",
   "execution_count": 18,
   "metadata": {},
   "outputs": [],
   "source": [
    "df_s = df[(df['source_group'] == 6) & (df['destination_group'] == 12)]"
   ]
  },
  {
   "cell_type": "code",
   "execution_count": 6,
   "metadata": {},
   "outputs": [
    {
     "data": {
      "text/html": [
       "<div>\n",
       "<style scoped>\n",
       "    .dataframe tbody tr th:only-of-type {\n",
       "        vertical-align: middle;\n",
       "    }\n",
       "\n",
       "    .dataframe tbody tr th {\n",
       "        vertical-align: top;\n",
       "    }\n",
       "\n",
       "    .dataframe thead th {\n",
       "        text-align: right;\n",
       "    }\n",
       "</style>\n",
       "<table border=\"1\" class=\"dataframe\">\n",
       "  <thead>\n",
       "    <tr style=\"text-align: right;\">\n",
       "      <th></th>\n",
       "      <th>Unnamed: 0</th>\n",
       "      <th>source_id</th>\n",
       "      <th>destination_id</th>\n",
       "      <th>source_group</th>\n",
       "      <th>destination_group</th>\n",
       "    </tr>\n",
       "  </thead>\n",
       "  <tbody>\n",
       "  </tbody>\n",
       "</table>\n",
       "</div>"
      ],
      "text/plain": [
       "Empty DataFrame\n",
       "Columns: [Unnamed: 0, source_id, destination_id, source_group, destination_group]\n",
       "Index: []"
      ]
     },
     "execution_count": 6,
     "metadata": {},
     "output_type": "execute_result"
    }
   ],
   "source": [
    "df_duplicates = df[df.duplicated(subset=['source_id','destination_id'], keep=False)]\n",
    "\n",
    "df_duplicates\n"
   ]
  },
  {
   "cell_type": "code",
   "execution_count": 7,
   "metadata": {},
   "outputs": [],
   "source": [
    "G = nx.from_pandas_edgelist(df, 'source_id', 'destination_id',create_using=nx.DiGraph())\n"
   ]
  },
  {
   "cell_type": "code",
   "execution_count": 19,
   "metadata": {},
   "outputs": [],
   "source": [
    "G_s = nx.from_pandas_edgelist(df_s, 'source_id', 'destination_id',create_using=nx.DiGraph())"
   ]
  },
  {
   "cell_type": "code",
   "execution_count": 9,
   "metadata": {},
   "outputs": [
    {
     "name": "stdout",
     "output_type": "stream",
     "text": [
      "630\n"
     ]
    },
    {
     "data": {
      "text/plain": [
       "29362450"
      ]
     },
     "execution_count": 9,
     "metadata": {},
     "output_type": "execute_result"
    }
   ],
   "source": [
    "print(len(G_s.edges()))\n",
    "\n",
    "\n",
    "# print(len(G))\n",
    "\n",
    "# G.degree()\n",
    "# degrees = {i[1]:i[0] for i in G.in_degree()}\n",
    "l_degrees = [ i[1] for i in G.in_degree()]\n",
    "l_degrees_s = [ i[1] for i in G_s.in_degree()]\n",
    "\n",
    "# print(len(l_degrees))\n",
    "# nx.overall_reciprocity(G)\n",
    "29362450"
   ]
  },
  {
   "cell_type": "code",
   "execution_count": 16,
   "metadata": {},
   "outputs": [
    {
     "data": {
      "text/plain": [
       "428"
      ]
     },
     "execution_count": 16,
     "metadata": {},
     "output_type": "execute_result"
    }
   ],
   "source": [
    "max(l_degrees)"
   ]
  },
  {
   "cell_type": "markdown",
   "metadata": {},
   "source": [
    "#  2 percent work/school"
   ]
  },
  {
   "cell_type": "code",
   "execution_count": 20,
   "metadata": {},
   "outputs": [],
   "source": [
    "df = pd.read_csv(f'Data/NW_data/werkschool_nw_b=1_2_percentage.csv')"
   ]
  },
  {
   "cell_type": "code",
   "execution_count": 21,
   "metadata": {},
   "outputs": [],
   "source": [
    "df_s = df[(df['source_group'] == 6) & (df['destination_group'] == 12)]"
   ]
  },
  {
   "cell_type": "code",
   "execution_count": 22,
   "metadata": {},
   "outputs": [
    {
     "data": {
      "text/html": [
       "<div>\n",
       "<style scoped>\n",
       "    .dataframe tbody tr th:only-of-type {\n",
       "        vertical-align: middle;\n",
       "    }\n",
       "\n",
       "    .dataframe tbody tr th {\n",
       "        vertical-align: top;\n",
       "    }\n",
       "\n",
       "    .dataframe thead th {\n",
       "        text-align: right;\n",
       "    }\n",
       "</style>\n",
       "<table border=\"1\" class=\"dataframe\">\n",
       "  <thead>\n",
       "    <tr style=\"text-align: right;\">\n",
       "      <th></th>\n",
       "      <th>Unnamed: 0</th>\n",
       "      <th>source_id</th>\n",
       "      <th>destination_id</th>\n",
       "      <th>source_group</th>\n",
       "      <th>destination_group</th>\n",
       "    </tr>\n",
       "  </thead>\n",
       "  <tbody>\n",
       "  </tbody>\n",
       "</table>\n",
       "</div>"
      ],
      "text/plain": [
       "Empty DataFrame\n",
       "Columns: [Unnamed: 0, source_id, destination_id, source_group, destination_group]\n",
       "Index: []"
      ]
     },
     "execution_count": 22,
     "metadata": {},
     "output_type": "execute_result"
    }
   ],
   "source": [
    "df_duplicates = df[df.duplicated(subset=['source_id','destination_id'], keep=False)]\n",
    "\n",
    "df_duplicates\n"
   ]
  },
  {
   "cell_type": "code",
   "execution_count": 23,
   "metadata": {},
   "outputs": [],
   "source": [
    "G = nx.from_pandas_edgelist(df, 'source_id', 'destination_id',create_using=nx.DiGraph())\n"
   ]
  },
  {
   "cell_type": "code",
   "execution_count": 24,
   "metadata": {},
   "outputs": [],
   "source": [
    "G_s = nx.from_pandas_edgelist(df_s, 'source_id', 'destination_id',create_using=nx.DiGraph())"
   ]
  },
  {
   "cell_type": "code",
   "execution_count": 25,
   "metadata": {},
   "outputs": [
    {
     "name": "stdout",
     "output_type": "stream",
     "text": [
      "248270\n"
     ]
    },
    {
     "data": {
      "text/plain": [
       "29362450"
      ]
     },
     "execution_count": 25,
     "metadata": {},
     "output_type": "execute_result"
    }
   ],
   "source": [
    "print(len(G_s.edges()))\n",
    "\n",
    "\n",
    "# print(len(G))\n",
    "\n",
    "# G.degree()\n",
    "# degrees = {i[1]:i[0] for i in G.in_degree()}\n",
    "l_degrees = [ i[1] for i in G.in_degree()]\n",
    "l_degrees_s = [ i[1] for i in G_s.in_degree()]\n",
    "\n",
    "# print(len(l_degrees))\n",
    "# nx.overall_reciprocity(G)\n",
    "29362450"
   ]
  },
  {
   "cell_type": "code",
   "execution_count": 26,
   "metadata": {},
   "outputs": [
    {
     "data": {
      "text/plain": [
       "370"
      ]
     },
     "execution_count": 26,
     "metadata": {},
     "output_type": "execute_result"
    }
   ],
   "source": [
    "max(l_degrees)"
   ]
  },
  {
   "cell_type": "markdown",
   "metadata": {},
   "source": [
    "#  5 percent work/school"
   ]
  },
  {
   "cell_type": "code",
   "execution_count": 27,
   "metadata": {},
   "outputs": [],
   "source": [
    "df5 = pd.read_csv(f'Data/NW_data/werkschool_nw_b=1_5_percentage.csv')"
   ]
  },
  {
   "cell_type": "code",
   "execution_count": 28,
   "metadata": {},
   "outputs": [],
   "source": [
    "df_s5 = df[(df['source_group'] == 6) & (df['destination_group'] == 40)]"
   ]
  },
  {
   "cell_type": "code",
   "execution_count": 6,
   "metadata": {},
   "outputs": [
    {
     "data": {
      "text/html": [
       "<div>\n",
       "<style scoped>\n",
       "    .dataframe tbody tr th:only-of-type {\n",
       "        vertical-align: middle;\n",
       "    }\n",
       "\n",
       "    .dataframe tbody tr th {\n",
       "        vertical-align: top;\n",
       "    }\n",
       "\n",
       "    .dataframe thead th {\n",
       "        text-align: right;\n",
       "    }\n",
       "</style>\n",
       "<table border=\"1\" class=\"dataframe\">\n",
       "  <thead>\n",
       "    <tr style=\"text-align: right;\">\n",
       "      <th></th>\n",
       "      <th>Unnamed: 0</th>\n",
       "      <th>source_id</th>\n",
       "      <th>destination_id</th>\n",
       "      <th>source_group</th>\n",
       "      <th>destination_group</th>\n",
       "    </tr>\n",
       "  </thead>\n",
       "  <tbody>\n",
       "  </tbody>\n",
       "</table>\n",
       "</div>"
      ],
      "text/plain": [
       "Empty DataFrame\n",
       "Columns: [Unnamed: 0, source_id, destination_id, source_group, destination_group]\n",
       "Index: []"
      ]
     },
     "execution_count": 6,
     "metadata": {},
     "output_type": "execute_result"
    }
   ],
   "source": [
    "# df_duplicates = df[df.duplicated(subset=['source_id','destination_id'], keep=False)]\n",
    "\n",
    "# df_duplicates\n"
   ]
  },
  {
   "cell_type": "code",
   "execution_count": 29,
   "metadata": {},
   "outputs": [],
   "source": [
    "G5 = nx.from_pandas_edgelist(df, 'source_id', 'destination_id',create_using=nx.DiGraph())\n"
   ]
  },
  {
   "cell_type": "code",
   "execution_count": 30,
   "metadata": {},
   "outputs": [],
   "source": [
    "G_s5 = nx.from_pandas_edgelist(df_s, 'source_id', 'destination_id',create_using=nx.DiGraph())"
   ]
  },
  {
   "cell_type": "code",
   "execution_count": 31,
   "metadata": {},
   "outputs": [
    {
     "name": "stdout",
     "output_type": "stream",
     "text": [
      "248270\n"
     ]
    },
    {
     "data": {
      "text/plain": [
       "29362450"
      ]
     },
     "execution_count": 31,
     "metadata": {},
     "output_type": "execute_result"
    }
   ],
   "source": [
    "print(len(G_s.edges()))\n",
    "\n",
    "\n",
    "# print(len(G))\n",
    "\n",
    "# G.degree()\n",
    "# degrees = {i[1]:i[0] for i in G.in_degree()}\n",
    "l_degrees_5 = [ i[1] for i in G5.in_degree()]\n",
    "l_degrees_s5 = [ i[1] for i in G_s5.in_degree()]\n",
    "\n",
    "# print(len(l_degrees))\n",
    "# nx.overall_reciprocity(G)\n",
    "29362450"
   ]
  },
  {
   "cell_type": "code",
   "execution_count": 32,
   "metadata": {},
   "outputs": [
    {
     "data": {
      "text/plain": [
       "370"
      ]
     },
     "execution_count": 32,
     "metadata": {},
     "output_type": "execute_result"
    }
   ],
   "source": [
    "max(l_degrees)"
   ]
  },
  {
   "cell_type": "markdown",
   "metadata": {},
   "source": [
    "# 1 percent neighbours"
   ]
  },
  {
   "cell_type": "code",
   "execution_count": 4,
   "metadata": {},
   "outputs": [],
   "source": [
    "dfn1 = pd.read_csv(f'Data/NW_data/buren_nw_b=1_1_percentage.csv')"
   ]
  },
  {
   "cell_type": "code",
   "execution_count": 5,
   "metadata": {},
   "outputs": [],
   "source": [
    "df_sn1 = df[(df['source_group'] == 6) & (df['destination_group'] == 40)]"
   ]
  },
  {
   "cell_type": "code",
   "execution_count": 6,
   "metadata": {},
   "outputs": [
    {
     "data": {
      "text/html": [
       "<div>\n",
       "<style scoped>\n",
       "    .dataframe tbody tr th:only-of-type {\n",
       "        vertical-align: middle;\n",
       "    }\n",
       "\n",
       "    .dataframe tbody tr th {\n",
       "        vertical-align: top;\n",
       "    }\n",
       "\n",
       "    .dataframe thead th {\n",
       "        text-align: right;\n",
       "    }\n",
       "</style>\n",
       "<table border=\"1\" class=\"dataframe\">\n",
       "  <thead>\n",
       "    <tr style=\"text-align: right;\">\n",
       "      <th></th>\n",
       "      <th>Unnamed: 0</th>\n",
       "      <th>source_id</th>\n",
       "      <th>destination_id</th>\n",
       "      <th>source_group</th>\n",
       "      <th>destination_group</th>\n",
       "    </tr>\n",
       "  </thead>\n",
       "  <tbody>\n",
       "  </tbody>\n",
       "</table>\n",
       "</div>"
      ],
      "text/plain": [
       "Empty DataFrame\n",
       "Columns: [Unnamed: 0, source_id, destination_id, source_group, destination_group]\n",
       "Index: []"
      ]
     },
     "execution_count": 6,
     "metadata": {},
     "output_type": "execute_result"
    }
   ],
   "source": [
    "# df_duplicates = df[df.duplicated(subset=['source_id','destination_id'], keep=False)]\n",
    "\n",
    "# df_duplicates\n"
   ]
  },
  {
   "cell_type": "code",
   "execution_count": 7,
   "metadata": {},
   "outputs": [],
   "source": [
    "Gn1 = nx.from_pandas_edgelist(df, 'source_id', 'destination_id',create_using=nx.DiGraph())\n"
   ]
  },
  {
   "cell_type": "code",
   "execution_count": 8,
   "metadata": {},
   "outputs": [],
   "source": [
    "G_sn1 = nx.from_pandas_edgelist(df_s, 'source_id', 'destination_id',create_using=nx.DiGraph())"
   ]
  },
  {
   "cell_type": "code",
   "execution_count": 9,
   "metadata": {},
   "outputs": [
    {
     "name": "stdout",
     "output_type": "stream",
     "text": [
      "630\n"
     ]
    },
    {
     "data": {
      "text/plain": [
       "29362450"
      ]
     },
     "execution_count": 9,
     "metadata": {},
     "output_type": "execute_result"
    }
   ],
   "source": [
    "\n",
    "\n",
    "# print(len(G))\n",
    "\n",
    "# G.degree()\n",
    "# degrees = {i[1]:i[0] for i in G.in_degree()}\n",
    "l_degrees_n2 = [ i[1] for i in Gn1.in_degree()]\n",
    "l_degrees_sn2 = [ i[1] for i in G_sn1.in_degree()]\n",
    "\n",
    "# print(len(l_degrees))\n",
    "# nx.overall_reciprocity(G)\n",
    "29362450"
   ]
  },
  {
   "cell_type": "code",
   "execution_count": 16,
   "metadata": {},
   "outputs": [
    {
     "data": {
      "text/plain": [
       "428"
      ]
     },
     "execution_count": 16,
     "metadata": {},
     "output_type": "execute_result"
    }
   ],
   "source": [
    "max(l_degrees)"
   ]
  },
  {
   "cell_type": "markdown",
   "metadata": {},
   "source": [
    "# 2 percent neighbours"
   ]
  },
  {
   "cell_type": "code",
   "execution_count": 4,
   "metadata": {},
   "outputs": [],
   "source": [
    "dfn2 = pd.read_csv(f'Data/NW_data/buren_nw_b=1_2_percentage.csv')"
   ]
  },
  {
   "cell_type": "code",
   "execution_count": 5,
   "metadata": {},
   "outputs": [],
   "source": [
    "df_sn2 = df[(df['source_group'] == 6) & (df['destination_group'] == 40)]"
   ]
  },
  {
   "cell_type": "code",
   "execution_count": 6,
   "metadata": {},
   "outputs": [
    {
     "data": {
      "text/html": [
       "<div>\n",
       "<style scoped>\n",
       "    .dataframe tbody tr th:only-of-type {\n",
       "        vertical-align: middle;\n",
       "    }\n",
       "\n",
       "    .dataframe tbody tr th {\n",
       "        vertical-align: top;\n",
       "    }\n",
       "\n",
       "    .dataframe thead th {\n",
       "        text-align: right;\n",
       "    }\n",
       "</style>\n",
       "<table border=\"1\" class=\"dataframe\">\n",
       "  <thead>\n",
       "    <tr style=\"text-align: right;\">\n",
       "      <th></th>\n",
       "      <th>Unnamed: 0</th>\n",
       "      <th>source_id</th>\n",
       "      <th>destination_id</th>\n",
       "      <th>source_group</th>\n",
       "      <th>destination_group</th>\n",
       "    </tr>\n",
       "  </thead>\n",
       "  <tbody>\n",
       "  </tbody>\n",
       "</table>\n",
       "</div>"
      ],
      "text/plain": [
       "Empty DataFrame\n",
       "Columns: [Unnamed: 0, source_id, destination_id, source_group, destination_group]\n",
       "Index: []"
      ]
     },
     "execution_count": 6,
     "metadata": {},
     "output_type": "execute_result"
    }
   ],
   "source": [
    "# df_duplicates = df[df.duplicated(subset=['source_id','destination_id'], keep=False)]\n",
    "\n",
    "# df_duplicates\n"
   ]
  },
  {
   "cell_type": "code",
   "execution_count": 7,
   "metadata": {},
   "outputs": [],
   "source": [
    "Gn2 = nx.from_pandas_edgelist(df, 'source_id', 'destination_id',create_using=nx.DiGraph())\n"
   ]
  },
  {
   "cell_type": "code",
   "execution_count": 8,
   "metadata": {},
   "outputs": [],
   "source": [
    "G_sn2 = nx.from_pandas_edgelist(df_s, 'source_id', 'destination_id',create_using=nx.DiGraph())"
   ]
  },
  {
   "cell_type": "code",
   "execution_count": 9,
   "metadata": {},
   "outputs": [
    {
     "name": "stdout",
     "output_type": "stream",
     "text": [
      "630\n"
     ]
    },
    {
     "data": {
      "text/plain": [
       "29362450"
      ]
     },
     "execution_count": 9,
     "metadata": {},
     "output_type": "execute_result"
    }
   ],
   "source": [
    "# print(len(G_s.edges()))\n",
    "\n",
    "\n",
    "# print(len(G))\n",
    "\n",
    "# G.degree()\n",
    "# degrees = {i[1]:i[0] for i in G.in_degree()}\n",
    "l_degrees_n2 = [ i[1] for i in Gn2.in_degree()]\n",
    "l_degrees_sn2 = [ i[1] for i in G_sn2.in_degree()]\n",
    "\n",
    "# print(len(l_degrees))\n",
    "# nx.overall_reciprocity(G)\n",
    "29362450"
   ]
  },
  {
   "cell_type": "code",
   "execution_count": 16,
   "metadata": {},
   "outputs": [
    {
     "data": {
      "text/plain": [
       "428"
      ]
     },
     "execution_count": 16,
     "metadata": {},
     "output_type": "execute_result"
    }
   ],
   "source": [
    "max(l_degrees)"
   ]
  },
  {
   "cell_type": "markdown",
   "metadata": {},
   "source": [
    "# 5 percent neighbours"
   ]
  },
  {
   "cell_type": "code",
   "execution_count": 4,
   "metadata": {},
   "outputs": [],
   "source": [
    "dfn2 = pd.read_csv(f'Data/NW_data/buren_nw_b=1_5_percentage.csv')"
   ]
  },
  {
   "cell_type": "code",
   "execution_count": 5,
   "metadata": {},
   "outputs": [],
   "source": [
    "df_sn2 = df[(df['source_group'] == 6) & (df['destination_group'] == 40)]"
   ]
  },
  {
   "cell_type": "code",
   "execution_count": 6,
   "metadata": {},
   "outputs": [
    {
     "data": {
      "text/html": [
       "<div>\n",
       "<style scoped>\n",
       "    .dataframe tbody tr th:only-of-type {\n",
       "        vertical-align: middle;\n",
       "    }\n",
       "\n",
       "    .dataframe tbody tr th {\n",
       "        vertical-align: top;\n",
       "    }\n",
       "\n",
       "    .dataframe thead th {\n",
       "        text-align: right;\n",
       "    }\n",
       "</style>\n",
       "<table border=\"1\" class=\"dataframe\">\n",
       "  <thead>\n",
       "    <tr style=\"text-align: right;\">\n",
       "      <th></th>\n",
       "      <th>Unnamed: 0</th>\n",
       "      <th>source_id</th>\n",
       "      <th>destination_id</th>\n",
       "      <th>source_group</th>\n",
       "      <th>destination_group</th>\n",
       "    </tr>\n",
       "  </thead>\n",
       "  <tbody>\n",
       "  </tbody>\n",
       "</table>\n",
       "</div>"
      ],
      "text/plain": [
       "Empty DataFrame\n",
       "Columns: [Unnamed: 0, source_id, destination_id, source_group, destination_group]\n",
       "Index: []"
      ]
     },
     "execution_count": 6,
     "metadata": {},
     "output_type": "execute_result"
    }
   ],
   "source": [
    "# df_duplicates = df[df.duplicated(subset=['source_id','destination_id'], keep=False)]\n",
    "\n",
    "# df_duplicates\n"
   ]
  },
  {
   "cell_type": "code",
   "execution_count": 7,
   "metadata": {},
   "outputs": [],
   "source": [
    "Gn5 = nx.from_pandas_edgelist(df, 'source_id', 'destination_id',create_using=nx.DiGraph())\n"
   ]
  },
  {
   "cell_type": "code",
   "execution_count": 8,
   "metadata": {},
   "outputs": [],
   "source": [
    "G_sn5 = nx.from_pandas_edgelist(df_s, 'source_id', 'destination_id',create_using=nx.DiGraph())"
   ]
  },
  {
   "cell_type": "code",
   "execution_count": 9,
   "metadata": {},
   "outputs": [
    {
     "name": "stdout",
     "output_type": "stream",
     "text": [
      "630\n"
     ]
    },
    {
     "data": {
      "text/plain": [
       "29362450"
      ]
     },
     "execution_count": 9,
     "metadata": {},
     "output_type": "execute_result"
    }
   ],
   "source": [
    "# print(len(G_s.edges()))\n",
    "\n",
    "\n",
    "# print(len(G))\n",
    "\n",
    "# G.degree()\n",
    "# degrees = {i[1]:i[0] for i in G.in_degree()}\n",
    "l_degrees_n5 = [ i[1] for i in Gn5.in_degree()]\n",
    "l_degrees_sn5 = [ i[1] for i in G_sn5.in_degree()]\n",
    "\n",
    "# print(len(l_degrees))\n",
    "# nx.overall_reciprocity(G)\n",
    "29362450"
   ]
  },
  {
   "cell_type": "code",
   "execution_count": 4,
   "metadata": {},
   "outputs": [
    {
     "ename": "NameError",
     "evalue": "name 'l_degrees_n5' is not defined",
     "output_type": "error",
     "traceback": [
      "\u001b[1;31m---------------------------------------------------------------------------\u001b[0m",
      "\u001b[1;31mNameError\u001b[0m                                 Traceback (most recent call last)",
      "\u001b[1;32m<ipython-input-4-3fd5b0744011>\u001b[0m in \u001b[0;36m<module>\u001b[1;34m\u001b[0m\n\u001b[1;32m----> 1\u001b[1;33m \u001b[0mnp\u001b[0m\u001b[1;33m.\u001b[0m\u001b[0mmean\u001b[0m\u001b[1;33m(\u001b[0m\u001b[0ml_degrees_n5\u001b[0m\u001b[1;33m)\u001b[0m\u001b[1;33m\u001b[0m\u001b[1;33m\u001b[0m\u001b[0m\n\u001b[0m",
      "\u001b[1;31mNameError\u001b[0m: name 'l_degrees_n5' is not defined"
     ]
    }
   ],
   "source": [
    "np.mean(l_degrees_n5)"
   ]
  }
 ],
 "metadata": {
  "kernelspec": {
   "display_name": "Python 3",
   "language": "python",
   "name": "python3"
  },
  "language_info": {
   "codemirror_mode": {
    "name": "ipython",
    "version": 3
   },
   "file_extension": ".py",
   "mimetype": "text/x-python",
   "name": "python",
   "nbconvert_exporter": "python",
   "pygments_lexer": "ipython3",
   "version": "3.8.5"
  }
 },
 "nbformat": 4,
 "nbformat_minor": 4
}
