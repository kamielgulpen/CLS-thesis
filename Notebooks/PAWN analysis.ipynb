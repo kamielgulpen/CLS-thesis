{
 "cells": [
  {
   "cell_type": "code",
   "execution_count": 154,
   "metadata": {},
   "outputs": [],
   "source": [
    "from SAFEpython.util import empiricalcdf, split_sample\n",
    "\n",
    "\n",
    "def pawn_plot_cdf(X, Y, n, n_col=5, Y_Label=['fraction','reciprocity','transitivity', 'specify'], cbar=False,\n",
    "                  labelinput=''):\n",
    "\n",
    "    mpl.rcParams['font.family'] = 'Avenir'\n",
    "    plt.rcParams['font.size'] = 18\n",
    "    plt.rcParams['axes.linewidth'] = 2\n",
    "\n",
    "    \"\"\" This function computes and plots the unconditional output Cumulative\n",
    "    Distribution Funtions (i.e. when all inputs vary) and the conditional CDFs\n",
    "    (when one input is fixed to a given conditioning interval, while the other\n",
    "    inputs vary freely).\n",
    "\n",
    "    The function splits the output sample to create the conditional output\n",
    "    by calling internally the function PAWN.pawn_split_sample. The splitting\n",
    "    strategy is an extension of the strategy for uniformy distributed inputs\n",
    "    described in Pianosi and Wagener (2018) to handle inputs sampled from any\n",
    "    distribution.\n",
    "    (see help of PAWN.pawn_split_sample for further explanation).\n",
    "\n",
    "    The sensitivity indices for the PAWN method (KS statistic) measures the\n",
    "    distance between these conditional and unconditional output CDFs\n",
    "    (see help of PAWN.pawn_indices for further details and reference).\n",
    "\n",
    "    Usage:\n",
    "    YF, FU, FC, xc = PAWN.pawn_plot_cdf(X, Y, n, n_col=5, Y_Label='output y',\n",
    "                                        cbar=False, labelinput='')\n",
    "\n",
    "    Input:\n",
    "             X = set of inputs samples                     - numpy.ndarray(N,M)\n",
    "             Y = set of output samples                     - numpy.ndarray(N,)\n",
    "                                                        or - numpy.ndarray(N,1)\n",
    "             n = number of conditioning intervals\n",
    "                 - integer if all inputs have the same number of groups\n",
    "                 - list of M integers otherwise\n",
    "\n",
    "    Optional input:\n",
    "         n_col = number of panels per row in the plot      - integer\n",
    "                 (default: min(5, M))\n",
    "       Y_Label = legend for the horizontal axis            - string\n",
    "                 (default: 'output y')\n",
    "          cbar = flag to add a colobar that indicates the  - boolean\n",
    "                 centers of the conditioning intervals for\n",
    "                 the different conditional CDFs:\n",
    "                 - if True = colorbar\n",
    "                 - if False = no colorbar\n",
    "    labelinput = label for the axis of colorbar (input    - list (M elements)\n",
    "                 name) (default: ['X1','X2',...,XM'])\n",
    "\n",
    "    Output:\n",
    "            YF = values of Y at which the CDFs FU and FC   - numpy.ndarray(P, )\n",
    "                 are given\n",
    "            FU = values of the empirical unconditional     - list(M elements)\n",
    "                 output CDFs. FU[i] is a numpy.ndarray(P, )\n",
    "                 (see the Note below for further\n",
    "                 explanation)\n",
    "            FC = values of the empirical conditional       - list(M elements)\n",
    "                 output CDFs for each input and each\n",
    "                 conditioning interval.\n",
    "                 FC[i] is a list of n_eff[i] CDFs\n",
    "                 conditional to the i-th input.\n",
    "                 FC[i][k] is obtained by fixing the i-th\n",
    "                 input to its k-th conditioning interval\n",
    "                 (while the other inputs vary freely),\n",
    "                 and it is a np.ndarray of shape (P, ).\n",
    "                 (see the Note below for further\n",
    "                 explanation)\n",
    "           xc = subsamples' centers (i.e. mean value of    - list(M elements)\n",
    "                Xi over each conditioning interval)\n",
    "                xc[i] is a np.ndarray(n_eff[i],) and\n",
    "                contains the centers for the n_eff[i]\n",
    "                conditioning intervals for the i-th input.\n",
    "\n",
    "    Note:\n",
    "    (*)  For each input, the number of conditioning intervals which is actually\n",
    "         used (n_eff[i]) may be lower than the prescribed number of conditioning\n",
    "         intervals (n[i]) to ensure that input values that are repeated several\n",
    "         time belong to the same group.\n",
    "         See the help of PAWN.pawn_split_sample for further details.\n",
    "\n",
    "    (**) FU[i] and FC[i][k] (for any given i and k) are built using the same\n",
    "         number of data points so that two CDFs can be compared by calculating\n",
    "         the KS statistic (see help of PAWN.pawn_ks and PAWN.pawn_indices\n",
    "         for further explanation on the calculation of the KS statistic).\n",
    "\n",
    "    Example:\n",
    "\n",
    "    import numpy as np\n",
    "    import matplotlib.pyplot as plt\n",
    "    import scipy.stats as st\n",
    "    from SAFEpython.sampling import AAT_sampling\n",
    "    from SAFEpython.model_execution import model_execution\n",
    "    from SAFEpython import PAWN\n",
    "    from SAFEpython.plot_functions import boxplot1\n",
    "    from SAFEpython.ishigami_homma import ishigami_homma_function\n",
    "\n",
    "    # Create a generic input-output sample:\n",
    "    N = 1000 # number of samples\n",
    "    M = 3 # number of inputs\n",
    "    xmin = -np.pi; xmax = np.pi\n",
    "    X = AAT_sampling('lhs', M, st.uniform, [xmin, xmax - xmin], N);\n",
    "    Y = model_execution(ishigami_homma_function, X)\n",
    "\n",
    "    # Calculate and plot CDFs\n",
    "    n = 10 # number of conditioning intervals\n",
    "    YF, FU, FC, xc = PAWN.pawn_plot_cdf(X, Y, n)\n",
    "    YF, FU, FC, xc = PAWN.pawn_plot_cdf(X, Y, n, cbar=True) # Add colorbar\n",
    "\n",
    "    This function is part of the SAFE Toolbox by F. Pianosi, F. Sarrazin\n",
    "    and T. Wagener at Bristol University (2015).\n",
    "    SAFE is provided without any warranty and for non-commercial use only.\n",
    "    For more details, see the Licence file included in the root directory\n",
    "    of this distribution.\n",
    "    For any comment and feedback, or to discuss a Licence agreement for\n",
    "    commercial use, please contact: francesca.pianosi@bristol.ac.uk\n",
    "    For details on how to cite SAFE in your publication, please see:\n",
    "    https://www.safetoolbox.info\"\"\"\n",
    "\n",
    "    # Options for the graphic\n",
    "    pltfont = {'fontname': 'DejaVu Sans', 'fontsize': 15} # font\n",
    "    colorscale = 'gray' # colorscale\n",
    "    # Text formating of ticklabels\n",
    "    yticklabels_form = '%3.1f' # float with 1 character after decimal point\n",
    "    # yticklabels_form = '%d' # integer\n",
    "\n",
    "    ###########################################################################\n",
    "    # Check inputs and split the input sample\n",
    "    ###########################################################################\n",
    "\n",
    "    YY, xc, NC, n_eff, Xk, XX = PAWN.pawn_split_sample(X, Y, n) # this function\n",
    "    # checks inputs X, Y and n\n",
    "\n",
    "    Nx = X.shape\n",
    "    N = Nx[0]\n",
    "    M = Nx[1]\n",
    "\n",
    "    ###########################################################################\n",
    "    # Check optional inputs for plotting\n",
    "    ###########################################################################\n",
    "\n",
    "#     if not isinstance(n_col, (int, np.int8, np.int16, np.int32, np.int64)):\n",
    "#         raise ValueError('\"n_col\" must be scalar and integer.')\n",
    "#     if n_col < 0:\n",
    "#         raise ValueError('\"n_col\" must be positive.')\n",
    "#     if not isinstance(Y_Label, str):\n",
    "#         raise ValueError('\"Y_Label\" must be a string.')\n",
    "#     if not isinstance(cbar, bool):\n",
    "#         raise ValueError('\"cbar\" must be scalar and boolean.')\n",
    "#     if not labelinput:\n",
    "#         labelinput = [np.nan]*M\n",
    "#         for i in range(M):\n",
    "#             labelinput[i] = 'X' + str(i+1)\n",
    "#     else:\n",
    "#         if not isinstance(labelinput, list):\n",
    "#             raise ValueError('\"labelinput\" must be a list with M elements.')\n",
    "#         if not all(isinstance(i, str) for i in labelinput):\n",
    "#             raise ValueError('Elements in \"labelinput\" must be strings.')\n",
    "#         if len(labelinput) != M:\n",
    "#             raise ValueError('\"labelinput\" must have M elements.')\n",
    "\n",
    "    ###########################################################################\n",
    "    # Compute CDFs\n",
    "    ###########################################################################\n",
    "\n",
    "    # Set points at which the CDFs will be evaluated:\n",
    "    YF = np.unique(Y)\n",
    "\n",
    "    \n",
    "    # Compute conditional CDFs:\n",
    "    FC = [np.nan] * M\n",
    "\n",
    "    for i in range(M): # loop over inputs\n",
    "        \n",
    "        FC[i] = [np.nan] * n_eff[i]\n",
    "\n",
    "        for k in range(n_eff[i]): # loop over conditioning intervals\n",
    "            FC[i][k] = empiricalcdf(YY[i][k], YF)\n",
    "\n",
    "    \n",
    "    # Initialize unconditional CDFs:\n",
    "    FU = [np.nan] * M\n",
    "\n",
    "    # M unconditional CDFs are computed (one for each input), so that for\n",
    "    # each input the conditional and unconditional CDFs are computed using the\n",
    "    # same number of data points (when the number of conditioning intervals\n",
    "    # n_eff[i] varies across the inputs, so does the shape of the conditional\n",
    "    # outputs YY[i]).\n",
    "\n",
    "    # Determine the sample size for the unconditional output NU:\n",
    "    NU = [int(np.min(i)) for i in NC] # numpy.ndarray(M,)\n",
    "    # NU is equal to the sample size of the conditional outputs NC, or its\n",
    "    # minimum value across the conditioning intervals when the sample size\n",
    "    # varies across conditioning intervals as may happen when values of an\n",
    "    # input are repeated several times (more details on this in the Note in the\n",
    "    #  help of the function).\n",
    "\n",
    "    # To reduce the computational time (the calculation of empirical CDF is\n",
    "    # costly), the unconditional CDF is computed only once for all inputs that\n",
    "    # have the same value of NU[i].\n",
    "    NU_unique = np.unique(NU)\n",
    "    N_compute = len(NU_unique) # number of unconditional CDFs that will be computed\n",
    "\n",
    "    for kk in range(N_compute): # loop over the sizes of the unconditional output\n",
    "\n",
    "        # Extract an unconditional sample of size NU_unique[kk] by drawing data\n",
    "        # points from the full sample Y without replacement\n",
    "        idx = np.random.choice(np.arange(0, N, 1), size=(NU_unique[kk], ),\n",
    "                               replace='False')\n",
    "        # Compute unconditional output CDF:\n",
    "        FUkk = empiricalcdf(Y[idx], YF)\n",
    "        # Associate the FUkk to all inputs that require an unconditional output\n",
    "        # of size NU_unique[kk]:\n",
    "        idx_input = np.where([i == NU_unique[kk] for i in NU])[0]\n",
    "        for j in range(len(idx_input)):\n",
    "            FU[idx_input[j]] = FUkk\n",
    "\n",
    "    ###########################################################################\n",
    "    # Plot\n",
    "    ###########################################################################\n",
    "\n",
    "\n",
    "\n",
    "    n_col = min(n_col, M) # n_col <= M\n",
    "    n_row = int(np.ceil(M/n_col))\n",
    "\n",
    "\n",
    "    print(M)\n",
    "    print('haha')\n",
    "    for i in range(M): # loop over inputs\n",
    "        \n",
    "        # Prepare color and legend\n",
    "        cmap = mpl.cm.get_cmap(colorscale, n_eff[i]+1) # return colormap,\n",
    "        # (n+1) so that the last line is not white\n",
    "        # Make sure that subsample centers are ordered:\n",
    "        iii = np.argsort(xc[i])\n",
    "        ccc = np.sort(xc[i])\n",
    "        plt.xticks(rotation=70)\n",
    "        plt.subplot(n_row, n_col, i+1)\n",
    "        ax = plt.gca()\n",
    "\n",
    "        if cbar: # plot dummy mappable to generate the colorbar\n",
    "            Map = plt.imshow(np.array([[0, 1]]), cmap=cmap)\n",
    "            plt.cla() # clear axes (do not display the dummy map)\n",
    "\n",
    "        # Plot a horizontal dashed line at F=1:\n",
    "        plt.plot(YF, np.ones(YF.shape), '--k')\n",
    "\n",
    "        # Plot conditional CDFs in gray scale:\n",
    "        for k in range(n_eff[i]):\n",
    "            plt.plot(YF, FC[i][iii[k]], color=cmap(k), linewidth=2)\n",
    "\n",
    "        plt.xticks(**pltfont); plt.yticks(**pltfont)\n",
    "        plt.xlabel(Y_Label[i], **pltfont)\n",
    "\n",
    "        # Plot unconditional CDF in red:\n",
    "        plt.plot(YF, FU[i], 'r', linewidth=3)\n",
    "\n",
    "        plt.xlim([min(YF), max(YF)]); plt.ylim([-0.02, 1.02])\n",
    "\n",
    "        \n",
    "        if cbar: # Add colorbar to the left\n",
    "             cb_ticks = [' '] * n_eff[i]\n",
    "             for k in range(n_eff[i]):\n",
    "                 cb_ticks[k] = yticklabels_form % ccc[k]\n",
    "             # Add colorbar (do not display the white color by adjuting the\n",
    "             # input argument 'boundaries')\n",
    "             cb = plt.colorbar(Map, ax=ax,\n",
    "                               boundaries=np.linspace(0, 1-1/((n_eff[i]+1)),\n",
    "                                                      n_eff[i]+1))\n",
    "             cb.set_label(labelinput[i], **pltfont)\n",
    "             cb.Fontname = pltfont['fontname']\n",
    "             # set tick labels at the center of each color:\n",
    "             cb.set_ticks(np.linspace(1/(2*(n_eff[i]+1)), 1-3/(2*(n_eff[i]+1)),\n",
    "                                      n_eff[i]))\n",
    "             cb.set_ticklabels(cb_ticks)\n",
    "             cb.ax.tick_params(labelsize=pltfont['fontsize'])\n",
    "             # Map.set_clim(0,1-1/(n+1))\n",
    "             ax.set_aspect('auto') # Ensure that axes do not shrink\n",
    "    plt.savefig('x.pdf')\n",
    "    return YF, FU, FC, xc"
   ]
  },
  {
   "cell_type": "code",
   "execution_count": 155,
   "metadata": {},
   "outputs": [
    {
     "name": "stdout",
     "output_type": "stream",
     "text": [
      "Index(['N', 'R', 'T', 'M', 'A', 'S', 'S_am', 'max', 'skew_a', 'skew_g'], dtype='object')\n",
      "Index(['fraction', 'reciprocity', 'transitivity', 'specification'], dtype='object')\n",
      "N\n",
      "R\n"
     ]
    },
    {
     "name": "stderr",
     "output_type": "stream",
     "text": [
      "C:\\Users\\KGulp\\Documents\\Computational Science\\CLS_thesis\\Notebooks\\SAFEpython\\PAWN.py:206: UserWarning: For X4, 1 groups were used instead of 10 so that values that are repeated several time belong to the same group\n",
      "  warn(\"For X%d, %d groups were used instead of \" % (i+1, n_eff[i]) +\n"
     ]
    },
    {
     "name": "stdout",
     "output_type": "stream",
     "text": [
      "0.17566739436835493 0.5057569789009427 0.2534748502466526\n",
      "0.179649879737721 0.5374658441491696 0.2711122076426551\n",
      "0.2564890308545516 0.8461363636363637 0.450702842377261\n",
      "T\n",
      "0.18501746164884433 0.18674812358085952 0.652068748659497\n",
      "0.18842405181746688 0.19483063427989422 0.6507271801687247\n",
      "0.2708421908672161 0.2967292490118577 0.8879350775193798\n",
      "M\n",
      "0.18069621965356297 0.21662100830226408 0.45493483495215037\n",
      "0.20047197939965888 0.22892072424055537 0.4562222603946441\n",
      "0.3579008397932816 0.39795454545454534 0.6424940175261207\n",
      "A\n",
      "0.2264344896130159 0.1748834021295284 0.5332537502170339\n",
      "0.26492467202357245 0.18212922097945236 0.5194340963987704\n",
      "0.5962842377260982 0.2764027777777778 0.7012591984046737\n",
      "S\n",
      "0.17846139287209817 0.17870333246900086 0.23175341126124743\n",
      "0.1928872347080512 0.1899407502406115 0.23269713349368298\n",
      "0.34960678575440957 0.31015582513385476 0.3551806436457599\n",
      "S_am\n",
      "max\n",
      "skew_a\n",
      "0.4026789105667391 0.1632711586260384 0.33363407584438926\n",
      "0.4414874214848178 0.17483576514450708 0.3533827302346008\n",
      "0.8725736434108525 0.30446969696969695 0.579904069767442\n",
      "skew_g\n",
      "0.342387455188896 0.21471685576860186 0.29752598916362827\n",
      "0.40916352312304033 0.22533712074491444 0.2988389173586216\n",
      "0.9022273901808785 0.367253787878788 0.4833115942028985\n"
     ]
    }
   ],
   "source": [
    "# import sys\n",
    "import math\n",
    "from SALib.analyze import pawn\n",
    "from SAFEpython import PAWN\n",
    "import numpy as np\n",
    "import pandas as pd\n",
    "from SALib.analyze import sobol\n",
    "\n",
    "import matplotlib as mpl\n",
    "import matplotlib.font_manager as fm#  Collect all the font names available to matplotlib\n",
    "font_names = [f.name for f in fm.fontManager.ttflist]\n",
    "import matplotlib.pyplot as plt\n",
    "plt.rcParams[\"font.family\"] = \"serif\"\n",
    "# plt.rcParams[\"font.font\"] = \"Computer Modern Roman\"\n",
    "plt.rcParams['font.size'] = 18\n",
    "plt.rcParams['axes.linewidth'] = 2\n",
    "\n",
    "df_output = pd.read_csv(\"..\\Experiment_huishouden\\output.txt\", sep=\",\")\n",
    "# sys.path.append('../..')\n",
    "\n",
    "print(df_output.columns)\n",
    "\n",
    "df_input = pd.read_csv(\"..\\Experiment_huishouden\\input.txt\", sep=\",\")\n",
    "\n",
    "print(df_input.columns)\n",
    "\n",
    "\n",
    "reciprocity = []\n",
    "fraction = []\n",
    "transitivity = []\n",
    "specify = []\n",
    "\n",
    "\n",
    "\n",
    "type_output = []\n",
    "values = []\n",
    "parameter = []\n",
    "\n",
    "\n",
    "for output in df_output.columns:\n",
    "\n",
    "    problem = {\n",
    "      'num_vars': 4,\n",
    "      'names': ['fraction', 'reciprocity','transitivity' ,'specify'],\n",
    "      'bounds': [[0,1]]*4\n",
    "    }\n",
    "    # np.loadtxt('')\n",
    "    # array([[0., 1.],\n",
    "    #        [2., 3.]])\n",
    "\n",
    "\n",
    "\n",
    "\n",
    "\n",
    "    # X = np.random.rand(100, 4)\n",
    "\n",
    "    # Y = np.random.rand(100)\n",
    "    \n",
    "    \n",
    "    \n",
    "    \n",
    "\n",
    "    Y = np.array(df_output[output])[40:800]\n",
    "\n",
    "    X = df_input.to_numpy()[40:800]\n",
    "    \n",
    "    print(output)\n",
    "    \n",
    "#     print(X.type())\n",
    "    \n",
    "    if output == 'S_am' or output == 'max' or output == 'N':\n",
    "        continue\n",
    "        \n",
    "\n",
    "#     Y = np.array(df_output[output])[75:].astype(float)\n",
    "\n",
    "#     X = df_input.to_numpy()[75:].astype(float)\n",
    "\n",
    "    \n",
    "#         print(X,Y)\n",
    "    \n",
    "    c = 0\n",
    "    \n",
    "    for i in PAWN.pawn_indices(X, Y, 10, 100):\n",
    "\n",
    "\n",
    "        print(np.mean(i[:,0]), np.mean(i[:,1]), np.mean(i[:,2]))\n",
    "        if c == 1:\n",
    "\n",
    "            fraction.extend(i[:,0])\n",
    "            reciprocity.extend(i[:,1])\n",
    "            transitivity.extend(i[:,2])\n",
    "            specify.extend(i[:,-1])\n",
    "            \n",
    "            values.extend(i[:,0])\n",
    "            parameter.extend(['Fraction']*100)\n",
    "            values.extend(i[:,1])\n",
    "            parameter.extend(['Reciprocity']*100)\n",
    "            values.extend(i[:,2])\n",
    "            parameter.extend(['Transitivity']*100)\n",
    "            values.extend(i[:,3])\n",
    "            parameter.extend(['Specification']*100)\n",
    "            \n",
    "        c+=1\n",
    "    \n",
    "    type_output.extend([output]*400)\n",
    "\n",
    "\n"
   ]
  },
  {
   "cell_type": "code",
   "execution_count": 156,
   "metadata": {},
   "outputs": [
    {
     "data": {
      "text/html": [
       "<div>\n",
       "<style scoped>\n",
       "    .dataframe tbody tr th:only-of-type {\n",
       "        vertical-align: middle;\n",
       "    }\n",
       "\n",
       "    .dataframe tbody tr th {\n",
       "        vertical-align: top;\n",
       "    }\n",
       "\n",
       "    .dataframe thead th {\n",
       "        text-align: right;\n",
       "    }\n",
       "</style>\n",
       "<table border=\"1\" class=\"dataframe\">\n",
       "  <thead>\n",
       "    <tr style=\"text-align: right;\">\n",
       "      <th></th>\n",
       "      <th>Metric</th>\n",
       "      <th>Parameter</th>\n",
       "      <th>median KS</th>\n",
       "    </tr>\n",
       "  </thead>\n",
       "  <tbody>\n",
       "    <tr>\n",
       "      <th>0</th>\n",
       "      <td>R</td>\n",
       "      <td>Fraction</td>\n",
       "      <td>0.200686</td>\n",
       "    </tr>\n",
       "    <tr>\n",
       "      <th>1</th>\n",
       "      <td>R</td>\n",
       "      <td>Fraction</td>\n",
       "      <td>0.179209</td>\n",
       "    </tr>\n",
       "    <tr>\n",
       "      <th>2</th>\n",
       "      <td>R</td>\n",
       "      <td>Fraction</td>\n",
       "      <td>0.176643</td>\n",
       "    </tr>\n",
       "    <tr>\n",
       "      <th>3</th>\n",
       "      <td>R</td>\n",
       "      <td>Fraction</td>\n",
       "      <td>0.209071</td>\n",
       "    </tr>\n",
       "    <tr>\n",
       "      <th>4</th>\n",
       "      <td>R</td>\n",
       "      <td>Fraction</td>\n",
       "      <td>0.177320</td>\n",
       "    </tr>\n",
       "    <tr>\n",
       "      <th>...</th>\n",
       "      <td>...</td>\n",
       "      <td>...</td>\n",
       "      <td>...</td>\n",
       "    </tr>\n",
       "    <tr>\n",
       "      <th>2795</th>\n",
       "      <td>skew_g</td>\n",
       "      <td>Specification</td>\n",
       "      <td>0.039648</td>\n",
       "    </tr>\n",
       "    <tr>\n",
       "      <th>2796</th>\n",
       "      <td>skew_g</td>\n",
       "      <td>Specification</td>\n",
       "      <td>0.022026</td>\n",
       "    </tr>\n",
       "    <tr>\n",
       "      <th>2797</th>\n",
       "      <td>skew_g</td>\n",
       "      <td>Specification</td>\n",
       "      <td>0.037445</td>\n",
       "    </tr>\n",
       "    <tr>\n",
       "      <th>2798</th>\n",
       "      <td>skew_g</td>\n",
       "      <td>Specification</td>\n",
       "      <td>0.024229</td>\n",
       "    </tr>\n",
       "    <tr>\n",
       "      <th>2799</th>\n",
       "      <td>skew_g</td>\n",
       "      <td>Specification</td>\n",
       "      <td>0.024229</td>\n",
       "    </tr>\n",
       "  </tbody>\n",
       "</table>\n",
       "<p>2800 rows × 3 columns</p>\n",
       "</div>"
      ],
      "text/plain": [
       "      Metric      Parameter  median KS\n",
       "0          R       Fraction   0.200686\n",
       "1          R       Fraction   0.179209\n",
       "2          R       Fraction   0.176643\n",
       "3          R       Fraction   0.209071\n",
       "4          R       Fraction   0.177320\n",
       "...      ...            ...        ...\n",
       "2795  skew_g  Specification   0.039648\n",
       "2796  skew_g  Specification   0.022026\n",
       "2797  skew_g  Specification   0.037445\n",
       "2798  skew_g  Specification   0.024229\n",
       "2799  skew_g  Specification   0.024229\n",
       "\n",
       "[2800 rows x 3 columns]"
      ]
     },
     "execution_count": 156,
     "metadata": {},
     "output_type": "execute_result"
    }
   ],
   "source": [
    "# print(fraction)\n",
    "\n",
    "\n",
    "df = pd.DataFrame()\n",
    "\n",
    "df['Metric'] = type_output\n",
    "df['Parameter'] = parameter\n",
    "df['median KS'] = values\n",
    "# df['specify'] = specify\n",
    "\n",
    "\n",
    "# df[df['Metric'] == 'T']\n",
    "\n",
    "\n",
    "df"
   ]
  },
  {
   "cell_type": "code",
   "execution_count": 87,
   "metadata": {},
   "outputs": [],
   "source": [
    "df_output.to_csv('df_output.txt', index = False)"
   ]
  },
  {
   "cell_type": "code",
   "execution_count": 179,
   "metadata": {},
   "outputs": [
    {
     "data": {
      "text/plain": [
       "[Text(0, 0, 'R'),\n",
       " Text(1, 0, 'T'),\n",
       " Text(2, 0, 'M'),\n",
       " Text(3, 0, 'A'),\n",
       " Text(4, 0, 'S'),\n",
       " Text(5, 0, 'skew_a'),\n",
       " Text(6, 0, 'skew_g')]"
      ]
     },
     "execution_count": 179,
     "metadata": {},
     "output_type": "execute_result"
    },
    {
     "data": {
      "image/png": "[encoded data removed]",
      "text/plain": [
       "<Figure size 432x288 with 1 Axes>"
      ]
     },
     "metadata": {
      "needs_background": "light"
     },
     "output_type": "display_data"
    }
   ],
   "source": [
    "import seaborn as sn\n",
    "\n",
    "sn.set_palette(\"Blues\")\n",
    "\n",
    "# g = sn.pointplot(\n",
    "#     data=df,y = parameter, x= values, alpha = 0.01, hue='Metric', dodge=True, join=False, cl ='99')\n",
    "# plt.setp(g.collections, alpha=.6)\n",
    "# plt.setp(g.lines, alpha=.6)  \n",
    "\n",
    "g = sn.barplot(y='median KS', x='Metric', hue=\"Parameter\", data=df)\n",
    "\n",
    "\n",
    "g.legend(loc='center left', bbox_to_anchor=(1, 0.5), ncol=1)\n",
    "g.set_xticklabels(g.get_xticklabels(),rotation = 30)\n",
    "\n"
   ]
  },
  {
   "cell_type": "code",
   "execution_count": 151,
   "metadata": {},
   "outputs": [
    {
     "data": {
      "text/plain": [
       "[Text(0.5, 1.0, '$Specification$')]"
      ]
     },
     "execution_count": 151,
     "metadata": {},
     "output_type": "execute_result"
    },
    {
     "data": {
      "image/png": "[encoded data removed]",
      "text/plain": [
       "<Figure size 1152x288 with 4 Axes>"
      ]
     },
     "metadata": {
      "needs_background": "light"
     },
     "output_type": "display_data"
    }
   ],
   "source": [
    "plt.figure(figsize=(16,4))\n",
    "\n",
    "plt.subplot(141)\n",
    "\n",
    "g1 = sn.pointplot(data=df[df['Parameter'] == 'Reciprocity'], x = 'median KS', y = 'Metric', alpha = 1, dodge=True, join=False, cl ='99', color = 'cornflowerblue')\n",
    "# g1.set(ylabel=None)\n",
    "g1.set(title='$r$')\n",
    "g1.set(xlabel=None)\n",
    "g1.set(xlim=(0, 1))\n",
    "\n",
    "g1.tick_params(left=False, bottom=False)\n",
    "\n",
    "plt.subplot(142)\n",
    "g2 = sn.pointplot(data=df[df['Parameter'] == 'Fraction'], x = 'median KS', y = 'Metric', alpha = 1, dodge=True, join=False, cl ='99', color = 'cornflowerblue')\n",
    "g2.set(ylabel=None)\n",
    "g2.set(title='$k_f$')\n",
    "g2.set(yticks=[])\n",
    "g2.set(xlim=(0, 1))\n",
    "\n",
    "\n",
    "plt.subplot(143)\n",
    "g3 = sn.pointplot(data=df[df['Parameter'] == 'Transitivity'], x = 'median KS', y = 'Metric', alpha = 1, dodge=True, join=False, color = 'cornflowerblue')\n",
    "g3.set(ylabel=None)\n",
    "g3.set(xlabel=None)\n",
    "g3.set(yticks=[])\n",
    "g3.set(xlim=(0, 1))\n",
    "g3.set(title='$t$')\n",
    "# plt.tight_layout()\n",
    "\n",
    "\n",
    "plt.subplot(144)\n",
    "g3 = sn.pointplot(data=df[df['Parameter'] == 'Specification'], x = 'median KS', y = 'Metric', alpha = 1, dodge=True, join=False, color = 'cornflowerblue')\n",
    "g3.set(ylabel=None)\n",
    "g3.set(xlabel=None)\n",
    "g3.set(yticks=[])\n",
    "g3.set(xlim=(0, 1))\n",
    "g3.set(title='$Specification$')\n",
    "\n",
    "# plt.savefig('../Figures/SA/')\n",
    "# plt.show()"
   ]
  },
  {
   "cell_type": "code",
   "execution_count": 153,
   "metadata": {},
   "outputs": [
    {
     "data": {
      "text/plain": [
       "<matplotlib.collections.PathCollection at 0x2488c9b61c0>"
      ]
     },
     "execution_count": 153,
     "metadata": {},
     "output_type": "execute_result"
    },
    {
     "data": {
      "image/png": "[encoded data removed]",
      "text/plain": [
       "<Figure size 432x288 with 1 Axes>"
      ]
     },
     "metadata": {
      "needs_background": "light"
     },
     "output_type": "display_data"
    }
   ],
   "source": [
    "\n",
    "Y = np.array(df_output['skew_a'])[40:]\n",
    "\n",
    "X = df_input.to_numpy()[40:]\n",
    "\n",
    "plt.scatter(X[:,0], Y)"
   ]
  },
  {
   "cell_type": "code",
   "execution_count": 104,
   "metadata": {},
   "outputs": [
    {
     "name": "stdout",
     "output_type": "stream",
     "text": [
      "(40, 4) (40,)\n"
     ]
    },
    {
     "name": "stderr",
     "output_type": "stream",
     "text": [
      "C:\\Users\\KGulp\\Documents\\Computational Science\\CLS_thesis\\Notebooks\\SAFEpython\\PAWN.py:206: UserWarning: For X1, 9 groups were used instead of 10 so that values that are repeated several time belong to the same group\n",
      "  warn(\"For X%d, %d groups were used instead of \" % (i+1, n_eff[i]) +\n",
      "C:\\Users\\KGulp\\Documents\\Computational Science\\CLS_thesis\\Notebooks\\SAFEpython\\PAWN.py:206: UserWarning: For X4, 4 groups were used instead of 10 so that values that are repeated several time belong to the same group\n",
      "  warn(\"For X%d, %d groups were used instead of \" % (i+1, n_eff[i]) +\n"
     ]
    },
    {
     "ename": "IndexError",
     "evalue": "index 0 is out of bounds for axis 0 with size 0",
     "output_type": "error",
     "traceback": [
      "\u001b[1;31m---------------------------------------------------------------------------\u001b[0m",
      "\u001b[1;31mIndexError\u001b[0m                                Traceback (most recent call last)",
      "\u001b[1;32m<ipython-input-104-9ca91c14a8f3>\u001b[0m in \u001b[0;36m<module>\u001b[1;34m\u001b[0m\n\u001b[0;32m      1\u001b[0m \u001b[0mprint\u001b[0m\u001b[1;33m(\u001b[0m\u001b[0mX\u001b[0m\u001b[1;33m.\u001b[0m\u001b[0mshape\u001b[0m\u001b[1;33m,\u001b[0m\u001b[0mY\u001b[0m\u001b[1;33m.\u001b[0m\u001b[0mshape\u001b[0m\u001b[1;33m)\u001b[0m\u001b[1;33m\u001b[0m\u001b[1;33m\u001b[0m\u001b[0m\n\u001b[0;32m      2\u001b[0m \u001b[1;33m\u001b[0m\u001b[0m\n\u001b[1;32m----> 3\u001b[1;33m \u001b[0mYF\u001b[0m\u001b[1;33m,\u001b[0m \u001b[0mFU\u001b[0m\u001b[1;33m,\u001b[0m \u001b[0mFC\u001b[0m\u001b[1;33m,\u001b[0m \u001b[0mxc\u001b[0m \u001b[1;33m=\u001b[0m \u001b[0mpawn_plot_cdf\u001b[0m\u001b[1;33m(\u001b[0m\u001b[0mX\u001b[0m\u001b[1;33m,\u001b[0m \u001b[0mY\u001b[0m\u001b[1;33m,\u001b[0m \u001b[1;36m10\u001b[0m\u001b[1;33m,\u001b[0m \u001b[0mcbar\u001b[0m\u001b[1;33m=\u001b[0m\u001b[1;32mFalse\u001b[0m\u001b[1;33m)\u001b[0m\u001b[1;33m\u001b[0m\u001b[1;33m\u001b[0m\u001b[0m\n\u001b[0m\u001b[0;32m      4\u001b[0m \u001b[1;33m\u001b[0m\u001b[0m\n\u001b[0;32m      5\u001b[0m \u001b[0mplt\u001b[0m\u001b[1;33m.\u001b[0m\u001b[0mxticks\u001b[0m\u001b[1;33m(\u001b[0m\u001b[0mrotation\u001b[0m\u001b[1;33m=\u001b[0m\u001b[1;36m70\u001b[0m\u001b[1;33m)\u001b[0m\u001b[1;33m\u001b[0m\u001b[1;33m\u001b[0m\u001b[0m\n",
      "\u001b[1;32m<ipython-input-88-27342456b0c7>\u001b[0m in \u001b[0;36mpawn_plot_cdf\u001b[1;34m(X, Y, n, n_col, Y_Label, cbar, labelinput)\u001b[0m\n\u001b[0;32m    177\u001b[0m \u001b[1;33m\u001b[0m\u001b[0m\n\u001b[0;32m    178\u001b[0m         \u001b[1;32mfor\u001b[0m \u001b[0mk\u001b[0m \u001b[1;32min\u001b[0m \u001b[0mrange\u001b[0m\u001b[1;33m(\u001b[0m\u001b[0mn_eff\u001b[0m\u001b[1;33m[\u001b[0m\u001b[0mi\u001b[0m\u001b[1;33m]\u001b[0m\u001b[1;33m)\u001b[0m\u001b[1;33m:\u001b[0m \u001b[1;31m# loop over conditioning intervals\u001b[0m\u001b[1;33m\u001b[0m\u001b[1;33m\u001b[0m\u001b[0m\n\u001b[1;32m--> 179\u001b[1;33m             \u001b[0mFC\u001b[0m\u001b[1;33m[\u001b[0m\u001b[0mi\u001b[0m\u001b[1;33m]\u001b[0m\u001b[1;33m[\u001b[0m\u001b[0mk\u001b[0m\u001b[1;33m]\u001b[0m \u001b[1;33m=\u001b[0m \u001b[0mempiricalcdf\u001b[0m\u001b[1;33m(\u001b[0m\u001b[0mYY\u001b[0m\u001b[1;33m[\u001b[0m\u001b[0mi\u001b[0m\u001b[1;33m]\u001b[0m\u001b[1;33m[\u001b[0m\u001b[0mk\u001b[0m\u001b[1;33m]\u001b[0m\u001b[1;33m,\u001b[0m \u001b[0mYF\u001b[0m\u001b[1;33m)\u001b[0m\u001b[1;33m\u001b[0m\u001b[1;33m\u001b[0m\u001b[0m\n\u001b[0m\u001b[0;32m    180\u001b[0m \u001b[1;33m\u001b[0m\u001b[0m\n\u001b[0;32m    181\u001b[0m \u001b[1;33m\u001b[0m\u001b[0m\n",
      "\u001b[1;31mIndexError\u001b[0m: index 0 is out of bounds for axis 0 with size 0"
     ]
    }
   ],
   "source": [
    "print(X.shape,Y.shape)\n",
    "\n",
    "YF, FU, FC, xc = pawn_plot_cdf(X, Y, 10, cbar=False)\n",
    "\n",
    "plt.xticks(rotation=70)\n",
    "plt.tight_layout()\n"
   ]
  },
  {
   "cell_type": "code",
   "execution_count": 74,
   "metadata": {},
   "outputs": [
    {
     "name": "stdout",
     "output_type": "stream",
     "text": [
      "(852, 4) (852,)\n",
      "4\n",
      "haha\n"
     ]
    },
    {
     "name": "stderr",
     "output_type": "stream",
     "text": [
      "C:\\Users\\KGulp\\Documents\\Computational Science\\CLS_thesis\\Notebooks\\SAFEpython\\PAWN.py:206: UserWarning: For X4, 3 groups were used instead of 10 so that values that are repeated several time belong to the same group\n",
      "  warn(\"For X%d, %d groups were used instead of \" % (i+1, n_eff[i]) +\n"
     ]
    },
    {
     "data": {
      "image/png": "[encoded data removed]",
      "text/plain": [
       "<Figure size 432x288 with 4 Axes>"
      ]
     },
     "metadata": {
      "needs_background": "light"
     },
     "output_type": "display_data"
    }
   ],
   "source": []
  },
  {
   "cell_type": "code",
   "execution_count": 276,
   "metadata": {},
   "outputs": [],
   "source": [
    "import numpy as np\n",
    "import scipy.stats\n",
    "\n",
    "\n",
    "def mean_confidence_interval(data, confidence=0.95):\n",
    "    a = 1.0 * np.array(data)\n",
    "    n = len(a)\n",
    "    m, se = np.mean(a), scipy.stats.sem(a)\n",
    "    h = se * scipy.stats.t.ppf((1 + confidence) / 2., n-1)\n",
    "    return m, m-h, m+h"
   ]
  },
  {
   "cell_type": "code",
   "execution_count": 449,
   "metadata": {},
   "outputs": [
    {
     "name": "stdout",
     "output_type": "stream",
     "text": [
      "0.29132193920640387 0.20905706500470445 0.4275444675444676\n",
      "0.31139370393720545 0.21718822617174166 0.4275444675444676\n",
      "0.44279941976790715 0.32855544675642606 0.47144606144606144\n"
     ]
    },
    {
     "name": "stderr",
     "output_type": "stream",
     "text": [
      "C:\\Users\\KGulp\\Documents\\Computational Science\\CLS_thesis\\Notebooks\\SAFEpython\\PAWN.py:206: UserWarning: For X3, 2 groups were used instead of 5 so that values that are repeated several time belong to the same group\n",
      "  warn(\"For X%d, %d groups were used instead of \" % (i+1, n_eff[i]) +\n"
     ]
    }
   ],
   "source": [
    "# Output is vertical so mean median max for x1 is [0,0], [1,0], [2,0]\n",
    "# Vertical 1 = fraction\n",
    "# Vertical 2 = reciprocity\n",
    "# Vertical 3 = Specify\n",
    "\n",
    "mean = []\n",
    "minn = []\n",
    "maxx = []\n",
    "c = 0\n",
    "\n",
    "reciprocity = []\n",
    "fraction = []\n",
    "specify = []\n",
    "for i in PAWN.pawn_indices(X, Y, 5, 100):\n",
    "    \n",
    "    \n",
    "    print(np.mean(i[:,0]), np.mean(i[:,1]), np.mean(i[:,2]))\n",
    "    if c == 1:\n",
    "        \n",
    "        fraction.extend(i[:,0])\n",
    "        reciprocity.extend(i[:,1])\n",
    "        specify.extend(i[:,2])\n",
    "        \n",
    "        mean.extend([mean_confidence_interval(i[:,0])[0], mean_confidence_interval(i[:,1])[0], mean_confidence_interval(i[:,2])[0]])\n",
    "        minn.extend([mean_confidence_interval(i[:,0])[1], mean_confidence_interval(i[:,1])[1], mean_confidence_interval(i[:,2])[1]])\n",
    "        maxx.extend([mean_confidence_interval(i[:,0])[2], mean_confidence_interval(i[:,1])[2], mean_confidence_interval(i[:,2])[2]])\n",
    "\n",
    "        \n",
    "        \n",
    "    c+=1\n",
    "    \n",
    "# PAWN.pawn_indices(X, Y, 5)"
   ]
  },
  {
   "cell_type": "code",
   "execution_count": 450,
   "metadata": {},
   "outputs": [],
   "source": [
    "df = pd.DataFrame()\n",
    "\n",
    "df['reciprocity'] = reciprocity\n",
    "df['fraction'] = fraction\n",
    "df['specify'] = specify\n",
    "\n",
    "\n",
    "# import seaborn as sn\n",
    "\n",
    "# # sn.pointplot(\n",
    "#     data=df, hue='type', dodge=True, join=False)\n",
    "\n",
    "# df"
   ]
  },
  {
   "cell_type": "code",
   "execution_count": 333,
   "metadata": {},
   "outputs": [
    {
     "data": {
      "text/plain": [
       "(0.22820488903758224, 0.2244213067733236, 0.2319884713018409)"
      ]
     },
     "execution_count": 333,
     "metadata": {},
     "output_type": "execute_result"
    }
   ],
   "source": [
    "mean_confidence_interval(PAWN.pawn_indices(X, Y, 5, 1000)[0][:,0])"
   ]
  },
  {
   "cell_type": "code",
   "execution_count": 77,
   "metadata": {},
   "outputs": [
    {
     "name": "stderr",
     "output_type": "stream",
     "text": [
      "C:\\Users\\KGulp\\anaconda3\\lib\\site-packages\\SALib\\sample\\saltelli.py:94: UserWarning: \n",
      "        Convergence properties of the Sobol' sequence is only valid if\n",
      "        `N` (100) is equal to `2^n`.\n",
      "        \n",
      "  warnings.warn(msg)\n"
     ]
    },
    {
     "data": {
      "text/plain": [
       "1000"
      ]
     },
     "execution_count": 77,
     "metadata": {},
     "output_type": "execute_result"
    }
   ],
   "source": [
    "from SALib.sample import saltelli\n",
    "from SALib.test_functions import Ishigami\n",
    "problem = {\n",
    "  'num_vars': 4,\n",
    "  'names': ['x1', 'x2', 'x3', 'x4'],\n",
    "  'bounds': [[0,1], [0,1],[0,1], [0,1]]\n",
    "}\n",
    "\n",
    "# Generate samples\n",
    "param_values = saltelli.sample(problem, 100)\n",
    "\n",
    "len(param_values)"
   ]
  },
  {
   "cell_type": "code",
   "execution_count": 321,
   "metadata": {},
   "outputs": [],
   "source": [
    "\n",
    "# plt.tight_layout()\n",
    "\n",
    "plt.show()"
   ]
  },
  {
   "cell_type": "code",
   "execution_count": 125,
   "metadata": {},
   "outputs": [
    {
     "data": {
      "text/plain": [
       "(array([0.27586207, 0.30967742, 0.51609907]),\n",
       " array([0.27172753, 0.41750444, 0.51609907]),\n",
       " array([0.37744641, 0.84375   , 0.6       ]))"
      ]
     },
     "execution_count": 125,
     "metadata": {},
     "output_type": "execute_result"
    }
   ],
   "source": []
  },
  {
   "cell_type": "code",
   "execution_count": 126,
   "metadata": {},
   "outputs": [
    {
     "name": "stdout",
     "output_type": "stream",
     "text": [
      "0.2646803444510341 0.37577663481467594 0.5031498452012384\n",
      "0.2803133966882243 0.422082336091328 0.5031498452012384\n",
      "0.4176356166511339 0.7102518569609507 0.5495417956656347\n"
     ]
    }
   ],
   "source": []
  },
  {
   "cell_type": "code",
   "execution_count": 186,
   "metadata": {},
   "outputs": [
    {
     "data": {
      "text/plain": [
       "(array([0.375, 0.5  , 0.5  ]),\n",
       " array([0.43071895, 0.45962733, 0.5       ]),\n",
       " array([0.63888889, 0.5       , 0.54285714]))"
      ]
     },
     "execution_count": 186,
     "metadata": {},
     "output_type": "execute_result"
    }
   ],
   "source": [
    " PAWN.pawn_indices(X, Y, 5, 1)"
   ]
  },
  {
   "cell_type": "code",
   "execution_count": 21,
   "metadata": {},
   "outputs": [
    {
     "ename": "AttributeError",
     "evalue": "'numpy.ndarray' object has no attribute 'get'",
     "output_type": "error",
     "traceback": [
      "\u001b[1;31m---------------------------------------------------------------------------\u001b[0m",
      "\u001b[1;31mAttributeError\u001b[0m                            Traceback (most recent call last)",
      "\u001b[1;32m<ipython-input-21-c8352ea59a74>\u001b[0m in \u001b[0;36m<module>\u001b[1;34m\u001b[0m\n\u001b[1;32m----> 1\u001b[1;33m \u001b[0mSi\u001b[0m \u001b[1;33m=\u001b[0m \u001b[0msobol\u001b[0m\u001b[1;33m.\u001b[0m\u001b[0manalyze\u001b[0m\u001b[1;33m(\u001b[0m\u001b[0mY\u001b[0m\u001b[1;33m,\u001b[0m \u001b[0mY\u001b[0m\u001b[1;33m,\u001b[0m \u001b[0mprint_to_console\u001b[0m\u001b[1;33m=\u001b[0m\u001b[1;32mTrue\u001b[0m\u001b[1;33m)\u001b[0m\u001b[1;33m\u001b[0m\u001b[1;33m\u001b[0m\u001b[0m\n\u001b[0m",
      "\u001b[1;32m~\\anaconda3\\lib\\site-packages\\SALib\\analyze\\sobol.py\u001b[0m in \u001b[0;36manalyze\u001b[1;34m(problem, Y, calc_second_order, num_resamples, conf_level, print_to_console, parallel, n_processors, keep_resamples, seed)\u001b[0m\n\u001b[0;32m     75\u001b[0m     \u001b[1;31m# determining if groups are defined and adjusting the number\u001b[0m\u001b[1;33m\u001b[0m\u001b[1;33m\u001b[0m\u001b[1;33m\u001b[0m\u001b[0m\n\u001b[0;32m     76\u001b[0m     \u001b[1;31m# of rows in the cross-sampled matrix accordingly\u001b[0m\u001b[1;33m\u001b[0m\u001b[1;33m\u001b[0m\u001b[1;33m\u001b[0m\u001b[0m\n\u001b[1;32m---> 77\u001b[1;33m     \u001b[0mgroups\u001b[0m \u001b[1;33m=\u001b[0m \u001b[0m_check_groups\u001b[0m\u001b[1;33m(\u001b[0m\u001b[0mproblem\u001b[0m\u001b[1;33m)\u001b[0m\u001b[1;33m\u001b[0m\u001b[1;33m\u001b[0m\u001b[0m\n\u001b[0m\u001b[0;32m     78\u001b[0m     \u001b[1;32mif\u001b[0m \u001b[1;32mnot\u001b[0m \u001b[0mgroups\u001b[0m\u001b[1;33m:\u001b[0m\u001b[1;33m\u001b[0m\u001b[1;33m\u001b[0m\u001b[0m\n\u001b[0;32m     79\u001b[0m         \u001b[0mD\u001b[0m \u001b[1;33m=\u001b[0m \u001b[0mproblem\u001b[0m\u001b[1;33m[\u001b[0m\u001b[1;34m'num_vars'\u001b[0m\u001b[1;33m]\u001b[0m\u001b[1;33m\u001b[0m\u001b[1;33m\u001b[0m\u001b[0m\n",
      "\u001b[1;32m~\\anaconda3\\lib\\site-packages\\SALib\\util\\util_funcs.py\u001b[0m in \u001b[0;36m_check_groups\u001b[1;34m(problem)\u001b[0m\n\u001b[0;32m    110\u001b[0m \u001b[1;32mdef\u001b[0m \u001b[0m_check_groups\u001b[0m\u001b[1;33m(\u001b[0m\u001b[0mproblem\u001b[0m\u001b[1;33m)\u001b[0m\u001b[1;33m:\u001b[0m\u001b[1;33m\u001b[0m\u001b[1;33m\u001b[0m\u001b[0m\n\u001b[0;32m    111\u001b[0m     \u001b[1;34m\"\"\"Check if there is more than 1 group.\"\"\"\u001b[0m\u001b[1;33m\u001b[0m\u001b[1;33m\u001b[0m\u001b[0m\n\u001b[1;32m--> 112\u001b[1;33m     \u001b[0mgroups\u001b[0m \u001b[1;33m=\u001b[0m \u001b[0mproblem\u001b[0m\u001b[1;33m.\u001b[0m\u001b[0mget\u001b[0m\u001b[1;33m(\u001b[0m\u001b[1;34m'groups'\u001b[0m\u001b[1;33m)\u001b[0m\u001b[1;33m\u001b[0m\u001b[1;33m\u001b[0m\u001b[0m\n\u001b[0m\u001b[0;32m    113\u001b[0m     \u001b[1;32mif\u001b[0m \u001b[1;32mnot\u001b[0m \u001b[0mgroups\u001b[0m\u001b[1;33m:\u001b[0m\u001b[1;33m\u001b[0m\u001b[1;33m\u001b[0m\u001b[0m\n\u001b[0;32m    114\u001b[0m         \u001b[1;32mreturn\u001b[0m \u001b[1;32mFalse\u001b[0m\u001b[1;33m\u001b[0m\u001b[1;33m\u001b[0m\u001b[0m\n",
      "\u001b[1;31mAttributeError\u001b[0m: 'numpy.ndarray' object has no attribute 'get'"
     ]
    }
   ],
   "source": [
    "Si = sobol.analyze(Y, Y, print_to_console=True)"
   ]
  },
  {
   "cell_type": "code",
   "execution_count": 334,
   "metadata": {},
   "outputs": [
    {
     "name": "stdout",
     "output_type": "stream",
     "text": [
      "[0.2483797991465784, 0.40221813416816876, 0.4969812925170068] [0, 1, 2]\n"
     ]
    },
    {
     "data": {
      "image/png": "[encoded data removed]",
      "text/plain": [
       "<Figure size 432x288 with 1 Axes>"
      ]
     },
     "metadata": {
      "needs_background": "light"
     },
     "output_type": "display_data"
    }
   ],
   "source": [
    "import matplotlib.pyplot as plt\n",
    "  \n",
    "a = mean\n",
    "b = [i for i in range(len(Si['CV']))]\n",
    "\n",
    "print(a, b)\n",
    "# plt.scatter(a, b)\n",
    "  \n",
    "c = [np.array(mean) - np.array(minn),  np.array(maxx) - np.array(mean)] \n",
    "  \n",
    "\n",
    "plt.errorbar(a, b, xerr=c, color='red', fmt='.', markersize='10', ecolor='red',capsize=4, elinewidth=2)\n",
    "import seaborn as snplt.show()"
   ]
  },
  {
   "cell_type": "code",
   "execution_count": 355,
   "metadata": {
    "code_folding": []
   },
   "outputs": [
    {
     "data": {
      "text/html": [
       "<div>\n",
       "<style scoped>\n",
       "    .dataframe tbody tr th:only-of-type {\n",
       "        vertical-align: middle;\n",
       "    }\n",
       "\n",
       "    .dataframe tbody tr th {\n",
       "        vertical-align: top;\n",
       "    }\n",
       "\n",
       "    .dataframe thead th {\n",
       "        text-align: right;\n",
       "    }\n",
       "</style>\n",
       "<table border=\"1\" class=\"dataframe\">\n",
       "  <thead>\n",
       "    <tr style=\"text-align: right;\">\n",
       "      <th></th>\n",
       "      <th>reciprocity</th>\n",
       "      <th>fraction</th>\n",
       "      <th>specify</th>\n",
       "    </tr>\n",
       "  </thead>\n",
       "  <tbody>\n",
       "    <tr>\n",
       "      <th>0</th>\n",
       "      <td>0.658503</td>\n",
       "      <td>0.302231</td>\n",
       "      <td>0.173469</td>\n",
       "    </tr>\n",
       "    <tr>\n",
       "      <th>1</th>\n",
       "      <td>0.652722</td>\n",
       "      <td>0.333536</td>\n",
       "      <td>0.182627</td>\n",
       "    </tr>\n",
       "    <tr>\n",
       "      <th>2</th>\n",
       "      <td>0.626427</td>\n",
       "      <td>0.280763</td>\n",
       "      <td>0.171245</td>\n",
       "    </tr>\n",
       "    <tr>\n",
       "      <th>3</th>\n",
       "      <td>0.621003</td>\n",
       "      <td>0.285932</td>\n",
       "      <td>0.177721</td>\n",
       "    </tr>\n",
       "    <tr>\n",
       "      <th>4</th>\n",
       "      <td>0.625170</td>\n",
       "      <td>0.316979</td>\n",
       "      <td>0.176675</td>\n",
       "    </tr>\n",
       "    <tr>\n",
       "      <th>...</th>\n",
       "      <td>...</td>\n",
       "      <td>...</td>\n",
       "      <td>...</td>\n",
       "    </tr>\n",
       "    <tr>\n",
       "      <th>95</th>\n",
       "      <td>0.641837</td>\n",
       "      <td>0.285526</td>\n",
       "      <td>0.195840</td>\n",
       "    </tr>\n",
       "    <tr>\n",
       "      <th>96</th>\n",
       "      <td>0.643264</td>\n",
       "      <td>0.282911</td>\n",
       "      <td>0.176282</td>\n",
       "    </tr>\n",
       "    <tr>\n",
       "      <th>97</th>\n",
       "      <td>0.650170</td>\n",
       "      <td>0.336040</td>\n",
       "      <td>0.179683</td>\n",
       "    </tr>\n",
       "    <tr>\n",
       "      <th>98</th>\n",
       "      <td>0.646003</td>\n",
       "      <td>0.271920</td>\n",
       "      <td>0.174843</td>\n",
       "    </tr>\n",
       "    <tr>\n",
       "      <th>99</th>\n",
       "      <td>0.646088</td>\n",
       "      <td>0.280752</td>\n",
       "      <td>0.168629</td>\n",
       "    </tr>\n",
       "  </tbody>\n",
       "</table>\n",
       "<p>100 rows × 3 columns</p>\n",
       "</div>"
      ],
      "text/plain": [
       "    reciprocity  fraction   specify\n",
       "0      0.658503  0.302231  0.173469\n",
       "1      0.652722  0.333536  0.182627\n",
       "2      0.626427  0.280763  0.171245\n",
       "3      0.621003  0.285932  0.177721\n",
       "4      0.625170  0.316979  0.176675\n",
       "..          ...       ...       ...\n",
       "95     0.641837  0.285526  0.195840\n",
       "96     0.643264  0.282911  0.176282\n",
       "97     0.650170  0.336040  0.179683\n",
       "98     0.646003  0.271920  0.174843\n",
       "99     0.646088  0.280752  0.168629\n",
       "\n",
       "[100 rows x 3 columns]"
      ]
     },
     "execution_count": 355,
     "metadata": {},
     "output_type": "execute_result"
    },
    {
     "data": {
      "image/png": "[encoded data removed]",
      "text/plain": [
       "<Figure size 432x288 with 1 Axes>"
      ]
     },
     "metadata": {
      "needs_background": "light"
     },
     "output_type": "display_data"
    }
   ],
   "source": []
  },
  {
   "cell_type": "code",
   "execution_count": 488,
   "metadata": {},
   "outputs": [
    {
     "data": {
      "text/plain": [
       "(504, 3)"
      ]
     },
     "execution_count": 488,
     "metadata": {},
     "output_type": "execute_result"
    }
   ],
   "source": [
    "problem = {\n",
    "  'num_vars': 3,\n",
    "  'names': ['x1', 'x2', 'x3'],\n",
    "  'bounds': [[0,1], [0,1], [0,1]]\n",
    "}\n",
    "\n",
    "# Generate samples\n",
    "param_values = saltelli.sample(problem, 63)\n",
    "\n",
    "param_values.shape"
   ]
  }
 ],
 "metadata": {
  "kernelspec": {
   "display_name": "Python 3",
   "language": "python",
   "name": "python3"
  },
  "language_info": {
   "codemirror_mode": {
    "name": "ipython",
    "version": 3
   },
   "file_extension": ".py",
   "mimetype": "text/x-python",
   "name": "python",
   "nbconvert_exporter": "python",
   "pygments_lexer": "ipython3",
   "version": "3.8.5"
  }
 },
 "nbformat": 4,
 "nbformat_minor": 4
}
