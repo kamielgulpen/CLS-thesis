{
 "cells": [
  {
   "cell_type": "code",
   "execution_count": 4,
   "metadata": {},
   "outputs": [
    {
     "name": "stdout",
     "output_type": "stream",
     "text": [
      "Processing c:\\users\\kgulp\\appdata\\local\\pip\\cache\\wheels\\89\\4e\\40\\e748d70e2848531acfe0a23071ae48cff4ee69bb3522ee0fe2\\py3plex-0.94-py3-none-any.whl\n",
      "Requirement already satisfied: cython>=0.20 in c:\\users\\kgulp\\anaconda3\\lib\\site-packages (from py3plex) (0.29.23)\n",
      "Requirement already satisfied: plotnine in c:\\users\\kgulp\\anaconda3\\lib\\site-packages (from py3plex) (0.8.0)\n",
      "Requirement already satisfied: seaborn in c:\\users\\kgulp\\anaconda3\\lib\\site-packages (from py3plex) (0.11.0)\n",
      "Requirement already satisfied: tqdm>0.0 in c:\\users\\kgulp\\anaconda3\\lib\\site-packages (from py3plex) (4.50.2)\n",
      "Collecting bitarray==1.2.1\n",
      "  Using cached bitarray-1.2.1.tar.gz (48 kB)\n",
      "Requirement already satisfied: rdflib>=0.1 in c:\\users\\kgulp\\anaconda3\\lib\\site-packages (from py3plex) (6.1.1)\n",
      "Requirement already satisfied: numpy>=0.8 in c:\\users\\kgulp\\anaconda3\\lib\\site-packages (from py3plex) (1.19.2)\n",
      "Requirement already satisfied: scipy>=1.1.0 in c:\\users\\kgulp\\anaconda3\\lib\\site-packages (from py3plex) (1.5.2)\n",
      "Requirement already satisfied: gensim in c:\\users\\kgulp\\anaconda3\\lib\\site-packages (from py3plex) (4.1.1)\n",
      "Requirement already satisfied: matplotlib in c:\\users\\kgulp\\anaconda3\\lib\\site-packages (from py3plex) (3.3.2)\n",
      "Requirement already satisfied: networkx>=2.1 in c:\\users\\kgulp\\anaconda3\\lib\\site-packages (from py3plex) (2.5)\n",
      "Requirement already satisfied: scikit-learn in c:\\users\\kgulp\\anaconda3\\lib\\site-packages (from py3plex) (0.23.2)\n",
      "Requirement already satisfied: pandas>=1.1.0 in c:\\users\\kgulp\\anaconda3\\lib\\site-packages (from plotnine->py3plex) (1.1.3)\n",
      "Requirement already satisfied: patsy>=0.5.1 in c:\\users\\kgulp\\anaconda3\\lib\\site-packages (from plotnine->py3plex) (0.5.1)\n",
      "Requirement already satisfied: statsmodels>=0.12.1 in c:\\users\\kgulp\\anaconda3\\lib\\site-packages (from plotnine->py3plex) (0.13.1)\n",
      "Requirement already satisfied: descartes>=1.1.0 in c:\\users\\kgulp\\anaconda3\\lib\\site-packages (from plotnine->py3plex) (1.1.0)\n",
      "Requirement already satisfied: mizani>=0.7.3 in c:\\users\\kgulp\\anaconda3\\lib\\site-packages (from plotnine->py3plex) (0.7.3)\n",
      "Requirement already satisfied: isodate in c:\\users\\kgulp\\anaconda3\\lib\\site-packages (from rdflib>=0.1->py3plex) (0.6.1)\n",
      "Requirement already satisfied: pyparsing in c:\\users\\kgulp\\anaconda3\\lib\\site-packages (from rdflib>=0.1->py3plex) (2.4.7)\n",
      "Requirement already satisfied: setuptools in c:\\users\\kgulp\\anaconda3\\lib\\site-packages (from rdflib>=0.1->py3plex) (50.3.1.post20201107)\n",
      "Requirement already satisfied: smart-open>=1.8.1 in c:\\users\\kgulp\\anaconda3\\lib\\site-packages (from gensim->py3plex) (5.2.1)\n",
      "Requirement already satisfied: pillow>=6.2.0 in c:\\users\\kgulp\\anaconda3\\lib\\site-packages (from matplotlib->py3plex) (8.0.1)\n",
      "Requirement already satisfied: cycler>=0.10 in c:\\users\\kgulp\\anaconda3\\lib\\site-packages (from matplotlib->py3plex) (0.10.0)\n",
      "Requirement already satisfied: python-dateutil>=2.1 in c:\\users\\kgulp\\anaconda3\\lib\\site-packages (from matplotlib->py3plex) (2.8.1)\n",
      "Requirement already satisfied: certifi>=2020.06.20 in c:\\users\\kgulp\\anaconda3\\lib\\site-packages (from matplotlib->py3plex) (2020.6.20)\n",
      "Requirement already satisfied: kiwisolver>=1.0.1 in c:\\users\\kgulp\\anaconda3\\lib\\site-packages (from matplotlib->py3plex) (1.3.0)\n",
      "Requirement already satisfied: decorator>=4.3.0 in c:\\users\\kgulp\\anaconda3\\lib\\site-packages (from networkx>=2.1->py3plex) (4.4.2)\n",
      "Requirement already satisfied: threadpoolctl>=2.0.0 in c:\\users\\kgulp\\anaconda3\\lib\\site-packages (from scikit-learn->py3plex) (2.1.0)\n",
      "Requirement already satisfied: joblib>=0.11 in c:\\users\\kgulp\\anaconda3\\lib\\site-packages (from scikit-learn->py3plex) (0.17.0)\n",
      "Requirement already satisfied: pytz>=2017.2 in c:\\users\\kgulp\\anaconda3\\lib\\site-packages (from pandas>=1.1.0->plotnine->py3plex) (2020.1)\n",
      "Requirement already satisfied: six in c:\\users\\kgulp\\anaconda3\\lib\\site-packages (from patsy>=0.5.1->plotnine->py3plex) (1.15.0)\n",
      "Requirement already satisfied: palettable in c:\\users\\kgulp\\anaconda3\\lib\\site-packages (from mizani>=0.7.3->plotnine->py3plex) (3.3.0)\n",
      "Building wheels for collected packages: bitarray\n",
      "  Building wheel for bitarray (setup.py): started\n",
      "  Building wheel for bitarray (setup.py): finished with status 'error'\n",
      "  Running setup.py clean for bitarray\n",
      "Failed to build bitarray\n",
      "Installing collected packages: bitarray, py3plex\n",
      "  Attempting uninstall: bitarray\n",
      "    Found existing installation: bitarray 1.6.1\n",
      "    Uninstalling bitarray-1.6.1:\n",
      "      Successfully uninstalled bitarray-1.6.1\n",
      "    Running setup.py install for bitarray: started\n",
      "    Running setup.py install for bitarray: finished with status 'error'\n",
      "  Rolling back uninstall of bitarray\n",
      "  Moving to c:\\users\\kgulp\\anaconda3\\lib\\site-packages\\bitarray-1.6.1.dist-info\\\n",
      "   from C:\\Users\\KGulp\\anaconda3\\Lib\\site-packages\\~itarray-1.6.1.dist-info\n",
      "  Moving to c:\\users\\kgulp\\anaconda3\\lib\\site-packages\\bitarray\\\n",
      "   from C:\\Users\\KGulp\\anaconda3\\Lib\\site-packages\\~itarray\n"
     ]
    },
    {
     "name": "stderr",
     "output_type": "stream",
     "text": [
      "  ERROR: Command errored out with exit status 1:\n",
      "   command: 'C:\\Users\\KGulp\\anaconda3\\python.exe' -u -c 'import sys, setuptools, tokenize; sys.argv[0] = '\"'\"'C:\\\\Users\\\\KGulp\\\\AppData\\\\Local\\\\Temp\\\\pip-install-clvp8hro\\\\bitarray\\\\setup.py'\"'\"'; __file__='\"'\"'C:\\\\Users\\\\KGulp\\\\AppData\\\\Local\\\\Temp\\\\pip-install-clvp8hro\\\\bitarray\\\\setup.py'\"'\"';f=getattr(tokenize, '\"'\"'open'\"'\"', open)(__file__);code=f.read().replace('\"'\"'\\r\\n'\"'\"', '\"'\"'\\n'\"'\"');f.close();exec(compile(code, __file__, '\"'\"'exec'\"'\"'))' bdist_wheel -d 'C:\\Users\\KGulp\\AppData\\Local\\Temp\\pip-wheel-8qiwuvwf'\n",
      "       cwd: C:\\Users\\KGulp\\AppData\\Local\\Temp\\pip-install-clvp8hro\\bitarray\\\n",
      "  Complete output (13 lines):\n",
      "  running bdist_wheel\n",
      "  running build\n",
      "  running build_py\n",
      "  creating build\n",
      "  creating build\\lib.win-amd64-3.8\n",
      "  creating build\\lib.win-amd64-3.8\\bitarray\n",
      "  copying bitarray\\test_bitarray.py -> build\\lib.win-amd64-3.8\\bitarray\n",
      "  copying bitarray\\test_util.py -> build\\lib.win-amd64-3.8\\bitarray\n",
      "  copying bitarray\\util.py -> build\\lib.win-amd64-3.8\\bitarray\n",
      "  copying bitarray\\__init__.py -> build\\lib.win-amd64-3.8\\bitarray\n",
      "  running build_ext\n",
      "  building 'bitarray._bitarray' extension\n",
      "  error: Microsoft Visual C++ 14.0 or greater is required. Get it with \"Microsoft C++ Build Tools\": https://visualstudio.microsoft.com/visual-cpp-build-tools/\n",
      "  ----------------------------------------\n",
      "  ERROR: Failed building wheel for bitarray\n",
      "    ERROR: Command errored out with exit status 1:\n",
      "     command: 'C:\\Users\\KGulp\\anaconda3\\python.exe' -u -c 'import sys, setuptools, tokenize; sys.argv[0] = '\"'\"'C:\\\\Users\\\\KGulp\\\\AppData\\\\Local\\\\Temp\\\\pip-install-clvp8hro\\\\bitarray\\\\setup.py'\"'\"'; __file__='\"'\"'C:\\\\Users\\\\KGulp\\\\AppData\\\\Local\\\\Temp\\\\pip-install-clvp8hro\\\\bitarray\\\\setup.py'\"'\"';f=getattr(tokenize, '\"'\"'open'\"'\"', open)(__file__);code=f.read().replace('\"'\"'\\r\\n'\"'\"', '\"'\"'\\n'\"'\"');f.close();exec(compile(code, __file__, '\"'\"'exec'\"'\"'))' install --record 'C:\\Users\\KGulp\\AppData\\Local\\Temp\\pip-record-1951jvvb\\install-record.txt' --single-version-externally-managed --compile --install-headers 'C:\\Users\\KGulp\\anaconda3\\Include\\bitarray'\n",
      "         cwd: C:\\Users\\KGulp\\AppData\\Local\\Temp\\pip-install-clvp8hro\\bitarray\\\n",
      "    Complete output (13 lines):\n",
      "    running install\n",
      "    running build\n",
      "    running build_py\n",
      "    creating build\n",
      "    creating build\\lib.win-amd64-3.8\n",
      "    creating build\\lib.win-amd64-3.8\\bitarray\n",
      "    copying bitarray\\test_bitarray.py -> build\\lib.win-amd64-3.8\\bitarray\n",
      "    copying bitarray\\test_util.py -> build\\lib.win-amd64-3.8\\bitarray\n",
      "    copying bitarray\\util.py -> build\\lib.win-amd64-3.8\\bitarray\n",
      "    copying bitarray\\__init__.py -> build\\lib.win-amd64-3.8\\bitarray\n",
      "    running build_ext\n",
      "    building 'bitarray._bitarray' extension\n",
      "    error: Microsoft Visual C++ 14.0 or greater is required. Get it with \"Microsoft C++ Build Tools\": https://visualstudio.microsoft.com/visual-cpp-build-tools/\n",
      "    ----------------------------------------\n",
      "ERROR: Command errored out with exit status 1: 'C:\\Users\\KGulp\\anaconda3\\python.exe' -u -c 'import sys, setuptools, tokenize; sys.argv[0] = '\"'\"'C:\\\\Users\\\\KGulp\\\\AppData\\\\Local\\\\Temp\\\\pip-install-clvp8hro\\\\bitarray\\\\setup.py'\"'\"'; __file__='\"'\"'C:\\\\Users\\\\KGulp\\\\AppData\\\\Local\\\\Temp\\\\pip-install-clvp8hro\\\\bitarray\\\\setup.py'\"'\"';f=getattr(tokenize, '\"'\"'open'\"'\"', open)(__file__);code=f.read().replace('\"'\"'\\r\\n'\"'\"', '\"'\"'\\n'\"'\"');f.close();exec(compile(code, __file__, '\"'\"'exec'\"'\"'))' install --record 'C:\\Users\\KGulp\\AppData\\Local\\Temp\\pip-record-1951jvvb\\install-record.txt' --single-version-externally-managed --compile --install-headers 'C:\\Users\\KGulp\\anaconda3\\Include\\bitarray' Check the logs for full command output.\n"
     ]
    }
   ],
   "source": [
    "import sys\n",
    "# !{sys.executable} -m pip install pyvis\n",
    "# !{sys.executable} -m pip install datashader\n",
    "!{sys.executable} -m pip install py3plex\n"
   ]
  },
  {
   "cell_type": "code",
   "execution_count": 3,
   "metadata": {},
   "outputs": [],
   "source": [
    "from pyvis.network import Network\n",
    "import networkx as nx\n",
    "import pandas as pd\n",
    "import math\n",
    "import numpy as np\n",
    "\n",
    "\n",
    "import datashader as ds\n",
    "import datashader.transfer_functions as tf\n",
    "from datashader.layout import random_layout, circular_layout, forceatlas2_layout\n",
    "from datashader.bundling import connect_edges, hammer_bundle\n",
    "# from py3plex.core import multinet\n",
    "\n",
    "from itertools import chain"
   ]
  },
  {
   "cell_type": "code",
   "execution_count": 47,
   "metadata": {},
   "outputs": [],
   "source": [
    "net = Network(notebook=True)\n",
    "df = pd.read_csv('Data/tab_n.csv')\n"
   ]
  },
  {
   "cell_type": "code",
   "execution_count": 48,
   "metadata": {},
   "outputs": [],
   "source": [
    "x = sum(df['n'])"
   ]
  },
  {
   "cell_type": "code",
   "execution_count": 49,
   "metadata": {},
   "outputs": [
    {
     "data": {
      "text/plain": [
       "86100"
      ]
     },
     "execution_count": 49,
     "metadata": {},
     "output_type": "execute_result"
    }
   ],
   "source": [
    "round(x / 10)"
   ]
  },
  {
   "cell_type": "code",
   "execution_count": 43,
   "metadata": {},
   "outputs": [
    {
     "name": "stdout",
     "output_type": "stream",
     "text": [
      "79422\n"
     ]
    }
   ],
   "source": [
    "nodes = pd.concat([df['source'],df['destination']]).unique()\n",
    "\n",
    "print(len(nodes))\n",
    "\n",
    "pd.DataFrame({'Nodes': nodes}).to_csv('gephi_nodes.csv')\n",
    "\n",
    "edges = df[['source', 'destination']]\n",
    "\n",
    "edges.to_csv('gephi_edges.csv')"
   ]
  },
  {
   "cell_type": "code",
   "execution_count": 68,
   "metadata": {},
   "outputs": [],
   "source": [
    "G = nx.from_pandas_edgelist(df, 'source', 'destination', create_using=nx.DiGraph())"
   ]
  },
  {
   "cell_type": "code",
   "execution_count": 69,
   "metadata": {},
   "outputs": [],
   "source": [
    "nodes = pd.DataFrame()\n",
    "temp_df = pd.concat([df['source'],df['destination']])\n",
    "\n",
    "temp_df = pd.factorize(df.source)[0] + 1\n",
    "\n",
    "length = np.array_split(temp_df, 2)\n",
    "\n",
    "df_ = pd.DataFrame()\n",
    "df_['source'] = length[0]\n",
    "df_['destination'] = length[1]\n",
    "\n",
    "\n",
    "nodes['name'] = pd.unique(df_[['source', 'destination']].values.ravel('K'))"
   ]
  },
  {
   "cell_type": "code",
   "execution_count": 70,
   "metadata": {},
   "outputs": [
    {
     "data": {
      "text/html": [
       "<div>\n",
       "<style scoped>\n",
       "    .dataframe tbody tr th:only-of-type {\n",
       "        vertical-align: middle;\n",
       "    }\n",
       "\n",
       "    .dataframe tbody tr th {\n",
       "        vertical-align: top;\n",
       "    }\n",
       "\n",
       "    .dataframe thead th {\n",
       "        text-align: right;\n",
       "    }\n",
       "</style>\n",
       "<table border=\"1\" class=\"dataframe\">\n",
       "  <thead>\n",
       "    <tr style=\"text-align: right;\">\n",
       "      <th></th>\n",
       "      <th>name</th>\n",
       "      <th>x</th>\n",
       "      <th>y</th>\n",
       "    </tr>\n",
       "  </thead>\n",
       "  <tbody>\n",
       "    <tr>\n",
       "      <th>76863</th>\n",
       "      <td>76864</td>\n",
       "      <td>0.043105</td>\n",
       "      <td>0.091400</td>\n",
       "    </tr>\n",
       "    <tr>\n",
       "      <th>76864</th>\n",
       "      <td>76865</td>\n",
       "      <td>0.745748</td>\n",
       "      <td>0.422766</td>\n",
       "    </tr>\n",
       "    <tr>\n",
       "      <th>76865</th>\n",
       "      <td>76866</td>\n",
       "      <td>0.104676</td>\n",
       "      <td>0.288981</td>\n",
       "    </tr>\n",
       "    <tr>\n",
       "      <th>76866</th>\n",
       "      <td>76867</td>\n",
       "      <td>0.166508</td>\n",
       "      <td>0.523104</td>\n",
       "    </tr>\n",
       "    <tr>\n",
       "      <th>76867</th>\n",
       "      <td>76868</td>\n",
       "      <td>0.677717</td>\n",
       "      <td>0.935504</td>\n",
       "    </tr>\n",
       "  </tbody>\n",
       "</table>\n",
       "</div>"
      ],
      "text/plain": [
       "        name         x         y\n",
       "76863  76864  0.043105  0.091400\n",
       "76864  76865  0.745748  0.422766\n",
       "76865  76866  0.104676  0.288981\n",
       "76866  76867  0.166508  0.523104\n",
       "76867  76868  0.677717  0.935504"
      ]
     },
     "execution_count": 70,
     "metadata": {},
     "output_type": "execute_result"
    }
   ],
   "source": [
    "circular  = circular_layout(nodes, uniform=False)\n",
    "randomloc = random_layout(nodes)\n",
    "randomloc.tail()\n"
   ]
  },
  {
   "cell_type": "code",
   "execution_count": 71,
   "metadata": {},
   "outputs": [
    {
     "data": {
      "text/html": [
       "<table style=\"width:100%; text-align: center\"><tbody><tr style=\"background-color:white\"><td style=\"text-align: center\"><b>Random layout</b><br><br><img style=\"margin: auto; border:1px solid\" src='data:image/png;base64,iVBORw0KGgoAAAANSUhEUgAAAZAAAAGQCAYAAACAvzbMAAAFm0lEQVR4nO3VQQ3AMBDAsK6Ujj+2DsPyqSbZCPLLc2bOAoCP9u0AAP7JQABIDASAxEAASAwEgMRAAEgMBIDEQABIDASAxEAASAwEgMRAAEgMBIDEQABIDASAxEAASAwEgMRAAEgMBIDEQABIDASAxEAASAwEgMRAAEgMBIDEQABIDASAxEAASAwEgMRAAEgMBIDEQABIDASAxEAASAwEgMRAAEgMBIDEQABIDASAxEAASAwEgMRAAEgMBIDEQABIDASAxEAASAwEgMRAAEgMBIDEQABIDASAxEAASAwEgMRAAEgMBIDEQABIDASAxEAASAwEgMRAAEgMBIDEQABIDASAxEAASAwEgMRAAEgMBIDEQABIDASAxEAASAwEgMRAAEgMBIDEQABIDASAxEAASAwEgMRAAEgMBIDEQABIDASAxEAASAwEgMRAAEgMBIDEQABIDASAxEAASAwEgMRAAEgMBIDEQABIDASAxEAASAwEgMRAAEgMBIDEQABIDASAxEAASAwEgMRAAEgMBIDEQABIDASAxEAASAwEgMRAAEgMBIDEQABIDASAxEAASAwEgMRAAEgMBIDEQABIDASAxEAASAwEgMRAAEgMBIDEQABIDASAxEAASAwEgMRAAEgMBIDEQABIDASAxEAASAwEgMRAAEgMBIDEQABIDASAxEAASAwEgMRAAEgMBIDEQABIDASAxEAASAwEgMRAAEgMBIDEQABIDASAxEAASAwEgMRAAEgMBIDEQABIDASAxEAASAwEgMRAAEgMBIDEQABIDASAxEAASAwEgMRAAEgMBIDEQABIDASAxEAASAwEgMRAAEgMBIDEQABIDASAxEAASAwEgMRAAEgMBIDEQABIDASAxEAASAwEgMRAAEgMBIDEQABIDASAxEAASAwEgMRAAEgMBIDEQABIDASAxEAASAwEgMRAAEgMBIDEQABIDASAxEAASAwEgMRAAEgMBIDEQABIDASAxEAASAwEgMRAAEgMBIDEQABIDASAxEAASAwEgMRAAEgMBIDEQABIDASAxEAASAwEgMRAAEgMBIDEQABIDASAxEAASAwEgMRAAEgMBIDEQABIDASAxEAASAwEgMRAAEgMBIDEQABIDASAxEAASAwEgMRAAEgMBIDEQABIDASAxEAASAwEgMRAAEgMBIDEQABIDASAxEAASAwEgMRAAEgMBIDEQABIDASAxEAASAwEgMRAAEgMBIDEQABIDASAxEAASAwEgMRAAEgMBIDEQABIDASAxEAASAwEgMRAAEgMBIDEQABIDASAxEAASAwEgMRAAEgMBIDEQABIDASAxEAASAwEgMRAAEgMBIDEQABIDASAxEAASAwEgMRAAEgMBIDEQABIDASAxEAASAwEgMRAAEgMBIDEQABIDASAxEAASAwEgMRAAEgMBIDEQABIDASAxEAASAwEgMRAAEgMBIDEQABIDASAxEAASAwEgMRAAEgMBIDEQABIDASAxEAASAwEgMRAAEgMBIDEQABIDASAxEAASAwEgMRAAEgMBIDEQABIDASAxEAASAwEgMRAAEgMBIDEQABIDASAxEAASAwEgMRAAEgMBIDEQABIDASAxEAASAwEgMRAAEgMBIDEQABIDASAxEAASAwEgMRAAEgMBIDEQABIDASAxEAASAwEgMRAAEgMBIDEQABIDASAxEAASAwEgMRAAEgMBIDEQABIDASAxEAASAwEgMRAAEgMBIDEQABIDASAxEAASAwEgMRAAEgMBIDEQABIDASAxEAASAwEgMRAAEgMBIDEQABIDASAxEAASAwEgMRAAEgMBIDEQABIDASAxEAASAwEgMRAAEgMBIDEQABIDASAxEAASAwEgMRAAEgMBIDEQABIDASAxEAASAwEgMRAAEgMBIDEQABIDASA5AUA+QWEsL9GYQAAAABJRU5ErkJggg=='/></td><td style=\"text-align: center\"><b>Circular layout</b><br><br><img style=\"margin: auto; border:1px solid\" src='data:image/png;base64,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'/></td></tr></tbody></table>"
      ],
      "text/plain": [
       "<datashader.transfer_functions.Images at 0x1f380294250>"
      ]
     },
     "execution_count": 71,
     "metadata": {},
     "output_type": "execute_result"
    }
   ],
   "source": [
    "cvsopts = dict(plot_height=400, plot_width=400)\n",
    "\n",
    "def nodesplot(nodes, name=None, canvas=None, cat=None):\n",
    "    canvas = ds.Canvas(**cvsopts) if canvas is None else canvas\n",
    "    aggregator=None if cat is None else ds.count_cat(cat)\n",
    "    agg=canvas.points(nodes,'x','y',aggregator)\n",
    "    return tf.spread(tf.shade(agg, cmap=[\"#FF3333\"]), px=3, name=name)\n",
    "\n",
    "tf.Images(nodesplot(randomloc,\"Random layout\"),\n",
    "          nodesplot(circular, \"Circular layout\"))"
   ]
  },
  {
   "cell_type": "code",
   "execution_count": 73,
   "metadata": {},
   "outputs": [],
   "source": [
    "df_ = df_.rename(columns={\"destination\": \"target\"})"
   ]
  },
  {
   "cell_type": "code",
   "execution_count": 75,
   "metadata": {},
   "outputs": [
    {
     "name": "stdout",
     "output_type": "stream",
     "text": [
      "        source  target\n",
      "0            1   36643\n",
      "1            2   36688\n",
      "2            3   35201\n",
      "3            4   37778\n",
      "4            5   37603\n",
      "...        ...     ...\n",
      "245037   36826   76770\n",
      "245038   34668   76802\n",
      "245039   36776   76645\n",
      "245040   34834   76697\n",
      "245041   37620   76862\n",
      "\n",
      "[245042 rows x 2 columns]\n",
      "Wall time: 0 ns\n"
     ]
    },
    {
     "ename": "KeyboardInterrupt",
     "evalue": "",
     "output_type": "error",
     "traceback": [
      "\u001b[1;31m---------------------------------------------------------------------------\u001b[0m",
      "\u001b[1;31mKeyboardInterrupt\u001b[0m                         Traceback (most recent call last)",
      "\u001b[1;32m<ipython-input-75-63d1375f17a9>\u001b[0m in \u001b[0;36m<module>\u001b[1;34m\u001b[0m\n\u001b[0;32m      5\u001b[0m \u001b[0mdf_\u001b[0m \u001b[1;33m=\u001b[0m \u001b[0mdf_\u001b[0m\u001b[1;33m[\u001b[0m\u001b[1;33m[\u001b[0m\u001b[1;34m'source'\u001b[0m\u001b[1;33m,\u001b[0m \u001b[1;34m'target'\u001b[0m\u001b[1;33m]\u001b[0m\u001b[1;33m]\u001b[0m\u001b[1;33m\u001b[0m\u001b[1;33m\u001b[0m\u001b[0m\n\u001b[0;32m      6\u001b[0m \u001b[1;33m\u001b[0m\u001b[0m\n\u001b[1;32m----> 7\u001b[1;33m \u001b[0mforcedirected\u001b[0m \u001b[1;33m=\u001b[0m \u001b[0mforceatlas2_layout\u001b[0m\u001b[1;33m(\u001b[0m\u001b[0mnodes\u001b[0m\u001b[1;33m,\u001b[0m \u001b[0mdf_\u001b[0m\u001b[1;33m)\u001b[0m\u001b[1;33m\u001b[0m\u001b[1;33m\u001b[0m\u001b[0m\n\u001b[0m\u001b[0;32m      8\u001b[0m \u001b[0mtf\u001b[0m\u001b[1;33m.\u001b[0m\u001b[0mImages\u001b[0m\u001b[1;33m(\u001b[0m\u001b[0mnodesplot\u001b[0m\u001b[1;33m(\u001b[0m\u001b[0mforcedirected\u001b[0m\u001b[1;33m,\u001b[0m \u001b[1;34m\"ForceAtlas2 layout\"\u001b[0m\u001b[1;33m)\u001b[0m\u001b[1;33m)\u001b[0m\u001b[1;33m\u001b[0m\u001b[1;33m\u001b[0m\u001b[0m\n",
      "\u001b[1;32m~\\anaconda3\\lib\\site-packages\\param\\parameterized.py\u001b[0m in \u001b[0;36m__new__\u001b[1;34m(class_, *args, **params)\u001b[0m\n\u001b[0;32m   3629\u001b[0m         \u001b[0minst\u001b[0m \u001b[1;33m=\u001b[0m \u001b[0mclass_\u001b[0m\u001b[1;33m.\u001b[0m\u001b[0minstance\u001b[0m\u001b[1;33m(\u001b[0m\u001b[1;33m)\u001b[0m\u001b[1;33m\u001b[0m\u001b[1;33m\u001b[0m\u001b[0m\n\u001b[0;32m   3630\u001b[0m         \u001b[0minst\u001b[0m\u001b[1;33m.\u001b[0m\u001b[0mparam\u001b[0m\u001b[1;33m.\u001b[0m\u001b[0m_set_name\u001b[0m\u001b[1;33m(\u001b[0m\u001b[0mclass_\u001b[0m\u001b[1;33m.\u001b[0m\u001b[0m__name__\u001b[0m\u001b[1;33m)\u001b[0m\u001b[1;33m\u001b[0m\u001b[1;33m\u001b[0m\u001b[0m\n\u001b[1;32m-> 3631\u001b[1;33m         \u001b[1;32mreturn\u001b[0m \u001b[0minst\u001b[0m\u001b[1;33m.\u001b[0m\u001b[0m__call__\u001b[0m\u001b[1;33m(\u001b[0m\u001b[1;33m*\u001b[0m\u001b[0margs\u001b[0m\u001b[1;33m,\u001b[0m\u001b[1;33m**\u001b[0m\u001b[0mparams\u001b[0m\u001b[1;33m)\u001b[0m\u001b[1;33m\u001b[0m\u001b[1;33m\u001b[0m\u001b[0m\n\u001b[0m\u001b[0;32m   3632\u001b[0m \u001b[1;33m\u001b[0m\u001b[0m\n\u001b[0;32m   3633\u001b[0m     \u001b[1;32mdef\u001b[0m \u001b[0m__call__\u001b[0m\u001b[1;33m(\u001b[0m\u001b[0mself\u001b[0m\u001b[1;33m,\u001b[0m\u001b[1;33m*\u001b[0m\u001b[0margs\u001b[0m\u001b[1;33m,\u001b[0m\u001b[1;33m**\u001b[0m\u001b[0mkw\u001b[0m\u001b[1;33m)\u001b[0m\u001b[1;33m:\u001b[0m\u001b[1;33m\u001b[0m\u001b[1;33m\u001b[0m\u001b[0m\n",
      "\u001b[1;32m~\\anaconda3\\lib\\site-packages\\datashader\\layout.py\u001b[0m in \u001b[0;36m__call__\u001b[1;34m(self, nodes, edges, **params)\u001b[0m\n\u001b[0;32m    259\u001b[0m         \u001b[1;31m# simple cooling scheme.\u001b[0m\u001b[1;33m\u001b[0m\u001b[1;33m\u001b[0m\u001b[1;33m\u001b[0m\u001b[0m\n\u001b[0;32m    260\u001b[0m         \u001b[1;31m# linearly step down by dt on each iteration so last iteration is size dt.\u001b[0m\u001b[1;33m\u001b[0m\u001b[1;33m\u001b[0m\u001b[1;33m\u001b[0m\u001b[0m\n\u001b[1;32m--> 261\u001b[1;33m         \u001b[0mcooling\u001b[0m\u001b[1;33m(\u001b[0m\u001b[0mmatrix\u001b[0m\u001b[1;33m,\u001b[0m \u001b[0mpoints\u001b[0m\u001b[1;33m,\u001b[0m \u001b[0mtemperature\u001b[0m\u001b[1;33m,\u001b[0m \u001b[0mp\u001b[0m\u001b[1;33m)\u001b[0m\u001b[1;33m\u001b[0m\u001b[1;33m\u001b[0m\u001b[0m\n\u001b[0m\u001b[0;32m    262\u001b[0m \u001b[1;33m\u001b[0m\u001b[0m\n\u001b[0;32m    263\u001b[0m         \u001b[1;31m# Return the nodes with updated positions\u001b[0m\u001b[1;33m\u001b[0m\u001b[1;33m\u001b[0m\u001b[1;33m\u001b[0m\u001b[0m\n",
      "\u001b[1;32m~\\anaconda3\\lib\\site-packages\\datashader\\layout.py\u001b[0m in \u001b[0;36mcooling\u001b[1;34m(matrix, points, temperature, params)\u001b[0m\n\u001b[0;32m    184\u001b[0m \u001b[1;33m\u001b[0m\u001b[0m\n\u001b[0;32m    185\u001b[0m             \u001b[1;31m# enforce minimum distance of 0.01\u001b[0m\u001b[1;33m\u001b[0m\u001b[1;33m\u001b[0m\u001b[1;33m\u001b[0m\u001b[0m\n\u001b[1;32m--> 186\u001b[1;33m             \u001b[0mdistance\u001b[0m \u001b[1;33m=\u001b[0m \u001b[0mnp\u001b[0m\u001b[1;33m.\u001b[0m\u001b[0mwhere\u001b[0m\u001b[1;33m(\u001b[0m\u001b[0mdistance\u001b[0m \u001b[1;33m<\u001b[0m \u001b[1;36m0.01\u001b[0m\u001b[1;33m,\u001b[0m \u001b[1;36m0.01\u001b[0m\u001b[1;33m,\u001b[0m \u001b[0mdistance\u001b[0m\u001b[1;33m)\u001b[0m\u001b[1;33m\u001b[0m\u001b[1;33m\u001b[0m\u001b[0m\n\u001b[0m\u001b[0;32m    187\u001b[0m \u001b[1;33m\u001b[0m\u001b[0m\n\u001b[0;32m    188\u001b[0m             \u001b[1;31m# the adjacency matrix row\u001b[0m\u001b[1;33m\u001b[0m\u001b[1;33m\u001b[0m\u001b[1;33m\u001b[0m\u001b[0m\n",
      "\u001b[1;32m<__array_function__ internals>\u001b[0m in \u001b[0;36mwhere\u001b[1;34m(*args, **kwargs)\u001b[0m\n",
      "\u001b[1;31mKeyboardInterrupt\u001b[0m: "
     ]
    }
   ],
   "source": [
    "print(df_)\n",
    "\n",
    "%time \n",
    "\n",
    "df_ = df_[['source', 'target']]\n",
    "\n",
    "forcedirected = forceatlas2_layout(nodes, df_)\n",
    "tf.Images(nodesplot(forcedirected, \"ForceAtlas2 layout\"))"
   ]
  },
  {
   "cell_type": "code",
   "execution_count": null,
   "metadata": {},
   "outputs": [],
   "source": [
    "def edgesplot(edges, name=None, canvas=None):\n",
    "    canvas = ds.Canvas(**cvsopts) if canvas is None else canvas\n",
    "    return tf.shade(canvas.line(edges, 'x','y', agg=ds.count()), name=name)\n",
    "    \n",
    "def graphplot(nodes, edges, name=\"\", canvas=None, cat=None):\n",
    "    if canvas is None:\n",
    "        xr = nodes.x.min(), nodes.x.max()\n",
    "        yr = nodes.y.min(), nodes.y.max()\n",
    "        canvas = ds.Canvas(x_range=xr, y_range=yr, **cvsopts)\n",
    "        \n",
    "    np = nodesplot(nodes, name + \" nodes\", canvas, cat)\n",
    "    ep = edgesplot(edges, name + \" edges\", canvas)\n",
    "    return tf.stack(ep, np, how=\"over\", name=name)"
   ]
  },
  {
   "cell_type": "code",
   "execution_count": null,
   "metadata": {},
   "outputs": [],
   "source": [
    "cd = circular\n",
    "fd = forcedirected\n",
    "\n",
    "# cd_d = graphplot(cd, connect_edges(cd,df), \"Circular layout\")\n",
    "# fd_d = graphplot(fd, connect_edges(fd,df), \"Force-directed\") \n",
    "# cd_b = graphplot(randomloc, hammer_bundle(randomloc,df), \"Circular layout, bundled\")\n",
    "fd_b = graphplot(fd, hammer_bundle(fd,df), \"Force-directed, bundled\") \n",
    "\n",
    "tf.Images(fd_d).cols(2)"
   ]
  },
  {
   "cell_type": "code",
   "execution_count": 38,
   "metadata": {},
   "outputs": [],
   "source": [
    "graphs = []\n",
    "types = ['huishouden', 'familie', 'buren', 'werkschool']\n",
    "for type in types:\n",
    "    df = pd.read_csv(f'Data/NW_data/{type}_nw.csv')\n",
    "    G = nx.from_pandas_edgelist(df, 'source_id', 'destination_id',['source', 'destination'] ,create_using=nx.DiGraph())\n",
    "    \n",
    "    graphs.append(G)"
   ]
  },
  {
   "cell_type": "code",
   "execution_count": 25,
   "metadata": {},
   "outputs": [],
   "source": [
    "def get_type_node(G, id):\n",
    "    return list(G[id].values())[0]['source']\n"
   ]
  },
  {
   "cell_type": "code",
   "execution_count": 52,
   "metadata": {},
   "outputs": [],
   "source": [
    "l_n_edges = []\n",
    "l_n_nodes = []\n",
    "l_average_in_degees = []\n",
    "l_type_max_in_degree = []\n",
    "l_average_out_degrees = []\n",
    "l_type_max_out_degree = []\n",
    "l_average_cluster_coefficient = []\n",
    "l_type_highest_cluster_coefficient = []\n",
    "l_reciprocity = []\n",
    "\n",
    "for G in graphs:\n",
    "    \n",
    "    \n",
    "    # Number of edges\n",
    "    n_edges = G.number_of_edges()\n",
    "    l_n_edges.append(n_edges)\n",
    "    \n",
    "    # Number of nodes\n",
    "    n_nodes = G.number_of_nodes() \n",
    "    l_n_nodes.append(n_nodes)\n",
    "    \n",
    "    # Calculate degree\n",
    "    G.degree()\n",
    "    degrees = {i[1]:i[0] for i in G.degree()}\n",
    "    l_degrees = [ i[1] for i in G.degree()]\n",
    "\n",
    "    average_degree = np.mean(l_degrees)\n",
    "\n",
    "    # Calculate indegree\n",
    "    G.in_degree()\n",
    "    in_degrees = {i[1]:i[0] for i in G.in_degree()}\n",
    "    l_in_degrees = [ i[1] for i in G.in_degree()]\n",
    "\n",
    "\n",
    "    max_in_degree = max(in_degrees.keys())\n",
    "    id_max_in_degree = in_degrees[max(in_degrees.keys())]\n",
    "    type_max_in_degree = get_type_node(G,id_max_in_degree)\n",
    "    l_type_max_in_degree.append(type_max_in_degree)\n",
    "    \n",
    "    average_in_degree = np.mean(l_in_degrees)\n",
    "    l_average_in_degees.append(average_in_degree)\n",
    "\n",
    "    # Calculate outdegree\n",
    "    G.out_degree()\n",
    "    out_degrees = {i[1]:i[0] for i in G.out_degree()}\n",
    "    l_out_degrees = [ i[1] for i in G.out_degree()]\n",
    "\n",
    "    max_out_degree = max(out_degrees.keys())\n",
    "    id_max_out_degree = out_degrees[max(out_degrees.keys())]\n",
    "    type_max_out_degree = list(G[id_max_out_degree].values())[0]['source']\n",
    "    l_type_max_out_degree.append(type_max_out_degree)\n",
    "    \n",
    "    average_out_degree = np.mean(l_out_degrees)\n",
    "    l_average_out_degrees.append(average_out_degree)\n",
    "\n",
    "    # Density\n",
    "    density = nx.classes.function.density(G)\n",
    "    \n",
    "    # Cluster coefficient\n",
    "    cluster_coefficient = nx.clustering(G)\n",
    "    \n",
    "    highest_cluster_coefficient = max(cluster_coefficient.values())\n",
    "\n",
    "    id_highest_cluster_coefficient = (list(cluster_coefficient.keys())\n",
    "                                   [list(cluster_coefficient.values()).index(highest_cluster_coefficient)])  # Prints george\n",
    "\n",
    "    type_highest_cluster_coefficient = get_type_node(G,id_highest_cluster_coefficient)\n",
    "    l_type_highest_cluster_coefficient.append(type_highest_cluster_coefficient)\n",
    "\n",
    "    average_cluster_coefficient = np.mean(list(cluster_coefficient.values()))\n",
    "    l_average_cluster_coefficient.append(average_cluster_coefficient)\n",
    "    \n",
    "    # In degree centrality\n",
    "    in_degree_centrality  = nx.in_degree_centrality(G)\n",
    "\n",
    "\n",
    "    # Out degree centrality\n",
    "    out_degree_centrality = nx.out_degree_centrality(G)\n",
    "    \n",
    "    # Reciprocity\n",
    "    overall_reciprocity = nx.overall_reciprocity(G)\n",
    "    l_reciprocity.append(overall_reciprocity)\n",
    "\n",
    "    # Transitivity\n",
    "    overall_transicity = nx.transitivity(G)\n",
    "    "
   ]
  },
  {
   "cell_type": "code",
   "execution_count": 53,
   "metadata": {},
   "outputs": [],
   "source": [
    "total_nodes = [86100] * 4\n",
    "\n",
    "df_stats = pd.DataFrame({'edges' : l_n_edges,'nodes' : total_nodes,'connected_nodes' : l_n_nodes, 'avg indegree':l_average_in_degees, 'max in degree': l_type_max_in_degree, 'avg out degree':l_average_out_degrees,'max out degree':l_type_max_out_degree,'avg clustercoefficient': l_average_cluster_coefficient, 'max cluster coefficient':l_type_highest_cluster_coefficient, 'reciprocity' : l_reciprocity}, index = types)"
   ]
  },
  {
   "cell_type": "code",
   "execution_count": 54,
   "metadata": {},
   "outputs": [
    {
     "data": {
      "text/html": [
       "<div>\n",
       "<style scoped>\n",
       "    .dataframe tbody tr th:only-of-type {\n",
       "        vertical-align: middle;\n",
       "    }\n",
       "\n",
       "    .dataframe tbody tr th {\n",
       "        vertical-align: top;\n",
       "    }\n",
       "\n",
       "    .dataframe thead th {\n",
       "        text-align: right;\n",
       "    }\n",
       "</style>\n",
       "<table border=\"1\" class=\"dataframe\">\n",
       "  <thead>\n",
       "    <tr style=\"text-align: right;\">\n",
       "      <th></th>\n",
       "      <th>edges</th>\n",
       "      <th>nodes</th>\n",
       "      <th>connected_nodes</th>\n",
       "      <th>avg indegree</th>\n",
       "      <th>max in degree</th>\n",
       "      <th>avg out degree</th>\n",
       "      <th>max out degree</th>\n",
       "      <th>avg clustercoefficient</th>\n",
       "      <th>max cluster coefficient</th>\n",
       "      <th>reciprocity</th>\n",
       "    </tr>\n",
       "  </thead>\n",
       "  <tbody>\n",
       "    <tr>\n",
       "      <th>huishouden</th>\n",
       "      <td>141572</td>\n",
       "      <td>86100</td>\n",
       "      <td>50459</td>\n",
       "      <td>2.805684</td>\n",
       "      <td>57_1534, [0,20), Overig, 1</td>\n",
       "      <td>2.805684</td>\n",
       "      <td>57_1534, [0,20), Overig, 1</td>\n",
       "      <td>0.000191</td>\n",
       "      <td>44_664, [50,60), Overig, 3</td>\n",
       "      <td>1.000000</td>\n",
       "    </tr>\n",
       "    <tr>\n",
       "      <th>familie</th>\n",
       "      <td>136988</td>\n",
       "      <td>86100</td>\n",
       "      <td>56482</td>\n",
       "      <td>2.425339</td>\n",
       "      <td>57_2460, [0,20), Overig, 1</td>\n",
       "      <td>2.425339</td>\n",
       "      <td>57_2460, [0,20), Overig, 1</td>\n",
       "      <td>0.000251</td>\n",
       "      <td>128_132, [50,60), Autochtoon, 3</td>\n",
       "      <td>0.999898</td>\n",
       "    </tr>\n",
       "    <tr>\n",
       "      <th>buren</th>\n",
       "      <td>437425</td>\n",
       "      <td>86100</td>\n",
       "      <td>85508</td>\n",
       "      <td>5.115603</td>\n",
       "      <td>68_614, [20,30), Overig, 3</td>\n",
       "      <td>5.115603</td>\n",
       "      <td>68_484, [20,30), Overig, 3</td>\n",
       "      <td>0.000736</td>\n",
       "      <td>127_207, [50,60), Autochtoon, 2</td>\n",
       "      <td>0.009099</td>\n",
       "    </tr>\n",
       "    <tr>\n",
       "      <th>werkschool</th>\n",
       "      <td>587055</td>\n",
       "      <td>86100</td>\n",
       "      <td>79422</td>\n",
       "      <td>7.391592</td>\n",
       "      <td>52_133, [0,20), Overig, 2</td>\n",
       "      <td>7.391592</td>\n",
       "      <td>58_99, [0,20), Overig, 2</td>\n",
       "      <td>0.000219</td>\n",
       "      <td>34_221, [60,70), Overig, 2</td>\n",
       "      <td>0.000371</td>\n",
       "    </tr>\n",
       "  </tbody>\n",
       "</table>\n",
       "</div>"
      ],
      "text/plain": [
       "             edges  nodes  connected_nodes  avg indegree  \\\n",
       "huishouden  141572  86100            50459      2.805684   \n",
       "familie     136988  86100            56482      2.425339   \n",
       "buren       437425  86100            85508      5.115603   \n",
       "werkschool  587055  86100            79422      7.391592   \n",
       "\n",
       "                         max in degree  avg out degree  \\\n",
       "huishouden  57_1534, [0,20), Overig, 1        2.805684   \n",
       "familie     57_2460, [0,20), Overig, 1        2.425339   \n",
       "buren       68_614, [20,30), Overig, 3        5.115603   \n",
       "werkschool   52_133, [0,20), Overig, 2        7.391592   \n",
       "\n",
       "                        max out degree  avg clustercoefficient  \\\n",
       "huishouden  57_1534, [0,20), Overig, 1                0.000191   \n",
       "familie     57_2460, [0,20), Overig, 1                0.000251   \n",
       "buren       68_484, [20,30), Overig, 3                0.000736   \n",
       "werkschool    58_99, [0,20), Overig, 2                0.000219   \n",
       "\n",
       "                    max cluster coefficient  reciprocity  \n",
       "huishouden       44_664, [50,60), Overig, 3     1.000000  \n",
       "familie     128_132, [50,60), Autochtoon, 3     0.999898  \n",
       "buren       127_207, [50,60), Autochtoon, 2     0.009099  \n",
       "werkschool       34_221, [60,70), Overig, 2     0.000371  "
      ]
     },
     "execution_count": 54,
     "metadata": {},
     "output_type": "execute_result"
    }
   ],
   "source": [
    "df_stats"
   ]
  },
  {
   "cell_type": "code",
   "execution_count": 15,
   "metadata": {},
   "outputs": [
    {
     "data": {
      "text/plain": [
       "0.0004558246462404376"
      ]
     },
     "execution_count": 15,
     "metadata": {},
     "output_type": "execute_result"
    }
   ],
   "source": []
  },
  {
   "cell_type": "code",
   "execution_count": 12,
   "metadata": {},
   "outputs": [],
   "source": [
    "G)"
   ]
  },
  {
   "cell_type": "code",
   "execution_count": 13,
   "metadata": {},
   "outputs": [
    {
     "data": {
      "text/plain": [
       "1.0"
      ]
     },
     "execution_count": 13,
     "metadata": {},
     "output_type": "execute_result"
    }
   ],
   "source": [
    "overall_reciprocity"
   ]
  },
  {
   "cell_type": "code",
   "execution_count": 363,
   "metadata": {},
   "outputs": [],
   "source": [
    "df = pd.read_csv('Data/NW_data/huishouden_nw_test.csv')\n",
    "G = nx.from_pandas_edgelist(df, 'source_id', 'destination_id',['source', 'destination'] ,create_using=nx.DiGraph())"
   ]
  },
  {
   "cell_type": "code",
   "execution_count": 364,
   "metadata": {},
   "outputs": [
    {
     "data": {
      "text/plain": [
       "1.0"
      ]
     },
     "execution_count": 364,
     "metadata": {},
     "output_type": "execute_result"
    }
   ],
   "source": [
    "nx.overall_reciprocity(G)"
   ]
  },
  {
   "cell_type": "code",
   "execution_count": 365,
   "metadata": {},
   "outputs": [
    {
     "data": {
      "text/html": [
       "<div>\n",
       "<style scoped>\n",
       "    .dataframe tbody tr th:only-of-type {\n",
       "        vertical-align: middle;\n",
       "    }\n",
       "\n",
       "    .dataframe tbody tr th {\n",
       "        vertical-align: top;\n",
       "    }\n",
       "\n",
       "    .dataframe thead th {\n",
       "        text-align: right;\n",
       "    }\n",
       "</style>\n",
       "<table border=\"1\" class=\"dataframe\">\n",
       "  <thead>\n",
       "    <tr style=\"text-align: right;\">\n",
       "      <th></th>\n",
       "      <th>Unnamed: 0</th>\n",
       "      <th>source_id</th>\n",
       "      <th>destination_id</th>\n",
       "      <th>source</th>\n",
       "      <th>destination</th>\n",
       "      <th>layer</th>\n",
       "    </tr>\n",
       "  </thead>\n",
       "  <tbody>\n",
       "    <tr>\n",
       "      <th>0</th>\n",
       "      <td>0</td>\n",
       "      <td>7_140</td>\n",
       "      <td>6_4590</td>\n",
       "      <td>7_140, [0,20), Autochtoon, 2</td>\n",
       "      <td>6_4590, [0,20), Autochtoon, 1</td>\n",
       "      <td>1</td>\n",
       "    </tr>\n",
       "    <tr>\n",
       "      <th>1</th>\n",
       "      <td>1</td>\n",
       "      <td>6_4590</td>\n",
       "      <td>7_140</td>\n",
       "      <td>6_4590, [0,20), Autochtoon, 1</td>\n",
       "      <td>7_140, [0,20), Autochtoon, 2</td>\n",
       "      <td>1</td>\n",
       "    </tr>\n",
       "    <tr>\n",
       "      <th>2</th>\n",
       "      <td>2</td>\n",
       "      <td>7_690</td>\n",
       "      <td>6_4985</td>\n",
       "      <td>7_690, [0,20), Autochtoon, 2</td>\n",
       "      <td>6_4985, [0,20), Autochtoon, 1</td>\n",
       "      <td>1</td>\n",
       "    </tr>\n",
       "    <tr>\n",
       "      <th>3</th>\n",
       "      <td>3</td>\n",
       "      <td>6_4985</td>\n",
       "      <td>7_690</td>\n",
       "      <td>6_4985, [0,20), Autochtoon, 1</td>\n",
       "      <td>7_690, [0,20), Autochtoon, 2</td>\n",
       "      <td>1</td>\n",
       "    </tr>\n",
       "    <tr>\n",
       "      <th>4</th>\n",
       "      <td>4</td>\n",
       "      <td>7_1319</td>\n",
       "      <td>6_11890</td>\n",
       "      <td>7_1319, [0,20), Autochtoon, 2</td>\n",
       "      <td>6_11890, [0,20), Autochtoon, 1</td>\n",
       "      <td>1</td>\n",
       "    </tr>\n",
       "    <tr>\n",
       "      <th>...</th>\n",
       "      <td>...</td>\n",
       "      <td>...</td>\n",
       "      <td>...</td>\n",
       "      <td>...</td>\n",
       "      <td>...</td>\n",
       "      <td>...</td>\n",
       "    </tr>\n",
       "    <tr>\n",
       "      <th>417</th>\n",
       "      <td>417</td>\n",
       "      <td>6_18550</td>\n",
       "      <td>7_1004</td>\n",
       "      <td>6_18550, [0,20), Autochtoon, 1</td>\n",
       "      <td>7_1004, [0,20), Autochtoon, 2</td>\n",
       "      <td>1</td>\n",
       "    </tr>\n",
       "    <tr>\n",
       "      <th>418</th>\n",
       "      <td>418</td>\n",
       "      <td>7_1632</td>\n",
       "      <td>6_17306</td>\n",
       "      <td>7_1632, [0,20), Autochtoon, 2</td>\n",
       "      <td>6_17306, [0,20), Autochtoon, 1</td>\n",
       "      <td>1</td>\n",
       "    </tr>\n",
       "    <tr>\n",
       "      <th>419</th>\n",
       "      <td>419</td>\n",
       "      <td>6_17306</td>\n",
       "      <td>7_1632</td>\n",
       "      <td>6_17306, [0,20), Autochtoon, 1</td>\n",
       "      <td>7_1632, [0,20), Autochtoon, 2</td>\n",
       "      <td>1</td>\n",
       "    </tr>\n",
       "    <tr>\n",
       "      <th>420</th>\n",
       "      <td>420</td>\n",
       "      <td>7_1491</td>\n",
       "      <td>6_12638</td>\n",
       "      <td>7_1491, [0,20), Autochtoon, 2</td>\n",
       "      <td>6_12638, [0,20), Autochtoon, 1</td>\n",
       "      <td>1</td>\n",
       "    </tr>\n",
       "    <tr>\n",
       "      <th>421</th>\n",
       "      <td>421</td>\n",
       "      <td>6_12638</td>\n",
       "      <td>7_1491</td>\n",
       "      <td>6_12638, [0,20), Autochtoon, 1</td>\n",
       "      <td>7_1491, [0,20), Autochtoon, 2</td>\n",
       "      <td>1</td>\n",
       "    </tr>\n",
       "  </tbody>\n",
       "</table>\n",
       "<p>422 rows × 6 columns</p>\n",
       "</div>"
      ],
      "text/plain": [
       "     Unnamed: 0 source_id destination_id                          source  \\\n",
       "0             0     7_140         6_4590    7_140, [0,20), Autochtoon, 2   \n",
       "1             1    6_4590          7_140   6_4590, [0,20), Autochtoon, 1   \n",
       "2             2     7_690         6_4985    7_690, [0,20), Autochtoon, 2   \n",
       "3             3    6_4985          7_690   6_4985, [0,20), Autochtoon, 1   \n",
       "4             4    7_1319        6_11890   7_1319, [0,20), Autochtoon, 2   \n",
       "..          ...       ...            ...                             ...   \n",
       "417         417   6_18550         7_1004  6_18550, [0,20), Autochtoon, 1   \n",
       "418         418    7_1632        6_17306   7_1632, [0,20), Autochtoon, 2   \n",
       "419         419   6_17306         7_1632  6_17306, [0,20), Autochtoon, 1   \n",
       "420         420    7_1491        6_12638   7_1491, [0,20), Autochtoon, 2   \n",
       "421         421   6_12638         7_1491  6_12638, [0,20), Autochtoon, 1   \n",
       "\n",
       "                        destination  layer  \n",
       "0     6_4590, [0,20), Autochtoon, 1      1  \n",
       "1      7_140, [0,20), Autochtoon, 2      1  \n",
       "2     6_4985, [0,20), Autochtoon, 1      1  \n",
       "3      7_690, [0,20), Autochtoon, 2      1  \n",
       "4    6_11890, [0,20), Autochtoon, 1      1  \n",
       "..                              ...    ...  \n",
       "417   7_1004, [0,20), Autochtoon, 2      1  \n",
       "418  6_17306, [0,20), Autochtoon, 1      1  \n",
       "419   7_1632, [0,20), Autochtoon, 2      1  \n",
       "420  6_12638, [0,20), Autochtoon, 1      1  \n",
       "421   7_1491, [0,20), Autochtoon, 2      1  \n",
       "\n",
       "[422 rows x 6 columns]"
      ]
     },
     "execution_count": 365,
     "metadata": {},
     "output_type": "execute_result"
    }
   ],
   "source": [
    "df"
   ]
  },
  {
   "cell_type": "code",
   "execution_count": 367,
   "metadata": {},
   "outputs": [
    {
     "data": {
      "text/html": [
       "<div>\n",
       "<style scoped>\n",
       "    .dataframe tbody tr th:only-of-type {\n",
       "        vertical-align: middle;\n",
       "    }\n",
       "\n",
       "    .dataframe tbody tr th {\n",
       "        vertical-align: top;\n",
       "    }\n",
       "\n",
       "    .dataframe thead th {\n",
       "        text-align: right;\n",
       "    }\n",
       "</style>\n",
       "<table border=\"1\" class=\"dataframe\">\n",
       "  <thead>\n",
       "    <tr style=\"text-align: right;\">\n",
       "      <th></th>\n",
       "      <th>Unnamed: 0</th>\n",
       "      <th>source_id</th>\n",
       "      <th>destination_id</th>\n",
       "      <th>source</th>\n",
       "      <th>destination</th>\n",
       "      <th>layer</th>\n",
       "    </tr>\n",
       "  </thead>\n",
       "  <tbody>\n",
       "  </tbody>\n",
       "</table>\n",
       "</div>"
      ],
      "text/plain": [
       "Empty DataFrame\n",
       "Columns: [Unnamed: 0, source_id, destination_id, source, destination, layer]\n",
       "Index: []"
      ]
     },
     "execution_count": 367,
     "metadata": {},
     "output_type": "execute_result"
    }
   ],
   "source": [
    "df = df[df.duplicated(subset=['source_id','destination_id'], keep=False)]\n",
    "\n",
    "df"
   ]
  },
  {
   "cell_type": "code",
   "execution_count": 344,
   "metadata": {},
   "outputs": [
    {
     "data": {
      "text/html": [
       "<div>\n",
       "<style scoped>\n",
       "    .dataframe tbody tr th:only-of-type {\n",
       "        vertical-align: middle;\n",
       "    }\n",
       "\n",
       "    .dataframe tbody tr th {\n",
       "        vertical-align: top;\n",
       "    }\n",
       "\n",
       "    .dataframe thead th {\n",
       "        text-align: right;\n",
       "    }\n",
       "</style>\n",
       "<table border=\"1\" class=\"dataframe\">\n",
       "  <thead>\n",
       "    <tr style=\"text-align: right;\">\n",
       "      <th></th>\n",
       "      <th>Grade</th>\n",
       "    </tr>\n",
       "  </thead>\n",
       "  <tbody>\n",
       "    <tr>\n",
       "      <th>0</th>\n",
       "      <td>A</td>\n",
       "    </tr>\n",
       "    <tr>\n",
       "      <th>1</th>\n",
       "      <td>C</td>\n",
       "    </tr>\n",
       "    <tr>\n",
       "      <th>2</th>\n",
       "      <td>B</td>\n",
       "    </tr>\n",
       "    <tr>\n",
       "      <th>3</th>\n",
       "      <td>Ex</td>\n",
       "    </tr>\n",
       "  </tbody>\n",
       "</table>\n",
       "</div>"
      ],
      "text/plain": [
       "  Grade\n",
       "0     A\n",
       "1     C\n",
       "2     B\n",
       "3    Ex"
      ]
     },
     "execution_count": 344,
     "metadata": {},
     "output_type": "execute_result"
    }
   ],
   "source": [
    "df1= pd.DataFrame({\n",
    "        'Grade': ['A','C','B','Ex']})\n",
    "df2 = pd.DataFrame({\n",
    "        'Grade': ['A','B','F','X', 'D', 'F', 'C','A']})\n",
    "\n",
    "df1\n"
   ]
  },
  {
   "cell_type": "code",
   "execution_count": 212,
   "metadata": {},
   "outputs": [
    {
     "data": {
      "text/html": [
       "<div>\n",
       "<style scoped>\n",
       "    .dataframe tbody tr th:only-of-type {\n",
       "        vertical-align: middle;\n",
       "    }\n",
       "\n",
       "    .dataframe tbody tr th {\n",
       "        vertical-align: top;\n",
       "    }\n",
       "\n",
       "    .dataframe thead th {\n",
       "        text-align: right;\n",
       "    }\n",
       "</style>\n",
       "<table border=\"1\" class=\"dataframe\">\n",
       "  <thead>\n",
       "    <tr style=\"text-align: right;\">\n",
       "      <th></th>\n",
       "      <th>Grade</th>\n",
       "    </tr>\n",
       "  </thead>\n",
       "  <tbody>\n",
       "    <tr>\n",
       "      <th>0</th>\n",
       "      <td>A</td>\n",
       "    </tr>\n",
       "    <tr>\n",
       "      <th>1</th>\n",
       "      <td>A</td>\n",
       "    </tr>\n",
       "    <tr>\n",
       "      <th>2</th>\n",
       "      <td>C</td>\n",
       "    </tr>\n",
       "    <tr>\n",
       "      <th>3</th>\n",
       "      <td>B</td>\n",
       "    </tr>\n",
       "  </tbody>\n",
       "</table>\n",
       "</div>"
      ],
      "text/plain": [
       "  Grade\n",
       "0     A\n",
       "1     A\n",
       "2     C\n",
       "3     B"
      ]
     },
     "execution_count": 212,
     "metadata": {},
     "output_type": "execute_result"
    }
   ],
   "source": [
    "df3=pd.merge(df1,df2, how='inner')\n",
    "df3"
   ]
  }
 ],
 "metadata": {
  "kernelspec": {
   "display_name": "Python 3",
   "language": "python",
   "name": "python3"
  },
  "language_info": {
   "codemirror_mode": {
    "name": "ipython",
    "version": 3
   },
   "file_extension": ".py",
   "mimetype": "text/x-python",
   "name": "python",
   "nbconvert_exporter": "python",
   "pygments_lexer": "ipython3",
   "version": "3.8.5"
  }
 },
 "nbformat": 4,
 "nbformat_minor": 4
}
