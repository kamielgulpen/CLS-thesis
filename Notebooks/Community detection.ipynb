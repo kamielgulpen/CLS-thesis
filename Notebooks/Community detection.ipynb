{
 "cells": [
  {
   "cell_type": "markdown",
   "metadata": {},
   "source": [
    "# Statistics on social network layers\n",
    "\n",
    "### In this notebook I will focus on some of the most important statistics regarding social networks, these statistics are:\n",
    "\n",
    "- Modularity ==> s a measure of the structure of networks or graphs which measures the strength of division of a network into modules (also called groups, clusters or communities).\n",
    "\n",
    "- Transitivity ==>  A triplet is three nodes that are connected by either two (open triplet) or three (closed triplet) undirected ties.\n",
    "\n",
    "- Small-world property ==> A network is a small-world if its average shortest path (L) between nodes grows proportionally to log N or slower\n",
    "\n",
    "- Positive degree assortativity ==> Degree assortativity quantifies the tendency of nodes to connect to other nodes of similar degree.\n",
    "\n",
    "- Reciprocity\n",
    "\n",
    "- Density\n",
    "\n",
    "- Link overlap\n",
    "\n",
    "\n"
   ]
  },
  {
   "cell_type": "markdown",
   "metadata": {},
   "source": [
    "## Initialization\n",
    "\n",
    "Initializing the network so the statistics of the network can be calculated"
   ]
  },
  {
   "cell_type": "code",
   "execution_count": 2,
   "metadata": {},
   "outputs": [],
   "source": [
    "import matplotlib.pyplot as plt\n",
    "import networkx as nx\n",
    "import igraph as ig\n",
    "import pandas as pd\n",
    "import leidenalg as la\n",
    "import seaborn as sn\n",
    "import numpy as np\n",
    "optimiser = la.Optimiser()\n",
    "import os\n",
    "import matplotlib as mpl\n",
    "import matplotlib.font_manager as fm#  Collect all the font names available to matplotlib\n",
    "font_names = [f.name for f in fm.fontManager.ttflist]\n",
    "mpl.rcParams['font.family'] = 'Avenir'\n",
    "plt.rcParams['font.size'] = 18\n",
    "plt.rcParams['axes.linewidth'] = 2"
   ]
  },
  {
   "cell_type": "code",
   "execution_count": 2,
   "metadata": {},
   "outputs": [],
   "source": [
    "overig = [0, 1, 2, 18, 19, 20, 33, 34, 35, 36, 37, 38, 42, 43, 44, 45,\n",
    " 46,\n",
    " 47,\n",
    " 51,\n",
    " 52,\n",
    " 53,\n",
    " 57,\n",
    " 58,\n",
    " 59,\n",
    " 63,\n",
    " 64,\n",
    " 65,\n",
    " 66,\n",
    " 67,\n",
    " 68,\n",
    " 99,\n",
    " 100,\n",
    " 101,\n",
    " 105,\n",
    " 106,\n",
    " 107,\n",
    " 108,\n",
    " 109,\n",
    " 110,\n",
    " 132,\n",
    " 133,\n",
    " 134,\n",
    " 144,\n",
    " 145,\n",
    " 146,\n",
    " 180,\n",
    " 181,\n",
    " 182]\n"
   ]
  },
  {
   "cell_type": "code",
   "execution_count": 7,
   "metadata": {},
   "outputs": [],
   "source": [
    "experiment = ['2','6','8', '9']\n",
    "layer = ['werkschool', 'buren', 'huishouden', 'familie'] \n",
    "\n",
    "n_df = pd.DataFrame()\n",
    "\n",
    "for i, j in zip(experiment,layer):    \n",
    "    \n",
    "    experiment = i\n",
    "    layer = j\n",
    "\n",
    "\n",
    "    group_dict = {\n",
    "                    'werkschool':{'same':'6', 'other':['116','11']}, \n",
    "                    'familie':{'same':'39', 'other':['39','75']},\n",
    "                    'huishouden':{'same':'6', 'other':['81','156']},\n",
    "                    'buren':{'same':'6', 'other':['11','6']}, \n",
    "\n",
    "                 }\n",
    "\n",
    "    df = pd.read_csv(f'../Data/Experiments/Experiments{experiment}/{layer}_experiment_0.csv')\n",
    "\n",
    "    df_zo = df[(~df['source_group'].isin(overig) ) & (~df['destination_group'].isin(overig))]\n",
    "    \n",
    "    n_df_zo = pd.concat([n_df,df_zo])\n",
    "    n_df = pd.concat([n_df,df])"
   ]
  },
  {
   "cell_type": "code",
   "execution_count": 9,
   "metadata": {},
   "outputs": [],
   "source": [
    "experiment = '2'\n",
    "layer = 'werkschool'\n",
    "\n",
    "\n",
    "group_dict = {\n",
    "                'werkschool':{'same':'6', 'other':['116','11']}, \n",
    "                'familie':{'same':'39', 'other':['39','75']},\n",
    "                'huishouden':{'same':'6', 'other':['81','156']},\n",
    "                'buren':{'same':'6', 'other':['11','6']}, \n",
    "\n",
    "             }\n",
    "\n",
    "df = pd.read_csv(f'../Data/Experiments/Experiments{experiment}/{layer}_experiment_0.csv')"
   ]
  },
  {
   "cell_type": "code",
   "execution_count": 1,
   "metadata": {},
   "outputs": [
    {
     "name": "stdout",
     "output_type": "stream",
     "text": [
      "nodes are added\n"
     ]
    },
    {
     "ename": "NameError",
     "evalue": "name 'Gm' is not defined",
     "output_type": "error",
     "traceback": [
      "\u001b[1;31m---------------------------------------------------------------------------\u001b[0m",
      "\u001b[1;31mNameError\u001b[0m                                 Traceback (most recent call last)",
      "\u001b[1;32m<ipython-input-1-620f3d17a7c6>\u001b[0m in \u001b[0;36m<module>\u001b[1;34m\u001b[0m\n\u001b[0;32m      1\u001b[0m \u001b[0mprint\u001b[0m\u001b[1;33m(\u001b[0m\u001b[1;34m'nodes are added'\u001b[0m\u001b[1;33m)\u001b[0m\u001b[1;33m\u001b[0m\u001b[1;33m\u001b[0m\u001b[0m\n\u001b[1;32m----> 2\u001b[1;33m \u001b[0mprint\u001b[0m\u001b[1;33m(\u001b[0m\u001b[0mGm\u001b[0m\u001b[1;33m.\u001b[0m\u001b[0mvcount\u001b[0m\u001b[1;33m(\u001b[0m\u001b[1;33m)\u001b[0m\u001b[1;33m)\u001b[0m\u001b[1;33m\u001b[0m\u001b[1;33m\u001b[0m\u001b[0m\n\u001b[0m\u001b[0;32m      3\u001b[0m \u001b[1;33m\u001b[0m\u001b[0m\n\u001b[0;32m      4\u001b[0m \u001b[0mprint\u001b[0m\u001b[1;33m(\u001b[0m\u001b[1;34m'Modularity is added'\u001b[0m\u001b[1;33m)\u001b[0m\u001b[1;33m\u001b[0m\u001b[1;33m\u001b[0m\u001b[0m\n\u001b[0;32m      5\u001b[0m \u001b[0mpartition\u001b[0m \u001b[1;33m=\u001b[0m \u001b[0mla\u001b[0m\u001b[1;33m.\u001b[0m\u001b[0mfind_partition\u001b[0m\u001b[1;33m(\u001b[0m\u001b[0mGm\u001b[0m\u001b[1;33m,\u001b[0m \u001b[0mla\u001b[0m\u001b[1;33m.\u001b[0m\u001b[0mModularityVertexPartition\u001b[0m\u001b[1;33m)\u001b[0m\u001b[1;33m\u001b[0m\u001b[1;33m\u001b[0m\u001b[0m\n",
      "\u001b[1;31mNameError\u001b[0m: name 'Gm' is not defined"
     ]
    }
   ],
   "source": [
    "\n",
    "print('nodes are added')\n",
    "print(Gm.vcount())\n",
    "\n",
    "print('Modularity is added')\n",
    "partition = la.find_partition(Gm, la.ModularityVertexPartition)\n",
    "print(Gm.modularity(partition))\n",
    "\n",
    "print('assortivity is added')\n",
    "print(Gm.assortativity_degree())\n",
    "\n",
    "\n",
    "rn = np.random.randint(Gm.vcount(), size=(100,2))\n",
    "\n",
    "\n",
    "\n",
    "x = rn[:,0]\n",
    "\n",
    "y = rn[:,1]\n",
    "\n",
    "sp = Gm.shortest_paths(x, y, mode='in')\n",
    "\n",
    "sp = np.array(sp).flatten()\n",
    "\n",
    "# # sp = list(sp[sp == np.inf] = 0.0)\n",
    "\n",
    "# sp = list(sp).remove(np.inf)\n",
    "\n",
    "\n",
    "print('reciprocity is added')\n",
    "print(Gm.reciprocity())\n",
    "\n",
    "print('small-world is added')\n",
    "print(np.mean(sp))\n",
    "\n",
    "\n",
    "print('transitivity is added')\n",
    "print(Gm.transitivity_undirected())"
   ]
  },
  {
   "cell_type": "code",
   "execution_count": null,
   "metadata": {},
   "outputs": [],
   "source": []
  },
  {
   "cell_type": "code",
   "execution_count": 71,
   "metadata": {},
   "outputs": [],
   "source": [
    "df = df_zo"
   ]
  },
  {
   "cell_type": "code",
   "execution_count": 57,
   "metadata": {},
   "outputs": [
    {
     "data": {
      "text/html": [
       "<div>\n",
       "<style scoped>\n",
       "    .dataframe tbody tr th:only-of-type {\n",
       "        vertical-align: middle;\n",
       "    }\n",
       "\n",
       "    .dataframe tbody tr th {\n",
       "        vertical-align: top;\n",
       "    }\n",
       "\n",
       "    .dataframe thead th {\n",
       "        text-align: right;\n",
       "    }\n",
       "</style>\n",
       "<table border=\"1\" class=\"dataframe\">\n",
       "  <thead>\n",
       "    <tr style=\"text-align: right;\">\n",
       "      <th></th>\n",
       "      <th>Unnamed: 0</th>\n",
       "      <th>source_id</th>\n",
       "      <th>destination_id</th>\n",
       "      <th>source_group</th>\n",
       "      <th>destination_group</th>\n",
       "    </tr>\n",
       "  </thead>\n",
       "  <tbody>\n",
       "    <tr>\n",
       "      <th>0</th>\n",
       "      <td>0</td>\n",
       "      <td>70147</td>\n",
       "      <td>91788</td>\n",
       "      <td>6</td>\n",
       "      <td>7</td>\n",
       "    </tr>\n",
       "    <tr>\n",
       "      <th>1</th>\n",
       "      <td>1</td>\n",
       "      <td>93001</td>\n",
       "      <td>63554</td>\n",
       "      <td>7</td>\n",
       "      <td>6</td>\n",
       "    </tr>\n",
       "    <tr>\n",
       "      <th>2</th>\n",
       "      <td>2</td>\n",
       "      <td>63554</td>\n",
       "      <td>93001</td>\n",
       "      <td>6</td>\n",
       "      <td>7</td>\n",
       "    </tr>\n",
       "    <tr>\n",
       "      <th>3</th>\n",
       "      <td>3</td>\n",
       "      <td>76723</td>\n",
       "      <td>91533</td>\n",
       "      <td>6</td>\n",
       "      <td>7</td>\n",
       "    </tr>\n",
       "    <tr>\n",
       "      <th>4</th>\n",
       "      <td>4</td>\n",
       "      <td>92840</td>\n",
       "      <td>73657</td>\n",
       "      <td>7</td>\n",
       "      <td>6</td>\n",
       "    </tr>\n",
       "    <tr>\n",
       "      <th>...</th>\n",
       "      <td>...</td>\n",
       "      <td>...</td>\n",
       "      <td>...</td>\n",
       "      <td>...</td>\n",
       "      <td>...</td>\n",
       "    </tr>\n",
       "    <tr>\n",
       "      <th>29362445</th>\n",
       "      <td>29362445</td>\n",
       "      <td>809486</td>\n",
       "      <td>430746</td>\n",
       "      <td>185</td>\n",
       "      <td>56</td>\n",
       "    </tr>\n",
       "    <tr>\n",
       "      <th>29362446</th>\n",
       "      <td>29362446</td>\n",
       "      <td>809411</td>\n",
       "      <td>424460</td>\n",
       "      <td>185</td>\n",
       "      <td>56</td>\n",
       "    </tr>\n",
       "    <tr>\n",
       "      <th>29362447</th>\n",
       "      <td>29362447</td>\n",
       "      <td>809494</td>\n",
       "      <td>437827</td>\n",
       "      <td>185</td>\n",
       "      <td>56</td>\n",
       "    </tr>\n",
       "    <tr>\n",
       "      <th>29362448</th>\n",
       "      <td>29362448</td>\n",
       "      <td>809503</td>\n",
       "      <td>416115</td>\n",
       "      <td>185</td>\n",
       "      <td>56</td>\n",
       "    </tr>\n",
       "    <tr>\n",
       "      <th>29362449</th>\n",
       "      <td>29362449</td>\n",
       "      <td>809615</td>\n",
       "      <td>437187</td>\n",
       "      <td>185</td>\n",
       "      <td>56</td>\n",
       "    </tr>\n",
       "  </tbody>\n",
       "</table>\n",
       "<p>14509720 rows × 5 columns</p>\n",
       "</div>"
      ],
      "text/plain": [
       "          Unnamed: 0  source_id  destination_id  source_group  \\\n",
       "0                  0      70147           91788             6   \n",
       "1                  1      93001           63554             7   \n",
       "2                  2      63554           93001             6   \n",
       "3                  3      76723           91533             6   \n",
       "4                  4      92840           73657             7   \n",
       "...              ...        ...             ...           ...   \n",
       "29362445    29362445     809486          430746           185   \n",
       "29362446    29362446     809411          424460           185   \n",
       "29362447    29362447     809494          437827           185   \n",
       "29362448    29362448     809503          416115           185   \n",
       "29362449    29362449     809615          437187           185   \n",
       "\n",
       "          destination_group  \n",
       "0                         7  \n",
       "1                         6  \n",
       "2                         7  \n",
       "3                         7  \n",
       "4                         6  \n",
       "...                     ...  \n",
       "29362445                 56  \n",
       "29362446                 56  \n",
       "29362447                 56  \n",
       "29362448                 56  \n",
       "29362449                 56  \n",
       "\n",
       "[14509720 rows x 5 columns]"
      ]
     },
     "execution_count": 57,
     "metadata": {},
     "output_type": "execute_result"
    }
   ],
   "source": [
    "df_zo"
   ]
  },
  {
   "cell_type": "code",
   "execution_count": 11,
   "metadata": {},
   "outputs": [],
   "source": [
    "df_overview = pd.read_csv('../Data/tab_buren.csv')"
   ]
  },
  {
   "cell_type": "code",
   "execution_count": 12,
   "metadata": {},
   "outputs": [],
   "source": [
    "df_overview = df_overview[(df_overview['etngrp_src'] != 'Overig') & (df_overview['etngrp_dst'] != 'Overig')]"
   ]
  },
  {
   "cell_type": "code",
   "execution_count": 74,
   "metadata": {},
   "outputs": [
    {
     "data": {
      "text/plain": [
       "(array([2., 0., 0., 0., 0., 0., 0., 0., 0., 0., 0., 0., 0., 0., 0., 0., 0.,\n",
       "        0., 0., 0., 0., 0., 0., 0., 0., 0., 0., 0., 0., 0., 0., 0., 0., 0.,\n",
       "        0., 0., 0., 0., 0., 2.]),\n",
       " array([ 78370. ,  82687.5,  87005. ,  91322.5,  95640. ,  99957.5,\n",
       "        104275. , 108592.5, 112910. , 117227.5, 121545. , 125862.5,\n",
       "        130180. , 134497.5, 138815. , 143132.5, 147450. , 151767.5,\n",
       "        156085. , 160402.5, 164720. , 169037.5, 173355. , 177672.5,\n",
       "        181990. , 186307.5, 190625. , 194942.5, 199260. , 203577.5,\n",
       "        207895. , 212212.5, 216530. , 220847.5, 225165. , 229482.5,\n",
       "        233800. , 238117.5, 242435. , 246752.5, 251070. ]),\n",
       " <BarContainer object of 40 artists>)"
      ]
     },
     "execution_count": 74,
     "metadata": {},
     "output_type": "execute_result"
    },
    {
     "data": {
      "image/png": "[encoded data removed]",
      "text/plain": [
       "<Figure size 432x288 with 1 Axes>"
      ]
     },
     "metadata": {
      "needs_background": "light"
     },
     "output_type": "display_data"
    }
   ],
   "source": [
    "plt.hist(df_overview[(df_overview.n > 50000) & (df_overview.n < 300000)].n, bins = 40)"
   ]
  },
  {
   "cell_type": "code",
   "execution_count": 14,
   "metadata": {},
   "outputs": [
    {
     "data": {
      "text/plain": [
       "7747990"
      ]
     },
     "execution_count": 14,
     "metadata": {},
     "output_type": "execute_result"
    }
   ],
   "source": [
    "df_overview.n.sum()"
   ]
  },
  {
   "cell_type": "code",
   "execution_count": 52,
   "metadata": {},
   "outputs": [
    {
     "data": {
      "text/plain": [
       "6714.713160854893"
      ]
     },
     "execution_count": 52,
     "metadata": {},
     "output_type": "execute_result"
    }
   ],
   "source": [
    "df_overview[(df_overview.lft_src == '[20,30)') & (df_overview.lft_dst == '[20,30)')].n.mean()"
   ]
  },
  {
   "cell_type": "code",
   "execution_count": 11,
   "metadata": {},
   "outputs": [],
   "source": [
    "tuples = [tuple([a, b]) for a, b in zip(df['source_id'], df['destination_id'])]\n",
    "Gm = ig.Graph.TupleList(tuples, directed = True)"
   ]
  },
  {
   "cell_type": "code",
   "execution_count": 17,
   "metadata": {},
   "outputs": [
    {
     "data": {
      "text/plain": [
       "0.30070113199941634"
      ]
     },
     "execution_count": 17,
     "metadata": {},
     "output_type": "execute_result"
    }
   ],
   "source": [
    "x = sorted((list(df['destination_id'].value_counts())))\n",
    "\n",
    "from collections import Counter\n",
    "\n",
    "y = list(Counter(x).values())\n",
    "x = list(Counter(x).keys())\n",
    "\n",
    "from scipy.stats import skew\n",
    "\n",
    "skew(Gm.degree())"
   ]
  },
  {
   "cell_type": "code",
   "execution_count": null,
   "metadata": {},
   "outputs": [],
   "source": [
    "x = sorted((list(df['destination_id'].value_counts())))\n",
    "\n",
    "from collections import Counter\n",
    "\n",
    "y = list(Counter(x).values())\n",
    "x = list(Counter(x).keys())\n",
    "plt.xscale('log')\n",
    "plt.yscale('log')\n",
    "plt.scatter(x,y)\n",
    "\n"
   ]
  },
  {
   "cell_type": "code",
   "execution_count": 14,
   "metadata": {},
   "outputs": [
    {
     "name": "stdout",
     "output_type": "stream",
     "text": [
      "0.8099134731983733\n"
     ]
    }
   ],
   "source": [
    "print(Gm.assortativity_degree())"
   ]
  },
  {
   "cell_type": "code",
   "execution_count": 15,
   "metadata": {},
   "outputs": [
    {
     "name": "stdout",
     "output_type": "stream",
     "text": [
      "0.33493378175093463\n"
     ]
    }
   ],
   "source": [
    "partition = la.find_partition(Gm, la.ModularityVertexPartition)\n",
    "print(Gm.modularity(partition))"
   ]
  },
  {
   "cell_type": "code",
   "execution_count": 16,
   "metadata": {},
   "outputs": [
    {
     "data": {
      "text/plain": [
       "array([3, 4, 5, ..., 3, 3, 3])"
      ]
     },
     "execution_count": 16,
     "metadata": {},
     "output_type": "execute_result"
    }
   ],
   "source": [
    "\n",
    "rn = np.random.randint(Gm.vcount(), size=(100,2))\n",
    "\n",
    "\n",
    "\n",
    "x = rn[:,0]\n",
    "\n",
    "y = rn[:,1]\n",
    "\n",
    "sp = Gm.shortest_paths(x, y, mode='in')\n",
    "\n",
    "sp = np.array(sp).flatten()\n",
    "\n",
    "# # sp = list(sp[sp == np.inf] = 0.0)\n",
    "\n",
    "sp"
   ]
  },
  {
   "cell_type": "code",
   "execution_count": 17,
   "metadata": {},
   "outputs": [
    {
     "data": {
      "text/plain": [
       "3.668"
      ]
     },
     "execution_count": 17,
     "metadata": {},
     "output_type": "execute_result"
    }
   ],
   "source": [
    "np.mean(sp)"
   ]
  },
  {
   "cell_type": "code",
   "execution_count": 8,
   "metadata": {},
   "outputs": [],
   "source": [
    "# Gm.transitivity_undirected()\n",
    "same = group_dict[layer]['same']\n",
    "first = group_dict[layer]['other'][0]\n",
    "second = group_dict[layer]['other'][1]\n",
    "\n",
    "df2 = df[(df['source_group'] == int(same)) & (df['destination_group'] == int(same))]\n",
    "          \n",
    "tuples = [tuple([a, b]) for a, b in zip(df2['source_id'], df2['destination_id'])]\n",
    "Gm2 = ig.Graph.TupleList(tuples, directed = True)\n",
    "\n",
    "df3 = df[(df['source_group'] == int(first)) & (df['destination_group'] == int(second))]\n",
    "tuples = [tuple([a, b]) for a, b in zip(df3['source_id'], df3['destination_id'])]\n",
    "Gm3 = ig.Graph.TupleList(tuples, directed = True)"
   ]
  },
  {
   "cell_type": "code",
   "execution_count": 14,
   "metadata": {},
   "outputs": [
    {
     "data": {
      "image/png": "[encoded data removed]",
      "text/plain": [
       "<Figure size 432x288 with 1 Axes>"
      ]
     },
     "metadata": {
      "needs_background": "light"
     },
     "output_type": "display_data"
    }
   ],
   "source": [
    "import matplotlib.pyplot as plt\n",
    "\n",
    "sn.histplot(data=Gm.indegree(), bins = 50)\n",
    "\n",
    "plt.xlabel('Node degrees')\n",
    "plt.ylabel('Number of nodes')\n",
    "plt.tight_layout()\n",
    "\n",
    "\n",
    "plt.savefig(f'..\\Data\\Experiments\\Experiments{experiment}\\Figures\\in_degree_whole_layer_zo_{experiment}.pdf')\n",
    "\n",
    "# plt.close()\n",
    "# sn.histplot(data=Gm.degree(), bins = 50)\n",
    "\n",
    "# plt.xlabel('Node degrees')\n",
    "# plt.ylabel('Number of nodes')\n",
    "# plt.tight_layout()\n",
    "\n",
    "\n",
    "# plt.savefig(f'..\\Data\\Experiments\\Experiments{experiment}\\Figures\\degree_whole_layer_zo_{experiment}.pdf')\n",
    "\n",
    "# plt.show()\n",
    "\n"
   ]
  },
  {
   "cell_type": "code",
   "execution_count": 10,
   "metadata": {},
   "outputs": [
    {
     "data": {
      "image/png": "[encoded data removed]",
      "text/plain": [
       "<Figure size 432x288 with 1 Axes>"
      ]
     },
     "metadata": {
      "needs_background": "light"
     },
     "output_type": "display_data"
    }
   ],
   "source": [
    "sn.histplot(data=Gm2.indegree(), bins = 50)\n",
    "\n",
    "plt.xlabel('Node degrees')\n",
    "plt.ylabel('Number of nodes')\n",
    "plt.tight_layout()\n",
    "\n",
    "\n",
    "plt.savefig(f'..\\Data\\Experiments\\Experiments{experiment}\\Figures\\in_degree_within_group_{same}_zo_{experiment}.pdf')\n",
    "\n",
    "plt.close()\n",
    "sn.histplot(data=Gm2.degree(), bins = 50)\n",
    "\n",
    "plt.xlabel('Node degrees')\n",
    "plt.ylabel('Number of nodes')\n",
    "plt.tight_layout()\n",
    "\n",
    "\n",
    "plt.savefig(f'..\\Data\\Experiments\\Experiments{experiment}\\Figures\\degree_within_group_{same}_zo_{experiment}.pdf')\n"
   ]
  },
  {
   "cell_type": "code",
   "execution_count": 11,
   "metadata": {},
   "outputs": [
    {
     "data": {
      "image/png": "[encoded data removed]",
      "text/plain": [
       "<Figure size 432x288 with 1 Axes>"
      ]
     },
     "metadata": {
      "needs_background": "light"
     },
     "output_type": "display_data"
    }
   ],
   "source": [
    "sn.histplot(data=Gm3.indegree(), bins = 50)\n",
    "\n",
    "plt.xlabel('Node degrees')\n",
    "plt.ylabel('Number of nodes')\n",
    "plt.tight_layout()\n",
    "\n",
    "first = group_dict[layer]['other'][0]\n",
    "second = group_dict[layer]['other'][1]\n",
    "plt.savefig(f'..\\Data\\Experiments\\Experiments{experiment}\\Figures\\in_degree_between_group{first}_{second}_zo_{experiment}.pdf')\n",
    "\n",
    "plt.close()\n",
    "sn.histplot(data=Gm3.degree(), bins = 50)\n",
    "\n",
    "plt.xlabel('Node degrees')\n",
    "plt.ylabel('Number of nodes')\n",
    "plt.tight_layout()\n",
    "\n",
    "\n",
    "plt.savefig(f'..\\Data\\Experiments\\Experiments{experiment}\\Figures\\degree_between_group{first}_{second}_zo_{experiment}.pdf')"
   ]
  },
  {
   "cell_type": "code",
   "execution_count": 135,
   "metadata": {},
   "outputs": [],
   "source": [
    "df_overview[df_overview.n > 30000]\n",
    "\n",
    "\n",
    "# Man \t[30,40) \t3 \tAutochtoon \tVrouw \t[20,30) \t3 \tAutochtoon \t85240 \t0.086748 \t173"
   ]
  },
  {
   "cell_type": "code",
   "execution_count": 16,
   "metadata": {},
   "outputs": [
    {
     "data": {
      "text/plain": [
       "<AxesSubplot:ylabel='Count'>"
      ]
     },
     "execution_count": 16,
     "metadata": {},
     "output_type": "execute_result"
    },
    {
     "name": "stderr",
     "output_type": "stream",
     "text": [
      "findfont: Font family ['Avenir'] not found. Falling back to DejaVu Sans.\n"
     ]
    },
    {
     "data": {
      "image/png": "[encoded data removed]",
      "text/plain": [
       "<Figure size 432x288 with 1 Axes>"
      ]
     },
     "metadata": {
      "needs_background": "light"
     },
     "output_type": "display_data"
    }
   ],
   "source": [
    "sn.histplot(data=Gm.indegree(), bins = 50)"
   ]
  },
  {
   "cell_type": "code",
   "execution_count": 4,
   "metadata": {},
   "outputs": [
    {
     "name": "stdout",
     "output_type": "stream",
     "text": [
      "../Data/Experiments/Experiments10\\familie_experiment_0.csv\n",
      "df is imported\n",
      "Graph is generated\n",
      "nodes are added\n",
      "Modularity is added\n",
      "assortivity is added\n",
      "reciprocity is added\n",
      "transitivity is added\n"
     ]
    }
   ],
   "source": [
    "\n",
    "\n",
    "rootdir = '../Data/Experiments/Experiments10'\n",
    "\n",
    "for subdir, dirs, files in os.walk(rootdir):\n",
    "    for file in files:\n",
    "        nodes = []\n",
    "        assortivities = []\n",
    "        modularities = []\n",
    "        reciprocities = []\n",
    "        small_world = []\n",
    "        transitivity = []\n",
    "        path =  os.path.join(subdir,file)\n",
    "        print(path)\n",
    "    \n",
    "        df = pd.read_csv(path)\n",
    "        print('df is imported')\n",
    "        tuples = [tuple([a, b]) for a, b in zip(df['source_id'], df['destination_id'])]\n",
    "        Gm = ig.Graph.TupleList(tuples, directed = True)\n",
    "\n",
    "        print('Graph is generated')\n",
    "        nodes.append(Gm.vcount())\n",
    "\n",
    "        print('nodes are added')\n",
    "        partition = la.find_partition(Gm, la.ModularityVertexPartition)\n",
    "        modularities.append(Gm.modularity(partition))\n",
    "\n",
    "        print('Modularity is added')\n",
    "        assortivities.append(Gm.assortativity_degree())\n",
    "\n",
    "        print('assortivity is added')\n",
    "        rn = np.random.randint(Gm.vcount(), size=(100,2))\n",
    "\n",
    "\n",
    "\n",
    "        x = rn[:,0]\n",
    "\n",
    "        y = rn[:,1]\n",
    "\n",
    "        sp = Gm.shortest_paths(x, y, mode='in')\n",
    "\n",
    "        sp = np.array(sp).flatten()\n",
    "\n",
    "        # # sp = list(sp[sp == np.inf] = 0.0)\n",
    "\n",
    "        # sp = list(sp).remove(np.inf)\n",
    "\n",
    "\n",
    "        reciprocities.append(Gm.reciprocity())\n",
    "        print('reciprocity is added')\n",
    "\n",
    "\n",
    "        small_world.append(np.mean(sp))\n",
    "#         print('small-world is added')\n",
    "        transitivity.append(Gm.transitivity_undirected())\n",
    "        print('transitivity is added')\n",
    "  \n",
    "        df2 = pd.DataFrame()\n",
    "        df2['nodes'] = nodes\n",
    "        df2['assortivity'] = assortivities\n",
    "        df2['modularity'] = modularities\n",
    "        df2['reciprocity'] = reciprocities\n",
    "        df2['transitivity'] = transitivity\n",
    "        df2['small-world'] = small_world\n",
    "\n",
    "        df2.to_csv(f'{subdir}/statistics_{file[-5]}.csv')\n",
    "        \n",
    "        break\n",
    "    break"
   ]
  },
  {
   "cell_type": "code",
   "execution_count": 34,
   "metadata": {},
   "outputs": [
    {
     "name": "stdout",
     "output_type": "stream",
     "text": [
      "0\n"
     ]
    },
    {
     "ename": "FileNotFoundError",
     "evalue": "[Errno 2] No such file or directory: '../Data/Experiments1/werkschool_experiment_0.csv'",
     "output_type": "error",
     "traceback": [
      "\u001b[1;31m---------------------------------------------------------------------------\u001b[0m",
      "\u001b[1;31mFileNotFoundError\u001b[0m                         Traceback (most recent call last)",
      "\u001b[1;32m<ipython-input-34-7298ea00a228>\u001b[0m in \u001b[0;36m<module>\u001b[1;34m\u001b[0m\n\u001b[0;32m      9\u001b[0m     \u001b[0mprint\u001b[0m\u001b[1;33m(\u001b[0m\u001b[0mi\u001b[0m\u001b[1;33m)\u001b[0m\u001b[1;33m\u001b[0m\u001b[1;33m\u001b[0m\u001b[0m\n\u001b[0;32m     10\u001b[0m \u001b[1;33m\u001b[0m\u001b[0m\n\u001b[1;32m---> 11\u001b[1;33m     \u001b[0mdf\u001b[0m \u001b[1;33m=\u001b[0m \u001b[0mpd\u001b[0m\u001b[1;33m.\u001b[0m\u001b[0mread_csv\u001b[0m\u001b[1;33m(\u001b[0m\u001b[1;34mf'../Data/Experiments1/werkschool_experiment_{i}.csv'\u001b[0m\u001b[1;33m)\u001b[0m\u001b[1;33m\u001b[0m\u001b[1;33m\u001b[0m\u001b[0m\n\u001b[0m\u001b[0;32m     12\u001b[0m     \u001b[0mtuples\u001b[0m \u001b[1;33m=\u001b[0m \u001b[1;33m[\u001b[0m\u001b[0mtuple\u001b[0m\u001b[1;33m(\u001b[0m\u001b[1;33m[\u001b[0m\u001b[0ma\u001b[0m\u001b[1;33m,\u001b[0m \u001b[0mb\u001b[0m\u001b[1;33m]\u001b[0m\u001b[1;33m)\u001b[0m \u001b[1;32mfor\u001b[0m \u001b[0ma\u001b[0m\u001b[1;33m,\u001b[0m \u001b[0mb\u001b[0m \u001b[1;32min\u001b[0m \u001b[0mzip\u001b[0m\u001b[1;33m(\u001b[0m\u001b[0mdf\u001b[0m\u001b[1;33m[\u001b[0m\u001b[1;34m'source_id'\u001b[0m\u001b[1;33m]\u001b[0m\u001b[1;33m,\u001b[0m \u001b[0mdf\u001b[0m\u001b[1;33m[\u001b[0m\u001b[1;34m'destination_id'\u001b[0m\u001b[1;33m]\u001b[0m\u001b[1;33m)\u001b[0m\u001b[1;33m]\u001b[0m\u001b[1;33m\u001b[0m\u001b[1;33m\u001b[0m\u001b[0m\n\u001b[0;32m     13\u001b[0m     \u001b[0mGm\u001b[0m \u001b[1;33m=\u001b[0m \u001b[0mig\u001b[0m\u001b[1;33m.\u001b[0m\u001b[0mGraph\u001b[0m\u001b[1;33m.\u001b[0m\u001b[0mTupleList\u001b[0m\u001b[1;33m(\u001b[0m\u001b[0mtuples\u001b[0m\u001b[1;33m,\u001b[0m \u001b[0mdirected\u001b[0m \u001b[1;33m=\u001b[0m \u001b[1;32mTrue\u001b[0m\u001b[1;33m)\u001b[0m\u001b[1;33m\u001b[0m\u001b[1;33m\u001b[0m\u001b[0m\n",
      "\u001b[1;32m~\\anaconda3\\lib\\site-packages\\pandas\\io\\parsers.py\u001b[0m in \u001b[0;36mread_csv\u001b[1;34m(filepath_or_buffer, sep, delimiter, header, names, index_col, usecols, squeeze, prefix, mangle_dupe_cols, dtype, engine, converters, true_values, false_values, skipinitialspace, skiprows, skipfooter, nrows, na_values, keep_default_na, na_filter, verbose, skip_blank_lines, parse_dates, infer_datetime_format, keep_date_col, date_parser, dayfirst, cache_dates, iterator, chunksize, compression, thousands, decimal, lineterminator, quotechar, quoting, doublequote, escapechar, comment, encoding, dialect, error_bad_lines, warn_bad_lines, delim_whitespace, low_memory, memory_map, float_precision)\u001b[0m\n\u001b[0;32m    684\u001b[0m     )\n\u001b[0;32m    685\u001b[0m \u001b[1;33m\u001b[0m\u001b[0m\n\u001b[1;32m--> 686\u001b[1;33m     \u001b[1;32mreturn\u001b[0m \u001b[0m_read\u001b[0m\u001b[1;33m(\u001b[0m\u001b[0mfilepath_or_buffer\u001b[0m\u001b[1;33m,\u001b[0m \u001b[0mkwds\u001b[0m\u001b[1;33m)\u001b[0m\u001b[1;33m\u001b[0m\u001b[1;33m\u001b[0m\u001b[0m\n\u001b[0m\u001b[0;32m    687\u001b[0m \u001b[1;33m\u001b[0m\u001b[0m\n\u001b[0;32m    688\u001b[0m \u001b[1;33m\u001b[0m\u001b[0m\n",
      "\u001b[1;32m~\\anaconda3\\lib\\site-packages\\pandas\\io\\parsers.py\u001b[0m in \u001b[0;36m_read\u001b[1;34m(filepath_or_buffer, kwds)\u001b[0m\n\u001b[0;32m    450\u001b[0m \u001b[1;33m\u001b[0m\u001b[0m\n\u001b[0;32m    451\u001b[0m     \u001b[1;31m# Create the parser.\u001b[0m\u001b[1;33m\u001b[0m\u001b[1;33m\u001b[0m\u001b[1;33m\u001b[0m\u001b[0m\n\u001b[1;32m--> 452\u001b[1;33m     \u001b[0mparser\u001b[0m \u001b[1;33m=\u001b[0m \u001b[0mTextFileReader\u001b[0m\u001b[1;33m(\u001b[0m\u001b[0mfp_or_buf\u001b[0m\u001b[1;33m,\u001b[0m \u001b[1;33m**\u001b[0m\u001b[0mkwds\u001b[0m\u001b[1;33m)\u001b[0m\u001b[1;33m\u001b[0m\u001b[1;33m\u001b[0m\u001b[0m\n\u001b[0m\u001b[0;32m    453\u001b[0m \u001b[1;33m\u001b[0m\u001b[0m\n\u001b[0;32m    454\u001b[0m     \u001b[1;32mif\u001b[0m \u001b[0mchunksize\u001b[0m \u001b[1;32mor\u001b[0m \u001b[0miterator\u001b[0m\u001b[1;33m:\u001b[0m\u001b[1;33m\u001b[0m\u001b[1;33m\u001b[0m\u001b[0m\n",
      "\u001b[1;32m~\\anaconda3\\lib\\site-packages\\pandas\\io\\parsers.py\u001b[0m in \u001b[0;36m__init__\u001b[1;34m(self, f, engine, **kwds)\u001b[0m\n\u001b[0;32m    944\u001b[0m             \u001b[0mself\u001b[0m\u001b[1;33m.\u001b[0m\u001b[0moptions\u001b[0m\u001b[1;33m[\u001b[0m\u001b[1;34m\"has_index_names\"\u001b[0m\u001b[1;33m]\u001b[0m \u001b[1;33m=\u001b[0m \u001b[0mkwds\u001b[0m\u001b[1;33m[\u001b[0m\u001b[1;34m\"has_index_names\"\u001b[0m\u001b[1;33m]\u001b[0m\u001b[1;33m\u001b[0m\u001b[1;33m\u001b[0m\u001b[0m\n\u001b[0;32m    945\u001b[0m \u001b[1;33m\u001b[0m\u001b[0m\n\u001b[1;32m--> 946\u001b[1;33m         \u001b[0mself\u001b[0m\u001b[1;33m.\u001b[0m\u001b[0m_make_engine\u001b[0m\u001b[1;33m(\u001b[0m\u001b[0mself\u001b[0m\u001b[1;33m.\u001b[0m\u001b[0mengine\u001b[0m\u001b[1;33m)\u001b[0m\u001b[1;33m\u001b[0m\u001b[1;33m\u001b[0m\u001b[0m\n\u001b[0m\u001b[0;32m    947\u001b[0m \u001b[1;33m\u001b[0m\u001b[0m\n\u001b[0;32m    948\u001b[0m     \u001b[1;32mdef\u001b[0m \u001b[0mclose\u001b[0m\u001b[1;33m(\u001b[0m\u001b[0mself\u001b[0m\u001b[1;33m)\u001b[0m\u001b[1;33m:\u001b[0m\u001b[1;33m\u001b[0m\u001b[1;33m\u001b[0m\u001b[0m\n",
      "\u001b[1;32m~\\anaconda3\\lib\\site-packages\\pandas\\io\\parsers.py\u001b[0m in \u001b[0;36m_make_engine\u001b[1;34m(self, engine)\u001b[0m\n\u001b[0;32m   1176\u001b[0m     \u001b[1;32mdef\u001b[0m \u001b[0m_make_engine\u001b[0m\u001b[1;33m(\u001b[0m\u001b[0mself\u001b[0m\u001b[1;33m,\u001b[0m \u001b[0mengine\u001b[0m\u001b[1;33m=\u001b[0m\u001b[1;34m\"c\"\u001b[0m\u001b[1;33m)\u001b[0m\u001b[1;33m:\u001b[0m\u001b[1;33m\u001b[0m\u001b[1;33m\u001b[0m\u001b[0m\n\u001b[0;32m   1177\u001b[0m         \u001b[1;32mif\u001b[0m \u001b[0mengine\u001b[0m \u001b[1;33m==\u001b[0m \u001b[1;34m\"c\"\u001b[0m\u001b[1;33m:\u001b[0m\u001b[1;33m\u001b[0m\u001b[1;33m\u001b[0m\u001b[0m\n\u001b[1;32m-> 1178\u001b[1;33m             \u001b[0mself\u001b[0m\u001b[1;33m.\u001b[0m\u001b[0m_engine\u001b[0m \u001b[1;33m=\u001b[0m \u001b[0mCParserWrapper\u001b[0m\u001b[1;33m(\u001b[0m\u001b[0mself\u001b[0m\u001b[1;33m.\u001b[0m\u001b[0mf\u001b[0m\u001b[1;33m,\u001b[0m \u001b[1;33m**\u001b[0m\u001b[0mself\u001b[0m\u001b[1;33m.\u001b[0m\u001b[0moptions\u001b[0m\u001b[1;33m)\u001b[0m\u001b[1;33m\u001b[0m\u001b[1;33m\u001b[0m\u001b[0m\n\u001b[0m\u001b[0;32m   1179\u001b[0m         \u001b[1;32melse\u001b[0m\u001b[1;33m:\u001b[0m\u001b[1;33m\u001b[0m\u001b[1;33m\u001b[0m\u001b[0m\n\u001b[0;32m   1180\u001b[0m             \u001b[1;32mif\u001b[0m \u001b[0mengine\u001b[0m \u001b[1;33m==\u001b[0m \u001b[1;34m\"python\"\u001b[0m\u001b[1;33m:\u001b[0m\u001b[1;33m\u001b[0m\u001b[1;33m\u001b[0m\u001b[0m\n",
      "\u001b[1;32m~\\anaconda3\\lib\\site-packages\\pandas\\io\\parsers.py\u001b[0m in \u001b[0;36m__init__\u001b[1;34m(self, src, **kwds)\u001b[0m\n\u001b[0;32m   2006\u001b[0m         \u001b[0mkwds\u001b[0m\u001b[1;33m[\u001b[0m\u001b[1;34m\"usecols\"\u001b[0m\u001b[1;33m]\u001b[0m \u001b[1;33m=\u001b[0m \u001b[0mself\u001b[0m\u001b[1;33m.\u001b[0m\u001b[0musecols\u001b[0m\u001b[1;33m\u001b[0m\u001b[1;33m\u001b[0m\u001b[0m\n\u001b[0;32m   2007\u001b[0m \u001b[1;33m\u001b[0m\u001b[0m\n\u001b[1;32m-> 2008\u001b[1;33m         \u001b[0mself\u001b[0m\u001b[1;33m.\u001b[0m\u001b[0m_reader\u001b[0m \u001b[1;33m=\u001b[0m \u001b[0mparsers\u001b[0m\u001b[1;33m.\u001b[0m\u001b[0mTextReader\u001b[0m\u001b[1;33m(\u001b[0m\u001b[0msrc\u001b[0m\u001b[1;33m,\u001b[0m \u001b[1;33m**\u001b[0m\u001b[0mkwds\u001b[0m\u001b[1;33m)\u001b[0m\u001b[1;33m\u001b[0m\u001b[1;33m\u001b[0m\u001b[0m\n\u001b[0m\u001b[0;32m   2009\u001b[0m         \u001b[0mself\u001b[0m\u001b[1;33m.\u001b[0m\u001b[0munnamed_cols\u001b[0m \u001b[1;33m=\u001b[0m \u001b[0mself\u001b[0m\u001b[1;33m.\u001b[0m\u001b[0m_reader\u001b[0m\u001b[1;33m.\u001b[0m\u001b[0munnamed_cols\u001b[0m\u001b[1;33m\u001b[0m\u001b[1;33m\u001b[0m\u001b[0m\n\u001b[0;32m   2010\u001b[0m \u001b[1;33m\u001b[0m\u001b[0m\n",
      "\u001b[1;32mpandas\\_libs\\parsers.pyx\u001b[0m in \u001b[0;36mpandas._libs.parsers.TextReader.__cinit__\u001b[1;34m()\u001b[0m\n",
      "\u001b[1;32mpandas\\_libs\\parsers.pyx\u001b[0m in \u001b[0;36mpandas._libs.parsers.TextReader._setup_parser_source\u001b[1;34m()\u001b[0m\n",
      "\u001b[1;31mFileNotFoundError\u001b[0m: [Errno 2] No such file or directory: '../Data/Experiments1/werkschool_experiment_0.csv'"
     ]
    }
   ],
   "source": [
    "nodes = []\n",
    "assortivities = []\n",
    "modularities = []\n",
    "reciprocities = []\n",
    "small_world = []\n",
    "transitivity = []\n",
    "\n",
    "for i in range(10):\n",
    "    print(i)\n",
    "    \n",
    "    df = pd.read_csv(f'../Data/Experiments1/werkschool_experiment_{i}.csv')\n",
    "    tuples = [tuple([a, b]) for a, b in zip(df['source_id'], df['destination_id'])]\n",
    "    Gm = ig.Graph.TupleList(tuples, directed = True)\n",
    "    \n",
    "    nodes.append(Gm.vcount())\n",
    "    partition = la.find_partition(Gm, la.ModularityVertexPartition)\n",
    "    modularities.append(Gm.modularity(partition))\n",
    "    \n",
    "    assortivities.append(Gm.assortativity_degree())\n",
    "    \n",
    "    rn = np.random.randint(Gm.vcount(), size=(100,2))\n",
    "\n",
    "\n",
    "\n",
    "    x = rn[:,0]\n",
    "\n",
    "    y = rn[:,1]\n",
    "\n",
    "    sp = Gm.shortest_paths(x, y, mode='in')\n",
    "\n",
    "    sp = np.array(sp).flatten()\n",
    "\n",
    "    # # sp = list(sp[sp == np.inf] = 0.0)\n",
    "\n",
    "    # sp = list(sp).remove(np.inf)\n",
    "\n",
    "\n",
    "    reciprocities.append(Gm.reciprocity())\n",
    "    small_world.append(np.mean(sp))\n",
    "    \n",
    "    transitivity.append(Gm.transitivity_undirected())\n",
    "    \n",
    "df2 = pd.DataFrame()\n",
    "df2['nodes'] = nodes\n",
    "df2['assortivity'] = assortivities\n",
    "df2['modularity'] = modularities\n",
    "df2['reciprocity'] = reciprocities\n",
    "df2['transitivity'] = transitivity\n",
    "\n",
    "df2.to_csv('../Data/Experiments1/statistics.csv')"
   ]
  },
  {
   "cell_type": "code",
   "execution_count": 168,
   "metadata": {},
   "outputs": [],
   "source": [
    "df = pd.concat([df1, df2,df3, df4])\n"
   ]
  },
  {
   "cell_type": "code",
   "execution_count": 3,
   "metadata": {},
   "outputs": [],
   "source": [
    "df = pd.read_csv('../Data/tab_buren.csv')"
   ]
  },
  {
   "cell_type": "code",
   "execution_count": 150,
   "metadata": {},
   "outputs": [
    {
     "data": {
      "text/html": [
       "<div>\n",
       "<style scoped>\n",
       "    .dataframe tbody tr th:only-of-type {\n",
       "        vertical-align: middle;\n",
       "    }\n",
       "\n",
       "    .dataframe tbody tr th {\n",
       "        vertical-align: top;\n",
       "    }\n",
       "\n",
       "    .dataframe thead th {\n",
       "        text-align: right;\n",
       "    }\n",
       "</style>\n",
       "<table border=\"1\" class=\"dataframe\">\n",
       "  <thead>\n",
       "    <tr style=\"text-align: right;\">\n",
       "      <th></th>\n",
       "      <th>Unnamed: 0</th>\n",
       "      <th>source_id</th>\n",
       "      <th>destination_id</th>\n",
       "      <th>source_group</th>\n",
       "      <th>destination_group</th>\n",
       "    </tr>\n",
       "  </thead>\n",
       "  <tbody>\n",
       "    <tr>\n",
       "      <th>38</th>\n",
       "      <td>38</td>\n",
       "      <td>69313</td>\n",
       "      <td>92064</td>\n",
       "      <td>6</td>\n",
       "      <td>7</td>\n",
       "    </tr>\n",
       "    <tr>\n",
       "      <th>56</th>\n",
       "      <td>56</td>\n",
       "      <td>81273</td>\n",
       "      <td>92632</td>\n",
       "      <td>6</td>\n",
       "      <td>7</td>\n",
       "    </tr>\n",
       "    <tr>\n",
       "      <th>61</th>\n",
       "      <td>61</td>\n",
       "      <td>65990</td>\n",
       "      <td>91659</td>\n",
       "      <td>6</td>\n",
       "      <td>7</td>\n",
       "    </tr>\n",
       "    <tr>\n",
       "      <th>93</th>\n",
       "      <td>93</td>\n",
       "      <td>86585</td>\n",
       "      <td>92357</td>\n",
       "      <td>6</td>\n",
       "      <td>7</td>\n",
       "    </tr>\n",
       "    <tr>\n",
       "      <th>112</th>\n",
       "      <td>112</td>\n",
       "      <td>74366</td>\n",
       "      <td>92337</td>\n",
       "      <td>6</td>\n",
       "      <td>7</td>\n",
       "    </tr>\n",
       "    <tr>\n",
       "      <th>...</th>\n",
       "      <td>...</td>\n",
       "      <td>...</td>\n",
       "      <td>...</td>\n",
       "      <td>...</td>\n",
       "      <td>...</td>\n",
       "    </tr>\n",
       "    <tr>\n",
       "      <th>3212049</th>\n",
       "      <td>3212049</td>\n",
       "      <td>62280</td>\n",
       "      <td>92280</td>\n",
       "      <td>6</td>\n",
       "      <td>7</td>\n",
       "    </tr>\n",
       "    <tr>\n",
       "      <th>3212050</th>\n",
       "      <td>3212050</td>\n",
       "      <td>61401</td>\n",
       "      <td>92650</td>\n",
       "      <td>6</td>\n",
       "      <td>7</td>\n",
       "    </tr>\n",
       "    <tr>\n",
       "      <th>3212051</th>\n",
       "      <td>3212051</td>\n",
       "      <td>84532</td>\n",
       "      <td>93145</td>\n",
       "      <td>6</td>\n",
       "      <td>7</td>\n",
       "    </tr>\n",
       "    <tr>\n",
       "      <th>3212052</th>\n",
       "      <td>3212052</td>\n",
       "      <td>84624</td>\n",
       "      <td>92172</td>\n",
       "      <td>6</td>\n",
       "      <td>7</td>\n",
       "    </tr>\n",
       "    <tr>\n",
       "      <th>3212053</th>\n",
       "      <td>3212053</td>\n",
       "      <td>84690</td>\n",
       "      <td>92295</td>\n",
       "      <td>6</td>\n",
       "      <td>7</td>\n",
       "    </tr>\n",
       "  </tbody>\n",
       "</table>\n",
       "<p>2090 rows × 5 columns</p>\n",
       "</div>"
      ],
      "text/plain": [
       "         Unnamed: 0  source_id  destination_id  source_group  \\\n",
       "38               38      69313           92064             6   \n",
       "56               56      81273           92632             6   \n",
       "61               61      65990           91659             6   \n",
       "93               93      86585           92357             6   \n",
       "112             112      74366           92337             6   \n",
       "...             ...        ...             ...           ...   \n",
       "3212049     3212049      62280           92280             6   \n",
       "3212050     3212050      61401           92650             6   \n",
       "3212051     3212051      84532           93145             6   \n",
       "3212052     3212052      84624           92172             6   \n",
       "3212053     3212053      84690           92295             6   \n",
       "\n",
       "         destination_group  \n",
       "38                       7  \n",
       "56                       7  \n",
       "61                       7  \n",
       "93                       7  \n",
       "112                      7  \n",
       "...                    ...  \n",
       "3212049                  7  \n",
       "3212050                  7  \n",
       "3212051                  7  \n",
       "3212052                  7  \n",
       "3212053                  7  \n",
       "\n",
       "[2090 rows x 5 columns]"
      ]
     },
     "execution_count": 150,
     "metadata": {},
     "output_type": "execute_result"
    }
   ],
   "source": [
    "df[(df['source_group'] == 6) & (df['destination_group'] == 7)]"
   ]
  },
  {
   "cell_type": "code",
   "execution_count": 37,
   "metadata": {},
   "outputs": [
    {
     "data": {
      "text/plain": [
       "5985180"
      ]
     },
     "execution_count": 37,
     "metadata": {},
     "output_type": "execute_result"
    }
   ],
   "source": [
    "df.n.sum()"
   ]
  },
  {
   "cell_type": "code",
   "execution_count": 167,
   "metadata": {},
   "outputs": [
    {
     "data": {
      "text/html": [
       "<div>\n",
       "<style scoped>\n",
       "    .dataframe tbody tr th:only-of-type {\n",
       "        vertical-align: middle;\n",
       "    }\n",
       "\n",
       "    .dataframe tbody tr th {\n",
       "        vertical-align: top;\n",
       "    }\n",
       "\n",
       "    .dataframe thead th {\n",
       "        text-align: right;\n",
       "    }\n",
       "</style>\n",
       "<table border=\"1\" class=\"dataframe\">\n",
       "  <thead>\n",
       "    <tr style=\"text-align: right;\">\n",
       "      <th></th>\n",
       "      <th>Unnamed: 0</th>\n",
       "      <th>source_id</th>\n",
       "      <th>destination_id</th>\n",
       "      <th>source_group</th>\n",
       "      <th>destination_group</th>\n",
       "    </tr>\n",
       "  </thead>\n",
       "  <tbody>\n",
       "    <tr>\n",
       "      <th>0</th>\n",
       "      <td>0</td>\n",
       "      <td>91587</td>\n",
       "      <td>74124</td>\n",
       "      <td>7</td>\n",
       "      <td>6</td>\n",
       "    </tr>\n",
       "    <tr>\n",
       "      <th>1</th>\n",
       "      <td>1</td>\n",
       "      <td>89543</td>\n",
       "      <td>91376</td>\n",
       "      <td>6</td>\n",
       "      <td>7</td>\n",
       "    </tr>\n",
       "    <tr>\n",
       "      <th>2</th>\n",
       "      <td>2</td>\n",
       "      <td>91376</td>\n",
       "      <td>89543</td>\n",
       "      <td>7</td>\n",
       "      <td>6</td>\n",
       "    </tr>\n",
       "    <tr>\n",
       "      <th>3</th>\n",
       "      <td>3</td>\n",
       "      <td>65906</td>\n",
       "      <td>93033</td>\n",
       "      <td>6</td>\n",
       "      <td>7</td>\n",
       "    </tr>\n",
       "    <tr>\n",
       "      <th>4</th>\n",
       "      <td>4</td>\n",
       "      <td>93033</td>\n",
       "      <td>65906</td>\n",
       "      <td>7</td>\n",
       "      <td>6</td>\n",
       "    </tr>\n",
       "    <tr>\n",
       "      <th>...</th>\n",
       "      <td>...</td>\n",
       "      <td>...</td>\n",
       "      <td>...</td>\n",
       "      <td>...</td>\n",
       "      <td>...</td>\n",
       "    </tr>\n",
       "    <tr>\n",
       "      <th>29390827</th>\n",
       "      <td>29390827</td>\n",
       "      <td>680534</td>\n",
       "      <td>473292</td>\n",
       "      <td>125</td>\n",
       "      <td>65</td>\n",
       "    </tr>\n",
       "    <tr>\n",
       "      <th>29390828</th>\n",
       "      <td>29390828</td>\n",
       "      <td>430509</td>\n",
       "      <td>809620</td>\n",
       "      <td>56</td>\n",
       "      <td>185</td>\n",
       "    </tr>\n",
       "    <tr>\n",
       "      <th>29390829</th>\n",
       "      <td>29390829</td>\n",
       "      <td>437836</td>\n",
       "      <td>809405</td>\n",
       "      <td>56</td>\n",
       "      <td>185</td>\n",
       "    </tr>\n",
       "    <tr>\n",
       "      <th>29390830</th>\n",
       "      <td>29390830</td>\n",
       "      <td>438006</td>\n",
       "      <td>809494</td>\n",
       "      <td>56</td>\n",
       "      <td>185</td>\n",
       "    </tr>\n",
       "    <tr>\n",
       "      <th>29390831</th>\n",
       "      <td>29390831</td>\n",
       "      <td>425631</td>\n",
       "      <td>809628</td>\n",
       "      <td>56</td>\n",
       "      <td>185</td>\n",
       "    </tr>\n",
       "  </tbody>\n",
       "</table>\n",
       "<p>29390832 rows × 5 columns</p>\n",
       "</div>"
      ],
      "text/plain": [
       "          Unnamed: 0  source_id  destination_id  source_group  \\\n",
       "0                  0      91587           74124             7   \n",
       "1                  1      89543           91376             6   \n",
       "2                  2      91376           89543             7   \n",
       "3                  3      65906           93033             6   \n",
       "4                  4      93033           65906             7   \n",
       "...              ...        ...             ...           ...   \n",
       "29390827    29390827     680534          473292           125   \n",
       "29390828    29390828     430509          809620            56   \n",
       "29390829    29390829     437836          809405            56   \n",
       "29390830    29390830     438006          809494            56   \n",
       "29390831    29390831     425631          809628            56   \n",
       "\n",
       "          destination_group  \n",
       "0                         6  \n",
       "1                         7  \n",
       "2                         6  \n",
       "3                         7  \n",
       "4                         6  \n",
       "...                     ...  \n",
       "29390827                 65  \n",
       "29390828                185  \n",
       "29390829                185  \n",
       "29390830                185  \n",
       "29390831                185  \n",
       "\n",
       "[29390832 rows x 5 columns]"
      ]
     },
     "execution_count": 167,
     "metadata": {},
     "output_type": "execute_result"
    }
   ],
   "source": [
    "df3"
   ]
  },
  {
   "cell_type": "code",
   "execution_count": 151,
   "metadata": {},
   "outputs": [
    {
     "data": {
      "text/html": [
       "<div>\n",
       "<style scoped>\n",
       "    .dataframe tbody tr th:only-of-type {\n",
       "        vertical-align: middle;\n",
       "    }\n",
       "\n",
       "    .dataframe tbody tr th {\n",
       "        vertical-align: top;\n",
       "    }\n",
       "\n",
       "    .dataframe thead th {\n",
       "        text-align: right;\n",
       "    }\n",
       "</style>\n",
       "<table border=\"1\" class=\"dataframe\">\n",
       "  <thead>\n",
       "    <tr style=\"text-align: right;\">\n",
       "      <th></th>\n",
       "      <th>geslacht_src</th>\n",
       "      <th>lft_src</th>\n",
       "      <th>oplniv_src</th>\n",
       "      <th>etngrp_src</th>\n",
       "      <th>geslacht_dst</th>\n",
       "      <th>lft_dst</th>\n",
       "      <th>oplniv_dst</th>\n",
       "      <th>etngrp_dst</th>\n",
       "      <th>n</th>\n",
       "      <th>fn</th>\n",
       "      <th>N</th>\n",
       "    </tr>\n",
       "  </thead>\n",
       "  <tbody>\n",
       "  </tbody>\n",
       "</table>\n",
       "</div>"
      ],
      "text/plain": [
       "Empty DataFrame\n",
       "Columns: [geslacht_src, lft_src, oplniv_src, etngrp_src, geslacht_dst, lft_dst, oplniv_dst, etngrp_dst, n, fn, N]\n",
       "Index: []"
      ]
     },
     "execution_count": 151,
     "metadata": {},
     "output_type": "execute_result"
    }
   ],
   "source": [
    "df[df['geslacht_src'] == 'Autochtoon']"
   ]
  },
  {
   "cell_type": "code",
   "execution_count": 17,
   "metadata": {},
   "outputs": [
    {
     "data": {
      "text/html": [
       "<div>\n",
       "<style scoped>\n",
       "    .dataframe tbody tr th:only-of-type {\n",
       "        vertical-align: middle;\n",
       "    }\n",
       "\n",
       "    .dataframe tbody tr th {\n",
       "        vertical-align: top;\n",
       "    }\n",
       "\n",
       "    .dataframe thead th {\n",
       "        text-align: right;\n",
       "    }\n",
       "</style>\n",
       "<table border=\"1\" class=\"dataframe\">\n",
       "  <thead>\n",
       "    <tr style=\"text-align: right;\">\n",
       "      <th></th>\n",
       "      <th>Unnamed: 0</th>\n",
       "      <th>source_id</th>\n",
       "      <th>destination_id</th>\n",
       "      <th>source_group</th>\n",
       "      <th>destination_group</th>\n",
       "    </tr>\n",
       "  </thead>\n",
       "  <tbody>\n",
       "    <tr>\n",
       "      <th>0</th>\n",
       "      <td>0</td>\n",
       "      <td>425321</td>\n",
       "      <td>274181</td>\n",
       "      <td>56</td>\n",
       "      <td>29</td>\n",
       "    </tr>\n",
       "    <tr>\n",
       "      <th>1</th>\n",
       "      <td>1</td>\n",
       "      <td>425321</td>\n",
       "      <td>159450</td>\n",
       "      <td>56</td>\n",
       "      <td>12</td>\n",
       "    </tr>\n",
       "    <tr>\n",
       "      <th>2</th>\n",
       "      <td>2</td>\n",
       "      <td>425321</td>\n",
       "      <td>152981</td>\n",
       "      <td>56</td>\n",
       "      <td>12</td>\n",
       "    </tr>\n",
       "    <tr>\n",
       "      <th>3</th>\n",
       "      <td>3</td>\n",
       "      <td>425321</td>\n",
       "      <td>138797</td>\n",
       "      <td>56</td>\n",
       "      <td>12</td>\n",
       "    </tr>\n",
       "    <tr>\n",
       "      <th>4</th>\n",
       "      <td>4</td>\n",
       "      <td>274181</td>\n",
       "      <td>159450</td>\n",
       "      <td>29</td>\n",
       "      <td>12</td>\n",
       "    </tr>\n",
       "    <tr>\n",
       "      <th>...</th>\n",
       "      <td>...</td>\n",
       "      <td>...</td>\n",
       "      <td>...</td>\n",
       "      <td>...</td>\n",
       "      <td>...</td>\n",
       "    </tr>\n",
       "    <tr>\n",
       "      <th>3786316</th>\n",
       "      <td>3786316</td>\n",
       "      <td>785796</td>\n",
       "      <td>115013</td>\n",
       "      <td>158</td>\n",
       "      <td>11</td>\n",
       "    </tr>\n",
       "    <tr>\n",
       "      <th>3786317</th>\n",
       "      <td>3786317</td>\n",
       "      <td>785965</td>\n",
       "      <td>116283</td>\n",
       "      <td>158</td>\n",
       "      <td>11</td>\n",
       "    </tr>\n",
       "    <tr>\n",
       "      <th>3786318</th>\n",
       "      <td>3786318</td>\n",
       "      <td>785372</td>\n",
       "      <td>109479</td>\n",
       "      <td>158</td>\n",
       "      <td>11</td>\n",
       "    </tr>\n",
       "    <tr>\n",
       "      <th>3786319</th>\n",
       "      <td>3786319</td>\n",
       "      <td>785533</td>\n",
       "      <td>121169</td>\n",
       "      <td>158</td>\n",
       "      <td>11</td>\n",
       "    </tr>\n",
       "    <tr>\n",
       "      <th>3786320</th>\n",
       "      <td>3786320</td>\n",
       "      <td>785901</td>\n",
       "      <td>129986</td>\n",
       "      <td>158</td>\n",
       "      <td>11</td>\n",
       "    </tr>\n",
       "  </tbody>\n",
       "</table>\n",
       "<p>3786321 rows × 5 columns</p>\n",
       "</div>"
      ],
      "text/plain": [
       "         Unnamed: 0  source_id  destination_id  source_group  \\\n",
       "0                 0     425321          274181            56   \n",
       "1                 1     425321          159450            56   \n",
       "2                 2     425321          152981            56   \n",
       "3                 3     425321          138797            56   \n",
       "4                 4     274181          159450            29   \n",
       "...             ...        ...             ...           ...   \n",
       "3786316     3786316     785796          115013           158   \n",
       "3786317     3786317     785965          116283           158   \n",
       "3786318     3786318     785372          109479           158   \n",
       "3786319     3786319     785533          121169           158   \n",
       "3786320     3786320     785901          129986           158   \n",
       "\n",
       "         destination_group  \n",
       "0                       29  \n",
       "1                       12  \n",
       "2                       12  \n",
       "3                       12  \n",
       "4                       12  \n",
       "...                    ...  \n",
       "3786316                 11  \n",
       "3786317                 11  \n",
       "3786318                 11  \n",
       "3786319                 11  \n",
       "3786320                 11  \n",
       "\n",
       "[3786321 rows x 5 columns]"
      ]
     },
     "execution_count": 17,
     "metadata": {},
     "output_type": "execute_result"
    }
   ],
   "source": [
    "df = pd.read_csv(f'../Experiment_familie/experiment_1_Transitivity.csv')\n",
    "\n",
    "df"
   ]
  },
  {
   "cell_type": "code",
   "execution_count": 6,
   "metadata": {},
   "outputs": [],
   "source": [
    "df_duplicates = df[df.duplicated(subset=['source_id','destination_id'], keep=False)]"
   ]
  },
  {
   "cell_type": "code",
   "execution_count": 7,
   "metadata": {},
   "outputs": [
    {
     "data": {
      "text/html": [
       "<div>\n",
       "<style scoped>\n",
       "    .dataframe tbody tr th:only-of-type {\n",
       "        vertical-align: middle;\n",
       "    }\n",
       "\n",
       "    .dataframe tbody tr th {\n",
       "        vertical-align: top;\n",
       "    }\n",
       "\n",
       "    .dataframe thead th {\n",
       "        text-align: right;\n",
       "    }\n",
       "</style>\n",
       "<table border=\"1\" class=\"dataframe\">\n",
       "  <thead>\n",
       "    <tr style=\"text-align: right;\">\n",
       "      <th></th>\n",
       "      <th>Unnamed: 0</th>\n",
       "      <th>source_id</th>\n",
       "      <th>destination_id</th>\n",
       "      <th>source_group</th>\n",
       "      <th>destination_group</th>\n",
       "    </tr>\n",
       "  </thead>\n",
       "  <tbody>\n",
       "  </tbody>\n",
       "</table>\n",
       "</div>"
      ],
      "text/plain": [
       "Empty DataFrame\n",
       "Columns: [Unnamed: 0, source_id, destination_id, source_group, destination_group]\n",
       "Index: []"
      ]
     },
     "execution_count": 7,
     "metadata": {},
     "output_type": "execute_result"
    }
   ],
   "source": [
    "df_duplicates"
   ]
  },
  {
   "cell_type": "code",
   "execution_count": 8,
   "metadata": {},
   "outputs": [],
   "source": [
    "x = np.where(df['source_id'] != df['destination_id']) "
   ]
  },
  {
   "cell_type": "code",
   "execution_count": 18,
   "metadata": {},
   "outputs": [],
   "source": [
    "\n",
    "\n",
    "df_gb = df.groupby([\"source_group\", \"destination_group\"]).size().reset_index()"
   ]
  },
  {
   "cell_type": "code",
   "execution_count": 23,
   "metadata": {},
   "outputs": [
    {
     "data": {
      "text/html": [
       "<div>\n",
       "<style scoped>\n",
       "    .dataframe tbody tr th:only-of-type {\n",
       "        vertical-align: middle;\n",
       "    }\n",
       "\n",
       "    .dataframe tbody tr th {\n",
       "        vertical-align: top;\n",
       "    }\n",
       "\n",
       "    .dataframe thead th {\n",
       "        text-align: right;\n",
       "    }\n",
       "</style>\n",
       "<table border=\"1\" class=\"dataframe\">\n",
       "  <thead>\n",
       "    <tr style=\"text-align: right;\">\n",
       "      <th></th>\n",
       "      <th>source_group</th>\n",
       "      <th>destination_group</th>\n",
       "      <th>0</th>\n",
       "    </tr>\n",
       "  </thead>\n",
       "  <tbody>\n",
       "    <tr>\n",
       "      <th>166</th>\n",
       "      <td>6</td>\n",
       "      <td>6</td>\n",
       "      <td>26760</td>\n",
       "    </tr>\n",
       "    <tr>\n",
       "      <th>172</th>\n",
       "      <td>6</td>\n",
       "      <td>12</td>\n",
       "      <td>24810</td>\n",
       "    </tr>\n",
       "    <tr>\n",
       "      <th>180</th>\n",
       "      <td>6</td>\n",
       "      <td>23</td>\n",
       "      <td>9940</td>\n",
       "    </tr>\n",
       "    <tr>\n",
       "      <th>186</th>\n",
       "      <td>6</td>\n",
       "      <td>29</td>\n",
       "      <td>8560</td>\n",
       "    </tr>\n",
       "    <tr>\n",
       "      <th>199</th>\n",
       "      <td>6</td>\n",
       "      <td>56</td>\n",
       "      <td>8560</td>\n",
       "    </tr>\n",
       "    <tr>\n",
       "      <th>...</th>\n",
       "      <td>...</td>\n",
       "      <td>...</td>\n",
       "      <td>...</td>\n",
       "    </tr>\n",
       "    <tr>\n",
       "      <th>190</th>\n",
       "      <td>6</td>\n",
       "      <td>33</td>\n",
       "      <td>18</td>\n",
       "    </tr>\n",
       "    <tr>\n",
       "      <th>168</th>\n",
       "      <td>6</td>\n",
       "      <td>8</td>\n",
       "      <td>10</td>\n",
       "    </tr>\n",
       "    <tr>\n",
       "      <th>311</th>\n",
       "      <td>6</td>\n",
       "      <td>209</td>\n",
       "      <td>10</td>\n",
       "    </tr>\n",
       "    <tr>\n",
       "      <th>284</th>\n",
       "      <td>6</td>\n",
       "      <td>170</td>\n",
       "      <td>10</td>\n",
       "    </tr>\n",
       "    <tr>\n",
       "      <th>177</th>\n",
       "      <td>6</td>\n",
       "      <td>18</td>\n",
       "      <td>3</td>\n",
       "    </tr>\n",
       "  </tbody>\n",
       "</table>\n",
       "<p>164 rows × 3 columns</p>\n",
       "</div>"
      ],
      "text/plain": [
       "     source_group  destination_group      0\n",
       "166             6                  6  26760\n",
       "172             6                 12  24810\n",
       "180             6                 23   9940\n",
       "186             6                 29   8560\n",
       "199             6                 56   8560\n",
       "..            ...                ...    ...\n",
       "190             6                 33     18\n",
       "168             6                  8     10\n",
       "311             6                209     10\n",
       "284             6                170     10\n",
       "177             6                 18      3\n",
       "\n",
       "[164 rows x 3 columns]"
      ]
     },
     "execution_count": 23,
     "metadata": {},
     "output_type": "execute_result"
    }
   ],
   "source": [
    "df_gb[df_gb['source_group'] == 6].sort_values(by=0, ascending=False)"
   ]
  },
  {
   "cell_type": "code",
   "execution_count": 35,
   "metadata": {},
   "outputs": [
    {
     "data": {
      "text/html": [
       "<div>\n",
       "<style scoped>\n",
       "    .dataframe tbody tr th:only-of-type {\n",
       "        vertical-align: middle;\n",
       "    }\n",
       "\n",
       "    .dataframe tbody tr th {\n",
       "        vertical-align: top;\n",
       "    }\n",
       "\n",
       "    .dataframe thead th {\n",
       "        text-align: right;\n",
       "    }\n",
       "</style>\n",
       "<table border=\"1\" class=\"dataframe\">\n",
       "  <thead>\n",
       "    <tr style=\"text-align: right;\">\n",
       "      <th></th>\n",
       "      <th>geslacht_src</th>\n",
       "      <th>lft_src</th>\n",
       "      <th>oplniv_src</th>\n",
       "      <th>etngrp_src</th>\n",
       "      <th>geslacht_dst</th>\n",
       "      <th>lft_dst</th>\n",
       "      <th>oplniv_dst</th>\n",
       "      <th>etngrp_dst</th>\n",
       "      <th>n</th>\n",
       "      <th>fn</th>\n",
       "      <th>N</th>\n",
       "    </tr>\n",
       "  </thead>\n",
       "  <tbody>\n",
       "    <tr>\n",
       "      <th>1</th>\n",
       "      <td>Man</td>\n",
       "      <td>[0,20)</td>\n",
       "      <td>1</td>\n",
       "      <td>Autochtoon</td>\n",
       "      <td>Man</td>\n",
       "      <td>[0,20)</td>\n",
       "      <td>1</td>\n",
       "      <td>Autochtoon</td>\n",
       "      <td>26760</td>\n",
       "      <td>0.125787</td>\n",
       "      <td>194</td>\n",
       "    </tr>\n",
       "    <tr>\n",
       "      <th>2</th>\n",
       "      <td>Man</td>\n",
       "      <td>[0,20)</td>\n",
       "      <td>1</td>\n",
       "      <td>Autochtoon</td>\n",
       "      <td>Vrouw</td>\n",
       "      <td>[0,20)</td>\n",
       "      <td>1</td>\n",
       "      <td>Autochtoon</td>\n",
       "      <td>24810</td>\n",
       "      <td>0.116621</td>\n",
       "      <td>194</td>\n",
       "    </tr>\n",
       "    <tr>\n",
       "      <th>14</th>\n",
       "      <td>Man</td>\n",
       "      <td>[0,20)</td>\n",
       "      <td>1</td>\n",
       "      <td>Autochtoon</td>\n",
       "      <td>Vrouw</td>\n",
       "      <td>[40,50)</td>\n",
       "      <td>3</td>\n",
       "      <td>Autochtoon</td>\n",
       "      <td>9940</td>\n",
       "      <td>0.046724</td>\n",
       "      <td>194</td>\n",
       "    </tr>\n",
       "    <tr>\n",
       "      <th>12</th>\n",
       "      <td>Man</td>\n",
       "      <td>[0,20)</td>\n",
       "      <td>1</td>\n",
       "      <td>Autochtoon</td>\n",
       "      <td>Vrouw</td>\n",
       "      <td>[30,40)</td>\n",
       "      <td>3</td>\n",
       "      <td>Autochtoon</td>\n",
       "      <td>8560</td>\n",
       "      <td>0.040237</td>\n",
       "      <td>194</td>\n",
       "    </tr>\n",
       "    <tr>\n",
       "      <th>5</th>\n",
       "      <td>Man</td>\n",
       "      <td>[0,20)</td>\n",
       "      <td>1</td>\n",
       "      <td>Autochtoon</td>\n",
       "      <td>Man</td>\n",
       "      <td>[40,50)</td>\n",
       "      <td>3</td>\n",
       "      <td>Autochtoon</td>\n",
       "      <td>8560</td>\n",
       "      <td>0.040237</td>\n",
       "      <td>194</td>\n",
       "    </tr>\n",
       "    <tr>\n",
       "      <th>...</th>\n",
       "      <td>...</td>\n",
       "      <td>...</td>\n",
       "      <td>...</td>\n",
       "      <td>...</td>\n",
       "      <td>...</td>\n",
       "      <td>...</td>\n",
       "      <td>...</td>\n",
       "      <td>...</td>\n",
       "      <td>...</td>\n",
       "      <td>...</td>\n",
       "      <td>...</td>\n",
       "    </tr>\n",
       "    <tr>\n",
       "      <th>69</th>\n",
       "      <td>Man</td>\n",
       "      <td>[0,20)</td>\n",
       "      <td>1</td>\n",
       "      <td>Autochtoon</td>\n",
       "      <td>Man</td>\n",
       "      <td>[0,20)</td>\n",
       "      <td>2</td>\n",
       "      <td>Turks</td>\n",
       "      <td>50</td>\n",
       "      <td>0.000235</td>\n",
       "      <td>194</td>\n",
       "    </tr>\n",
       "    <tr>\n",
       "      <th>162</th>\n",
       "      <td>Man</td>\n",
       "      <td>[0,20)</td>\n",
       "      <td>1</td>\n",
       "      <td>Autochtoon</td>\n",
       "      <td>Vrouw</td>\n",
       "      <td>[70,80)</td>\n",
       "      <td>2</td>\n",
       "      <td>Surinaams</td>\n",
       "      <td>40</td>\n",
       "      <td>0.000188</td>\n",
       "      <td>194</td>\n",
       "    </tr>\n",
       "    <tr>\n",
       "      <th>131</th>\n",
       "      <td>Man</td>\n",
       "      <td>[0,20)</td>\n",
       "      <td>1</td>\n",
       "      <td>Autochtoon</td>\n",
       "      <td>Man</td>\n",
       "      <td>[60,70)</td>\n",
       "      <td>3</td>\n",
       "      <td>Surinaams</td>\n",
       "      <td>40</td>\n",
       "      <td>0.000188</td>\n",
       "      <td>194</td>\n",
       "    </tr>\n",
       "    <tr>\n",
       "      <th>109</th>\n",
       "      <td>Man</td>\n",
       "      <td>[0,20)</td>\n",
       "      <td>1</td>\n",
       "      <td>Autochtoon</td>\n",
       "      <td>Man</td>\n",
       "      <td>[70,80)</td>\n",
       "      <td>1</td>\n",
       "      <td>Surinaams</td>\n",
       "      <td>40</td>\n",
       "      <td>0.000188</td>\n",
       "      <td>194</td>\n",
       "    </tr>\n",
       "    <tr>\n",
       "      <th>141</th>\n",
       "      <td>Man</td>\n",
       "      <td>[0,20)</td>\n",
       "      <td>1</td>\n",
       "      <td>Autochtoon</td>\n",
       "      <td>Vrouw</td>\n",
       "      <td>[70,80)</td>\n",
       "      <td>1</td>\n",
       "      <td>Turks</td>\n",
       "      <td>20</td>\n",
       "      <td>0.000094</td>\n",
       "      <td>194</td>\n",
       "    </tr>\n",
       "  </tbody>\n",
       "</table>\n",
       "<p>140 rows × 11 columns</p>\n",
       "</div>"
      ],
      "text/plain": [
       "    geslacht_src lft_src  oplniv_src  etngrp_src geslacht_dst  lft_dst  \\\n",
       "1            Man  [0,20)           1  Autochtoon          Man   [0,20)   \n",
       "2            Man  [0,20)           1  Autochtoon        Vrouw   [0,20)   \n",
       "14           Man  [0,20)           1  Autochtoon        Vrouw  [40,50)   \n",
       "12           Man  [0,20)           1  Autochtoon        Vrouw  [30,40)   \n",
       "5            Man  [0,20)           1  Autochtoon          Man  [40,50)   \n",
       "..           ...     ...         ...         ...          ...      ...   \n",
       "69           Man  [0,20)           1  Autochtoon          Man   [0,20)   \n",
       "162          Man  [0,20)           1  Autochtoon        Vrouw  [70,80)   \n",
       "131          Man  [0,20)           1  Autochtoon          Man  [60,70)   \n",
       "109          Man  [0,20)           1  Autochtoon          Man  [70,80)   \n",
       "141          Man  [0,20)           1  Autochtoon        Vrouw  [70,80)   \n",
       "\n",
       "     oplniv_dst  etngrp_dst      n        fn    N  \n",
       "1             1  Autochtoon  26760  0.125787  194  \n",
       "2             1  Autochtoon  24810  0.116621  194  \n",
       "14            3  Autochtoon   9940  0.046724  194  \n",
       "12            3  Autochtoon   8560  0.040237  194  \n",
       "5             3  Autochtoon   8560  0.040237  194  \n",
       "..          ...         ...    ...       ...  ...  \n",
       "69            2       Turks     50  0.000235  194  \n",
       "162           2   Surinaams     40  0.000188  194  \n",
       "131           3   Surinaams     40  0.000188  194  \n",
       "109           1   Surinaams     40  0.000188  194  \n",
       "141           1       Turks     20  0.000094  194  \n",
       "\n",
       "[140 rows x 11 columns]"
      ]
     },
     "execution_count": 35,
     "metadata": {},
     "output_type": "execute_result"
    }
   ],
   "source": [
    "df_overview[:140].sort_values(by='n', ascending=False)"
   ]
  },
  {
   "cell_type": "code",
   "execution_count": 138,
   "metadata": {},
   "outputs": [
    {
     "data": {
      "text/plain": [
       "265320"
      ]
     },
     "execution_count": 138,
     "metadata": {},
     "output_type": "execute_result"
    }
   ],
   "source": [
    "df_overview.n.max()"
   ]
  },
  {
   "cell_type": "code",
   "execution_count": 183,
   "metadata": {},
   "outputs": [
    {
     "data": {
      "text/plain": [
       "614553"
      ]
     },
     "execution_count": 183,
     "metadata": {},
     "output_type": "execute_result"
    }
   ],
   "source": [
    "import random\n",
    "\n",
    "random.choice([i for i in range(861000)])"
   ]
  },
  {
   "cell_type": "code",
   "execution_count": null,
   "metadata": {},
   "outputs": [],
   "source": []
  },
  {
   "cell_type": "code",
   "execution_count": 175,
   "metadata": {},
   "outputs": [
    {
     "data": {
      "text/plain": [
       "[2, 3, 4]"
      ]
     },
     "execution_count": 175,
     "metadata": {},
     "output_type": "execute_result"
    }
   ],
   "source": [
    "intersection_as_list"
   ]
  },
  {
   "cell_type": "code",
   "execution_count": 94,
   "metadata": {},
   "outputs": [
    {
     "ename": "KeyboardInterrupt",
     "evalue": "",
     "output_type": "error",
     "traceback": [
      "\u001b[1;31m---------------------------------------------------------------------------\u001b[0m",
      "\u001b[1;31mKeyboardInterrupt\u001b[0m                         Traceback (most recent call last)",
      "\u001b[1;32m<ipython-input-94-39077620d5a6>\u001b[0m in \u001b[0;36m<module>\u001b[1;34m\u001b[0m\n\u001b[1;32m----> 1\u001b[1;33m \u001b[0mG\u001b[0m \u001b[1;33m=\u001b[0m \u001b[0mnx\u001b[0m\u001b[1;33m.\u001b[0m\u001b[0mfrom_pandas_edgelist\u001b[0m\u001b[1;33m(\u001b[0m\u001b[0mdf4\u001b[0m\u001b[1;33m,\u001b[0m \u001b[1;34m'source_id'\u001b[0m\u001b[1;33m,\u001b[0m \u001b[1;34m'destination_id'\u001b[0m \u001b[1;33m,\u001b[0m\u001b[0mcreate_using\u001b[0m\u001b[1;33m=\u001b[0m\u001b[0mnx\u001b[0m\u001b[1;33m.\u001b[0m\u001b[0mDiGraph\u001b[0m\u001b[1;33m(\u001b[0m\u001b[1;33m)\u001b[0m\u001b[1;33m)\u001b[0m\u001b[1;33m\u001b[0m\u001b[1;33m\u001b[0m\u001b[0m\n\u001b[0m",
      "\u001b[1;32m~\\anaconda3\\lib\\site-packages\\networkx\\convert_matrix.py\u001b[0m in \u001b[0;36mfrom_pandas_edgelist\u001b[1;34m(df, source, target, edge_attr, create_using, edge_key)\u001b[0m\n\u001b[0;32m    389\u001b[0m \u001b[1;33m\u001b[0m\u001b[0m\n\u001b[0;32m    390\u001b[0m     \u001b[1;32mif\u001b[0m \u001b[0medge_attr\u001b[0m \u001b[1;32mis\u001b[0m \u001b[1;32mNone\u001b[0m\u001b[1;33m:\u001b[0m\u001b[1;33m\u001b[0m\u001b[1;33m\u001b[0m\u001b[0m\n\u001b[1;32m--> 391\u001b[1;33m         \u001b[0mg\u001b[0m\u001b[1;33m.\u001b[0m\u001b[0madd_edges_from\u001b[0m\u001b[1;33m(\u001b[0m\u001b[0mzip\u001b[0m\u001b[1;33m(\u001b[0m\u001b[0mdf\u001b[0m\u001b[1;33m[\u001b[0m\u001b[0msource\u001b[0m\u001b[1;33m]\u001b[0m\u001b[1;33m,\u001b[0m \u001b[0mdf\u001b[0m\u001b[1;33m[\u001b[0m\u001b[0mtarget\u001b[0m\u001b[1;33m]\u001b[0m\u001b[1;33m)\u001b[0m\u001b[1;33m)\u001b[0m\u001b[1;33m\u001b[0m\u001b[1;33m\u001b[0m\u001b[0m\n\u001b[0m\u001b[0;32m    392\u001b[0m         \u001b[1;32mreturn\u001b[0m \u001b[0mg\u001b[0m\u001b[1;33m\u001b[0m\u001b[1;33m\u001b[0m\u001b[0m\n\u001b[0;32m    393\u001b[0m \u001b[1;33m\u001b[0m\u001b[0m\n",
      "\u001b[1;32m~\\anaconda3\\lib\\site-packages\\networkx\\classes\\digraph.py\u001b[0m in \u001b[0;36madd_edges_from\u001b[1;34m(self, ebunch_to_add, **attr)\u001b[0m\n\u001b[0;32m    697\u001b[0m             \u001b[0mdatadict\u001b[0m\u001b[1;33m.\u001b[0m\u001b[0mupdate\u001b[0m\u001b[1;33m(\u001b[0m\u001b[0mdd\u001b[0m\u001b[1;33m)\u001b[0m\u001b[1;33m\u001b[0m\u001b[1;33m\u001b[0m\u001b[0m\n\u001b[0;32m    698\u001b[0m             \u001b[0mself\u001b[0m\u001b[1;33m.\u001b[0m\u001b[0m_succ\u001b[0m\u001b[1;33m[\u001b[0m\u001b[0mu\u001b[0m\u001b[1;33m]\u001b[0m\u001b[1;33m[\u001b[0m\u001b[0mv\u001b[0m\u001b[1;33m]\u001b[0m \u001b[1;33m=\u001b[0m \u001b[0mdatadict\u001b[0m\u001b[1;33m\u001b[0m\u001b[1;33m\u001b[0m\u001b[0m\n\u001b[1;32m--> 699\u001b[1;33m             \u001b[0mself\u001b[0m\u001b[1;33m.\u001b[0m\u001b[0m_pred\u001b[0m\u001b[1;33m[\u001b[0m\u001b[0mv\u001b[0m\u001b[1;33m]\u001b[0m\u001b[1;33m[\u001b[0m\u001b[0mu\u001b[0m\u001b[1;33m]\u001b[0m \u001b[1;33m=\u001b[0m \u001b[0mdatadict\u001b[0m\u001b[1;33m\u001b[0m\u001b[1;33m\u001b[0m\u001b[0m\n\u001b[0m\u001b[0;32m    700\u001b[0m \u001b[1;33m\u001b[0m\u001b[0m\n\u001b[0;32m    701\u001b[0m     \u001b[1;32mdef\u001b[0m \u001b[0mremove_edge\u001b[0m\u001b[1;33m(\u001b[0m\u001b[0mself\u001b[0m\u001b[1;33m,\u001b[0m \u001b[0mu\u001b[0m\u001b[1;33m,\u001b[0m \u001b[0mv\u001b[0m\u001b[1;33m)\u001b[0m\u001b[1;33m:\u001b[0m\u001b[1;33m\u001b[0m\u001b[1;33m\u001b[0m\u001b[0m\n",
      "\u001b[1;31mKeyboardInterrupt\u001b[0m: "
     ]
    }
   ],
   "source": [
    "G = nx.from_pandas_edgelist(df4, 'source_id', 'destination_id' ,create_using=nx.DiGraph())"
   ]
  },
  {
   "cell_type": "code",
   "execution_count": 35,
   "metadata": {},
   "outputs": [
    {
     "data": {
      "text/plain": [
       "[nan]"
      ]
     },
     "execution_count": 35,
     "metadata": {},
     "output_type": "execute_result"
    }
   ],
   "source": [
    "# for i in G.nodes:\n",
    "#     print(list(G[i]))\n",
    "    \n",
    "list(sorted(G.nodes()))\n",
    "    \n",
    "\n",
    "G.get()\n"
   ]
  },
  {
   "cell_type": "code",
   "execution_count": 154,
   "metadata": {},
   "outputs": [],
   "source": [
    "tuples = [tuple([a, b]) for a, b in zip(df2['source_id'], df2['destination_id'])]\n",
    "# Gm = igraph.Graph.TupleList(tuples, directed = True, edge_attrs = ['weight'])"
   ]
  },
  {
   "cell_type": "code",
   "execution_count": 128,
   "metadata": {},
   "outputs": [],
   "source": [
    "df4\n",
    "\n",
    "df_duplicates = df4[df4.duplicated(subset=['source_id','destination_id'], keep=False)]\n"
   ]
  },
  {
   "cell_type": "code",
   "execution_count": 129,
   "metadata": {},
   "outputs": [
    {
     "data": {
      "text/html": [
       "<div>\n",
       "<style scoped>\n",
       "    .dataframe tbody tr th:only-of-type {\n",
       "        vertical-align: middle;\n",
       "    }\n",
       "\n",
       "    .dataframe tbody tr th {\n",
       "        vertical-align: top;\n",
       "    }\n",
       "\n",
       "    .dataframe thead th {\n",
       "        text-align: right;\n",
       "    }\n",
       "</style>\n",
       "<table border=\"1\" class=\"dataframe\">\n",
       "  <thead>\n",
       "    <tr style=\"text-align: right;\">\n",
       "      <th></th>\n",
       "      <th>Unnamed: 0</th>\n",
       "      <th>source_id</th>\n",
       "      <th>destination_id</th>\n",
       "      <th>source_group</th>\n",
       "      <th>destination_group</th>\n",
       "    </tr>\n",
       "  </thead>\n",
       "  <tbody>\n",
       "  </tbody>\n",
       "</table>\n",
       "</div>"
      ],
      "text/plain": [
       "Empty DataFrame\n",
       "Columns: [Unnamed: 0, source_id, destination_id, source_group, destination_group]\n",
       "Index: []"
      ]
     },
     "execution_count": 129,
     "metadata": {},
     "output_type": "execute_result"
    }
   ],
   "source": [
    "df_duplicates"
   ]
  },
  {
   "cell_type": "code",
   "execution_count": 155,
   "metadata": {},
   "outputs": [],
   "source": [
    "Gm = ig.Graph.TupleList(tuples, directed = True)\n"
   ]
  },
  {
   "cell_type": "code",
   "execution_count": 120,
   "metadata": {},
   "outputs": [],
   "source": [
    "edges = Gm.ecount()\n",
    "nodes = Gm.vcount()"
   ]
  },
  {
   "cell_type": "markdown",
   "metadata": {},
   "source": [
    "## Checking for modularity, transitivity, small-world property and degree assortativity for each layer\n",
    "\n",
    "### Results modularity:\n",
    "\n",
    "- Family: 0.6711623336876632\n",
    "- Neighbours: 0.884774334375547\n",
    "- Work/school:0.3831499680672851\n",
    "- Household:999990245801818\n",
    "- Combined:  0.34357482848028703\n",
    "- Random: -1.7422323611572512e-06\n",
    "\n",
    "### Results transitivity\n",
    "\n",
    "- Family: 0.00173\n",
    "- Neighbours: 0.3498588104708938\n",
    "- Work/school: 0.000259283371100701\n",
    "- Household: 1\n",
    "- Combined: 0.09609942952800941\n",
    "- Random:5.22374458907123e-06\n",
    "\n",
    "### Results small-world property\n",
    "\n",
    "- Family: average shortest path = 6.9729, inf = True\n",
    "- Neighbours: 5.1827\n",
    "- Work/school: 4.116\n",
    "- Household: inf\n",
    "- Combined: 3.7043\n",
    "- Random: inf \n",
    "\n",
    "### Results degree assortativity\n",
    "\n",
    "- Family:0.41728363400785057\n",
    "- Neighbours: 0.09320552506500217\n",
    "- Work/school: 0.18906038946967274\n",
    "- Household: 1\n",
    "- Combined: 0.12087295309397249\n",
    "- Random: 0.0020899405101452075"
   ]
  },
  {
   "cell_type": "code",
   "execution_count": 157,
   "metadata": {},
   "outputs": [
    {
     "data": {
      "text/plain": [
       "(array([2.72798e+05, 2.04747e+05, 1.33426e+05, 5.27010e+04, 3.38290e+04,\n",
       "        1.51520e+04, 1.35170e+04, 9.09300e+03, 1.16080e+04, 1.19930e+04,\n",
       "        2.03320e+04, 1.86420e+04, 2.00570e+04, 1.05200e+04, 5.77800e+03,\n",
       "        2.90000e+03, 8.41000e+02, 4.25000e+02, 2.81000e+02, 4.40000e+02,\n",
       "        4.33000e+02, 5.50000e+02, 3.85000e+02, 3.79000e+02, 1.60000e+02,\n",
       "        1.10000e+02, 3.00000e+01, 1.40000e+01, 5.00000e+00, 2.00000e+00]),\n",
       " array([  2.        ,  10.93333333,  19.86666667,  28.8       ,\n",
       "         37.73333333,  46.66666667,  55.6       ,  64.53333333,\n",
       "         73.46666667,  82.4       ,  91.33333333, 100.26666667,\n",
       "        109.2       , 118.13333333, 127.06666667, 136.        ,\n",
       "        144.93333333, 153.86666667, 162.8       , 171.73333333,\n",
       "        180.66666667, 189.6       , 198.53333333, 207.46666667,\n",
       "        216.4       , 225.33333333, 234.26666667, 243.2       ,\n",
       "        252.13333333, 261.06666667, 270.        ]),\n",
       " <BarContainer object of 30 artists>)"
      ]
     },
     "execution_count": 157,
     "metadata": {},
     "output_type": "execute_result"
    },
    {
     "data": {
      "image/png": "[encoded data removed]",
      "text/plain": [
       "<Figure size 432x288 with 1 Axes>"
      ]
     },
     "metadata": {
      "needs_background": "light"
     },
     "output_type": "display_data"
    }
   ],
   "source": [
    "plt.hist(list(sorted(Gm.degree())), bins = 30)"
   ]
  },
  {
   "cell_type": "code",
   "execution_count": 136,
   "metadata": {},
   "outputs": [
    {
     "data": {
      "text/plain": [
       "29362450"
      ]
     },
     "execution_count": 136,
     "metadata": {},
     "output_type": "execute_result"
    }
   ],
   "source": [
    "df.n.sum()"
   ]
  },
  {
   "cell_type": "code",
   "execution_count": 11,
   "metadata": {},
   "outputs": [],
   "source": [
    "partition = la.find_partition(Gm, la.ModularityVertexPartition)"
   ]
  },
  {
   "cell_type": "code",
   "execution_count": 188,
   "metadata": {},
   "outputs": [
    {
     "data": {
      "text/plain": [
       "2.6149000043041646"
      ]
     },
     "execution_count": 188,
     "metadata": {},
     "output_type": "execute_result"
    }
   ],
   "source": [
    "np.log(np.log(861000))"
   ]
  },
  {
   "cell_type": "code",
   "execution_count": 12,
   "metadata": {},
   "outputs": [
    {
     "data": {
      "text/plain": [
       "0.6855677984593017"
      ]
     },
     "execution_count": 12,
     "metadata": {},
     "output_type": "execute_result"
    }
   ],
   "source": [
    "Gm.modularity(partition)"
   ]
  },
  {
   "cell_type": "code",
   "execution_count": 30,
   "metadata": {
    "scrolled": true
   },
   "outputs": [
    {
     "data": {
      "text/plain": [
       "0.3496429140336772"
      ]
     },
     "execution_count": 30,
     "metadata": {},
     "output_type": "execute_result"
    }
   ],
   "source": [
    "\n",
    "\n",
    "Gm.transitivity_undirected()"
   ]
  },
  {
   "cell_type": "code",
   "execution_count": 176,
   "metadata": {},
   "outputs": [
    {
     "name": "stdout",
     "output_type": "stream",
     "text": [
      "[ 74216 308975 444113 596804 308149 647053 807971 462235 225208 738453\n",
      " 547095 542124 459855 616353 650129 289759 741411 186118 326996 103804\n",
      " 528214 549025 283810  64232 259528 177471 124306 155639   1619 459459\n",
      " 653085 146439  79132 114796 428026  79096 259059 146614 123329 792827\n",
      " 764062 149867 423695 782312 498029  27823 825857 154721 195365 306359\n",
      " 242479 124925 622980 444074 484842 359237 843949 741693 762340 391795\n",
      " 374885 675509 538274 803024  37264 731163 112280 282989 746277 192919\n",
      " 476974 243019 225447 624246 765375 326651  48004  62363 858927 549007\n",
      " 325625 127075 852066 690692 785352 102508  91425 803405 434619 854422\n",
      " 605587 252967 144484 312808 262480 497389 793425 492893      0   5047] [316602 817008 439940 378037 792711 101495 137601 739512 222079   5858\n",
      " 540574 794380 549399  20355 551245 184107 195822 182942 675945 827488\n",
      "  62641 300552 483319 819620 548335  27163 348198 421071 716172 455824\n",
      "  89742 744384  13063 708622 107684 299124 261153 472802 546765 177656\n",
      "  83975 843572 118026 101597 411899 304250  95305 264374 536969 831744\n",
      " 183525 224472 692618 236858 802935 581799 360536 773606 683786 668791\n",
      " 148443 662876 546688 671220 711822 453342 438376  42496 763881 445411\n",
      " 264281 245968 410366 519570 464413 616587 542015 584200 818759 116436\n",
      " 185198 142157 323381 171496 629522 462523 458607 473859 566816 252585\n",
      " 227451 204687 650445 812648  45679 541827 528994 334949  11606 122303]\n"
     ]
    }
   ],
   "source": [
    "# Calsulating the shortest path (100 nodes)\n",
    "\n",
    "nodes = Gm.vcount()\n",
    "\n",
    "rn = np.random.randint(nodes, size=(100,2))\n",
    "\n",
    "\n",
    "\n",
    "x = rn[:,0]\n",
    "\n",
    "y = rn[:,1]\n",
    "\n",
    "print(x,y)\n",
    "\n",
    "\n",
    "sp = Gm.shortest_paths(x, y, mode='in')\n",
    "\n"
   ]
  },
  {
   "cell_type": "code",
   "execution_count": 186,
   "metadata": {},
   "outputs": [
    {
     "data": {
      "text/plain": [
       "3.7043"
      ]
     },
     "execution_count": 186,
     "metadata": {},
     "output_type": "execute_result"
    }
   ],
   "source": [
    " \n",
    "\n",
    "sp = np.array(sp).flatten()\n",
    "\n",
    "sp\n",
    "\n",
    "# # sp = list(sp[sp == np.inf] = 0.0)\n",
    "\n",
    "# sp = list(sp).remove(np.inf)\n",
    "\n",
    "\n",
    "\n",
    "np.mean(sp)\n"
   ]
  },
  {
   "cell_type": "code",
   "execution_count": 177,
   "metadata": {},
   "outputs": [
    {
     "data": {
      "text/plain": [
       "0.12087295309397249"
      ]
     },
     "execution_count": 177,
     "metadata": {},
     "output_type": "execute_result"
    }
   ],
   "source": [
    "Gm.assortativity_degree()"
   ]
  },
  {
   "cell_type": "code",
   "execution_count": 179,
   "metadata": {},
   "outputs": [],
   "source": [
    "p = nodes/((861000 * (861000 - 1))/2)"
   ]
  },
  {
   "cell_type": "code",
   "execution_count": 180,
   "metadata": {},
   "outputs": [
    {
     "data": {
      "text/plain": [
       "2.3207976007785216e-06"
      ]
     },
     "execution_count": 180,
     "metadata": {},
     "output_type": "execute_result"
    }
   ],
   "source": [
    "p"
   ]
  },
  {
   "cell_type": "code",
   "execution_count": 181,
   "metadata": {},
   "outputs": [],
   "source": [
    "gm_ER = ig.Graph.Erdos_Renyi(861000, p)"
   ]
  },
  {
   "cell_type": "code",
   "execution_count": 182,
   "metadata": {},
   "outputs": [
    {
     "data": {
      "text/plain": [
       "5.22374458907123e-06"
      ]
     },
     "execution_count": 182,
     "metadata": {},
     "output_type": "execute_result"
    }
   ],
   "source": [
    "gm_ER.transitivity_undirected()"
   ]
  },
  {
   "cell_type": "code",
   "execution_count": 12,
   "metadata": {},
   "outputs": [],
   "source": [
    "gm_WS = ig.Graph.Watts_Strogatz(1, 861000, 100, p)"
   ]
  },
  {
   "cell_type": "code",
   "execution_count": 13,
   "metadata": {},
   "outputs": [
    {
     "data": {
      "text/plain": [
       "0.7461553592838793"
      ]
     },
     "execution_count": 13,
     "metadata": {},
     "output_type": "execute_result"
    }
   ],
   "source": [
    "gm_WS.transitivity_undirected()"
   ]
  },
  {
   "cell_type": "code",
   "execution_count": 15,
   "metadata": {},
   "outputs": [
    {
     "data": {
      "text/plain": [
       "86100000"
      ]
     },
     "execution_count": 15,
     "metadata": {},
     "output_type": "execute_result"
    }
   ],
   "source": [
    "len(gm_WS.get_edgelist())"
   ]
  },
  {
   "cell_type": "code",
   "execution_count": 16,
   "metadata": {},
   "outputs": [
    {
     "data": {
      "text/plain": [
       "5985200"
      ]
     },
     "execution_count": 16,
     "metadata": {},
     "output_type": "execute_result"
    }
   ],
   "source": [
    "len(Gm.get_edgelist())"
   ]
  },
  {
   "cell_type": "code",
   "execution_count": 189,
   "metadata": {},
   "outputs": [],
   "source": [
    "random_partition = gm_ER.community_leiden()"
   ]
  },
  {
   "cell_type": "code",
   "execution_count": 190,
   "metadata": {},
   "outputs": [
    {
     "data": {
      "text/plain": [
       "-1.7422323611572512e-06"
      ]
     },
     "execution_count": 190,
     "metadata": {},
     "output_type": "execute_result"
    }
   ],
   "source": [
    "gm_ER.modularity(random_partition)"
   ]
  },
  {
   "cell_type": "code",
   "execution_count": 191,
   "metadata": {},
   "outputs": [
    {
     "name": "stdout",
     "output_type": "stream",
     "text": [
      "[754677 245753 153542 624938 706261 597863 463776  52315 326051 771848\n",
      " 443126 110910 171839 307167 759374 839451 228544   2743 152511 462799\n",
      " 794413 314805 845903 117823 572315 311150  88263 129795  30670 521681\n",
      " 629109 105850 306960 553916 827801 536203 312125 234166 486759 256738\n",
      " 820376 312951 290832 658205 451397 155994 707776  36666 747948 112192\n",
      " 648784 400292 601308 400493 351631 434908 195059 579013 235757  95240\n",
      " 782624 496907 203580 471138 200683 450480 122145 570660 156881 590537\n",
      " 608848 171509 736296  76536 208324 844318 426327 396313 257226 223558\n",
      "  98994 257944 794342 428026 298813 114228 212184 646611 681797 769792\n",
      " 123532 216881 757491 712594 681305 222116 390974 814861 587760 419203] [672736 536487   5713 247954 308588 337667 843219 279914 727861 477584\n",
      " 508072 591628 517682 760146 690067 402661 110036 850052 763398 665460\n",
      " 807711 270805 337837 543138 657908 269372 674918 693514 176416  99523\n",
      " 200447 774536 586836 380289 261969 246500  72943 464471  97413 462343\n",
      " 204132 255171 334678 266636 856725 252352 538939 677835 229322 655160\n",
      " 760953 489414 790514 695939 805327 676806 617345 793666 734802 337260\n",
      " 450701  80609 657517 606318 483242 819128 639044 309697  21260 309898\n",
      " 397967 507208 378996 752368 477533 844668 188550 728062 433966 773164\n",
      " 523829 398726 646208 275567  93130 531681 818126  74037 428758 133829\n",
      " 782713 789714 725965 361584 334554 638843  22710 318985 398748  33241]\n"
     ]
    }
   ],
   "source": [
    "# Calsulating the shortest path (100 nodes)\n",
    "\n",
    "rn = np.random.randint(nodes, size=(100,2))\n",
    "\n",
    "\n",
    "\n",
    "x = rn[:,0]\n",
    "\n",
    "y = rn[:,1]\n",
    "\n",
    "print(x,y)\n",
    "\n",
    "\n",
    "sp = gm_ER.shortest_paths(x, y, mode='in')\n"
   ]
  },
  {
   "cell_type": "code",
   "execution_count": 196,
   "metadata": {},
   "outputs": [
    {
     "data": {
      "text/plain": [
       "0.0020899405101452075"
      ]
     },
     "execution_count": 196,
     "metadata": {},
     "output_type": "execute_result"
    }
   ],
   "source": [
    "gm_ER.assortativity_degree()"
   ]
  },
  {
   "cell_type": "code",
   "execution_count": 55,
   "metadata": {},
   "outputs": [
    {
     "data": {
      "text/plain": [
       "13.665849783409868"
      ]
     },
     "execution_count": 55,
     "metadata": {},
     "output_type": "execute_result"
    }
   ],
   "source": [
    "np.log(861000)"
   ]
  },
  {
   "cell_type": "markdown",
   "metadata": {},
   "source": [
    "## Looking at different indexes in the new social network"
   ]
  },
  {
   "cell_type": "code",
   "execution_count": null,
   "metadata": {},
   "outputs": [],
   "source": []
  },
  {
   "cell_type": "markdown",
   "metadata": {},
   "source": [
    "## Other dataset\n",
    "\n",
    "Checking the degree distribution of calls + bt contact in Copenhagen\n",
    "https://figshare.com/articles/dataset/The_Copenhagen_Networks_Study_interaction_data/7267433/1?file=14039048"
   ]
  },
  {
   "cell_type": "code",
   "execution_count": 87,
   "metadata": {},
   "outputs": [],
   "source": [
    "df = pd.read_csv('../Data/other/bt_symmetric.csv')\n",
    "df = df[(df['user_b'] != 0) & (df['user_b'] != -1) & (df['user_b'] != -2)]\n",
    "tuples = [tuple([a, b]) for a, b in zip(df['user_a'], df['user_b'])]"
   ]
  },
  {
   "cell_type": "code",
   "execution_count": 99,
   "metadata": {},
   "outputs": [],
   "source": [
    "df = pd.read_csv('../Data/other/calls.csv')\n",
    "tuples = [tuple([a, b]) for a, b in zip(df['caller'], df['callee'])]"
   ]
  },
  {
   "cell_type": "code",
   "execution_count": 101,
   "metadata": {},
   "outputs": [
    {
     "data": {
      "text/plain": [
       "846"
      ]
     },
     "execution_count": 101,
     "metadata": {},
     "output_type": "execute_result"
    }
   ],
   "source": [
    "max(df['caller'])"
   ]
  },
  {
   "cell_type": "code",
   "execution_count": 94,
   "metadata": {},
   "outputs": [],
   "source": [
    "Gm_call = ig.Graph.TupleList(tuples, directed = False)\n"
   ]
  },
  {
   "cell_type": "code",
   "execution_count": 98,
   "metadata": {},
   "outputs": [
    {
     "data": {
      "text/plain": [
       "(array([153., 158., 142.,  94.,  65.,  52.,  17.,   6.,   3.,   1.]),\n",
       " array([1.00000e+00, 2.77780e+03, 5.55460e+03, 8.33140e+03, 1.11082e+04,\n",
       "        1.38850e+04, 1.66618e+04, 1.94386e+04, 2.22154e+04, 2.49922e+04,\n",
       "        2.77690e+04]),\n",
       " <BarContainer object of 10 artists>)"
      ]
     },
     "execution_count": 98,
     "metadata": {},
     "output_type": "execute_result"
    },
    {
     "data": {
      "image/png": "[encoded data removed]",
      "text/plain": [
       "<Figure size 432x288 with 1 Axes>"
      ]
     },
     "metadata": {
      "needs_background": "light"
     },
     "output_type": "display_data"
    }
   ],
   "source": [
    "plt.hist(Gm_call.indegree())"
   ]
  },
  {
   "cell_type": "code",
   "execution_count": 95,
   "metadata": {},
   "outputs": [
    {
     "data": {
      "text/plain": [
       "0.5175448155590411"
      ]
     },
     "execution_count": 95,
     "metadata": {},
     "output_type": "execute_result"
    }
   ],
   "source": [
    "Gm_call.transitivity_undirected()"
   ]
  },
  {
   "cell_type": "code",
   "execution_count": 96,
   "metadata": {},
   "outputs": [
    {
     "data": {
      "text/plain": [
       "0.13678329142947968"
      ]
     },
     "execution_count": 96,
     "metadata": {},
     "output_type": "execute_result"
    }
   ],
   "source": [
    "Gm_call.assortativity_degree()"
   ]
  },
  {
   "cell_type": "code",
   "execution_count": 97,
   "metadata": {},
   "outputs": [
    {
     "data": {
      "text/plain": [
       "1.0"
      ]
     },
     "execution_count": 97,
     "metadata": {},
     "output_type": "execute_result"
    }
   ],
   "source": [
    "Gm_call.reciprocity()"
   ]
  },
  {
   "cell_type": "code",
   "execution_count": 18,
   "metadata": {},
   "outputs": [],
   "source": [
    "partition = la.find_partition(Gm_call, la.ModularityVertexPartition)"
   ]
  },
  {
   "cell_type": "code",
   "execution_count": 19,
   "metadata": {},
   "outputs": [
    {
     "data": {
      "text/plain": [
       "0.5089693377565326"
      ]
     },
     "execution_count": 19,
     "metadata": {},
     "output_type": "execute_result"
    }
   ],
   "source": [
    "Gm_call.modularity(partition)"
   ]
  },
  {
   "cell_type": "code",
   "execution_count": 40,
   "metadata": {},
   "outputs": [
    {
     "name": "stdout",
     "output_type": "stream",
     "text": [
      "[104   3  28  27 242 488  53  96 278 443] [ 30 507 116 116 173 442  97 435  89   6]\n"
     ]
    },
    {
     "ename": "InternalError",
     "evalue": "Error at src/paths/unweighted.c:126: Duplicate vertices in `to', this is not allowed. -- Invalid value",
     "output_type": "error",
     "traceback": [
      "\u001b[1;31m---------------------------------------------------------------------------\u001b[0m",
      "\u001b[1;31mInternalError\u001b[0m                             Traceback (most recent call last)",
      "\u001b[1;32m<ipython-input-40-4507bec74990>\u001b[0m in \u001b[0;36m<module>\u001b[1;34m\u001b[0m\n\u001b[0;32m     12\u001b[0m \u001b[1;33m\u001b[0m\u001b[0m\n\u001b[0;32m     13\u001b[0m \u001b[1;33m\u001b[0m\u001b[0m\n\u001b[1;32m---> 14\u001b[1;33m \u001b[0msp\u001b[0m \u001b[1;33m=\u001b[0m \u001b[0mGm_call\u001b[0m\u001b[1;33m.\u001b[0m\u001b[0mshortest_paths\u001b[0m\u001b[1;33m(\u001b[0m\u001b[0mx\u001b[0m\u001b[1;33m,\u001b[0m \u001b[0my\u001b[0m\u001b[1;33m,\u001b[0m \u001b[0mmode\u001b[0m\u001b[1;33m=\u001b[0m\u001b[1;34m'in'\u001b[0m\u001b[1;33m)\u001b[0m\u001b[1;33m\u001b[0m\u001b[1;33m\u001b[0m\u001b[0m\n\u001b[0m\u001b[0;32m     15\u001b[0m \u001b[1;33m\u001b[0m\u001b[0m\n\u001b[0;32m     16\u001b[0m \u001b[0msp\u001b[0m \u001b[1;33m=\u001b[0m \u001b[0mnp\u001b[0m\u001b[1;33m.\u001b[0m\u001b[0marray\u001b[0m\u001b[1;33m(\u001b[0m\u001b[0msp\u001b[0m\u001b[1;33m)\u001b[0m\u001b[1;33m.\u001b[0m\u001b[0mflatten\u001b[0m\u001b[1;33m(\u001b[0m\u001b[1;33m)\u001b[0m\u001b[1;33m\u001b[0m\u001b[1;33m\u001b[0m\u001b[0m\n",
      "\u001b[1;31mInternalError\u001b[0m: Error at src/paths/unweighted.c:126: Duplicate vertices in `to', this is not allowed. -- Invalid value"
     ]
    }
   ],
   "source": [
    "\n",
    "nodes = Gm_call.vcount()\n",
    "\n",
    "rn = np.random.randint(nodes, size=(10,2))\n",
    "\n",
    "\n",
    "\n",
    "x = rn[:,0]\n",
    "\n",
    "y = rn[:,1]\n",
    "\n",
    "print(x,y)\n",
    "\n",
    "\n",
    "sp = Gm_call.shortest_paths(x, y, mode='in')\n",
    "\n",
    "sp = np.array(sp).flatten()\n",
    "\n",
    "\n",
    "\n",
    "# sp = list(sp[sp == np.inf] = 0.0)\n",
    "\n",
    "# sp = list(sp).remove(np.inf)\n",
    "\n",
    "\n",
    "\n",
    "# np.mean(sp)\n",
    "\n",
    "sp\n"
   ]
  },
  {
   "cell_type": "code",
   "execution_count": 10,
   "metadata": {},
   "outputs": [
    {
     "data": {
      "text/plain": [
       "<BarContainer object of 21 artists>"
      ]
     },
     "execution_count": 10,
     "metadata": {},
     "output_type": "execute_result"
    },
    {
     "data": {
      "image/png": "[encoded data removed]",
      "text/plain": [
       "<Figure size 432x288 with 1 Axes>"
      ]
     },
     "metadata": {
      "needs_background": "light"
     },
     "output_type": "display_data"
    }
   ],
   "source": [
    "df = pd.read_csv('../Data/other/Leeftijdsopbouw Nederland 2019.csv', sep=';')\n",
    "\n",
    "df = df[2:]\n",
    "\n",
    "plt.bar(height = df.iloc[-21:]['Vrouwen'], x = df.iloc[-21:]['Leeftijd'])"
   ]
  },
  {
   "cell_type": "code",
   "execution_count": 9,
   "metadata": {},
   "outputs": [
    {
     "data": {
      "text/html": [
       "<div>\n",
       "<style scoped>\n",
       "    .dataframe tbody tr th:only-of-type {\n",
       "        vertical-align: middle;\n",
       "    }\n",
       "\n",
       "    .dataframe tbody tr th {\n",
       "        vertical-align: top;\n",
       "    }\n",
       "\n",
       "    .dataframe thead th {\n",
       "        text-align: right;\n",
       "    }\n",
       "</style>\n",
       "<table border=\"1\" class=\"dataframe\">\n",
       "  <thead>\n",
       "    <tr style=\"text-align: right;\">\n",
       "      <th></th>\n",
       "      <th>Leeftijd</th>\n",
       "      <th>Mannen</th>\n",
       "      <th>Vrouwen</th>\n",
       "    </tr>\n",
       "  </thead>\n",
       "  <tbody>\n",
       "    <tr>\n",
       "      <th>2</th>\n",
       "      <td>104 jaar</td>\n",
       "      <td>0</td>\n",
       "      <td>0</td>\n",
       "    </tr>\n",
       "    <tr>\n",
       "      <th>3</th>\n",
       "      <td>103 jaar</td>\n",
       "      <td>0</td>\n",
       "      <td>0</td>\n",
       "    </tr>\n",
       "    <tr>\n",
       "      <th>4</th>\n",
       "      <td>102 jaar</td>\n",
       "      <td>0</td>\n",
       "      <td>0</td>\n",
       "    </tr>\n",
       "    <tr>\n",
       "      <th>5</th>\n",
       "      <td>101 jaar</td>\n",
       "      <td>0</td>\n",
       "      <td>0</td>\n",
       "    </tr>\n",
       "    <tr>\n",
       "      <th>6</th>\n",
       "      <td>100 jaar</td>\n",
       "      <td>0</td>\n",
       "      <td>1000</td>\n",
       "    </tr>\n",
       "    <tr>\n",
       "      <th>...</th>\n",
       "      <td>...</td>\n",
       "      <td>...</td>\n",
       "      <td>...</td>\n",
       "    </tr>\n",
       "    <tr>\n",
       "      <th>102</th>\n",
       "      <td>4 jaar</td>\n",
       "      <td>91000</td>\n",
       "      <td>87000</td>\n",
       "    </tr>\n",
       "    <tr>\n",
       "      <th>103</th>\n",
       "      <td>3 jaar</td>\n",
       "      <td>89000</td>\n",
       "      <td>85000</td>\n",
       "    </tr>\n",
       "    <tr>\n",
       "      <th>104</th>\n",
       "      <td>2 jaar</td>\n",
       "      <td>89000</td>\n",
       "      <td>85000</td>\n",
       "    </tr>\n",
       "    <tr>\n",
       "      <th>105</th>\n",
       "      <td>1 jaar</td>\n",
       "      <td>88000</td>\n",
       "      <td>83000</td>\n",
       "    </tr>\n",
       "    <tr>\n",
       "      <th>106</th>\n",
       "      <td>0 jaar</td>\n",
       "      <td>86000</td>\n",
       "      <td>82000</td>\n",
       "    </tr>\n",
       "  </tbody>\n",
       "</table>\n",
       "<p>105 rows × 3 columns</p>\n",
       "</div>"
      ],
      "text/plain": [
       "     Leeftijd  Mannen  Vrouwen\n",
       "2    104 jaar       0        0\n",
       "3    103 jaar       0        0\n",
       "4    102 jaar       0        0\n",
       "5    101 jaar       0        0\n",
       "6    100 jaar       0     1000\n",
       "..        ...     ...      ...\n",
       "102    4 jaar   91000    87000\n",
       "103    3 jaar   89000    85000\n",
       "104    2 jaar   89000    85000\n",
       "105    1 jaar   88000    83000\n",
       "106    0 jaar   86000    82000\n",
       "\n",
       "[105 rows x 3 columns]"
      ]
     },
     "execution_count": 9,
     "metadata": {},
     "output_type": "execute_result"
    }
   ],
   "source": [
    "df"
   ]
  },
  {
   "cell_type": "code",
   "execution_count": 11,
   "metadata": {},
   "outputs": [],
   "source": [
    "df.columns = df.columns.str.replace(' ', '')\n",
    "\n",
    "df['Mannen'] = df['Mannen'].str.replace(' ', '')\n",
    "df['Vrouwen'] = df['Vrouwen'].str.replace(' ', '')\n",
    "\n",
    "df['Mannen'] = pd.to_numeric(df['Mannen'])\n",
    "df['Vrouwen'] = pd.to_numeric(df['Vrouwen'])\n"
   ]
  },
  {
   "cell_type": "code",
   "execution_count": 12,
   "metadata": {},
   "outputs": [],
   "source": [
    "df.columns = df.columns.str.replace(' ', '')\n",
    "\n",
    "df['Leeftijd'] = df['Leeftijd'].str.replace(' jaar', '')\n",
    "\n",
    "\n",
    "df['Leeftijd'] = pd.to_numeric(df['Leeftijd'])\n",
    "# df['Vrouwen'] = pd.to_numeric(df['Vrouwen'])\n"
   ]
  },
  {
   "cell_type": "code",
   "execution_count": 13,
   "metadata": {
    "code_folding": []
   },
   "outputs": [],
   "source": [
    "df['tot'] = df['Mannen'] + df['Vrouwen']"
   ]
  },
  {
   "cell_type": "code",
   "execution_count": 14,
   "metadata": {},
   "outputs": [
    {
     "data": {
      "text/plain": [
       "0.4256772401018754"
      ]
     },
     "execution_count": 14,
     "metadata": {},
     "output_type": "execute_result"
    }
   ],
   "source": [
    "(df.iloc[-16:]['tot'].sum() + df.iloc[0:-60]['tot'].sum()) /df['tot'].sum()"
   ]
  },
  {
   "cell_type": "code",
   "execution_count": 22,
   "metadata": {},
   "outputs": [
    {
     "name": "stderr",
     "output_type": "stream",
     "text": [
      "<ipython-input-22-e473da8e82cd>:14: SettingWithCopyWarning: \n",
      "A value is trying to be set on a copy of a slice from a DataFrame.\n",
      "Try using .loc[row_indexer,col_indexer] = value instead\n",
      "\n",
      "See the caveats in the documentation: https://pandas.pydata.org/pandas-docs/stable/user_guide/indexing.html#returning-a-view-versus-a-copy\n",
      "  age['fractie_Vrouwen'] = age['Vrouwen']/age['Vrouwen'].sum()\n",
      "<ipython-input-22-e473da8e82cd>:15: SettingWithCopyWarning: \n",
      "A value is trying to be set on a copy of a slice from a DataFrame.\n",
      "Try using .loc[row_indexer,col_indexer] = value instead\n",
      "\n",
      "See the caveats in the documentation: https://pandas.pydata.org/pandas-docs/stable/user_guide/indexing.html#returning-a-view-versus-a-copy\n",
      "  age['fractie_Mannen'] = age['Mannen']/age['Mannen'].sum()\n"
     ]
    }
   ],
   "source": [
    "ages = [\n",
    "df.iloc[-20:-1],\n",
    "df.iloc[-30:-20],\n",
    "df.iloc[-40:-30],\n",
    "df.iloc[-50:-40],\n",
    "df.iloc[-60:-50],\n",
    "df.iloc[-70:-60],\n",
    "df.iloc[-80:-70],\n",
    "df.iloc[0:-80],\n",
    "\n",
    "]\n",
    "\n",
    "for age in ages:\n",
    "    age['fractie_Vrouwen'] = age['Vrouwen']/age['Vrouwen'].sum()\n",
    "    age['fractie_Mannen'] = age['Mannen']/age['Mannen'].sum()"
   ]
  },
  {
   "cell_type": "code",
   "execution_count": 23,
   "metadata": {},
   "outputs": [
    {
     "name": "stdout",
     "output_type": "stream",
     "text": [
      "     Leeftijd  Mannen  Vrouwen     tot  fractie_Vrouwen  fractie_Mannen\n",
      "87         19  111000   106000  217000         0.059989        0.059838\n",
      "88         18  111000   106000  217000         0.059989        0.059838\n",
      "89         17  107000   101000  208000         0.057159        0.057682\n",
      "90         16  105000   100000  205000         0.056593        0.056604\n",
      "91         15  105000   100000  205000         0.056593        0.056604\n",
      "92         14  101000    97000  198000         0.054895        0.054447\n",
      "93         13   98000    94000  192000         0.053198        0.052830\n",
      "94         12   98000    93000  191000         0.052632        0.052830\n",
      "95         11   95000    91000  186000         0.051500        0.051213\n",
      "96         10   98000    93000  191000         0.052632        0.052830\n",
      "97          9   97000    92000  189000         0.052066        0.052291\n",
      "98          8   96000    92000  188000         0.052066        0.051752\n",
      "99          7   94000    89000  183000         0.050368        0.050674\n",
      "100         6   92000    88000  180000         0.049802        0.049596\n",
      "101         5   90000    85000  175000         0.048104        0.048518\n",
      "102         4   91000    87000  178000         0.049236        0.049057\n",
      "103         3   89000    85000  174000         0.048104        0.047978\n",
      "104         2   89000    85000  174000         0.048104        0.047978\n",
      "105         1   88000    83000  171000         0.046972        0.047439\n",
      "    Leeftijd  Mannen  Vrouwen     tot  fractie_Vrouwen  fractie_Mannen\n",
      "77        29  111000   109000  220000         0.100646        0.099373\n",
      "78        28  116000   112000  228000         0.103416        0.103850\n",
      "79        27  115000   112000  227000         0.103416        0.102954\n",
      "80        26  114000   110000  224000         0.101570        0.102059\n",
      "81        25  113000   109000  222000         0.100646        0.101164\n",
      "82        24  112000   109000  221000         0.100646        0.100269\n",
      "83        23  109000   106000  215000         0.097876        0.097583\n",
      "84        22  108000   104000  212000         0.096030        0.096688\n",
      "85        21  108000   105000  213000         0.096953        0.096688\n",
      "86        20  111000   107000  218000         0.098800        0.099373\n",
      "    Leeftijd  Mannen  Vrouwen     tot  fractie_Vrouwen  fractie_Mannen\n",
      "67        39  102000   102000  204000         0.097328        0.096226\n",
      "68        38  106000   105000  211000         0.100191        0.100000\n",
      "69        37  104000   104000  208000         0.099237        0.098113\n",
      "70        36  103000   102000  205000         0.097328        0.097170\n",
      "71        35  102000   101000  203000         0.096374        0.096226\n",
      "72        34  106000   104000  210000         0.099237        0.100000\n",
      "73        33  107000   106000  213000         0.101145        0.100943\n",
      "74        32  109000   108000  217000         0.103053        0.102830\n",
      "75        31  111000   108000  219000         0.103053        0.104717\n",
      "76        30  110000   108000  218000         0.103053        0.103774\n",
      "    Leeftijd  Mannen  Vrouwen     tot  fractie_Vrouwen  fractie_Mannen\n",
      "57        49  133000   133000  266000         0.117387        0.118117\n",
      "58        48  130000   130000  260000         0.114740        0.115453\n",
      "59        47  125000   125000  250000         0.110327        0.111012\n",
      "60        46  118000   120000  238000         0.105914        0.104796\n",
      "61        45  110000   111000  221000         0.097970        0.097691\n",
      "62        44  106000   107000  213000         0.094440        0.094139\n",
      "63        43  101000   103000  204000         0.090909        0.089698\n",
      "64        42  101000   101000  202000         0.089144        0.089698\n",
      "65        41  100000   101000  201000         0.089144        0.088810\n",
      "66        40  102000   102000  204000         0.090026        0.090586\n",
      "    Leeftijd  Mannen  Vrouwen     tot  fractie_Vrouwen  fractie_Mannen\n",
      "47        59  119000   119000  238000         0.095276        0.094519\n",
      "48        58  120000   120000  240000         0.096077        0.095314\n",
      "49        57  124000   124000  248000         0.099279        0.098491\n",
      "50        56  125000   125000  250000         0.100080        0.099285\n",
      "51        55  129000   127000  256000         0.101681        0.102462\n",
      "52        54  131000   129000  260000         0.103283        0.104051\n",
      "53        53  129000   127000  256000         0.101681        0.102462\n",
      "54        52  127000   126000  253000         0.100881        0.100874\n",
      "55        51  127000   125000  252000         0.100080        0.100874\n",
      "56        50  128000   127000  255000         0.101681        0.101668\n",
      "    Leeftijd  Mannen  Vrouwen     tot  fractie_Vrouwen  fractie_Mannen\n",
      "37        69   96000    99000  195000         0.094106        0.092397\n",
      "38        68   96000    98000  194000         0.093156        0.092397\n",
      "39        67   97000    98000  195000         0.093156        0.093359\n",
      "40        66  101000   103000  204000         0.097909        0.097209\n",
      "41        65  102000   103000  205000         0.097909        0.098171\n",
      "42        64  104000   105000  209000         0.099810        0.100096\n",
      "43        63  106000   108000  214000         0.102662        0.102021\n",
      "44        62  110000   110000  220000         0.104563        0.105871\n",
      "45        61  112000   113000  225000         0.107414        0.107796\n",
      "46        60  115000   115000  230000         0.109316        0.110683\n",
      "    Leeftijd  Mannen  Vrouwen     tot  fractie_Vrouwen  fractie_Mannen\n",
      "27        79   49000    59000  108000         0.074589        0.067031\n",
      "28        78   54000    63000  117000         0.079646        0.073871\n",
      "29        77   55000    62000  117000         0.078382        0.075239\n",
      "30        76   60000    67000  127000         0.084703        0.082079\n",
      "31        75   67000    73000  140000         0.092288        0.091655\n",
      "32        74   73000    78000  151000         0.098609        0.099863\n",
      "33        73   71000    76000  147000         0.096081        0.097127\n",
      "34        72  103000   107000  210000         0.135272        0.140903\n",
      "35        71  101000   105000  206000         0.132743        0.138167\n",
      "36        70   98000   101000  199000         0.127686        0.134063\n",
      "    Leeftijd  Mannen  Vrouwen     tot  fractie_Vrouwen  fractie_Mannen\n",
      "2        104       0        0       0         0.000000        0.000000\n",
      "3        103       0        0       0         0.000000        0.000000\n",
      "4        102       0        0       0         0.000000        0.000000\n",
      "5        101       0        0       0         0.000000        0.000000\n",
      "6        100       0     1000    1000         0.002033        0.000000\n",
      "7         99       0     1000    1000         0.002033        0.000000\n",
      "8         98    1000     2000    3000         0.004065        0.003268\n",
      "9         97    1000     3000    4000         0.006098        0.003268\n",
      "10        96    1000     5000    6000         0.010163        0.003268\n",
      "11        95    2000     7000    9000         0.014228        0.006536\n",
      "12        94    3000     9000   12000         0.018293        0.009804\n",
      "13        93    4000    11000   15000         0.022358        0.013072\n",
      "14        92    6000    14000   20000         0.028455        0.019608\n",
      "15        91    7000    17000   24000         0.034553        0.022876\n",
      "16        90   10000    21000   31000         0.042683        0.032680\n",
      "17        89   12000    24000   36000         0.048780        0.039216\n",
      "18        88   15000    29000   44000         0.058943        0.049020\n",
      "19        87   18000    32000   50000         0.065041        0.058824\n",
      "20        86   22000    36000   58000         0.073171        0.071895\n",
      "21        85   24000    38000   62000         0.077236        0.078431\n",
      "22        84   28000    42000   70000         0.085366        0.091503\n",
      "23        83   32000    45000   77000         0.091463        0.104575\n",
      "24        82   36000    48000   84000         0.097561        0.117647\n",
      "25        81   39000    51000   90000         0.103659        0.127451\n",
      "26        80   45000    56000  101000         0.113821        0.147059\n"
     ]
    }
   ],
   "source": [
    "\n",
    "for count, age in enumerate(ages):\n",
    "    print(age)\n",
    "    age.to_csv(f'../Data/other/Leeftijdsopbouw_group_{count}.csv')"
   ]
  },
  {
   "cell_type": "code",
   "execution_count": 44,
   "metadata": {},
   "outputs": [],
   "source": [
    "\n",
    "\n",
    "df = pd.read_csv('../Data/Other/Leeftijd overledenen, 2020 (x 1 000).csv', sep=';')\n",
    "\n",
    "df.columns = df.columns.str.replace(' ', '')\n",
    "\n",
    "df['Mannen'] = df['Mannen'].str.replace(',', '.')\n",
    "df['Vrouwen'] = df['Vrouwen'].str.replace(',', '.')\n",
    "\n",
    "df['Mannen'] = pd.to_numeric(df['Mannen']) * 1000\n",
    "df['Vrouwen'] = pd.to_numeric(df['Vrouwen']) *1000"
   ]
  },
  {
   "cell_type": "code",
   "execution_count": 45,
   "metadata": {},
   "outputs": [
    {
     "name": "stdout",
     "output_type": "stream",
     "text": [
      "[86000.0, 826000, 1029000, 1117000, 1060000, 1126000, 1259000, 1039000, 731000, 271000, 35000] [82000.0, 786000, 981000, 1083000, 1048000, 1133000, 1249000, 1052000, 791000, 401000, 91000]\n"
     ]
    },
    {
     "data": {
      "text/html": [
       "<div>\n",
       "<style scoped>\n",
       "    .dataframe tbody tr th:only-of-type {\n",
       "        vertical-align: middle;\n",
       "    }\n",
       "\n",
       "    .dataframe tbody tr th {\n",
       "        vertical-align: top;\n",
       "    }\n",
       "\n",
       "    .dataframe thead th {\n",
       "        text-align: right;\n",
       "    }\n",
       "</style>\n",
       "<table border=\"1\" class=\"dataframe\">\n",
       "  <thead>\n",
       "    <tr style=\"text-align: right;\">\n",
       "      <th></th>\n",
       "      <th>Leeftijd</th>\n",
       "      <th>Mannen</th>\n",
       "      <th>Vrouwen</th>\n",
       "    </tr>\n",
       "  </thead>\n",
       "  <tbody>\n",
       "    <tr>\n",
       "      <th>0</th>\n",
       "      <td>0 jaar</td>\n",
       "      <td>360.0</td>\n",
       "      <td>288.0</td>\n",
       "    </tr>\n",
       "    <tr>\n",
       "      <th>1</th>\n",
       "      <td>1 tot 10 jaar</td>\n",
       "      <td>74.0</td>\n",
       "      <td>59.0</td>\n",
       "    </tr>\n",
       "    <tr>\n",
       "      <th>2</th>\n",
       "      <td>10 tot 20 jaar</td>\n",
       "      <td>170.0</td>\n",
       "      <td>112.0</td>\n",
       "    </tr>\n",
       "    <tr>\n",
       "      <th>3</th>\n",
       "      <td>20 tot 30 jaar</td>\n",
       "      <td>443.0</td>\n",
       "      <td>229.0</td>\n",
       "    </tr>\n",
       "    <tr>\n",
       "      <th>4</th>\n",
       "      <td>30 tot 40 jaar</td>\n",
       "      <td>738.0</td>\n",
       "      <td>453.0</td>\n",
       "    </tr>\n",
       "    <tr>\n",
       "      <th>5</th>\n",
       "      <td>40 tot 50 jaar</td>\n",
       "      <td>1698.0</td>\n",
       "      <td>1198.0</td>\n",
       "    </tr>\n",
       "    <tr>\n",
       "      <th>6</th>\n",
       "      <td>50 tot 60 jaar</td>\n",
       "      <td>5053.0</td>\n",
       "      <td>3518.0</td>\n",
       "    </tr>\n",
       "    <tr>\n",
       "      <th>7</th>\n",
       "      <td>60 tot 70 jaar</td>\n",
       "      <td>11803.0</td>\n",
       "      <td>8302.0</td>\n",
       "    </tr>\n",
       "    <tr>\n",
       "      <th>8</th>\n",
       "      <td>70 tot 80 jaar</td>\n",
       "      <td>23890.0</td>\n",
       "      <td>16983.0</td>\n",
       "    </tr>\n",
       "    <tr>\n",
       "      <th>9</th>\n",
       "      <td>80 tot 90 jaar</td>\n",
       "      <td>29314.0</td>\n",
       "      <td>30561.0</td>\n",
       "    </tr>\n",
       "    <tr>\n",
       "      <th>10</th>\n",
       "      <td>90 jaar of ouder</td>\n",
       "      <td>10774.0</td>\n",
       "      <td>22658.0</td>\n",
       "    </tr>\n",
       "  </tbody>\n",
       "</table>\n",
       "</div>"
      ],
      "text/plain": [
       "            Leeftijd   Mannen  Vrouwen\n",
       "0             0 jaar    360.0    288.0\n",
       "1      1 tot 10 jaar     74.0     59.0\n",
       "2     10 tot 20 jaar    170.0    112.0\n",
       "3     20 tot 30 jaar    443.0    229.0\n",
       "4     30 tot 40 jaar    738.0    453.0\n",
       "5     40 tot 50 jaar   1698.0   1198.0\n",
       "6     50 tot 60 jaar   5053.0   3518.0\n",
       "7     60 tot 70 jaar  11803.0   8302.0\n",
       "8     70 tot 80 jaar  23890.0  16983.0\n",
       "9     80 tot 90 jaar  29314.0  30561.0\n",
       "10  90 jaar of ouder  10774.0  22658.0"
      ]
     },
     "execution_count": 45,
     "metadata": {},
     "output_type": "execute_result"
    }
   ],
   "source": [
    "mannen = []\n",
    "vrouwen = []\n",
    "for age in ages:\n",
    "    mannen.append(age['Mannen'].sum())\n",
    "    vrouwen.append(age['Vrouwen'].sum())\n",
    "    \n",
    "print(mannen, vrouwen)\n",
    "\n",
    "\n",
    "df"
   ]
  },
  {
   "cell_type": "code",
   "execution_count": 46,
   "metadata": {},
   "outputs": [],
   "source": [
    "df['percentage_m'] = df['Mannen']/mannen\n",
    "df['percentage_v'] = df['Vrouwen']/vrouwen"
   ]
  },
  {
   "cell_type": "code",
   "execution_count": 48,
   "metadata": {},
   "outputs": [
    {
     "data": {
      "text/html": [
       "<div>\n",
       "<style scoped>\n",
       "    .dataframe tbody tr th:only-of-type {\n",
       "        vertical-align: middle;\n",
       "    }\n",
       "\n",
       "    .dataframe tbody tr th {\n",
       "        vertical-align: top;\n",
       "    }\n",
       "\n",
       "    .dataframe thead th {\n",
       "        text-align: right;\n",
       "    }\n",
       "</style>\n",
       "<table border=\"1\" class=\"dataframe\">\n",
       "  <thead>\n",
       "    <tr style=\"text-align: right;\">\n",
       "      <th></th>\n",
       "      <th>Leeftijd</th>\n",
       "      <th>Mannen</th>\n",
       "      <th>Vrouwen</th>\n",
       "      <th>percentage_m</th>\n",
       "      <th>percentage_v</th>\n",
       "    </tr>\n",
       "  </thead>\n",
       "  <tbody>\n",
       "    <tr>\n",
       "      <th>0</th>\n",
       "      <td>0 jaar</td>\n",
       "      <td>360.0</td>\n",
       "      <td>288.0</td>\n",
       "      <td>0.004186</td>\n",
       "      <td>0.003512</td>\n",
       "    </tr>\n",
       "    <tr>\n",
       "      <th>1</th>\n",
       "      <td>1 tot 10 jaar</td>\n",
       "      <td>74.0</td>\n",
       "      <td>59.0</td>\n",
       "      <td>0.000090</td>\n",
       "      <td>0.000075</td>\n",
       "    </tr>\n",
       "    <tr>\n",
       "      <th>2</th>\n",
       "      <td>10 tot 20 jaar</td>\n",
       "      <td>170.0</td>\n",
       "      <td>112.0</td>\n",
       "      <td>0.000165</td>\n",
       "      <td>0.000114</td>\n",
       "    </tr>\n",
       "    <tr>\n",
       "      <th>3</th>\n",
       "      <td>20 tot 30 jaar</td>\n",
       "      <td>443.0</td>\n",
       "      <td>229.0</td>\n",
       "      <td>0.000397</td>\n",
       "      <td>0.000211</td>\n",
       "    </tr>\n",
       "    <tr>\n",
       "      <th>4</th>\n",
       "      <td>30 tot 40 jaar</td>\n",
       "      <td>738.0</td>\n",
       "      <td>453.0</td>\n",
       "      <td>0.000696</td>\n",
       "      <td>0.000432</td>\n",
       "    </tr>\n",
       "    <tr>\n",
       "      <th>5</th>\n",
       "      <td>40 tot 50 jaar</td>\n",
       "      <td>1698.0</td>\n",
       "      <td>1198.0</td>\n",
       "      <td>0.001508</td>\n",
       "      <td>0.001057</td>\n",
       "    </tr>\n",
       "    <tr>\n",
       "      <th>6</th>\n",
       "      <td>50 tot 60 jaar</td>\n",
       "      <td>5053.0</td>\n",
       "      <td>3518.0</td>\n",
       "      <td>0.004014</td>\n",
       "      <td>0.002817</td>\n",
       "    </tr>\n",
       "    <tr>\n",
       "      <th>7</th>\n",
       "      <td>60 tot 70 jaar</td>\n",
       "      <td>11803.0</td>\n",
       "      <td>8302.0</td>\n",
       "      <td>0.011360</td>\n",
       "      <td>0.007892</td>\n",
       "    </tr>\n",
       "    <tr>\n",
       "      <th>8</th>\n",
       "      <td>70 tot 80 jaar</td>\n",
       "      <td>23890.0</td>\n",
       "      <td>16983.0</td>\n",
       "      <td>0.032681</td>\n",
       "      <td>0.021470</td>\n",
       "    </tr>\n",
       "    <tr>\n",
       "      <th>9</th>\n",
       "      <td>80 tot 90 jaar</td>\n",
       "      <td>29314.0</td>\n",
       "      <td>30561.0</td>\n",
       "      <td>0.108170</td>\n",
       "      <td>0.076212</td>\n",
       "    </tr>\n",
       "    <tr>\n",
       "      <th>10</th>\n",
       "      <td>90 jaar of ouder</td>\n",
       "      <td>10774.0</td>\n",
       "      <td>22658.0</td>\n",
       "      <td>0.307829</td>\n",
       "      <td>0.248989</td>\n",
       "    </tr>\n",
       "  </tbody>\n",
       "</table>\n",
       "</div>"
      ],
      "text/plain": [
       "            Leeftijd   Mannen  Vrouwen  percentage_m  percentage_v\n",
       "0             0 jaar    360.0    288.0      0.004186      0.003512\n",
       "1      1 tot 10 jaar     74.0     59.0      0.000090      0.000075\n",
       "2     10 tot 20 jaar    170.0    112.0      0.000165      0.000114\n",
       "3     20 tot 30 jaar    443.0    229.0      0.000397      0.000211\n",
       "4     30 tot 40 jaar    738.0    453.0      0.000696      0.000432\n",
       "5     40 tot 50 jaar   1698.0   1198.0      0.001508      0.001057\n",
       "6     50 tot 60 jaar   5053.0   3518.0      0.004014      0.002817\n",
       "7     60 tot 70 jaar  11803.0   8302.0      0.011360      0.007892\n",
       "8     70 tot 80 jaar  23890.0  16983.0      0.032681      0.021470\n",
       "9     80 tot 90 jaar  29314.0  30561.0      0.108170      0.076212\n",
       "10  90 jaar of ouder  10774.0  22658.0      0.307829      0.248989"
      ]
     },
     "execution_count": 48,
     "metadata": {},
     "output_type": "execute_result"
    }
   ],
   "source": [
    "df.iloc[-1]['Mannen'] + df.iloc[-2]['Mannen']\n",
    "df.iloc[-1]['Vrouwen'] + df.iloc[-2]['Vrouwen']\n",
    "df"
   ]
  },
  {
   "cell_type": "code",
   "execution_count": 50,
   "metadata": {},
   "outputs": [],
   "source": [
    "df.to_csv('../Data/other/Leeftijd overledenen.csv')"
   ]
  },
  {
   "cell_type": "code",
   "execution_count": 105,
   "metadata": {
    "scrolled": true
   },
   "outputs": [],
   "source": [
    "df = pd.read_csv('../Data/Other/Aandeel geboorten 1e kind naar leeftijd moeder (%).csv', sep=';')"
   ]
  },
  {
   "cell_type": "code",
   "execution_count": 106,
   "metadata": {},
   "outputs": [],
   "source": [
    "df[df['Jaar'] == 2020]\n",
    "\n",
    "\n",
    "df['jonger dan 25 jaar'] = df['jonger dan 25 jaar'].str.replace(' ', '.')\n",
    "df['25 tot 30 jaar'] = df['25 tot 30 jaar'].str.replace(' ', '.')\n",
    "df['30 tot 35 jaar'] = df['30 tot 35 jaar'].str.replace(' ', '.')\n",
    "df['35 jaar of ouder'] = df['35 jaar of ouder'].str.replace(' ', '.')\n",
    "\n",
    "df['jonger dan 25 jaar'] = pd.to_numeric(df['jonger dan 25 jaar'])\n",
    "df['25 tot 30 jaar'] = pd.to_numeric(df['25 tot 30 jaar'])\n",
    "df['30 tot 35 jaar'] = pd.to_numeric(df['30 tot 35 jaar'])\n",
    "df['35 jaar of ouder'] = pd.to_numeric(df['35 jaar of ouder'])\n",
    "\n",
    "\n"
   ]
  },
  {
   "cell_type": "code",
   "execution_count": 108,
   "metadata": {
    "scrolled": true
   },
   "outputs": [],
   "source": [
    "df = df[df['Jaar'] == 2020] /100 * 4\n",
    "\n",
    "df.T.tail(4).to_csv('probability children women.csv')"
   ]
  },
  {
   "cell_type": "code",
   "execution_count": 109,
   "metadata": {},
   "outputs": [],
   "source": [
    "\n",
    "df = pd.read_csv('../Data\\Other\\Aandeel kinderen naar leeftijd vader.csv', sep=';')"
   ]
  },
  {
   "cell_type": "code",
   "execution_count": 110,
   "metadata": {},
   "outputs": [],
   "source": [
    "df['jonger dan 25 jaar'] = df['jonger dan 25 jaar'].str.replace(' ', '.')\n",
    "df['25 tot 30 jaar'] = df['25 tot 30 jaar'].str.replace(' ', '.')\n",
    "df['30 tot 35 jaar'] = df['30 tot 35 jaar'].str.replace(' ', '.')\n",
    "df['35 tot 40 jaar'] = df['35 tot 40 jaar'].str.replace(' ', '.')\n",
    "df['40 tot 45 jaar'] = df['40 tot 45 jaar'].str.replace(' ', '.')\n",
    "df['45 tot 50 jaar'] = df['45 tot 50 jaar'].str.replace(' ', '.')\n",
    "df['50 jaar of ouder'] = df['50 jaar of ouder'].str.replace(' ', '.')\n",
    "\n",
    "\n",
    "df['jonger dan 25 jaar'] = pd.to_numeric(df['jonger dan 25 jaar'])\n",
    "df['25 tot 30 jaar'] = pd.to_numeric(df['25 tot 30 jaar'])\n",
    "df['30 tot 35 jaar'] = pd.to_numeric(df['30 tot 35 jaar'])\n",
    "df['35 tot 40 jaar'] = pd.to_numeric(df['35 tot 40 jaar'])\n",
    "df['40 tot 45 jaar'] =  pd.to_numeric(df['40 tot 45 jaar'])\n",
    "df['45 tot 50 jaar'] =  pd.to_numeric(df['45 tot 50 jaar'])\n",
    "df['50 jaar of ouder'] = pd.to_numeric(df['50 jaar of ouder'])\n",
    "\n",
    "\n"
   ]
  },
  {
   "cell_type": "code",
   "execution_count": 111,
   "metadata": {},
   "outputs": [
    {
     "data": {
      "text/html": [
       "<div>\n",
       "<style scoped>\n",
       "    .dataframe tbody tr th:only-of-type {\n",
       "        vertical-align: middle;\n",
       "    }\n",
       "\n",
       "    .dataframe tbody tr th {\n",
       "        vertical-align: top;\n",
       "    }\n",
       "\n",
       "    .dataframe thead th {\n",
       "        text-align: right;\n",
       "    }\n",
       "</style>\n",
       "<table border=\"1\" class=\"dataframe\">\n",
       "  <thead>\n",
       "    <tr style=\"text-align: right;\">\n",
       "      <th></th>\n",
       "      <th>0</th>\n",
       "    </tr>\n",
       "  </thead>\n",
       "  <tbody>\n",
       "    <tr>\n",
       "      <th>jonger dan 25 jaar</th>\n",
       "      <td>4.361</td>\n",
       "    </tr>\n",
       "    <tr>\n",
       "      <th>25 tot 30 jaar</th>\n",
       "      <td>26.151</td>\n",
       "    </tr>\n",
       "    <tr>\n",
       "      <th>30 tot 35 jaar</th>\n",
       "      <td>62.831</td>\n",
       "    </tr>\n",
       "    <tr>\n",
       "      <th>35 tot 40 jaar</th>\n",
       "      <td>47.999</td>\n",
       "    </tr>\n",
       "    <tr>\n",
       "      <th>40 tot 45 jaar</th>\n",
       "      <td>18.769</td>\n",
       "    </tr>\n",
       "    <tr>\n",
       "      <th>45 tot 50 jaar</th>\n",
       "      <td>5.756</td>\n",
       "    </tr>\n",
       "    <tr>\n",
       "      <th>50 jaar of ouder</th>\n",
       "      <td>2.814</td>\n",
       "    </tr>\n",
       "  </tbody>\n",
       "</table>\n",
       "</div>"
      ],
      "text/plain": [
       "                         0\n",
       "jonger dan 25 jaar   4.361\n",
       "25 tot 30 jaar      26.151\n",
       "30 tot 35 jaar      62.831\n",
       "35 tot 40 jaar      47.999\n",
       "40 tot 45 jaar      18.769\n",
       "45 tot 50 jaar       5.756\n",
       "50 jaar of ouder     2.814"
      ]
     },
     "execution_count": 111,
     "metadata": {},
     "output_type": "execute_result"
    }
   ],
   "source": [
    "df_t = df[df['Jaar'] == 2020].T\n",
    "\n",
    "df_t = df_t.tail(7)\n",
    "\n",
    "df_t"
   ]
  },
  {
   "cell_type": "code",
   "execution_count": 112,
   "metadata": {},
   "outputs": [],
   "source": [
    "df_t[0] = df_t[0]/df_t[0].sum() * 7"
   ]
  },
  {
   "cell_type": "code",
   "execution_count": 114,
   "metadata": {},
   "outputs": [],
   "source": [
    "df_t.to_csv('probability children men.csv')"
   ]
  },
  {
   "cell_type": "code",
   "execution_count": 35,
   "metadata": {},
   "outputs": [],
   "source": [
    "df = pd.read_csv('../Data/other/Vo__leerlingen__onderwijssoort_in_detail_11042022_210204.csv', sep=';', index_col = 'Leerjaren')"
   ]
  },
  {
   "cell_type": "code",
   "execution_count": 55,
   "metadata": {},
   "outputs": [],
   "source": [
    "total = df['Totalen leerlingen naar onderwijssoort/Totaal leerlingen (aantal)'].iloc[0] - df['Totalen leerlingen naar onderwijssoort/Algemene leerjaren 1-2-3 (aantal)'].iloc[0]"
   ]
  },
  {
   "cell_type": "code",
   "execution_count": 56,
   "metadata": {},
   "outputs": [
    {
     "data": {
      "text/plain": [
       "568023.0"
      ]
     },
     "execution_count": 56,
     "metadata": {},
     "output_type": "execute_result"
    }
   ],
   "source": [
    "total"
   ]
  },
  {
   "cell_type": "code",
   "execution_count": 59,
   "metadata": {},
   "outputs": [],
   "source": [
    "vwo_havo = df['Totalen leerlingen naar onderwijssoort/Vwo leerjaar 3-6 (aantal)'].iloc[0] + df['Totalen leerlingen naar onderwijssoort/Havo leerjaar 3-5 (aantal)'].iloc[0]"
   ]
  },
  {
   "cell_type": "code",
   "execution_count": 60,
   "metadata": {},
   "outputs": [
    {
     "data": {
      "text/plain": [
       "337260.0"
      ]
     },
     "execution_count": 60,
     "metadata": {},
     "output_type": "execute_result"
    }
   ],
   "source": [
    "vwo_havo"
   ]
  },
  {
   "cell_type": "code",
   "execution_count": 61,
   "metadata": {},
   "outputs": [
    {
     "data": {
      "text/plain": [
       "0.5937435632007859"
      ]
     },
     "execution_count": 61,
     "metadata": {},
     "output_type": "execute_result"
    }
   ],
   "source": [
    "vwo_havo/total"
   ]
  },
  {
   "cell_type": "code",
   "execution_count": null,
   "metadata": {},
   "outputs": [],
   "source": []
  }
 ],
 "metadata": {
  "kernelspec": {
   "display_name": "Python 3",
   "language": "python",
   "name": "python3"
  },
  "language_info": {
   "codemirror_mode": {
    "name": "ipython",
    "version": 3
   },
   "file_extension": ".py",
   "mimetype": "text/x-python",
   "name": "python",
   "nbconvert_exporter": "python",
   "pygments_lexer": "ipython3",
   "version": "3.8.5"
  }
 },
 "nbformat": 4,
 "nbformat_minor": 4
}
