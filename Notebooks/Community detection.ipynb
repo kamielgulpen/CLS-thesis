{
 "cells": [
  {
   "cell_type": "markdown",
   "metadata": {},
   "source": [
    "# Statistics on social network layers\n",
    "\n",
    "### In this notebook I will focus on some of the most important statistics regarding social networks, these statistics are:\n",
    "\n",
    "- Modularity ==> s a measure of the structure of networks or graphs which measures the strength of division of a network into modules (also called groups, clusters or communities).\n",
    "- Transitivity ==>  A triplet is three nodes that are connected by either two (open triplet) or three (closed triplet) undirected ties.\n",
    "- Small-world property ==> A network is a small-world if its average shortest path (L) between nodes grows proportionally to log N or slower\n",
    "- Positive degree assortativity ==> Degree assortativity quantifies the tendency of nodes to connect to other nodes of similar degree.\n"
   ]
  },
  {
   "cell_type": "markdown",
   "metadata": {},
   "source": [
    "## Initialization\n",
    "\n",
    "Initializing the network so the statistics of the network can be calculated"
   ]
  },
  {
   "cell_type": "code",
   "execution_count": 42,
   "metadata": {},
   "outputs": [],
   "source": [
    "import matplotlib.pyplot as plt\n",
    "import networkx as nx\n",
    "import igraph as ig\n",
    "import pandas as pd\n",
    "import leidenalg as la\n",
    "import numpy as np\n",
    "optimiser = la.Optimiser()"
   ]
  },
  {
   "cell_type": "code",
   "execution_count": 167,
   "metadata": {},
   "outputs": [],
   "source": [
    "df1 = pd.read_csv('../Data/NW_data2/overlap.csv')\n",
    "df2 = pd.read_csv('../Data/NW_data2/hh_test.csv')\n",
    "df3 = pd.read_csv('../Data/NW_data2/buren_test.csv')\n",
    "df4 = pd.read_csv('../Data/NW_data2/werkschool_test.csv')\n",
    "# df = pd.read_csv('../overlap.csv')\n",
    "# Data\\NW_data2\\huishouden_nw_barabasi=0.csv"
   ]
  },
  {
   "cell_type": "code",
   "execution_count": 168,
   "metadata": {},
   "outputs": [],
   "source": [
    "df = pd.concat([df1, df2,df3, df4])"
   ]
  },
  {
   "cell_type": "code",
   "execution_count": 169,
   "metadata": {},
   "outputs": [
    {
     "name": "stderr",
     "output_type": "stream",
     "text": [
      "ERROR:root:Internal Python error in the inspect module.\n",
      "Below is the traceback from this internal error.\n",
      "\n",
      "\n",
      "KeyboardInterrupt\n",
      "\n"
     ]
    }
   ],
   "source": [
    "G = nx.from_pandas_edgelist(df, 'source_id', 'destination_id' ,create_using=nx.DiGraph())"
   ]
  },
  {
   "cell_type": "code",
   "execution_count": 170,
   "metadata": {},
   "outputs": [],
   "source": [
    "tuples = [tuple([a, b]) for a, b in zip(df['source_id'], df['destination_id'])]\n",
    "# Gm = igraph.Graph.TupleList(tuples, directed = True, edge_attrs = ['weight'])"
   ]
  },
  {
   "cell_type": "code",
   "execution_count": 84,
   "metadata": {},
   "outputs": [
    {
     "data": {
      "text/html": [
       "<div>\n",
       "<style scoped>\n",
       "    .dataframe tbody tr th:only-of-type {\n",
       "        vertical-align: middle;\n",
       "    }\n",
       "\n",
       "    .dataframe tbody tr th {\n",
       "        vertical-align: top;\n",
       "    }\n",
       "\n",
       "    .dataframe thead th {\n",
       "        text-align: right;\n",
       "    }\n",
       "</style>\n",
       "<table border=\"1\" class=\"dataframe\">\n",
       "  <thead>\n",
       "    <tr style=\"text-align: right;\">\n",
       "      <th></th>\n",
       "      <th>source_id</th>\n",
       "      <th>destination_id</th>\n",
       "      <th>source_group</th>\n",
       "      <th>destination_group</th>\n",
       "    </tr>\n",
       "  </thead>\n",
       "  <tbody>\n",
       "    <tr>\n",
       "      <th>0</th>\n",
       "      <td>16</td>\n",
       "      <td>216</td>\n",
       "      <td>0</td>\n",
       "      <td>0</td>\n",
       "    </tr>\n",
       "    <tr>\n",
       "      <th>1</th>\n",
       "      <td>18</td>\n",
       "      <td>2437</td>\n",
       "      <td>0</td>\n",
       "      <td>0</td>\n",
       "    </tr>\n",
       "    <tr>\n",
       "      <th>2</th>\n",
       "      <td>27</td>\n",
       "      <td>3725</td>\n",
       "      <td>0</td>\n",
       "      <td>0</td>\n",
       "    </tr>\n",
       "    <tr>\n",
       "      <th>3</th>\n",
       "      <td>58</td>\n",
       "      <td>1544</td>\n",
       "      <td>0</td>\n",
       "      <td>0</td>\n",
       "    </tr>\n",
       "    <tr>\n",
       "      <th>4</th>\n",
       "      <td>64</td>\n",
       "      <td>2776</td>\n",
       "      <td>0</td>\n",
       "      <td>0</td>\n",
       "    </tr>\n",
       "    <tr>\n",
       "      <th>...</th>\n",
       "      <td>...</td>\n",
       "      <td>...</td>\n",
       "      <td>...</td>\n",
       "      <td>...</td>\n",
       "    </tr>\n",
       "    <tr>\n",
       "      <th>1381705</th>\n",
       "      <td>816802</td>\n",
       "      <td>860808</td>\n",
       "      <td>195</td>\n",
       "      <td>237</td>\n",
       "    </tr>\n",
       "    <tr>\n",
       "      <th>1381706</th>\n",
       "      <td>816560</td>\n",
       "      <td>860860</td>\n",
       "      <td>195</td>\n",
       "      <td>237</td>\n",
       "    </tr>\n",
       "    <tr>\n",
       "      <th>1381707</th>\n",
       "      <td>817414</td>\n",
       "      <td>860827</td>\n",
       "      <td>195</td>\n",
       "      <td>237</td>\n",
       "    </tr>\n",
       "    <tr>\n",
       "      <th>1381708</th>\n",
       "      <td>814788</td>\n",
       "      <td>860809</td>\n",
       "      <td>195</td>\n",
       "      <td>237</td>\n",
       "    </tr>\n",
       "    <tr>\n",
       "      <th>1381709</th>\n",
       "      <td>791223</td>\n",
       "      <td>860998</td>\n",
       "      <td>165</td>\n",
       "      <td>239</td>\n",
       "    </tr>\n",
       "  </tbody>\n",
       "</table>\n",
       "<p>1381710 rows × 4 columns</p>\n",
       "</div>"
      ],
      "text/plain": [
       "         source_id  destination_id  source_group  destination_group\n",
       "0               16             216             0                  0\n",
       "1               18            2437             0                  0\n",
       "2               27            3725             0                  0\n",
       "3               58            1544             0                  0\n",
       "4               64            2776             0                  0\n",
       "...            ...             ...           ...                ...\n",
       "1381705     816802          860808           195                237\n",
       "1381706     816560          860860           195                237\n",
       "1381707     817414          860827           195                237\n",
       "1381708     814788          860809           195                237\n",
       "1381709     791223          860998           165                239\n",
       "\n",
       "[1381710 rows x 4 columns]"
      ]
     },
     "execution_count": 84,
     "metadata": {},
     "output_type": "execute_result"
    }
   ],
   "source": [
    "df"
   ]
  },
  {
   "cell_type": "code",
   "execution_count": 171,
   "metadata": {},
   "outputs": [],
   "source": [
    "Gm = ig.Graph.TupleList(tuples, directed = True)\n"
   ]
  },
  {
   "cell_type": "code",
   "execution_count": 178,
   "metadata": {},
   "outputs": [],
   "source": [
    "edges = Gm.ecount()\n",
    "nodes = Gm.vcount()"
   ]
  },
  {
   "cell_type": "markdown",
   "metadata": {},
   "source": [
    "## Checking for modularity, transitivity, small-world property and degree assortativity for each layer\n",
    "\n",
    "### Results modularity:\n",
    "\n",
    "- Family: 0.6711623336876632\n",
    "- Neighbours: 0.884774334375547\n",
    "- Work/school:0.3831499680672851\n",
    "- Household:999990245801818\n",
    "- Combined:  0.34357482848028703\n",
    "- Random: -1.7422323611572512e-06\n",
    "\n",
    "### Results transitivity\n",
    "\n",
    "- Family: 0.00173\n",
    "- Neighbours: 0.3498588104708938\n",
    "- Work/school: 0.000259283371100701\n",
    "- Household: 1\n",
    "- Combined: 0.09609942952800941\n",
    "- Random:5.22374458907123e-06\n",
    "\n",
    "### Results small-world property\n",
    "\n",
    "- Family: average shortest path = 6.9729, inf = True\n",
    "- Neighbours: 5.1827\n",
    "- Work/school: 4.116\n",
    "- Household: inf\n",
    "- Combined: 3.7043\n",
    "- Random: inf \n",
    "\n",
    "### Results degree assortativity\n",
    "\n",
    "- Family:0.41728363400785057\n",
    "- Neighbours: 0.09320552506500217\n",
    "- Work/school: 0.18906038946967274\n",
    "- Household: 1\n",
    "- Combined: 0.12087295309397249\n",
    "- Random: 0.0020899405101452075"
   ]
  },
  {
   "cell_type": "code",
   "execution_count": 173,
   "metadata": {},
   "outputs": [],
   "source": [
    "partition = la.find_partition(Gm, la.ModularityVertexPartition)"
   ]
  },
  {
   "cell_type": "code",
   "execution_count": 188,
   "metadata": {},
   "outputs": [
    {
     "data": {
      "text/plain": [
       "2.6149000043041646"
      ]
     },
     "execution_count": 188,
     "metadata": {},
     "output_type": "execute_result"
    }
   ],
   "source": [
    "np.log(np.log(861000))"
   ]
  },
  {
   "cell_type": "code",
   "execution_count": 174,
   "metadata": {},
   "outputs": [
    {
     "data": {
      "text/plain": [
       "0.34357482848028703"
      ]
     },
     "execution_count": 174,
     "metadata": {},
     "output_type": "execute_result"
    }
   ],
   "source": [
    "Gm.modularity(partition)"
   ]
  },
  {
   "cell_type": "code",
   "execution_count": 175,
   "metadata": {
    "scrolled": true
   },
   "outputs": [
    {
     "data": {
      "text/plain": [
       "0.09609942952800941"
      ]
     },
     "execution_count": 175,
     "metadata": {},
     "output_type": "execute_result"
    }
   ],
   "source": [
    "\n",
    "\n",
    "Gm.transitivity_undirected()"
   ]
  },
  {
   "cell_type": "code",
   "execution_count": 176,
   "metadata": {},
   "outputs": [
    {
     "name": "stdout",
     "output_type": "stream",
     "text": [
      "[ 74216 308975 444113 596804 308149 647053 807971 462235 225208 738453\n",
      " 547095 542124 459855 616353 650129 289759 741411 186118 326996 103804\n",
      " 528214 549025 283810  64232 259528 177471 124306 155639   1619 459459\n",
      " 653085 146439  79132 114796 428026  79096 259059 146614 123329 792827\n",
      " 764062 149867 423695 782312 498029  27823 825857 154721 195365 306359\n",
      " 242479 124925 622980 444074 484842 359237 843949 741693 762340 391795\n",
      " 374885 675509 538274 803024  37264 731163 112280 282989 746277 192919\n",
      " 476974 243019 225447 624246 765375 326651  48004  62363 858927 549007\n",
      " 325625 127075 852066 690692 785352 102508  91425 803405 434619 854422\n",
      " 605587 252967 144484 312808 262480 497389 793425 492893      0   5047] [316602 817008 439940 378037 792711 101495 137601 739512 222079   5858\n",
      " 540574 794380 549399  20355 551245 184107 195822 182942 675945 827488\n",
      "  62641 300552 483319 819620 548335  27163 348198 421071 716172 455824\n",
      "  89742 744384  13063 708622 107684 299124 261153 472802 546765 177656\n",
      "  83975 843572 118026 101597 411899 304250  95305 264374 536969 831744\n",
      " 183525 224472 692618 236858 802935 581799 360536 773606 683786 668791\n",
      " 148443 662876 546688 671220 711822 453342 438376  42496 763881 445411\n",
      " 264281 245968 410366 519570 464413 616587 542015 584200 818759 116436\n",
      " 185198 142157 323381 171496 629522 462523 458607 473859 566816 252585\n",
      " 227451 204687 650445 812648  45679 541827 528994 334949  11606 122303]\n"
     ]
    }
   ],
   "source": [
    "# Calsulating the shortest path (100 nodes)\n",
    "\n",
    "rn = np.random.randint(nodes, size=(100,2))\n",
    "\n",
    "\n",
    "\n",
    "x = rn[:,0]\n",
    "\n",
    "y = rn[:,1]\n",
    "\n",
    "print(x,y)\n",
    "\n",
    "\n",
    "sp = Gm.shortest_paths(x, y, mode='in')\n",
    "\n"
   ]
  },
  {
   "cell_type": "code",
   "execution_count": 186,
   "metadata": {},
   "outputs": [
    {
     "data": {
      "text/plain": [
       "3.7043"
      ]
     },
     "execution_count": 186,
     "metadata": {},
     "output_type": "execute_result"
    }
   ],
   "source": [
    " \n",
    "\n",
    "sp = np.array(sp).flatten()\n",
    "\n",
    "sp\n",
    "\n",
    "# # sp = list(sp[sp == np.inf] = 0.0)\n",
    "\n",
    "# sp = list(sp).remove(np.inf)\n",
    "\n",
    "\n",
    "\n",
    "np.mean(sp)\n"
   ]
  },
  {
   "cell_type": "code",
   "execution_count": 177,
   "metadata": {},
   "outputs": [
    {
     "data": {
      "text/plain": [
       "0.12087295309397249"
      ]
     },
     "execution_count": 177,
     "metadata": {},
     "output_type": "execute_result"
    }
   ],
   "source": [
    "Gm.assortativity_degree()"
   ]
  },
  {
   "cell_type": "code",
   "execution_count": 179,
   "metadata": {},
   "outputs": [],
   "source": [
    "p = nodes/((861000 * (861000 - 1))/2)"
   ]
  },
  {
   "cell_type": "code",
   "execution_count": 180,
   "metadata": {},
   "outputs": [
    {
     "data": {
      "text/plain": [
       "2.3207976007785216e-06"
      ]
     },
     "execution_count": 180,
     "metadata": {},
     "output_type": "execute_result"
    }
   ],
   "source": [
    "p"
   ]
  },
  {
   "cell_type": "code",
   "execution_count": 181,
   "metadata": {},
   "outputs": [],
   "source": [
    "gm_ER = ig.Graph.Erdos_Renyi(861000, p)"
   ]
  },
  {
   "cell_type": "code",
   "execution_count": 182,
   "metadata": {},
   "outputs": [
    {
     "data": {
      "text/plain": [
       "5.22374458907123e-06"
      ]
     },
     "execution_count": 182,
     "metadata": {},
     "output_type": "execute_result"
    }
   ],
   "source": [
    "gm_ER.transitivity_undirected()"
   ]
  },
  {
   "cell_type": "code",
   "execution_count": 12,
   "metadata": {},
   "outputs": [],
   "source": [
    "gm_WS = ig.Graph.Watts_Strogatz(1, 861000, 100, p)"
   ]
  },
  {
   "cell_type": "code",
   "execution_count": 13,
   "metadata": {},
   "outputs": [
    {
     "data": {
      "text/plain": [
       "0.7461553592838793"
      ]
     },
     "execution_count": 13,
     "metadata": {},
     "output_type": "execute_result"
    }
   ],
   "source": [
    "gm_WS.transitivity_undirected()"
   ]
  },
  {
   "cell_type": "code",
   "execution_count": 15,
   "metadata": {},
   "outputs": [
    {
     "data": {
      "text/plain": [
       "86100000"
      ]
     },
     "execution_count": 15,
     "metadata": {},
     "output_type": "execute_result"
    }
   ],
   "source": [
    "len(gm_WS.get_edgelist())"
   ]
  },
  {
   "cell_type": "code",
   "execution_count": 16,
   "metadata": {},
   "outputs": [
    {
     "data": {
      "text/plain": [
       "5985200"
      ]
     },
     "execution_count": 16,
     "metadata": {},
     "output_type": "execute_result"
    }
   ],
   "source": [
    "len(Gm.get_edgelist())"
   ]
  },
  {
   "cell_type": "code",
   "execution_count": 189,
   "metadata": {},
   "outputs": [],
   "source": [
    "random_partition = gm_ER.community_leiden()"
   ]
  },
  {
   "cell_type": "code",
   "execution_count": 190,
   "metadata": {},
   "outputs": [
    {
     "data": {
      "text/plain": [
       "-1.7422323611572512e-06"
      ]
     },
     "execution_count": 190,
     "metadata": {},
     "output_type": "execute_result"
    }
   ],
   "source": [
    "gm_ER.modularity(random_partition)"
   ]
  },
  {
   "cell_type": "code",
   "execution_count": 191,
   "metadata": {},
   "outputs": [
    {
     "name": "stdout",
     "output_type": "stream",
     "text": [
      "[754677 245753 153542 624938 706261 597863 463776  52315 326051 771848\n",
      " 443126 110910 171839 307167 759374 839451 228544   2743 152511 462799\n",
      " 794413 314805 845903 117823 572315 311150  88263 129795  30670 521681\n",
      " 629109 105850 306960 553916 827801 536203 312125 234166 486759 256738\n",
      " 820376 312951 290832 658205 451397 155994 707776  36666 747948 112192\n",
      " 648784 400292 601308 400493 351631 434908 195059 579013 235757  95240\n",
      " 782624 496907 203580 471138 200683 450480 122145 570660 156881 590537\n",
      " 608848 171509 736296  76536 208324 844318 426327 396313 257226 223558\n",
      "  98994 257944 794342 428026 298813 114228 212184 646611 681797 769792\n",
      " 123532 216881 757491 712594 681305 222116 390974 814861 587760 419203] [672736 536487   5713 247954 308588 337667 843219 279914 727861 477584\n",
      " 508072 591628 517682 760146 690067 402661 110036 850052 763398 665460\n",
      " 807711 270805 337837 543138 657908 269372 674918 693514 176416  99523\n",
      " 200447 774536 586836 380289 261969 246500  72943 464471  97413 462343\n",
      " 204132 255171 334678 266636 856725 252352 538939 677835 229322 655160\n",
      " 760953 489414 790514 695939 805327 676806 617345 793666 734802 337260\n",
      " 450701  80609 657517 606318 483242 819128 639044 309697  21260 309898\n",
      " 397967 507208 378996 752368 477533 844668 188550 728062 433966 773164\n",
      " 523829 398726 646208 275567  93130 531681 818126  74037 428758 133829\n",
      " 782713 789714 725965 361584 334554 638843  22710 318985 398748  33241]\n"
     ]
    }
   ],
   "source": [
    "# Calsulating the shortest path (100 nodes)\n",
    "\n",
    "rn = np.random.randint(nodes, size=(100,2))\n",
    "\n",
    "\n",
    "\n",
    "x = rn[:,0]\n",
    "\n",
    "y = rn[:,1]\n",
    "\n",
    "print(x,y)\n",
    "\n",
    "\n",
    "sp = gm_ER.shortest_paths(x, y, mode='in')\n"
   ]
  },
  {
   "cell_type": "code",
   "execution_count": 196,
   "metadata": {},
   "outputs": [
    {
     "data": {
      "text/plain": [
       "0.0020899405101452075"
      ]
     },
     "execution_count": 196,
     "metadata": {},
     "output_type": "execute_result"
    }
   ],
   "source": [
    "gm_ER.assortativity_degree()"
   ]
  },
  {
   "cell_type": "code",
   "execution_count": 55,
   "metadata": {},
   "outputs": [
    {
     "data": {
      "text/plain": [
       "13.665849783409868"
      ]
     },
     "execution_count": 55,
     "metadata": {},
     "output_type": "execute_result"
    }
   ],
   "source": [
    "np.log(861000)"
   ]
  },
  {
   "cell_type": "markdown",
   "metadata": {},
   "source": [
    "## Looking at different indexes in the new social network"
   ]
  },
  {
   "cell_type": "code",
   "execution_count": null,
   "metadata": {},
   "outputs": [],
   "source": []
  },
  {
   "cell_type": "markdown",
   "metadata": {},
   "source": [
    "## Other dataset\n",
    "\n",
    "Checking the degree distribution of calls + bt contact in Copenhagen\n",
    "https://figshare.com/articles/dataset/The_Copenhagen_Networks_Study_interaction_data/7267433/1?file=14039048"
   ]
  },
  {
   "cell_type": "code",
   "execution_count": 62,
   "metadata": {},
   "outputs": [],
   "source": [
    "df = pd.read_csv('../Data/other/bt_symmetric.csv')\n",
    "df = df[(df['user_b'] != 0) & (df['user_b'] != -1) & (df['user_b'] != -2)]\n",
    "tuples = [tuple([a, b]) for a, b in zip(df['user_a'], df['user_b'])]"
   ]
  },
  {
   "cell_type": "code",
   "execution_count": 80,
   "metadata": {},
   "outputs": [],
   "source": [
    "df = pd.read_csv('../Data/other/calls.csv')\n",
    "tuples = [tuple([a, b]) for a, b in zip(df['caller'], df['callee'])]"
   ]
  },
  {
   "cell_type": "code",
   "execution_count": 79,
   "metadata": {},
   "outputs": [
    {
     "data": {
      "text/html": [
       "<div>\n",
       "<style scoped>\n",
       "    .dataframe tbody tr th:only-of-type {\n",
       "        vertical-align: middle;\n",
       "    }\n",
       "\n",
       "    .dataframe tbody tr th {\n",
       "        vertical-align: top;\n",
       "    }\n",
       "\n",
       "    .dataframe thead th {\n",
       "        text-align: right;\n",
       "    }\n",
       "</style>\n",
       "<table border=\"1\" class=\"dataframe\">\n",
       "  <thead>\n",
       "    <tr style=\"text-align: right;\">\n",
       "      <th></th>\n",
       "      <th>timestamp</th>\n",
       "      <th>caller</th>\n",
       "      <th>callee</th>\n",
       "      <th>duration</th>\n",
       "    </tr>\n",
       "  </thead>\n",
       "  <tbody>\n",
       "    <tr>\n",
       "      <th>0</th>\n",
       "      <td>184</td>\n",
       "      <td>300</td>\n",
       "      <td>301</td>\n",
       "      <td>121</td>\n",
       "    </tr>\n",
       "    <tr>\n",
       "      <th>1</th>\n",
       "      <td>3920</td>\n",
       "      <td>512</td>\n",
       "      <td>299</td>\n",
       "      <td>670</td>\n",
       "    </tr>\n",
       "    <tr>\n",
       "      <th>2</th>\n",
       "      <td>5623</td>\n",
       "      <td>301</td>\n",
       "      <td>300</td>\n",
       "      <td>504</td>\n",
       "    </tr>\n",
       "    <tr>\n",
       "      <th>3</th>\n",
       "      <td>9252</td>\n",
       "      <td>401</td>\n",
       "      <td>457</td>\n",
       "      <td>-1</td>\n",
       "    </tr>\n",
       "    <tr>\n",
       "      <th>4</th>\n",
       "      <td>15466</td>\n",
       "      <td>512</td>\n",
       "      <td>0</td>\n",
       "      <td>5</td>\n",
       "    </tr>\n",
       "    <tr>\n",
       "      <th>...</th>\n",
       "      <td>...</td>\n",
       "      <td>...</td>\n",
       "      <td>...</td>\n",
       "      <td>...</td>\n",
       "    </tr>\n",
       "    <tr>\n",
       "      <th>3595</th>\n",
       "      <td>2414934</td>\n",
       "      <td>706</td>\n",
       "      <td>401</td>\n",
       "      <td>78</td>\n",
       "    </tr>\n",
       "    <tr>\n",
       "      <th>3596</th>\n",
       "      <td>2415585</td>\n",
       "      <td>218</td>\n",
       "      <td>382</td>\n",
       "      <td>48</td>\n",
       "    </tr>\n",
       "    <tr>\n",
       "      <th>3597</th>\n",
       "      <td>2416059</td>\n",
       "      <td>561</td>\n",
       "      <td>631</td>\n",
       "      <td>13</td>\n",
       "    </tr>\n",
       "    <tr>\n",
       "      <th>3598</th>\n",
       "      <td>2416368</td>\n",
       "      <td>323</td>\n",
       "      <td>392</td>\n",
       "      <td>4</td>\n",
       "    </tr>\n",
       "    <tr>\n",
       "      <th>3599</th>\n",
       "      <td>2416399</td>\n",
       "      <td>323</td>\n",
       "      <td>392</td>\n",
       "      <td>3</td>\n",
       "    </tr>\n",
       "  </tbody>\n",
       "</table>\n",
       "<p>3600 rows × 4 columns</p>\n",
       "</div>"
      ],
      "text/plain": [
       "      timestamp  caller  callee  duration\n",
       "0           184     300     301       121\n",
       "1          3920     512     299       670\n",
       "2          5623     301     300       504\n",
       "3          9252     401     457        -1\n",
       "4         15466     512       0         5\n",
       "...         ...     ...     ...       ...\n",
       "3595    2414934     706     401        78\n",
       "3596    2415585     218     382        48\n",
       "3597    2416059     561     631        13\n",
       "3598    2416368     323     392         4\n",
       "3599    2416399     323     392         3\n",
       "\n",
       "[3600 rows x 4 columns]"
      ]
     },
     "execution_count": 79,
     "metadata": {},
     "output_type": "execute_result"
    }
   ],
   "source": [
    "df"
   ]
  },
  {
   "cell_type": "code",
   "execution_count": 81,
   "metadata": {},
   "outputs": [],
   "source": [
    "Gm_call = ig.Graph.TupleList(tuples, directed = True)\n"
   ]
  },
  {
   "cell_type": "code",
   "execution_count": 82,
   "metadata": {},
   "outputs": [
    {
     "data": {
      "text/plain": [
       "(array([414.,  68.,  31.,  11.,   3.,   7.,   0.,   0.,   1.,   1.]),\n",
       " array([  1. ,  17.7,  34.4,  51.1,  67.8,  84.5, 101.2, 117.9, 134.6,\n",
       "        151.3, 168. ]),\n",
       " <BarContainer object of 10 artists>)"
      ]
     },
     "execution_count": 82,
     "metadata": {},
     "output_type": "execute_result"
    },
    {
     "data": {
      "image/png": "[encoded data removed]",
      "text/plain": [
       "<Figure size 432x288 with 1 Axes>"
      ]
     },
     "metadata": {
      "needs_background": "light"
     },
     "output_type": "display_data"
    }
   ],
   "source": [
    "plt.hist(Gm_call.degree())"
   ]
  },
  {
   "cell_type": "code",
   "execution_count": 83,
   "metadata": {},
   "outputs": [
    {
     "data": {
      "text/plain": [
       "0.1836734693877551"
      ]
     },
     "execution_count": 83,
     "metadata": {},
     "output_type": "execute_result"
    }
   ],
   "source": [
    "Gm_call.transitivity_undirected()"
   ]
  }
 ],
 "metadata": {
  "kernelspec": {
   "display_name": "Python 3",
   "language": "python",
   "name": "python3"
  },
  "language_info": {
   "codemirror_mode": {
    "name": "ipython",
    "version": 3
   },
   "file_extension": ".py",
   "mimetype": "text/x-python",
   "name": "python",
   "nbconvert_exporter": "python",
   "pygments_lexer": "ipython3",
   "version": "3.8.5"
  }
 },
 "nbformat": 4,
 "nbformat_minor": 4
}
