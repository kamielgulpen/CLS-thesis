{
 "cells": [
  {
   "cell_type": "code",
   "execution_count": 3,
   "metadata": {},
   "outputs": [],
   "source": [
    "from pyvis.network import Network\n",
    "import networkx as nx\n",
    "import pandas as pd\n",
    "import math\n",
    "import numpy as np\n",
    "from scipy import stats\n",
    "import pandas as pd\n",
    "import igraph as ig\n",
    "import pylab \n",
    "\n",
    "import powerlaw\n",
    "\n",
    "\n",
    "import datashader as ds\n",
    "import datashader.transfer_functions as tf\n",
    "from datashader.layout import random_layout, circular_layout, forceatlas2_layout\n",
    "from datashader.bundling import connect_edges, hammer_bundle\n",
    "import matplotlib.pyplot as plt\n",
    "# from py3plex.core import multinet\n",
    "\n",
    "from itertools import chain\n",
    "import random\n",
    "import seaborn as sn"
   ]
  },
  {
   "cell_type": "code",
   "execution_count": 25,
   "metadata": {},
   "outputs": [
    {
     "data": {
      "text/plain": [
       "'[0,20), Autochtoon, Vrouw, 1'"
      ]
     },
     "execution_count": 25,
     "metadata": {},
     "output_type": "execute_result"
    }
   ],
   "source": [
    "def get_type_node(G, id):\n",
    "    \n",
    "    print(list(G[id].values()))\n",
    "    return list(G[id].values())[0]['source_group']\n",
    "\n",
    "def hash_groups():\n",
    "    hash_dict = {}\n",
    "    rehash_dict = {}\n",
    "\n",
    "    df = pd.read_csv('Data/tab_n_(with oplniv).csv')\n",
    "\n",
    "    for i in range(df.shape[0]):\n",
    "        group = df.iloc[i]\n",
    "                \n",
    "        age = group['lft']\n",
    "        etnc = group['etngrp']\n",
    "        gender = group['geslacht']\n",
    "        education = group['oplniv']\n",
    "\n",
    "\n",
    "        hash_dict[f'{age}, {etnc}, {gender}, {education}'] = i\n",
    "        rehash_dict[i] = f'{age}, {etnc}, {gender}, {education}' \n",
    "    \n",
    "    return hash_dict, rehash_dict\n",
    "\n",
    "hash_dict, rehash_dict = hash_groups()\n",
    "\n",
    "rehash_dict[12]\n"
   ]
  },
  {
   "cell_type": "code",
   "execution_count": 38,
   "metadata": {},
   "outputs": [
    {
     "data": {
      "text/plain": [
       "13.665849783409868"
      ]
     },
     "execution_count": 38,
     "metadata": {},
     "output_type": "execute_result"
    }
   ],
   "source": [
    "np.log(861000)"
   ]
  },
  {
   "cell_type": "markdown",
   "metadata": {},
   "source": [
    "# Buren\n",
    "\n",
    "Main things I wan to look at:\n",
    "- Sparsity\n",
    "- Non trivial clustering\n",
    "- Positive degree assortative\n",
    "- Small world property\n",
    "- Bonded degree distribution"
   ]
  },
  {
   "cell_type": "code",
   "execution_count": 27,
   "metadata": {},
   "outputs": [],
   "source": [
    "p = pd.read_csv(f'Data/NW_data/buren_nw_b=please.csv')\n",
    "# Data\\NW_data\\\n",
    "# Data\\NW_data\\buren_nw_b=0_0_reciprocity.csv\n",
    "\n",
    "# Data\\NW_data\\buren_nw_b=1_100_percentage.csv"
   ]
  },
  {
   "cell_type": "code",
   "execution_count": 29,
   "metadata": {},
   "outputs": [
    {
     "data": {
      "text/html": [
       "<div>\n",
       "<style scoped>\n",
       "    .dataframe tbody tr th:only-of-type {\n",
       "        vertical-align: middle;\n",
       "    }\n",
       "\n",
       "    .dataframe tbody tr th {\n",
       "        vertical-align: top;\n",
       "    }\n",
       "\n",
       "    .dataframe thead th {\n",
       "        text-align: right;\n",
       "    }\n",
       "</style>\n",
       "<table border=\"1\" class=\"dataframe\">\n",
       "  <thead>\n",
       "    <tr style=\"text-align: right;\">\n",
       "      <th></th>\n",
       "      <th>Unnamed: 0</th>\n",
       "      <th>source_id</th>\n",
       "      <th>destination_id</th>\n",
       "      <th>source_group</th>\n",
       "      <th>destination_group</th>\n",
       "    </tr>\n",
       "  </thead>\n",
       "  <tbody>\n",
       "  </tbody>\n",
       "</table>\n",
       "</div>"
      ],
      "text/plain": [
       "Empty DataFrame\n",
       "Columns: [Unnamed: 0, source_id, destination_id, source_group, destination_group]\n",
       "Index: []"
      ]
     },
     "execution_count": 29,
     "metadata": {},
     "output_type": "execute_result"
    }
   ],
   "source": [
    "df = p[p.duplicated(subset=['source_id','destination_id'], keep=False)]\n",
    "\n",
    "df"
   ]
  },
  {
   "cell_type": "code",
   "execution_count": 119,
   "metadata": {},
   "outputs": [],
   "source": [
    "df_s = df[(df['source_group'] == 6) & (df['destination_group'] == 6)]"
   ]
  },
  {
   "cell_type": "code",
   "execution_count": 30,
   "metadata": {},
   "outputs": [],
   "source": [
    "g = ig.Graph.TupleList(p[['source_id','destination_id']].itertuples(index=False), directed=True, weights=False)\n"
   ]
  },
  {
   "cell_type": "code",
   "execution_count": null,
   "metadata": {},
   "outputs": [],
   "source": [
    "g_s = ig.Graph.TupleList(df_s[['source_id','destination_id']].itertuples(index=False), directed=True, weights=False)\n"
   ]
  },
  {
   "cell_type": "code",
   "execution_count": 18,
   "metadata": {},
   "outputs": [],
   "source": [
    "G =  nx.from_pandas_edgelist(p, 'source_id', 'destination_id',['source_group', 'destination_group'],create_using=nx.DiGraph())"
   ]
  },
  {
   "cell_type": "code",
   "execution_count": 7,
   "metadata": {},
   "outputs": [],
   "source": [
    "l_degrees = [ i[1] for i in G.in_degree()]"
   ]
  },
  {
   "cell_type": "code",
   "execution_count": 31,
   "metadata": {},
   "outputs": [],
   "source": [
    "edge_list = g.get_edgelist()"
   ]
  },
  {
   "cell_type": "code",
   "execution_count": 32,
   "metadata": {},
   "outputs": [
    {
     "ename": "KeyboardInterrupt",
     "evalue": "",
     "output_type": "error",
     "traceback": [
      "\u001b[1;31m---------------------------------------------------------------------------\u001b[0m",
      "\u001b[1;31mKeyboardInterrupt\u001b[0m                         Traceback (most recent call last)",
      "\u001b[1;32m<ipython-input-32-7045e111341b>\u001b[0m in \u001b[0;36m<module>\u001b[1;34m\u001b[0m\n\u001b[1;32m----> 1\u001b[1;33m \u001b[0medge_list\u001b[0m \u001b[1;33m=\u001b[0m \u001b[0mnp\u001b[0m\u001b[1;33m.\u001b[0m\u001b[0marray\u001b[0m\u001b[1;33m(\u001b[0m\u001b[0medge_list\u001b[0m\u001b[1;33m)\u001b[0m\u001b[1;33m\u001b[0m\u001b[1;33m\u001b[0m\u001b[0m\n\u001b[0m",
      "\u001b[1;31mKeyboardInterrupt\u001b[0m: "
     ]
    }
   ],
   "source": [
    "edge_list = np.array(edge_list)"
   ]
  },
  {
   "cell_type": "code",
   "execution_count": 33,
   "metadata": {},
   "outputs": [],
   "source": [
    "max_e = np.max(edge_list.flatten())"
   ]
  },
  {
   "cell_type": "code",
   "execution_count": 34,
   "metadata": {},
   "outputs": [],
   "source": [
    "rn = np.random.randint(max_e, size=(100,2))\n",
    "\n",
    "x = rn[:,0]\n",
    "y = rn[:,1]"
   ]
  },
  {
   "cell_type": "code",
   "execution_count": 35,
   "metadata": {},
   "outputs": [],
   "source": [
    "sp = g.shortest_paths(x, y, mode='in')"
   ]
  },
  {
   "cell_type": "code",
   "execution_count": 36,
   "metadata": {},
   "outputs": [
    {
     "data": {
      "text/plain": [
       "4.7039"
      ]
     },
     "execution_count": 36,
     "metadata": {},
     "output_type": "execute_result"
    }
   ],
   "source": [
    "sp = np.array(sp)\n",
    "\n",
    "sp1 = sp.copy()\n",
    "sp1[sp == np.inf] = 100\n",
    "# sp = sp.flatten()\n",
    "\n",
    "# np.mean(sp1)\n",
    "# # list(sp).count(np.inf)\n",
    "# # len(sp)\n",
    "\n",
    "np.mean(sp.flatten())"
   ]
  },
  {
   "cell_type": "code",
   "execution_count": 37,
   "metadata": {},
   "outputs": [
    {
     "data": {
      "text/plain": [
       "0.9404778833493477"
      ]
     },
     "execution_count": 37,
     "metadata": {},
     "output_type": "execute_result"
    }
   ],
   "source": [
    "g.assortativity_degree()"
   ]
  },
  {
   "cell_type": "code",
   "execution_count": null,
   "metadata": {},
   "outputs": [],
   "source": [
    "degrees = g.degree(mode = 'in')\n",
    "sn.histplot(data=degrees, bins = 100)"
   ]
  },
  {
   "cell_type": "code",
   "execution_count": 144,
   "metadata": {},
   "outputs": [
    {
     "data": {
      "text/plain": [
       "176058"
      ]
     },
     "execution_count": 144,
     "metadata": {},
     "output_type": "execute_result"
    }
   ],
   "source": [
    "g.degree(mode = 'in').count(0)"
   ]
  },
  {
   "cell_type": "code",
   "execution_count": 8,
   "metadata": {
    "scrolled": true
   },
   "outputs": [
    {
     "data": {
      "text/plain": [
       "(array([8.33296e+05, 9.44000e+03, 2.57000e+02, 0.00000e+00, 0.00000e+00,\n",
       "        0.00000e+00, 2.40000e+01, 4.45400e+03, 1.15590e+04, 1.16800e+03]),\n",
       " array([  0. ,  38.4,  76.8, 115.2, 153.6, 192. , 230.4, 268.8, 307.2,\n",
       "        345.6, 384. ]),\n",
       " <BarContainer object of 10 artists>)"
      ]
     },
     "execution_count": 8,
     "metadata": {},
     "output_type": "execute_result"
    },
    {
     "data": {
      "image/png": "[encoded data removed]",
      "text/plain": [
       "<Figure size 432x288 with 1 Axes>"
      ]
     },
     "metadata": {
      "needs_background": "light"
     },
     "output_type": "display_data"
    }
   ],
   "source": [
    "plt.hist(l_degrees)"
   ]
  },
  {
   "cell_type": "code",
   "execution_count": 26,
   "metadata": {},
   "outputs": [
    {
     "name": "stdout",
     "output_type": "stream",
     "text": [
      "[{'source_group': 68, 'destination_group': 7}, {'source_group': 68, 'destination_group': 17}, {'source_group': 68, 'destination_group': 68}, {'source_group': 68, 'destination_group': 68}, {'source_group': 68, 'destination_group': 68}, {'source_group': 68, 'destination_group': 68}, {'source_group': 68, 'destination_group': 68}, {'source_group': 68, 'destination_group': 68}, {'source_group': 68, 'destination_group': 68}, {'source_group': 68, 'destination_group': 68}, {'source_group': 68, 'destination_group': 68}, {'source_group': 68, 'destination_group': 68}, {'source_group': 68, 'destination_group': 68}, {'source_group': 68, 'destination_group': 68}, {'source_group': 68, 'destination_group': 68}, {'source_group': 68, 'destination_group': 68}, {'source_group': 68, 'destination_group': 68}, {'source_group': 68, 'destination_group': 68}, {'source_group': 68, 'destination_group': 68}, {'source_group': 68, 'destination_group': 68}, {'source_group': 68, 'destination_group': 68}, {'source_group': 68, 'destination_group': 68}, {'source_group': 68, 'destination_group': 68}, {'source_group': 68, 'destination_group': 68}, {'source_group': 68, 'destination_group': 68}, {'source_group': 68, 'destination_group': 68}, {'source_group': 68, 'destination_group': 68}, {'source_group': 68, 'destination_group': 68}, {'source_group': 68, 'destination_group': 68}, {'source_group': 68, 'destination_group': 68}, {'source_group': 68, 'destination_group': 68}, {'source_group': 68, 'destination_group': 68}, {'source_group': 68, 'destination_group': 68}, {'source_group': 68, 'destination_group': 68}, {'source_group': 68, 'destination_group': 68}, {'source_group': 68, 'destination_group': 68}, {'source_group': 68, 'destination_group': 68}, {'source_group': 68, 'destination_group': 68}, {'source_group': 68, 'destination_group': 68}, {'source_group': 68, 'destination_group': 68}, {'source_group': 68, 'destination_group': 68}, {'source_group': 68, 'destination_group': 68}, {'source_group': 68, 'destination_group': 68}, {'source_group': 68, 'destination_group': 68}, {'source_group': 68, 'destination_group': 68}, {'source_group': 68, 'destination_group': 68}, {'source_group': 68, 'destination_group': 68}, {'source_group': 68, 'destination_group': 68}, {'source_group': 68, 'destination_group': 68}, {'source_group': 68, 'destination_group': 68}, {'source_group': 68, 'destination_group': 68}, {'source_group': 68, 'destination_group': 68}, {'source_group': 68, 'destination_group': 68}, {'source_group': 68, 'destination_group': 68}, {'source_group': 68, 'destination_group': 68}, {'source_group': 68, 'destination_group': 68}, {'source_group': 68, 'destination_group': 68}, {'source_group': 68, 'destination_group': 68}, {'source_group': 68, 'destination_group': 68}, {'source_group': 68, 'destination_group': 68}, {'source_group': 68, 'destination_group': 68}, {'source_group': 68, 'destination_group': 68}, {'source_group': 68, 'destination_group': 68}, {'source_group': 68, 'destination_group': 68}, {'source_group': 68, 'destination_group': 68}, {'source_group': 68, 'destination_group': 68}, {'source_group': 68, 'destination_group': 68}, {'source_group': 68, 'destination_group': 68}, {'source_group': 68, 'destination_group': 68}, {'source_group': 68, 'destination_group': 68}, {'source_group': 68, 'destination_group': 68}, {'source_group': 68, 'destination_group': 68}, {'source_group': 68, 'destination_group': 68}, {'source_group': 68, 'destination_group': 68}, {'source_group': 68, 'destination_group': 68}, {'source_group': 68, 'destination_group': 68}, {'source_group': 68, 'destination_group': 68}, {'source_group': 68, 'destination_group': 68}, {'source_group': 68, 'destination_group': 68}, {'source_group': 68, 'destination_group': 68}, {'source_group': 68, 'destination_group': 68}, {'source_group': 68, 'destination_group': 68}, {'source_group': 68, 'destination_group': 68}, {'source_group': 68, 'destination_group': 68}, {'source_group': 68, 'destination_group': 68}, {'source_group': 68, 'destination_group': 68}, {'source_group': 68, 'destination_group': 68}, {'source_group': 68, 'destination_group': 68}, {'source_group': 68, 'destination_group': 68}, {'source_group': 68, 'destination_group': 68}, {'source_group': 68, 'destination_group': 68}, {'source_group': 68, 'destination_group': 68}, {'source_group': 68, 'destination_group': 68}, {'source_group': 68, 'destination_group': 68}, {'source_group': 68, 'destination_group': 68}, {'source_group': 68, 'destination_group': 68}, {'source_group': 68, 'destination_group': 68}, {'source_group': 68, 'destination_group': 68}, {'source_group': 68, 'destination_group': 68}, {'source_group': 68, 'destination_group': 68}, {'source_group': 68, 'destination_group': 68}, {'source_group': 68, 'destination_group': 68}, {'source_group': 68, 'destination_group': 68}, {'source_group': 68, 'destination_group': 68}, {'source_group': 68, 'destination_group': 68}, {'source_group': 68, 'destination_group': 68}, {'source_group': 68, 'destination_group': 68}, {'source_group': 68, 'destination_group': 68}, {'source_group': 68, 'destination_group': 68}, {'source_group': 68, 'destination_group': 68}, {'source_group': 68, 'destination_group': 68}, {'source_group': 68, 'destination_group': 68}, {'source_group': 68, 'destination_group': 68}, {'source_group': 68, 'destination_group': 68}, {'source_group': 68, 'destination_group': 68}, {'source_group': 68, 'destination_group': 68}, {'source_group': 68, 'destination_group': 68}, {'source_group': 68, 'destination_group': 68}, {'source_group': 68, 'destination_group': 68}, {'source_group': 68, 'destination_group': 68}, {'source_group': 68, 'destination_group': 68}, {'source_group': 68, 'destination_group': 68}, {'source_group': 68, 'destination_group': 68}, {'source_group': 68, 'destination_group': 68}, {'source_group': 68, 'destination_group': 68}, {'source_group': 68, 'destination_group': 68}, {'source_group': 68, 'destination_group': 68}, {'source_group': 68, 'destination_group': 68}, {'source_group': 68, 'destination_group': 68}, {'source_group': 68, 'destination_group': 68}, {'source_group': 68, 'destination_group': 68}, {'source_group': 68, 'destination_group': 68}, {'source_group': 68, 'destination_group': 68}, {'source_group': 68, 'destination_group': 68}, {'source_group': 68, 'destination_group': 68}, {'source_group': 68, 'destination_group': 68}, {'source_group': 68, 'destination_group': 68}, {'source_group': 68, 'destination_group': 68}, {'source_group': 68, 'destination_group': 68}, {'source_group': 68, 'destination_group': 68}, {'source_group': 68, 'destination_group': 68}, {'source_group': 68, 'destination_group': 68}, {'source_group': 68, 'destination_group': 68}, {'source_group': 68, 'destination_group': 68}, {'source_group': 68, 'destination_group': 68}, {'source_group': 68, 'destination_group': 68}, {'source_group': 68, 'destination_group': 68}, {'source_group': 68, 'destination_group': 68}, {'source_group': 68, 'destination_group': 68}, {'source_group': 68, 'destination_group': 68}, {'source_group': 68, 'destination_group': 68}, {'source_group': 68, 'destination_group': 68}, {'source_group': 68, 'destination_group': 68}, {'source_group': 68, 'destination_group': 68}, {'source_group': 68, 'destination_group': 68}, {'source_group': 68, 'destination_group': 68}, {'source_group': 68, 'destination_group': 68}, {'source_group': 68, 'destination_group': 68}, {'source_group': 68, 'destination_group': 68}, {'source_group': 68, 'destination_group': 68}, {'source_group': 68, 'destination_group': 68}, {'source_group': 68, 'destination_group': 68}, {'source_group': 68, 'destination_group': 68}, {'source_group': 68, 'destination_group': 68}, {'source_group': 68, 'destination_group': 68}, {'source_group': 68, 'destination_group': 68}, {'source_group': 68, 'destination_group': 68}, {'source_group': 68, 'destination_group': 68}, {'source_group': 68, 'destination_group': 68}, {'source_group': 68, 'destination_group': 68}, {'source_group': 68, 'destination_group': 68}, {'source_group': 68, 'destination_group': 68}, {'source_group': 68, 'destination_group': 68}, {'source_group': 68, 'destination_group': 68}, {'source_group': 68, 'destination_group': 68}, {'source_group': 68, 'destination_group': 68}, {'source_group': 68, 'destination_group': 68}, {'source_group': 68, 'destination_group': 68}, {'source_group': 68, 'destination_group': 68}, {'source_group': 68, 'destination_group': 68}, {'source_group': 68, 'destination_group': 68}, {'source_group': 68, 'destination_group': 68}, {'source_group': 68, 'destination_group': 68}, {'source_group': 68, 'destination_group': 68}, {'source_group': 68, 'destination_group': 68}, {'source_group': 68, 'destination_group': 68}, {'source_group': 68, 'destination_group': 68}, {'source_group': 68, 'destination_group': 68}, {'source_group': 68, 'destination_group': 68}, {'source_group': 68, 'destination_group': 68}, {'source_group': 68, 'destination_group': 68}, {'source_group': 68, 'destination_group': 68}, {'source_group': 68, 'destination_group': 68}, {'source_group': 68, 'destination_group': 68}, {'source_group': 68, 'destination_group': 68}, {'source_group': 68, 'destination_group': 68}, {'source_group': 68, 'destination_group': 68}, {'source_group': 68, 'destination_group': 68}, {'source_group': 68, 'destination_group': 68}, {'source_group': 68, 'destination_group': 68}, {'source_group': 68, 'destination_group': 68}, {'source_group': 68, 'destination_group': 68}, {'source_group': 68, 'destination_group': 68}, {'source_group': 68, 'destination_group': 68}, {'source_group': 68, 'destination_group': 68}, {'source_group': 68, 'destination_group': 68}, {'source_group': 68, 'destination_group': 68}, {'source_group': 68, 'destination_group': 68}, {'source_group': 68, 'destination_group': 68}, {'source_group': 68, 'destination_group': 68}, {'source_group': 68, 'destination_group': 68}, {'source_group': 68, 'destination_group': 68}, {'source_group': 68, 'destination_group': 68}, {'source_group': 68, 'destination_group': 68}, {'source_group': 68, 'destination_group': 68}, {'source_group': 68, 'destination_group': 68}, {'source_group': 68, 'destination_group': 68}, {'source_group': 68, 'destination_group': 68}, {'source_group': 68, 'destination_group': 68}, {'source_group': 68, 'destination_group': 68}, {'source_group': 68, 'destination_group': 68}, {'source_group': 68, 'destination_group': 68}, {'source_group': 68, 'destination_group': 68}, {'source_group': 68, 'destination_group': 68}, {'source_group': 68, 'destination_group': 68}, {'source_group': 68, 'destination_group': 68}, {'source_group': 68, 'destination_group': 68}, {'source_group': 68, 'destination_group': 68}, {'source_group': 68, 'destination_group': 68}, {'source_group': 68, 'destination_group': 68}, {'source_group': 68, 'destination_group': 68}, {'source_group': 68, 'destination_group': 68}, {'source_group': 68, 'destination_group': 68}, {'source_group': 68, 'destination_group': 68}, {'source_group': 68, 'destination_group': 68}, {'source_group': 68, 'destination_group': 68}, {'source_group': 68, 'destination_group': 68}, {'source_group': 68, 'destination_group': 68}, {'source_group': 68, 'destination_group': 68}, {'source_group': 68, 'destination_group': 68}, {'source_group': 68, 'destination_group': 68}, {'source_group': 68, 'destination_group': 68}, {'source_group': 68, 'destination_group': 68}, {'source_group': 68, 'destination_group': 68}, {'source_group': 68, 'destination_group': 68}, {'source_group': 68, 'destination_group': 68}, {'source_group': 68, 'destination_group': 68}, {'source_group': 68, 'destination_group': 68}, {'source_group': 68, 'destination_group': 68}, {'source_group': 68, 'destination_group': 68}, {'source_group': 68, 'destination_group': 68}, {'source_group': 68, 'destination_group': 68}, {'source_group': 68, 'destination_group': 68}, {'source_group': 68, 'destination_group': 68}, {'source_group': 68, 'destination_group': 68}, {'source_group': 68, 'destination_group': 68}, {'source_group': 68, 'destination_group': 68}, {'source_group': 68, 'destination_group': 68}, {'source_group': 68, 'destination_group': 68}, {'source_group': 68, 'destination_group': 68}, {'source_group': 68, 'destination_group': 68}, {'source_group': 68, 'destination_group': 68}, {'source_group': 68, 'destination_group': 68}, {'source_group': 68, 'destination_group': 68}, {'source_group': 68, 'destination_group': 68}, {'source_group': 68, 'destination_group': 68}, {'source_group': 68, 'destination_group': 68}, {'source_group': 68, 'destination_group': 68}, {'source_group': 68, 'destination_group': 68}, {'source_group': 68, 'destination_group': 68}, {'source_group': 68, 'destination_group': 68}, {'source_group': 68, 'destination_group': 68}, {'source_group': 68, 'destination_group': 68}, {'source_group': 68, 'destination_group': 68}, {'source_group': 68, 'destination_group': 68}, {'source_group': 68, 'destination_group': 68}, {'source_group': 68, 'destination_group': 68}, {'source_group': 68, 'destination_group': 68}, {'source_group': 68, 'destination_group': 68}, {'source_group': 68, 'destination_group': 68}, {'source_group': 68, 'destination_group': 68}, {'source_group': 68, 'destination_group': 68}, {'source_group': 68, 'destination_group': 68}, {'source_group': 68, 'destination_group': 68}, {'source_group': 68, 'destination_group': 68}, {'source_group': 68, 'destination_group': 68}, {'source_group': 68, 'destination_group': 68}, {'source_group': 68, 'destination_group': 68}, {'source_group': 68, 'destination_group': 68}, {'source_group': 68, 'destination_group': 68}, {'source_group': 68, 'destination_group': 68}, {'source_group': 68, 'destination_group': 68}, {'source_group': 68, 'destination_group': 68}, {'source_group': 68, 'destination_group': 68}, {'source_group': 68, 'destination_group': 68}, {'source_group': 68, 'destination_group': 68}, {'source_group': 68, 'destination_group': 68}, {'source_group': 68, 'destination_group': 68}, {'source_group': 68, 'destination_group': 68}, {'source_group': 68, 'destination_group': 68}, {'source_group': 68, 'destination_group': 68}, {'source_group': 68, 'destination_group': 68}, {'source_group': 68, 'destination_group': 68}, {'source_group': 68, 'destination_group': 68}, {'source_group': 68, 'destination_group': 68}, {'source_group': 68, 'destination_group': 68}, {'source_group': 68, 'destination_group': 68}, {'source_group': 68, 'destination_group': 68}, {'source_group': 68, 'destination_group': 68}, {'source_group': 68, 'destination_group': 68}, {'source_group': 68, 'destination_group': 68}, {'source_group': 68, 'destination_group': 68}, {'source_group': 68, 'destination_group': 68}, {'source_group': 68, 'destination_group': 68}, {'source_group': 68, 'destination_group': 68}, {'source_group': 68, 'destination_group': 68}, {'source_group': 68, 'destination_group': 68}, {'source_group': 68, 'destination_group': 68}, {'source_group': 68, 'destination_group': 68}, {'source_group': 68, 'destination_group': 68}, {'source_group': 68, 'destination_group': 68}, {'source_group': 68, 'destination_group': 68}, {'source_group': 68, 'destination_group': 68}, {'source_group': 68, 'destination_group': 68}, {'source_group': 68, 'destination_group': 68}, {'source_group': 68, 'destination_group': 68}, {'source_group': 68, 'destination_group': 68}, {'source_group': 68, 'destination_group': 68}, {'source_group': 68, 'destination_group': 68}, {'source_group': 68, 'destination_group': 68}, {'source_group': 68, 'destination_group': 68}, {'source_group': 68, 'destination_group': 68}, {'source_group': 68, 'destination_group': 68}, {'source_group': 68, 'destination_group': 68}, {'source_group': 68, 'destination_group': 68}, {'source_group': 68, 'destination_group': 27}, {'source_group': 68, 'destination_group': 5}, {'source_group': 68, 'destination_group': 5}, {'source_group': 68, 'destination_group': 5}, {'source_group': 68, 'destination_group': 12}, {'source_group': 68, 'destination_group': 51}, {'source_group': 68, 'destination_group': 11}, {'source_group': 68, 'destination_group': 47}]\n"
     ]
    },
    {
     "data": {
      "text/plain": [
       "'[20,30), Overig, Man, 3'"
      ]
     },
     "execution_count": 26,
     "metadata": {},
     "output_type": "execute_result"
    }
   ],
   "source": [
    "in_degrees = {i[1]:i[0] for i in G.in_degree()}\n",
    "max_in_degree = max(in_degrees.keys())\n",
    "id_max_in_degree = in_degrees[max(in_degrees.keys())]\n",
    "\n",
    "id_max_in_degree\n",
    "type_max_in_degree = get_type_node(G,id_max_in_degree)\n",
    "# l_type_max_in_degree.append(type_max_in_degree)\n",
    "rehash_dict[type_max_in_degree]"
   ]
  },
  {
   "cell_type": "code",
   "execution_count": 118,
   "metadata": {},
   "outputs": [
    {
     "data": {
      "text/plain": [
       "0.004432430950335423"
      ]
     },
     "execution_count": 118,
     "metadata": {},
     "output_type": "execute_result"
    }
   ],
   "source": [
    "g.reciprocity()"
   ]
  },
  {
   "cell_type": "code",
   "execution_count": null,
   "metadata": {},
   "outputs": [],
   "source": []
  },
  {
   "cell_type": "code",
   "execution_count": null,
   "metadata": {},
   "outputs": [],
   "source": []
  },
  {
   "cell_type": "code",
   "execution_count": null,
   "metadata": {},
   "outputs": [],
   "source": [
    "g.diameter()\n"
   ]
  },
  {
   "cell_type": "code",
   "execution_count": 19,
   "metadata": {},
   "outputs": [
    {
     "ename": "FileNotFoundError",
     "evalue": "[Errno 2] No such file or directory: './Data/NW_data/huishouden_nw_b=0.csv'",
     "output_type": "error",
     "traceback": [
      "\u001b[1;31m---------------------------------------------------------------------------\u001b[0m",
      "\u001b[1;31mFileNotFoundError\u001b[0m                         Traceback (most recent call last)",
      "\u001b[1;32m<ipython-input-19-f48c2ae37c48>\u001b[0m in \u001b[0;36m<module>\u001b[1;34m\u001b[0m\n\u001b[1;32m----> 1\u001b[1;33m \u001b[0mdf\u001b[0m \u001b[1;33m=\u001b[0m \u001b[0mpd\u001b[0m\u001b[1;33m.\u001b[0m\u001b[0mread_csv\u001b[0m\u001b[1;33m(\u001b[0m\u001b[1;34mf'./Data/NW_data/huishouden_nw_b=0.csv'\u001b[0m\u001b[1;33m)\u001b[0m\u001b[1;33m\u001b[0m\u001b[1;33m\u001b[0m\u001b[0m\n\u001b[0m",
      "\u001b[1;32m~\\anaconda3\\lib\\site-packages\\pandas\\io\\parsers.py\u001b[0m in \u001b[0;36mread_csv\u001b[1;34m(filepath_or_buffer, sep, delimiter, header, names, index_col, usecols, squeeze, prefix, mangle_dupe_cols, dtype, engine, converters, true_values, false_values, skipinitialspace, skiprows, skipfooter, nrows, na_values, keep_default_na, na_filter, verbose, skip_blank_lines, parse_dates, infer_datetime_format, keep_date_col, date_parser, dayfirst, cache_dates, iterator, chunksize, compression, thousands, decimal, lineterminator, quotechar, quoting, doublequote, escapechar, comment, encoding, dialect, error_bad_lines, warn_bad_lines, delim_whitespace, low_memory, memory_map, float_precision)\u001b[0m\n\u001b[0;32m    684\u001b[0m     )\n\u001b[0;32m    685\u001b[0m \u001b[1;33m\u001b[0m\u001b[0m\n\u001b[1;32m--> 686\u001b[1;33m     \u001b[1;32mreturn\u001b[0m \u001b[0m_read\u001b[0m\u001b[1;33m(\u001b[0m\u001b[0mfilepath_or_buffer\u001b[0m\u001b[1;33m,\u001b[0m \u001b[0mkwds\u001b[0m\u001b[1;33m)\u001b[0m\u001b[1;33m\u001b[0m\u001b[1;33m\u001b[0m\u001b[0m\n\u001b[0m\u001b[0;32m    687\u001b[0m \u001b[1;33m\u001b[0m\u001b[0m\n\u001b[0;32m    688\u001b[0m \u001b[1;33m\u001b[0m\u001b[0m\n",
      "\u001b[1;32m~\\anaconda3\\lib\\site-packages\\pandas\\io\\parsers.py\u001b[0m in \u001b[0;36m_read\u001b[1;34m(filepath_or_buffer, kwds)\u001b[0m\n\u001b[0;32m    450\u001b[0m \u001b[1;33m\u001b[0m\u001b[0m\n\u001b[0;32m    451\u001b[0m     \u001b[1;31m# Create the parser.\u001b[0m\u001b[1;33m\u001b[0m\u001b[1;33m\u001b[0m\u001b[1;33m\u001b[0m\u001b[0m\n\u001b[1;32m--> 452\u001b[1;33m     \u001b[0mparser\u001b[0m \u001b[1;33m=\u001b[0m \u001b[0mTextFileReader\u001b[0m\u001b[1;33m(\u001b[0m\u001b[0mfp_or_buf\u001b[0m\u001b[1;33m,\u001b[0m \u001b[1;33m**\u001b[0m\u001b[0mkwds\u001b[0m\u001b[1;33m)\u001b[0m\u001b[1;33m\u001b[0m\u001b[1;33m\u001b[0m\u001b[0m\n\u001b[0m\u001b[0;32m    453\u001b[0m \u001b[1;33m\u001b[0m\u001b[0m\n\u001b[0;32m    454\u001b[0m     \u001b[1;32mif\u001b[0m \u001b[0mchunksize\u001b[0m \u001b[1;32mor\u001b[0m \u001b[0miterator\u001b[0m\u001b[1;33m:\u001b[0m\u001b[1;33m\u001b[0m\u001b[1;33m\u001b[0m\u001b[0m\n",
      "\u001b[1;32m~\\anaconda3\\lib\\site-packages\\pandas\\io\\parsers.py\u001b[0m in \u001b[0;36m__init__\u001b[1;34m(self, f, engine, **kwds)\u001b[0m\n\u001b[0;32m    944\u001b[0m             \u001b[0mself\u001b[0m\u001b[1;33m.\u001b[0m\u001b[0moptions\u001b[0m\u001b[1;33m[\u001b[0m\u001b[1;34m\"has_index_names\"\u001b[0m\u001b[1;33m]\u001b[0m \u001b[1;33m=\u001b[0m \u001b[0mkwds\u001b[0m\u001b[1;33m[\u001b[0m\u001b[1;34m\"has_index_names\"\u001b[0m\u001b[1;33m]\u001b[0m\u001b[1;33m\u001b[0m\u001b[1;33m\u001b[0m\u001b[0m\n\u001b[0;32m    945\u001b[0m \u001b[1;33m\u001b[0m\u001b[0m\n\u001b[1;32m--> 946\u001b[1;33m         \u001b[0mself\u001b[0m\u001b[1;33m.\u001b[0m\u001b[0m_make_engine\u001b[0m\u001b[1;33m(\u001b[0m\u001b[0mself\u001b[0m\u001b[1;33m.\u001b[0m\u001b[0mengine\u001b[0m\u001b[1;33m)\u001b[0m\u001b[1;33m\u001b[0m\u001b[1;33m\u001b[0m\u001b[0m\n\u001b[0m\u001b[0;32m    947\u001b[0m \u001b[1;33m\u001b[0m\u001b[0m\n\u001b[0;32m    948\u001b[0m     \u001b[1;32mdef\u001b[0m \u001b[0mclose\u001b[0m\u001b[1;33m(\u001b[0m\u001b[0mself\u001b[0m\u001b[1;33m)\u001b[0m\u001b[1;33m:\u001b[0m\u001b[1;33m\u001b[0m\u001b[1;33m\u001b[0m\u001b[0m\n",
      "\u001b[1;32m~\\anaconda3\\lib\\site-packages\\pandas\\io\\parsers.py\u001b[0m in \u001b[0;36m_make_engine\u001b[1;34m(self, engine)\u001b[0m\n\u001b[0;32m   1176\u001b[0m     \u001b[1;32mdef\u001b[0m \u001b[0m_make_engine\u001b[0m\u001b[1;33m(\u001b[0m\u001b[0mself\u001b[0m\u001b[1;33m,\u001b[0m \u001b[0mengine\u001b[0m\u001b[1;33m=\u001b[0m\u001b[1;34m\"c\"\u001b[0m\u001b[1;33m)\u001b[0m\u001b[1;33m:\u001b[0m\u001b[1;33m\u001b[0m\u001b[1;33m\u001b[0m\u001b[0m\n\u001b[0;32m   1177\u001b[0m         \u001b[1;32mif\u001b[0m \u001b[0mengine\u001b[0m \u001b[1;33m==\u001b[0m \u001b[1;34m\"c\"\u001b[0m\u001b[1;33m:\u001b[0m\u001b[1;33m\u001b[0m\u001b[1;33m\u001b[0m\u001b[0m\n\u001b[1;32m-> 1178\u001b[1;33m             \u001b[0mself\u001b[0m\u001b[1;33m.\u001b[0m\u001b[0m_engine\u001b[0m \u001b[1;33m=\u001b[0m \u001b[0mCParserWrapper\u001b[0m\u001b[1;33m(\u001b[0m\u001b[0mself\u001b[0m\u001b[1;33m.\u001b[0m\u001b[0mf\u001b[0m\u001b[1;33m,\u001b[0m \u001b[1;33m**\u001b[0m\u001b[0mself\u001b[0m\u001b[1;33m.\u001b[0m\u001b[0moptions\u001b[0m\u001b[1;33m)\u001b[0m\u001b[1;33m\u001b[0m\u001b[1;33m\u001b[0m\u001b[0m\n\u001b[0m\u001b[0;32m   1179\u001b[0m         \u001b[1;32melse\u001b[0m\u001b[1;33m:\u001b[0m\u001b[1;33m\u001b[0m\u001b[1;33m\u001b[0m\u001b[0m\n\u001b[0;32m   1180\u001b[0m             \u001b[1;32mif\u001b[0m \u001b[0mengine\u001b[0m \u001b[1;33m==\u001b[0m \u001b[1;34m\"python\"\u001b[0m\u001b[1;33m:\u001b[0m\u001b[1;33m\u001b[0m\u001b[1;33m\u001b[0m\u001b[0m\n",
      "\u001b[1;32m~\\anaconda3\\lib\\site-packages\\pandas\\io\\parsers.py\u001b[0m in \u001b[0;36m__init__\u001b[1;34m(self, src, **kwds)\u001b[0m\n\u001b[0;32m   2006\u001b[0m         \u001b[0mkwds\u001b[0m\u001b[1;33m[\u001b[0m\u001b[1;34m\"usecols\"\u001b[0m\u001b[1;33m]\u001b[0m \u001b[1;33m=\u001b[0m \u001b[0mself\u001b[0m\u001b[1;33m.\u001b[0m\u001b[0musecols\u001b[0m\u001b[1;33m\u001b[0m\u001b[1;33m\u001b[0m\u001b[0m\n\u001b[0;32m   2007\u001b[0m \u001b[1;33m\u001b[0m\u001b[0m\n\u001b[1;32m-> 2008\u001b[1;33m         \u001b[0mself\u001b[0m\u001b[1;33m.\u001b[0m\u001b[0m_reader\u001b[0m \u001b[1;33m=\u001b[0m \u001b[0mparsers\u001b[0m\u001b[1;33m.\u001b[0m\u001b[0mTextReader\u001b[0m\u001b[1;33m(\u001b[0m\u001b[0msrc\u001b[0m\u001b[1;33m,\u001b[0m \u001b[1;33m**\u001b[0m\u001b[0mkwds\u001b[0m\u001b[1;33m)\u001b[0m\u001b[1;33m\u001b[0m\u001b[1;33m\u001b[0m\u001b[0m\n\u001b[0m\u001b[0;32m   2009\u001b[0m         \u001b[0mself\u001b[0m\u001b[1;33m.\u001b[0m\u001b[0munnamed_cols\u001b[0m \u001b[1;33m=\u001b[0m \u001b[0mself\u001b[0m\u001b[1;33m.\u001b[0m\u001b[0m_reader\u001b[0m\u001b[1;33m.\u001b[0m\u001b[0munnamed_cols\u001b[0m\u001b[1;33m\u001b[0m\u001b[1;33m\u001b[0m\u001b[0m\n\u001b[0;32m   2010\u001b[0m \u001b[1;33m\u001b[0m\u001b[0m\n",
      "\u001b[1;32mpandas\\_libs\\parsers.pyx\u001b[0m in \u001b[0;36mpandas._libs.parsers.TextReader.__cinit__\u001b[1;34m()\u001b[0m\n",
      "\u001b[1;32mpandas\\_libs\\parsers.pyx\u001b[0m in \u001b[0;36mpandas._libs.parsers.TextReader._setup_parser_source\u001b[1;34m()\u001b[0m\n",
      "\u001b[1;31mFileNotFoundError\u001b[0m: [Errno 2] No such file or directory: './Data/NW_data/huishouden_nw_b=0.csv'"
     ]
    }
   ],
   "source": [
    "df = pd.read_csv(f'./Data/NW_data/huishouden_nw_b=0.csv')\n"
   ]
  },
  {
   "cell_type": "code",
   "execution_count": 17,
   "metadata": {},
   "outputs": [
    {
     "ename": "FileNotFoundError",
     "evalue": "[Errno 2] No such file or directory: './Data/NW_data/familie_nw_b=0_1_reciprocity.csv'",
     "output_type": "error",
     "traceback": [
      "\u001b[1;31m---------------------------------------------------------------------------\u001b[0m",
      "\u001b[1;31mFileNotFoundError\u001b[0m                         Traceback (most recent call last)",
      "\u001b[1;32m<ipython-input-17-a958f182c5ce>\u001b[0m in \u001b[0;36m<module>\u001b[1;34m\u001b[0m\n\u001b[1;32m----> 1\u001b[1;33m \u001b[0mdf2\u001b[0m \u001b[1;33m=\u001b[0m  \u001b[0mpd\u001b[0m\u001b[1;33m.\u001b[0m\u001b[0mread_csv\u001b[0m\u001b[1;33m(\u001b[0m\u001b[1;34mf'./Data/NW_data/familie_nw_b=0_1_reciprocity.csv'\u001b[0m\u001b[1;33m)\u001b[0m\u001b[1;33m\u001b[0m\u001b[1;33m\u001b[0m\u001b[0m\n\u001b[0m",
      "\u001b[1;32m~\\anaconda3\\lib\\site-packages\\pandas\\io\\parsers.py\u001b[0m in \u001b[0;36mread_csv\u001b[1;34m(filepath_or_buffer, sep, delimiter, header, names, index_col, usecols, squeeze, prefix, mangle_dupe_cols, dtype, engine, converters, true_values, false_values, skipinitialspace, skiprows, skipfooter, nrows, na_values, keep_default_na, na_filter, verbose, skip_blank_lines, parse_dates, infer_datetime_format, keep_date_col, date_parser, dayfirst, cache_dates, iterator, chunksize, compression, thousands, decimal, lineterminator, quotechar, quoting, doublequote, escapechar, comment, encoding, dialect, error_bad_lines, warn_bad_lines, delim_whitespace, low_memory, memory_map, float_precision)\u001b[0m\n\u001b[0;32m    684\u001b[0m     )\n\u001b[0;32m    685\u001b[0m \u001b[1;33m\u001b[0m\u001b[0m\n\u001b[1;32m--> 686\u001b[1;33m     \u001b[1;32mreturn\u001b[0m \u001b[0m_read\u001b[0m\u001b[1;33m(\u001b[0m\u001b[0mfilepath_or_buffer\u001b[0m\u001b[1;33m,\u001b[0m \u001b[0mkwds\u001b[0m\u001b[1;33m)\u001b[0m\u001b[1;33m\u001b[0m\u001b[1;33m\u001b[0m\u001b[0m\n\u001b[0m\u001b[0;32m    687\u001b[0m \u001b[1;33m\u001b[0m\u001b[0m\n\u001b[0;32m    688\u001b[0m \u001b[1;33m\u001b[0m\u001b[0m\n",
      "\u001b[1;32m~\\anaconda3\\lib\\site-packages\\pandas\\io\\parsers.py\u001b[0m in \u001b[0;36m_read\u001b[1;34m(filepath_or_buffer, kwds)\u001b[0m\n\u001b[0;32m    450\u001b[0m \u001b[1;33m\u001b[0m\u001b[0m\n\u001b[0;32m    451\u001b[0m     \u001b[1;31m# Create the parser.\u001b[0m\u001b[1;33m\u001b[0m\u001b[1;33m\u001b[0m\u001b[1;33m\u001b[0m\u001b[0m\n\u001b[1;32m--> 452\u001b[1;33m     \u001b[0mparser\u001b[0m \u001b[1;33m=\u001b[0m \u001b[0mTextFileReader\u001b[0m\u001b[1;33m(\u001b[0m\u001b[0mfp_or_buf\u001b[0m\u001b[1;33m,\u001b[0m \u001b[1;33m**\u001b[0m\u001b[0mkwds\u001b[0m\u001b[1;33m)\u001b[0m\u001b[1;33m\u001b[0m\u001b[1;33m\u001b[0m\u001b[0m\n\u001b[0m\u001b[0;32m    453\u001b[0m \u001b[1;33m\u001b[0m\u001b[0m\n\u001b[0;32m    454\u001b[0m     \u001b[1;32mif\u001b[0m \u001b[0mchunksize\u001b[0m \u001b[1;32mor\u001b[0m \u001b[0miterator\u001b[0m\u001b[1;33m:\u001b[0m\u001b[1;33m\u001b[0m\u001b[1;33m\u001b[0m\u001b[0m\n",
      "\u001b[1;32m~\\anaconda3\\lib\\site-packages\\pandas\\io\\parsers.py\u001b[0m in \u001b[0;36m__init__\u001b[1;34m(self, f, engine, **kwds)\u001b[0m\n\u001b[0;32m    944\u001b[0m             \u001b[0mself\u001b[0m\u001b[1;33m.\u001b[0m\u001b[0moptions\u001b[0m\u001b[1;33m[\u001b[0m\u001b[1;34m\"has_index_names\"\u001b[0m\u001b[1;33m]\u001b[0m \u001b[1;33m=\u001b[0m \u001b[0mkwds\u001b[0m\u001b[1;33m[\u001b[0m\u001b[1;34m\"has_index_names\"\u001b[0m\u001b[1;33m]\u001b[0m\u001b[1;33m\u001b[0m\u001b[1;33m\u001b[0m\u001b[0m\n\u001b[0;32m    945\u001b[0m \u001b[1;33m\u001b[0m\u001b[0m\n\u001b[1;32m--> 946\u001b[1;33m         \u001b[0mself\u001b[0m\u001b[1;33m.\u001b[0m\u001b[0m_make_engine\u001b[0m\u001b[1;33m(\u001b[0m\u001b[0mself\u001b[0m\u001b[1;33m.\u001b[0m\u001b[0mengine\u001b[0m\u001b[1;33m)\u001b[0m\u001b[1;33m\u001b[0m\u001b[1;33m\u001b[0m\u001b[0m\n\u001b[0m\u001b[0;32m    947\u001b[0m \u001b[1;33m\u001b[0m\u001b[0m\n\u001b[0;32m    948\u001b[0m     \u001b[1;32mdef\u001b[0m \u001b[0mclose\u001b[0m\u001b[1;33m(\u001b[0m\u001b[0mself\u001b[0m\u001b[1;33m)\u001b[0m\u001b[1;33m:\u001b[0m\u001b[1;33m\u001b[0m\u001b[1;33m\u001b[0m\u001b[0m\n",
      "\u001b[1;32m~\\anaconda3\\lib\\site-packages\\pandas\\io\\parsers.py\u001b[0m in \u001b[0;36m_make_engine\u001b[1;34m(self, engine)\u001b[0m\n\u001b[0;32m   1176\u001b[0m     \u001b[1;32mdef\u001b[0m \u001b[0m_make_engine\u001b[0m\u001b[1;33m(\u001b[0m\u001b[0mself\u001b[0m\u001b[1;33m,\u001b[0m \u001b[0mengine\u001b[0m\u001b[1;33m=\u001b[0m\u001b[1;34m\"c\"\u001b[0m\u001b[1;33m)\u001b[0m\u001b[1;33m:\u001b[0m\u001b[1;33m\u001b[0m\u001b[1;33m\u001b[0m\u001b[0m\n\u001b[0;32m   1177\u001b[0m         \u001b[1;32mif\u001b[0m \u001b[0mengine\u001b[0m \u001b[1;33m==\u001b[0m \u001b[1;34m\"c\"\u001b[0m\u001b[1;33m:\u001b[0m\u001b[1;33m\u001b[0m\u001b[1;33m\u001b[0m\u001b[0m\n\u001b[1;32m-> 1178\u001b[1;33m             \u001b[0mself\u001b[0m\u001b[1;33m.\u001b[0m\u001b[0m_engine\u001b[0m \u001b[1;33m=\u001b[0m \u001b[0mCParserWrapper\u001b[0m\u001b[1;33m(\u001b[0m\u001b[0mself\u001b[0m\u001b[1;33m.\u001b[0m\u001b[0mf\u001b[0m\u001b[1;33m,\u001b[0m \u001b[1;33m**\u001b[0m\u001b[0mself\u001b[0m\u001b[1;33m.\u001b[0m\u001b[0moptions\u001b[0m\u001b[1;33m)\u001b[0m\u001b[1;33m\u001b[0m\u001b[1;33m\u001b[0m\u001b[0m\n\u001b[0m\u001b[0;32m   1179\u001b[0m         \u001b[1;32melse\u001b[0m\u001b[1;33m:\u001b[0m\u001b[1;33m\u001b[0m\u001b[1;33m\u001b[0m\u001b[0m\n\u001b[0;32m   1180\u001b[0m             \u001b[1;32mif\u001b[0m \u001b[0mengine\u001b[0m \u001b[1;33m==\u001b[0m \u001b[1;34m\"python\"\u001b[0m\u001b[1;33m:\u001b[0m\u001b[1;33m\u001b[0m\u001b[1;33m\u001b[0m\u001b[0m\n",
      "\u001b[1;32m~\\anaconda3\\lib\\site-packages\\pandas\\io\\parsers.py\u001b[0m in \u001b[0;36m__init__\u001b[1;34m(self, src, **kwds)\u001b[0m\n\u001b[0;32m   2006\u001b[0m         \u001b[0mkwds\u001b[0m\u001b[1;33m[\u001b[0m\u001b[1;34m\"usecols\"\u001b[0m\u001b[1;33m]\u001b[0m \u001b[1;33m=\u001b[0m \u001b[0mself\u001b[0m\u001b[1;33m.\u001b[0m\u001b[0musecols\u001b[0m\u001b[1;33m\u001b[0m\u001b[1;33m\u001b[0m\u001b[0m\n\u001b[0;32m   2007\u001b[0m \u001b[1;33m\u001b[0m\u001b[0m\n\u001b[1;32m-> 2008\u001b[1;33m         \u001b[0mself\u001b[0m\u001b[1;33m.\u001b[0m\u001b[0m_reader\u001b[0m \u001b[1;33m=\u001b[0m \u001b[0mparsers\u001b[0m\u001b[1;33m.\u001b[0m\u001b[0mTextReader\u001b[0m\u001b[1;33m(\u001b[0m\u001b[0msrc\u001b[0m\u001b[1;33m,\u001b[0m \u001b[1;33m**\u001b[0m\u001b[0mkwds\u001b[0m\u001b[1;33m)\u001b[0m\u001b[1;33m\u001b[0m\u001b[1;33m\u001b[0m\u001b[0m\n\u001b[0m\u001b[0;32m   2009\u001b[0m         \u001b[0mself\u001b[0m\u001b[1;33m.\u001b[0m\u001b[0munnamed_cols\u001b[0m \u001b[1;33m=\u001b[0m \u001b[0mself\u001b[0m\u001b[1;33m.\u001b[0m\u001b[0m_reader\u001b[0m\u001b[1;33m.\u001b[0m\u001b[0munnamed_cols\u001b[0m\u001b[1;33m\u001b[0m\u001b[1;33m\u001b[0m\u001b[0m\n\u001b[0;32m   2010\u001b[0m \u001b[1;33m\u001b[0m\u001b[0m\n",
      "\u001b[1;32mpandas\\_libs\\parsers.pyx\u001b[0m in \u001b[0;36mpandas._libs.parsers.TextReader.__cinit__\u001b[1;34m()\u001b[0m\n",
      "\u001b[1;32mpandas\\_libs\\parsers.pyx\u001b[0m in \u001b[0;36mpandas._libs.parsers.TextReader._setup_parser_source\u001b[1;34m()\u001b[0m\n",
      "\u001b[1;31mFileNotFoundError\u001b[0m: [Errno 2] No such file or directory: './Data/NW_data/familie_nw_b=0_1_reciprocity.csv'"
     ]
    }
   ],
   "source": [
    "\n",
    "df2 =  pd.read_csv(f'./Data/NW_data/familie_nw_b=0_1_reciprocity.csv')\n"
   ]
  },
  {
   "cell_type": "code",
   "execution_count": 34,
   "metadata": {},
   "outputs": [],
   "source": [
    "n_df = pd.concat([df, df2, df3])"
   ]
  },
  {
   "cell_type": "code",
   "execution_count": 6,
   "metadata": {},
   "outputs": [
    {
     "ename": "NameError",
     "evalue": "name 'n_df' is not defined",
     "output_type": "error",
     "traceback": [
      "\u001b[1;31m---------------------------------------------------------------------------\u001b[0m",
      "\u001b[1;31mNameError\u001b[0m                                 Traceback (most recent call last)",
      "\u001b[1;32m<ipython-input-6-13be55915927>\u001b[0m in \u001b[0;36m<module>\u001b[1;34m\u001b[0m\n\u001b[1;32m----> 1\u001b[1;33m \u001b[0mn_df\u001b[0m\u001b[1;33m.\u001b[0m\u001b[0mhead\u001b[0m\u001b[1;33m(\u001b[0m\u001b[1;33m)\u001b[0m\u001b[1;33m\u001b[0m\u001b[1;33m\u001b[0m\u001b[0m\n\u001b[0m",
      "\u001b[1;31mNameError\u001b[0m: name 'n_df' is not defined"
     ]
    }
   ],
   "source": [
    "n_df.head()"
   ]
  },
  {
   "cell_type": "code",
   "execution_count": 36,
   "metadata": {},
   "outputs": [],
   "source": [
    "g = ig.Graph.TupleList(n_df[['source_id','destination_id']].itertuples(index=False), directed=True, weights=False)"
   ]
  },
  {
   "cell_type": "code",
   "execution_count": 21,
   "metadata": {},
   "outputs": [],
   "source": [
    "edge_list = g.get_edgelist()"
   ]
  },
  {
   "cell_type": "code",
   "execution_count": 24,
   "metadata": {},
   "outputs": [],
   "source": [
    "edge_list = np.array(edge_list)"
   ]
  },
  {
   "cell_type": "code",
   "execution_count": 27,
   "metadata": {},
   "outputs": [
    {
     "data": {
      "text/plain": [
       "802930"
      ]
     },
     "execution_count": 27,
     "metadata": {},
     "output_type": "execute_result"
    }
   ],
   "source": [
    "max(edge_list.flatten())"
   ]
  },
  {
   "cell_type": "code",
   "execution_count": 28,
   "metadata": {},
   "outputs": [],
   "source": [
    "rn = np.random.randint(802930, size=(100,2))\n",
    "\n",
    "x = rn[:,0]\n",
    "y = rn[:,1]"
   ]
  },
  {
   "cell_type": "code",
   "execution_count": 29,
   "metadata": {},
   "outputs": [],
   "source": [
    "sp = g.shortest_paths(x, y, mode='in')"
   ]
  },
  {
   "cell_type": "code",
   "execution_count": 33,
   "metadata": {},
   "outputs": [
    {
     "data": {
      "text/plain": [
       "8.0138"
      ]
     },
     "execution_count": 33,
     "metadata": {},
     "output_type": "execute_result"
    }
   ],
   "source": [
    "sp = np.array(sp)\n",
    "\n",
    "sp1 = sp.copy()\n",
    "sp1[sp == np.inf] = 20\n",
    "# sp = sp.flatten()\n",
    "\n",
    "# np.mean(sp1)\n",
    "# # list(sp).count(np.inf)\n",
    "# # len(sp)\n",
    "\n",
    "np.mean(sp1.flatten())"
   ]
  },
  {
   "cell_type": "code",
   "execution_count": 5,
   "metadata": {},
   "outputs": [],
   "source": []
  },
  {
   "cell_type": "code",
   "execution_count": 28,
   "metadata": {},
   "outputs": [
    {
     "data": {
      "text/plain": [
       "8.1632"
      ]
     },
     "execution_count": 28,
     "metadata": {},
     "output_type": "execute_result"
    }
   ],
   "source": []
  },
  {
   "cell_type": "code",
   "execution_count": 25,
   "metadata": {},
   "outputs": [
    {
     "data": {
      "text/plain": [
       "2"
      ]
     },
     "execution_count": 25,
     "metadata": {},
     "output_type": "execute_result"
    }
   ],
   "source": [
    "len(g.clusters('strong')[0])"
   ]
  },
  {
   "cell_type": "code",
   "execution_count": 2,
   "metadata": {},
   "outputs": [],
   "source": [
    "df = pd.read_csv('all_values.csv')"
   ]
  },
  {
   "cell_type": "code",
   "execution_count": 39,
   "metadata": {},
   "outputs": [
    {
     "data": {
      "text/html": [
       "<div>\n",
       "<style scoped>\n",
       "    .dataframe tbody tr th:only-of-type {\n",
       "        vertical-align: middle;\n",
       "    }\n",
       "\n",
       "    .dataframe tbody tr th {\n",
       "        vertical-align: top;\n",
       "    }\n",
       "\n",
       "    .dataframe thead th {\n",
       "        text-align: right;\n",
       "    }\n",
       "</style>\n",
       "<table border=\"1\" class=\"dataframe\">\n",
       "  <thead>\n",
       "    <tr style=\"text-align: right;\">\n",
       "      <th></th>\n",
       "      <th>Unnamed: 0</th>\n",
       "      <th>Data/NW_data2\\buren_nw_b=0_0_reciprocity.csv</th>\n",
       "      <th>Data/NW_data2\\buren_nw_barabasi=0_spatial.csv</th>\n",
       "      <th>Data/NW_data2\\buren_nw_barabasi=1_100_percentage_0.5_reciprocity.csv</th>\n",
       "      <th>Data/NW_data2\\buren_nw_barabasi=1_100_percentage_0_reciprocity.csv</th>\n",
       "      <th>Data/NW_data2\\buren_nw_barabasi=1_10_percentage_0.5_reciprocity.csv</th>\n",
       "      <th>Data/NW_data2\\buren_nw_barabasi=1_10_percentage_0_reciprocity.csv</th>\n",
       "      <th>Data/NW_data2\\buren_nw_barabasi=1_1_percentage_0.5_reciprocity.csv</th>\n",
       "      <th>Data/NW_data2\\buren_nw_barabasi=1_1_percentage_0_reciprocity.csv</th>\n",
       "      <th>Data/NW_data2\\buren_nw_barabasi=1_1_percentage_1_reciprocity.csv</th>\n",
       "      <th>...</th>\n",
       "      <th>Data/NW_data2\\werkschool_nw_barabasi=1_100_percentage_0_reciprocity.csv</th>\n",
       "      <th>Data/NW_data2\\werkschool_nw_barabasi=1_10_percentage_0.5_reciprocity.csv</th>\n",
       "      <th>Data/NW_data2\\werkschool_nw_barabasi=1_10_percentage_0_reciprocity.csv</th>\n",
       "      <th>Data/NW_data2\\werkschool_nw_barabasi=1_1_percentage_0.5_reciprocity.csv</th>\n",
       "      <th>Data/NW_data2\\werkschool_nw_barabasi=1_1_percentage_0_reciprocity.csv</th>\n",
       "      <th>Data/NW_data2\\werkschool_nw_barabasi=1_1_percentage_1_reciprocity.csv</th>\n",
       "      <th>Data/NW_data2\\werkschool_nw_barabasi=1_50_percentage_0.5_reciprocity.csv</th>\n",
       "      <th>Data/NW_data2\\werkschool_nw_barabasi=1_50_percentage_0_reciprocity.csv</th>\n",
       "      <th>Data/NW_data2\\werkschool_nw_barabasi=1_5_percentage_0.5_reciprocity.csv</th>\n",
       "      <th>Data/NW_data2\\werkschool_nw_barabasi=1_5_percentage_0_reciprocity.csv</th>\n",
       "    </tr>\n",
       "  </thead>\n",
       "  <tbody>\n",
       "    <tr>\n",
       "      <th>0</th>\n",
       "      <td>Connected nodes</td>\n",
       "      <td>8.601900e+05</td>\n",
       "      <td>8.601480e+05</td>\n",
       "      <td>860157.000000</td>\n",
       "      <td>860157.000000</td>\n",
       "      <td>8.599190e+05</td>\n",
       "      <td>859970.000000</td>\n",
       "      <td>859827.000000</td>\n",
       "      <td>8.598120e+05</td>\n",
       "      <td>859816.000000</td>\n",
       "      <td>...</td>\n",
       "      <td>8.114010e+05</td>\n",
       "      <td>810300.000000</td>\n",
       "      <td>8.103500e+05</td>\n",
       "      <td>808400.000000</td>\n",
       "      <td>808335.000000</td>\n",
       "      <td>808408.000000</td>\n",
       "      <td>8.112460e+05</td>\n",
       "      <td>8.112730e+05</td>\n",
       "      <td>8.097910e+05</td>\n",
       "      <td>8.097660e+05</td>\n",
       "    </tr>\n",
       "    <tr>\n",
       "      <th>1</th>\n",
       "      <td>Shortest path</td>\n",
       "      <td>inf</td>\n",
       "      <td>inf</td>\n",
       "      <td>4.257800</td>\n",
       "      <td>4.731400</td>\n",
       "      <td>inf</td>\n",
       "      <td>4.785100</td>\n",
       "      <td>4.248200</td>\n",
       "      <td>inf</td>\n",
       "      <td>3.963300</td>\n",
       "      <td>...</td>\n",
       "      <td>inf</td>\n",
       "      <td>3.812700</td>\n",
       "      <td>inf</td>\n",
       "      <td>3.864000</td>\n",
       "      <td>4.158200</td>\n",
       "      <td>3.639500</td>\n",
       "      <td>inf</td>\n",
       "      <td>inf</td>\n",
       "      <td>inf</td>\n",
       "      <td>inf</td>\n",
       "    </tr>\n",
       "    <tr>\n",
       "      <th>2</th>\n",
       "      <td>Shortest path2</td>\n",
       "      <td>5.616000e+00</td>\n",
       "      <td>9.688200e+00</td>\n",
       "      <td>4.257800</td>\n",
       "      <td>4.731400</td>\n",
       "      <td>5.218700e+00</td>\n",
       "      <td>4.785100</td>\n",
       "      <td>4.248200</td>\n",
       "      <td>6.756200e+00</td>\n",
       "      <td>3.963300</td>\n",
       "      <td>...</td>\n",
       "      <td>6.113400e+00</td>\n",
       "      <td>3.812700</td>\n",
       "      <td>6.048300e+00</td>\n",
       "      <td>3.864000</td>\n",
       "      <td>4.158200</td>\n",
       "      <td>3.639500</td>\n",
       "      <td>5.761700e+00</td>\n",
       "      <td>8.919500e+00</td>\n",
       "      <td>5.790300e+00</td>\n",
       "      <td>6.089800e+00</td>\n",
       "    </tr>\n",
       "    <tr>\n",
       "      <th>3</th>\n",
       "      <td>Assortativity</td>\n",
       "      <td>9.404163e-01</td>\n",
       "      <td>9.413774e-01</td>\n",
       "      <td>0.932237</td>\n",
       "      <td>0.922721</td>\n",
       "      <td>9.230751e-01</td>\n",
       "      <td>0.905312</td>\n",
       "      <td>0.910105</td>\n",
       "      <td>8.825498e-01</td>\n",
       "      <td>0.916592</td>\n",
       "      <td>...</td>\n",
       "      <td>1.787071e-01</td>\n",
       "      <td>0.165316</td>\n",
       "      <td>1.533481e-01</td>\n",
       "      <td>0.122122</td>\n",
       "      <td>0.119542</td>\n",
       "      <td>0.122011</td>\n",
       "      <td>1.884543e-01</td>\n",
       "      <td>1.723705e-01</td>\n",
       "      <td>1.541266e-01</td>\n",
       "      <td>1.440313e-01</td>\n",
       "    </tr>\n",
       "    <tr>\n",
       "      <th>4</th>\n",
       "      <td>Reciprocity</td>\n",
       "      <td>4.432431e-03</td>\n",
       "      <td>7.925256e-02</td>\n",
       "      <td>0.667819</td>\n",
       "      <td>0.004467</td>\n",
       "      <td>6.677678e-01</td>\n",
       "      <td>0.004463</td>\n",
       "      <td>0.667749</td>\n",
       "      <td>4.421738e-03</td>\n",
       "      <td>1.000000</td>\n",
       "      <td>...</td>\n",
       "      <td>1.781187e-04</td>\n",
       "      <td>0.666659</td>\n",
       "      <td>1.857474e-04</td>\n",
       "      <td>0.666561</td>\n",
       "      <td>0.000179</td>\n",
       "      <td>1.000000</td>\n",
       "      <td>6.668132e-01</td>\n",
       "      <td>1.822736e-04</td>\n",
       "      <td>6.667143e-01</td>\n",
       "      <td>1.873822e-04</td>\n",
       "    </tr>\n",
       "  </tbody>\n",
       "</table>\n",
       "<p>5 rows × 31 columns</p>\n",
       "</div>"
      ],
      "text/plain": [
       "        Unnamed: 0  Data/NW_data2\\buren_nw_b=0_0_reciprocity.csv  \\\n",
       "0  Connected nodes                                  8.601900e+05   \n",
       "1    Shortest path                                           inf   \n",
       "2   Shortest path2                                  5.616000e+00   \n",
       "3   Assortativity                                   9.404163e-01   \n",
       "4      Reciprocity                                  4.432431e-03   \n",
       "\n",
       "   Data/NW_data2\\buren_nw_barabasi=0_spatial.csv  \\\n",
       "0                                   8.601480e+05   \n",
       "1                                            inf   \n",
       "2                                   9.688200e+00   \n",
       "3                                   9.413774e-01   \n",
       "4                                   7.925256e-02   \n",
       "\n",
       "   Data/NW_data2\\buren_nw_barabasi=1_100_percentage_0.5_reciprocity.csv  \\\n",
       "0                                      860157.000000                      \n",
       "1                                           4.257800                      \n",
       "2                                           4.257800                      \n",
       "3                                           0.932237                      \n",
       "4                                           0.667819                      \n",
       "\n",
       "   Data/NW_data2\\buren_nw_barabasi=1_100_percentage_0_reciprocity.csv  \\\n",
       "0                                      860157.000000                    \n",
       "1                                           4.731400                    \n",
       "2                                           4.731400                    \n",
       "3                                           0.922721                    \n",
       "4                                           0.004467                    \n",
       "\n",
       "   Data/NW_data2\\buren_nw_barabasi=1_10_percentage_0.5_reciprocity.csv  \\\n",
       "0                                       8.599190e+05                     \n",
       "1                                                inf                     \n",
       "2                                       5.218700e+00                     \n",
       "3                                       9.230751e-01                     \n",
       "4                                       6.677678e-01                     \n",
       "\n",
       "   Data/NW_data2\\buren_nw_barabasi=1_10_percentage_0_reciprocity.csv  \\\n",
       "0                                      859970.000000                   \n",
       "1                                           4.785100                   \n",
       "2                                           4.785100                   \n",
       "3                                           0.905312                   \n",
       "4                                           0.004463                   \n",
       "\n",
       "   Data/NW_data2\\buren_nw_barabasi=1_1_percentage_0.5_reciprocity.csv  \\\n",
       "0                                      859827.000000                    \n",
       "1                                           4.248200                    \n",
       "2                                           4.248200                    \n",
       "3                                           0.910105                    \n",
       "4                                           0.667749                    \n",
       "\n",
       "   Data/NW_data2\\buren_nw_barabasi=1_1_percentage_0_reciprocity.csv  \\\n",
       "0                                       8.598120e+05                  \n",
       "1                                                inf                  \n",
       "2                                       6.756200e+00                  \n",
       "3                                       8.825498e-01                  \n",
       "4                                       4.421738e-03                  \n",
       "\n",
       "   Data/NW_data2\\buren_nw_barabasi=1_1_percentage_1_reciprocity.csv  ...  \\\n",
       "0                                      859816.000000                 ...   \n",
       "1                                           3.963300                 ...   \n",
       "2                                           3.963300                 ...   \n",
       "3                                           0.916592                 ...   \n",
       "4                                           1.000000                 ...   \n",
       "\n",
       "   Data/NW_data2\\werkschool_nw_barabasi=1_100_percentage_0_reciprocity.csv  \\\n",
       "0                                       8.114010e+05                         \n",
       "1                                                inf                         \n",
       "2                                       6.113400e+00                         \n",
       "3                                       1.787071e-01                         \n",
       "4                                       1.781187e-04                         \n",
       "\n",
       "   Data/NW_data2\\werkschool_nw_barabasi=1_10_percentage_0.5_reciprocity.csv  \\\n",
       "0                                      810300.000000                          \n",
       "1                                           3.812700                          \n",
       "2                                           3.812700                          \n",
       "3                                           0.165316                          \n",
       "4                                           0.666659                          \n",
       "\n",
       "   Data/NW_data2\\werkschool_nw_barabasi=1_10_percentage_0_reciprocity.csv  \\\n",
       "0                                       8.103500e+05                        \n",
       "1                                                inf                        \n",
       "2                                       6.048300e+00                        \n",
       "3                                       1.533481e-01                        \n",
       "4                                       1.857474e-04                        \n",
       "\n",
       "   Data/NW_data2\\werkschool_nw_barabasi=1_1_percentage_0.5_reciprocity.csv  \\\n",
       "0                                      808400.000000                         \n",
       "1                                           3.864000                         \n",
       "2                                           3.864000                         \n",
       "3                                           0.122122                         \n",
       "4                                           0.666561                         \n",
       "\n",
       "   Data/NW_data2\\werkschool_nw_barabasi=1_1_percentage_0_reciprocity.csv  \\\n",
       "0                                      808335.000000                       \n",
       "1                                           4.158200                       \n",
       "2                                           4.158200                       \n",
       "3                                           0.119542                       \n",
       "4                                           0.000179                       \n",
       "\n",
       "   Data/NW_data2\\werkschool_nw_barabasi=1_1_percentage_1_reciprocity.csv  \\\n",
       "0                                      808408.000000                       \n",
       "1                                           3.639500                       \n",
       "2                                           3.639500                       \n",
       "3                                           0.122011                       \n",
       "4                                           1.000000                       \n",
       "\n",
       "   Data/NW_data2\\werkschool_nw_barabasi=1_50_percentage_0.5_reciprocity.csv  \\\n",
       "0                                       8.112460e+05                          \n",
       "1                                                inf                          \n",
       "2                                       5.761700e+00                          \n",
       "3                                       1.884543e-01                          \n",
       "4                                       6.668132e-01                          \n",
       "\n",
       "   Data/NW_data2\\werkschool_nw_barabasi=1_50_percentage_0_reciprocity.csv  \\\n",
       "0                                       8.112730e+05                        \n",
       "1                                                inf                        \n",
       "2                                       8.919500e+00                        \n",
       "3                                       1.723705e-01                        \n",
       "4                                       1.822736e-04                        \n",
       "\n",
       "   Data/NW_data2\\werkschool_nw_barabasi=1_5_percentage_0.5_reciprocity.csv  \\\n",
       "0                                       8.097910e+05                         \n",
       "1                                                inf                         \n",
       "2                                       5.790300e+00                         \n",
       "3                                       1.541266e-01                         \n",
       "4                                       6.667143e-01                         \n",
       "\n",
       "   Data/NW_data2\\werkschool_nw_barabasi=1_5_percentage_0_reciprocity.csv  \n",
       "0                                       8.097660e+05                      \n",
       "1                                                inf                      \n",
       "2                                       6.089800e+00                      \n",
       "3                                       1.440313e-01                      \n",
       "4                                       1.873822e-04                      \n",
       "\n",
       "[5 rows x 31 columns]"
      ]
     },
     "execution_count": 39,
     "metadata": {},
     "output_type": "execute_result"
    }
   ],
   "source": [
    "df"
   ]
  },
  {
   "cell_type": "code",
   "execution_count": 45,
   "metadata": {},
   "outputs": [],
   "source": [
    " df_buren = df. iloc[:, 0:17]"
   ]
  },
  {
   "cell_type": "code",
   "execution_count": 40,
   "metadata": {},
   "outputs": [
    {
     "data": {
      "text/html": [
       "<div>\n",
       "<style scoped>\n",
       "    .dataframe tbody tr th:only-of-type {\n",
       "        vertical-align: middle;\n",
       "    }\n",
       "\n",
       "    .dataframe tbody tr th {\n",
       "        vertical-align: top;\n",
       "    }\n",
       "\n",
       "    .dataframe thead th {\n",
       "        text-align: right;\n",
       "    }\n",
       "</style>\n",
       "<table border=\"1\" class=\"dataframe\">\n",
       "  <thead>\n",
       "    <tr style=\"text-align: right;\">\n",
       "      <th></th>\n",
       "      <th>Unnamed: 0</th>\n",
       "      <th>Data/NW_data2\\buren_nw_b=0_0_reciprocity.csv</th>\n",
       "      <th>Data/NW_data2\\buren_nw_barabasi=0_spatial.csv</th>\n",
       "      <th>Data/NW_data2\\buren_nw_barabasi=1_100_percentage_0.5_reciprocity.csv</th>\n",
       "      <th>Data/NW_data2\\buren_nw_barabasi=1_100_percentage_0_reciprocity.csv</th>\n",
       "      <th>Data/NW_data2\\buren_nw_barabasi=1_10_percentage_0.5_reciprocity.csv</th>\n",
       "      <th>Data/NW_data2\\buren_nw_barabasi=1_10_percentage_0_reciprocity.csv</th>\n",
       "      <th>Data/NW_data2\\buren_nw_barabasi=1_1_percentage_0.5_reciprocity.csv</th>\n",
       "      <th>Data/NW_data2\\buren_nw_barabasi=1_1_percentage_0_reciprocity.csv</th>\n",
       "      <th>Data/NW_data2\\buren_nw_barabasi=1_1_percentage_1_reciprocity.csv</th>\n",
       "      <th>Data/NW_data2\\buren_nw_barabasi=1_50_percentage_0.5_reciprocity.csv</th>\n",
       "      <th>Data/NW_data2\\buren_nw_barabasi=1_50_percentage_0_reciprocity.csv</th>\n",
       "      <th>Data/NW_data2\\buren_nw_barabasi=1_5_percentage_0.5_reciprocity.csv</th>\n",
       "      <th>Data/NW_data2\\buren_nw_barabasi=1_5_percentage_0_reciprocity.csv</th>\n",
       "      <th>Data/NW_data2\\buren_nw_barabasi=1_5_percentage_1_reciprocity.csv</th>\n",
       "    </tr>\n",
       "  </thead>\n",
       "  <tbody>\n",
       "    <tr>\n",
       "      <th>2</th>\n",
       "      <td>Shortest path2</td>\n",
       "      <td>5.616000</td>\n",
       "      <td>9.688200</td>\n",
       "      <td>4.257800</td>\n",
       "      <td>4.731400</td>\n",
       "      <td>5.218700</td>\n",
       "      <td>4.785100</td>\n",
       "      <td>4.248200</td>\n",
       "      <td>6.756200</td>\n",
       "      <td>3.9633</td>\n",
       "      <td>4.21750</td>\n",
       "      <td>4.763900</td>\n",
       "      <td>6.159700</td>\n",
       "      <td>5.721100</td>\n",
       "      <td>5.8159</td>\n",
       "    </tr>\n",
       "    <tr>\n",
       "      <th>4</th>\n",
       "      <td>Reciprocity</td>\n",
       "      <td>0.004432</td>\n",
       "      <td>0.079253</td>\n",
       "      <td>0.667819</td>\n",
       "      <td>0.004467</td>\n",
       "      <td>0.667768</td>\n",
       "      <td>0.004463</td>\n",
       "      <td>0.667749</td>\n",
       "      <td>0.004422</td>\n",
       "      <td>1.0000</td>\n",
       "      <td>0.66787</td>\n",
       "      <td>0.004472</td>\n",
       "      <td>0.667644</td>\n",
       "      <td>0.004424</td>\n",
       "      <td>1.0000</td>\n",
       "    </tr>\n",
       "  </tbody>\n",
       "</table>\n",
       "</div>"
      ],
      "text/plain": [
       "       Unnamed: 0  Data/NW_data2\\buren_nw_b=0_0_reciprocity.csv  \\\n",
       "2  Shortest path2                                      5.616000   \n",
       "4     Reciprocity                                      0.004432   \n",
       "\n",
       "   Data/NW_data2\\buren_nw_barabasi=0_spatial.csv  \\\n",
       "2                                       9.688200   \n",
       "4                                       0.079253   \n",
       "\n",
       "   Data/NW_data2\\buren_nw_barabasi=1_100_percentage_0.5_reciprocity.csv  \\\n",
       "2                                           4.257800                      \n",
       "4                                           0.667819                      \n",
       "\n",
       "   Data/NW_data2\\buren_nw_barabasi=1_100_percentage_0_reciprocity.csv  \\\n",
       "2                                           4.731400                    \n",
       "4                                           0.004467                    \n",
       "\n",
       "   Data/NW_data2\\buren_nw_barabasi=1_10_percentage_0.5_reciprocity.csv  \\\n",
       "2                                           5.218700                     \n",
       "4                                           0.667768                     \n",
       "\n",
       "   Data/NW_data2\\buren_nw_barabasi=1_10_percentage_0_reciprocity.csv  \\\n",
       "2                                           4.785100                   \n",
       "4                                           0.004463                   \n",
       "\n",
       "   Data/NW_data2\\buren_nw_barabasi=1_1_percentage_0.5_reciprocity.csv  \\\n",
       "2                                           4.248200                    \n",
       "4                                           0.667749                    \n",
       "\n",
       "   Data/NW_data2\\buren_nw_barabasi=1_1_percentage_0_reciprocity.csv  \\\n",
       "2                                           6.756200                  \n",
       "4                                           0.004422                  \n",
       "\n",
       "   Data/NW_data2\\buren_nw_barabasi=1_1_percentage_1_reciprocity.csv  \\\n",
       "2                                             3.9633                  \n",
       "4                                             1.0000                  \n",
       "\n",
       "   Data/NW_data2\\buren_nw_barabasi=1_50_percentage_0.5_reciprocity.csv  \\\n",
       "2                                            4.21750                     \n",
       "4                                            0.66787                     \n",
       "\n",
       "   Data/NW_data2\\buren_nw_barabasi=1_50_percentage_0_reciprocity.csv  \\\n",
       "2                                           4.763900                   \n",
       "4                                           0.004472                   \n",
       "\n",
       "   Data/NW_data2\\buren_nw_barabasi=1_5_percentage_0.5_reciprocity.csv  \\\n",
       "2                                           6.159700                    \n",
       "4                                           0.667644                    \n",
       "\n",
       "   Data/NW_data2\\buren_nw_barabasi=1_5_percentage_0_reciprocity.csv  \\\n",
       "2                                           5.721100                  \n",
       "4                                           0.004424                  \n",
       "\n",
       "   Data/NW_data2\\buren_nw_barabasi=1_5_percentage_1_reciprocity.csv  \n",
       "2                                             5.8159                 \n",
       "4                                             1.0000                 "
      ]
     },
     "execution_count": 40,
     "metadata": {},
     "output_type": "execute_result"
    }
   ],
   "source": [
    "df_buren[(df_buren['Unnamed: 0'] == 'Shortest path2') | (df_buren['Unnamed: 0'] == 'Reciprocity')]"
   ]
  },
  {
   "cell_type": "code",
   "execution_count": 47,
   "metadata": {},
   "outputs": [
    {
     "data": {
      "text/html": [
       "<div>\n",
       "<style scoped>\n",
       "    .dataframe tbody tr th:only-of-type {\n",
       "        vertical-align: middle;\n",
       "    }\n",
       "\n",
       "    .dataframe tbody tr th {\n",
       "        vertical-align: top;\n",
       "    }\n",
       "\n",
       "    .dataframe thead th {\n",
       "        text-align: right;\n",
       "    }\n",
       "</style>\n",
       "<table border=\"1\" class=\"dataframe\">\n",
       "  <thead>\n",
       "    <tr style=\"text-align: right;\">\n",
       "      <th></th>\n",
       "      <th>Unnamed: 0</th>\n",
       "      <th>Data/NW_data2\\buren_nw_b=0_0_reciprocity.csv</th>\n",
       "      <th>Data/NW_data2\\buren_nw_barabasi=0_spatial.csv</th>\n",
       "      <th>Data/NW_data2\\buren_nw_barabasi=1_100_percentage_0.5_reciprocity.csv</th>\n",
       "      <th>Data/NW_data2\\buren_nw_barabasi=1_100_percentage_0_reciprocity.csv</th>\n",
       "      <th>Data/NW_data2\\buren_nw_barabasi=1_10_percentage_0.5_reciprocity.csv</th>\n",
       "      <th>Data/NW_data2\\buren_nw_barabasi=1_10_percentage_0_reciprocity.csv</th>\n",
       "      <th>Data/NW_data2\\buren_nw_barabasi=1_1_percentage_0.5_reciprocity.csv</th>\n",
       "      <th>Data/NW_data2\\buren_nw_barabasi=1_1_percentage_0_reciprocity.csv</th>\n",
       "      <th>Data/NW_data2\\buren_nw_barabasi=1_1_percentage_1_reciprocity.csv</th>\n",
       "      <th>...</th>\n",
       "      <th>Data/NW_data2\\werkschool_nw_barabasi=1_100_percentage_0_reciprocity.csv</th>\n",
       "      <th>Data/NW_data2\\werkschool_nw_barabasi=1_10_percentage_0.5_reciprocity.csv</th>\n",
       "      <th>Data/NW_data2\\werkschool_nw_barabasi=1_10_percentage_0_reciprocity.csv</th>\n",
       "      <th>Data/NW_data2\\werkschool_nw_barabasi=1_1_percentage_0.5_reciprocity.csv</th>\n",
       "      <th>Data/NW_data2\\werkschool_nw_barabasi=1_1_percentage_0_reciprocity.csv</th>\n",
       "      <th>Data/NW_data2\\werkschool_nw_barabasi=1_1_percentage_1_reciprocity.csv</th>\n",
       "      <th>Data/NW_data2\\werkschool_nw_barabasi=1_50_percentage_0.5_reciprocity.csv</th>\n",
       "      <th>Data/NW_data2\\werkschool_nw_barabasi=1_50_percentage_0_reciprocity.csv</th>\n",
       "      <th>Data/NW_data2\\werkschool_nw_barabasi=1_5_percentage_0.5_reciprocity.csv</th>\n",
       "      <th>Data/NW_data2\\werkschool_nw_barabasi=1_5_percentage_0_reciprocity.csv</th>\n",
       "    </tr>\n",
       "  </thead>\n",
       "  <tbody>\n",
       "    <tr>\n",
       "      <th>0</th>\n",
       "      <td>Connected nodes</td>\n",
       "      <td>8.601900e+05</td>\n",
       "      <td>8.601480e+05</td>\n",
       "      <td>860157.000000</td>\n",
       "      <td>860157.000000</td>\n",
       "      <td>8.599190e+05</td>\n",
       "      <td>859970.000000</td>\n",
       "      <td>859827.000000</td>\n",
       "      <td>8.598120e+05</td>\n",
       "      <td>859816.000000</td>\n",
       "      <td>...</td>\n",
       "      <td>8.114010e+05</td>\n",
       "      <td>810300.000000</td>\n",
       "      <td>8.103500e+05</td>\n",
       "      <td>808400.000000</td>\n",
       "      <td>808335.000000</td>\n",
       "      <td>808408.000000</td>\n",
       "      <td>8.112460e+05</td>\n",
       "      <td>8.112730e+05</td>\n",
       "      <td>8.097910e+05</td>\n",
       "      <td>8.097660e+05</td>\n",
       "    </tr>\n",
       "    <tr>\n",
       "      <th>1</th>\n",
       "      <td>Shortest path</td>\n",
       "      <td>inf</td>\n",
       "      <td>inf</td>\n",
       "      <td>4.257800</td>\n",
       "      <td>4.731400</td>\n",
       "      <td>inf</td>\n",
       "      <td>4.785100</td>\n",
       "      <td>4.248200</td>\n",
       "      <td>inf</td>\n",
       "      <td>3.963300</td>\n",
       "      <td>...</td>\n",
       "      <td>inf</td>\n",
       "      <td>3.812700</td>\n",
       "      <td>inf</td>\n",
       "      <td>3.864000</td>\n",
       "      <td>4.158200</td>\n",
       "      <td>3.639500</td>\n",
       "      <td>inf</td>\n",
       "      <td>inf</td>\n",
       "      <td>inf</td>\n",
       "      <td>inf</td>\n",
       "    </tr>\n",
       "    <tr>\n",
       "      <th>2</th>\n",
       "      <td>Shortest path2</td>\n",
       "      <td>5.616000e+00</td>\n",
       "      <td>9.688200e+00</td>\n",
       "      <td>4.257800</td>\n",
       "      <td>4.731400</td>\n",
       "      <td>5.218700e+00</td>\n",
       "      <td>4.785100</td>\n",
       "      <td>4.248200</td>\n",
       "      <td>6.756200e+00</td>\n",
       "      <td>3.963300</td>\n",
       "      <td>...</td>\n",
       "      <td>6.113400e+00</td>\n",
       "      <td>3.812700</td>\n",
       "      <td>6.048300e+00</td>\n",
       "      <td>3.864000</td>\n",
       "      <td>4.158200</td>\n",
       "      <td>3.639500</td>\n",
       "      <td>5.761700e+00</td>\n",
       "      <td>8.919500e+00</td>\n",
       "      <td>5.790300e+00</td>\n",
       "      <td>6.089800e+00</td>\n",
       "    </tr>\n",
       "    <tr>\n",
       "      <th>3</th>\n",
       "      <td>Assortativity</td>\n",
       "      <td>9.404163e-01</td>\n",
       "      <td>9.413774e-01</td>\n",
       "      <td>0.932237</td>\n",
       "      <td>0.922721</td>\n",
       "      <td>9.230751e-01</td>\n",
       "      <td>0.905312</td>\n",
       "      <td>0.910105</td>\n",
       "      <td>8.825498e-01</td>\n",
       "      <td>0.916592</td>\n",
       "      <td>...</td>\n",
       "      <td>1.787071e-01</td>\n",
       "      <td>0.165316</td>\n",
       "      <td>1.533481e-01</td>\n",
       "      <td>0.122122</td>\n",
       "      <td>0.119542</td>\n",
       "      <td>0.122011</td>\n",
       "      <td>1.884543e-01</td>\n",
       "      <td>1.723705e-01</td>\n",
       "      <td>1.541266e-01</td>\n",
       "      <td>1.440313e-01</td>\n",
       "    </tr>\n",
       "    <tr>\n",
       "      <th>4</th>\n",
       "      <td>Reciprocity</td>\n",
       "      <td>4.432431e-03</td>\n",
       "      <td>7.925256e-02</td>\n",
       "      <td>0.667819</td>\n",
       "      <td>0.004467</td>\n",
       "      <td>6.677678e-01</td>\n",
       "      <td>0.004463</td>\n",
       "      <td>0.667749</td>\n",
       "      <td>4.421738e-03</td>\n",
       "      <td>1.000000</td>\n",
       "      <td>...</td>\n",
       "      <td>1.781187e-04</td>\n",
       "      <td>0.666659</td>\n",
       "      <td>1.857474e-04</td>\n",
       "      <td>0.666561</td>\n",
       "      <td>0.000179</td>\n",
       "      <td>1.000000</td>\n",
       "      <td>6.668132e-01</td>\n",
       "      <td>1.822736e-04</td>\n",
       "      <td>6.667143e-01</td>\n",
       "      <td>1.873822e-04</td>\n",
       "    </tr>\n",
       "  </tbody>\n",
       "</table>\n",
       "<p>5 rows × 31 columns</p>\n",
       "</div>"
      ],
      "text/plain": [
       "        Unnamed: 0  Data/NW_data2\\buren_nw_b=0_0_reciprocity.csv  \\\n",
       "0  Connected nodes                                  8.601900e+05   \n",
       "1    Shortest path                                           inf   \n",
       "2   Shortest path2                                  5.616000e+00   \n",
       "3   Assortativity                                   9.404163e-01   \n",
       "4      Reciprocity                                  4.432431e-03   \n",
       "\n",
       "   Data/NW_data2\\buren_nw_barabasi=0_spatial.csv  \\\n",
       "0                                   8.601480e+05   \n",
       "1                                            inf   \n",
       "2                                   9.688200e+00   \n",
       "3                                   9.413774e-01   \n",
       "4                                   7.925256e-02   \n",
       "\n",
       "   Data/NW_data2\\buren_nw_barabasi=1_100_percentage_0.5_reciprocity.csv  \\\n",
       "0                                      860157.000000                      \n",
       "1                                           4.257800                      \n",
       "2                                           4.257800                      \n",
       "3                                           0.932237                      \n",
       "4                                           0.667819                      \n",
       "\n",
       "   Data/NW_data2\\buren_nw_barabasi=1_100_percentage_0_reciprocity.csv  \\\n",
       "0                                      860157.000000                    \n",
       "1                                           4.731400                    \n",
       "2                                           4.731400                    \n",
       "3                                           0.922721                    \n",
       "4                                           0.004467                    \n",
       "\n",
       "   Data/NW_data2\\buren_nw_barabasi=1_10_percentage_0.5_reciprocity.csv  \\\n",
       "0                                       8.599190e+05                     \n",
       "1                                                inf                     \n",
       "2                                       5.218700e+00                     \n",
       "3                                       9.230751e-01                     \n",
       "4                                       6.677678e-01                     \n",
       "\n",
       "   Data/NW_data2\\buren_nw_barabasi=1_10_percentage_0_reciprocity.csv  \\\n",
       "0                                      859970.000000                   \n",
       "1                                           4.785100                   \n",
       "2                                           4.785100                   \n",
       "3                                           0.905312                   \n",
       "4                                           0.004463                   \n",
       "\n",
       "   Data/NW_data2\\buren_nw_barabasi=1_1_percentage_0.5_reciprocity.csv  \\\n",
       "0                                      859827.000000                    \n",
       "1                                           4.248200                    \n",
       "2                                           4.248200                    \n",
       "3                                           0.910105                    \n",
       "4                                           0.667749                    \n",
       "\n",
       "   Data/NW_data2\\buren_nw_barabasi=1_1_percentage_0_reciprocity.csv  \\\n",
       "0                                       8.598120e+05                  \n",
       "1                                                inf                  \n",
       "2                                       6.756200e+00                  \n",
       "3                                       8.825498e-01                  \n",
       "4                                       4.421738e-03                  \n",
       "\n",
       "   Data/NW_data2\\buren_nw_barabasi=1_1_percentage_1_reciprocity.csv  ...  \\\n",
       "0                                      859816.000000                 ...   \n",
       "1                                           3.963300                 ...   \n",
       "2                                           3.963300                 ...   \n",
       "3                                           0.916592                 ...   \n",
       "4                                           1.000000                 ...   \n",
       "\n",
       "   Data/NW_data2\\werkschool_nw_barabasi=1_100_percentage_0_reciprocity.csv  \\\n",
       "0                                       8.114010e+05                         \n",
       "1                                                inf                         \n",
       "2                                       6.113400e+00                         \n",
       "3                                       1.787071e-01                         \n",
       "4                                       1.781187e-04                         \n",
       "\n",
       "   Data/NW_data2\\werkschool_nw_barabasi=1_10_percentage_0.5_reciprocity.csv  \\\n",
       "0                                      810300.000000                          \n",
       "1                                           3.812700                          \n",
       "2                                           3.812700                          \n",
       "3                                           0.165316                          \n",
       "4                                           0.666659                          \n",
       "\n",
       "   Data/NW_data2\\werkschool_nw_barabasi=1_10_percentage_0_reciprocity.csv  \\\n",
       "0                                       8.103500e+05                        \n",
       "1                                                inf                        \n",
       "2                                       6.048300e+00                        \n",
       "3                                       1.533481e-01                        \n",
       "4                                       1.857474e-04                        \n",
       "\n",
       "   Data/NW_data2\\werkschool_nw_barabasi=1_1_percentage_0.5_reciprocity.csv  \\\n",
       "0                                      808400.000000                         \n",
       "1                                           3.864000                         \n",
       "2                                           3.864000                         \n",
       "3                                           0.122122                         \n",
       "4                                           0.666561                         \n",
       "\n",
       "   Data/NW_data2\\werkschool_nw_barabasi=1_1_percentage_0_reciprocity.csv  \\\n",
       "0                                      808335.000000                       \n",
       "1                                           4.158200                       \n",
       "2                                           4.158200                       \n",
       "3                                           0.119542                       \n",
       "4                                           0.000179                       \n",
       "\n",
       "   Data/NW_data2\\werkschool_nw_barabasi=1_1_percentage_1_reciprocity.csv  \\\n",
       "0                                      808408.000000                       \n",
       "1                                           3.639500                       \n",
       "2                                           3.639500                       \n",
       "3                                           0.122011                       \n",
       "4                                           1.000000                       \n",
       "\n",
       "   Data/NW_data2\\werkschool_nw_barabasi=1_50_percentage_0.5_reciprocity.csv  \\\n",
       "0                                       8.112460e+05                          \n",
       "1                                                inf                          \n",
       "2                                       5.761700e+00                          \n",
       "3                                       1.884543e-01                          \n",
       "4                                       6.668132e-01                          \n",
       "\n",
       "   Data/NW_data2\\werkschool_nw_barabasi=1_50_percentage_0_reciprocity.csv  \\\n",
       "0                                       8.112730e+05                        \n",
       "1                                                inf                        \n",
       "2                                       8.919500e+00                        \n",
       "3                                       1.723705e-01                        \n",
       "4                                       1.822736e-04                        \n",
       "\n",
       "   Data/NW_data2\\werkschool_nw_barabasi=1_5_percentage_0.5_reciprocity.csv  \\\n",
       "0                                       8.097910e+05                         \n",
       "1                                                inf                         \n",
       "2                                       5.790300e+00                         \n",
       "3                                       1.541266e-01                         \n",
       "4                                       6.667143e-01                         \n",
       "\n",
       "   Data/NW_data2\\werkschool_nw_barabasi=1_5_percentage_0_reciprocity.csv  \n",
       "0                                       8.097660e+05                      \n",
       "1                                                inf                      \n",
       "2                                       6.089800e+00                      \n",
       "3                                       1.440313e-01                      \n",
       "4                                       1.873822e-04                      \n",
       "\n",
       "[5 rows x 31 columns]"
      ]
     },
     "execution_count": 47,
     "metadata": {},
     "output_type": "execute_result"
    }
   ],
   "source": [
    "df"
   ]
  },
  {
   "cell_type": "code",
   "execution_count": 52,
   "metadata": {},
   "outputs": [],
   "source": [
    " df_buren = df. iloc[:, 19:-1]"
   ]
  },
  {
   "cell_type": "code",
   "execution_count": 53,
   "metadata": {},
   "outputs": [
    {
     "data": {
      "text/html": [
       "<div>\n",
       "<style scoped>\n",
       "    .dataframe tbody tr th:only-of-type {\n",
       "        vertical-align: middle;\n",
       "    }\n",
       "\n",
       "    .dataframe tbody tr th {\n",
       "        vertical-align: top;\n",
       "    }\n",
       "\n",
       "    .dataframe thead th {\n",
       "        text-align: right;\n",
       "    }\n",
       "</style>\n",
       "<table border=\"1\" class=\"dataframe\">\n",
       "  <thead>\n",
       "    <tr style=\"text-align: right;\">\n",
       "      <th></th>\n",
       "      <th>Data/NW_data2\\werkschool_nw_b=0.csv</th>\n",
       "      <th>Data/NW_data2\\werkschool_nw_barabasi=1_100_percentage_0.5_reciprocity.csv</th>\n",
       "      <th>Data/NW_data2\\werkschool_nw_barabasi=1_100_percentage_0_reciprocity.csv</th>\n",
       "      <th>Data/NW_data2\\werkschool_nw_barabasi=1_10_percentage_0.5_reciprocity.csv</th>\n",
       "      <th>Data/NW_data2\\werkschool_nw_barabasi=1_10_percentage_0_reciprocity.csv</th>\n",
       "      <th>Data/NW_data2\\werkschool_nw_barabasi=1_1_percentage_0.5_reciprocity.csv</th>\n",
       "      <th>Data/NW_data2\\werkschool_nw_barabasi=1_1_percentage_0_reciprocity.csv</th>\n",
       "      <th>Data/NW_data2\\werkschool_nw_barabasi=1_1_percentage_1_reciprocity.csv</th>\n",
       "      <th>Data/NW_data2\\werkschool_nw_barabasi=1_50_percentage_0.5_reciprocity.csv</th>\n",
       "      <th>Data/NW_data2\\werkschool_nw_barabasi=1_50_percentage_0_reciprocity.csv</th>\n",
       "      <th>Data/NW_data2\\werkschool_nw_barabasi=1_5_percentage_0.5_reciprocity.csv</th>\n",
       "    </tr>\n",
       "  </thead>\n",
       "  <tbody>\n",
       "    <tr>\n",
       "      <th>0</th>\n",
       "      <td>8.023700e+05</td>\n",
       "      <td>811363.000000</td>\n",
       "      <td>8.114010e+05</td>\n",
       "      <td>810300.000000</td>\n",
       "      <td>8.103500e+05</td>\n",
       "      <td>808400.000000</td>\n",
       "      <td>808335.000000</td>\n",
       "      <td>808408.000000</td>\n",
       "      <td>8.112460e+05</td>\n",
       "      <td>8.112730e+05</td>\n",
       "      <td>8.097910e+05</td>\n",
       "    </tr>\n",
       "    <tr>\n",
       "      <th>1</th>\n",
       "      <td>inf</td>\n",
       "      <td>3.819600</td>\n",
       "      <td>inf</td>\n",
       "      <td>3.812700</td>\n",
       "      <td>inf</td>\n",
       "      <td>3.864000</td>\n",
       "      <td>4.158200</td>\n",
       "      <td>3.639500</td>\n",
       "      <td>inf</td>\n",
       "      <td>inf</td>\n",
       "      <td>inf</td>\n",
       "    </tr>\n",
       "    <tr>\n",
       "      <th>2</th>\n",
       "      <td>3.229830e+01</td>\n",
       "      <td>3.819600</td>\n",
       "      <td>6.113400e+00</td>\n",
       "      <td>3.812700</td>\n",
       "      <td>6.048300e+00</td>\n",
       "      <td>3.864000</td>\n",
       "      <td>4.158200</td>\n",
       "      <td>3.639500</td>\n",
       "      <td>5.761700e+00</td>\n",
       "      <td>8.919500e+00</td>\n",
       "      <td>5.790300e+00</td>\n",
       "    </tr>\n",
       "    <tr>\n",
       "      <th>3</th>\n",
       "      <td>1.109439e-01</td>\n",
       "      <td>0.196428</td>\n",
       "      <td>1.787071e-01</td>\n",
       "      <td>0.165316</td>\n",
       "      <td>1.533481e-01</td>\n",
       "      <td>0.122122</td>\n",
       "      <td>0.119542</td>\n",
       "      <td>0.122011</td>\n",
       "      <td>1.884543e-01</td>\n",
       "      <td>1.723705e-01</td>\n",
       "      <td>1.541266e-01</td>\n",
       "    </tr>\n",
       "    <tr>\n",
       "      <th>4</th>\n",
       "      <td>1.205047e-04</td>\n",
       "      <td>0.666762</td>\n",
       "      <td>1.781187e-04</td>\n",
       "      <td>0.666659</td>\n",
       "      <td>1.857474e-04</td>\n",
       "      <td>0.666561</td>\n",
       "      <td>0.000179</td>\n",
       "      <td>1.000000</td>\n",
       "      <td>6.668132e-01</td>\n",
       "      <td>1.822736e-04</td>\n",
       "      <td>6.667143e-01</td>\n",
       "    </tr>\n",
       "  </tbody>\n",
       "</table>\n",
       "</div>"
      ],
      "text/plain": [
       "   Data/NW_data2\\werkschool_nw_b=0.csv  \\\n",
       "0                         8.023700e+05   \n",
       "1                                  inf   \n",
       "2                         3.229830e+01   \n",
       "3                         1.109439e-01   \n",
       "4                         1.205047e-04   \n",
       "\n",
       "   Data/NW_data2\\werkschool_nw_barabasi=1_100_percentage_0.5_reciprocity.csv  \\\n",
       "0                                      811363.000000                           \n",
       "1                                           3.819600                           \n",
       "2                                           3.819600                           \n",
       "3                                           0.196428                           \n",
       "4                                           0.666762                           \n",
       "\n",
       "   Data/NW_data2\\werkschool_nw_barabasi=1_100_percentage_0_reciprocity.csv  \\\n",
       "0                                       8.114010e+05                         \n",
       "1                                                inf                         \n",
       "2                                       6.113400e+00                         \n",
       "3                                       1.787071e-01                         \n",
       "4                                       1.781187e-04                         \n",
       "\n",
       "   Data/NW_data2\\werkschool_nw_barabasi=1_10_percentage_0.5_reciprocity.csv  \\\n",
       "0                                      810300.000000                          \n",
       "1                                           3.812700                          \n",
       "2                                           3.812700                          \n",
       "3                                           0.165316                          \n",
       "4                                           0.666659                          \n",
       "\n",
       "   Data/NW_data2\\werkschool_nw_barabasi=1_10_percentage_0_reciprocity.csv  \\\n",
       "0                                       8.103500e+05                        \n",
       "1                                                inf                        \n",
       "2                                       6.048300e+00                        \n",
       "3                                       1.533481e-01                        \n",
       "4                                       1.857474e-04                        \n",
       "\n",
       "   Data/NW_data2\\werkschool_nw_barabasi=1_1_percentage_0.5_reciprocity.csv  \\\n",
       "0                                      808400.000000                         \n",
       "1                                           3.864000                         \n",
       "2                                           3.864000                         \n",
       "3                                           0.122122                         \n",
       "4                                           0.666561                         \n",
       "\n",
       "   Data/NW_data2\\werkschool_nw_barabasi=1_1_percentage_0_reciprocity.csv  \\\n",
       "0                                      808335.000000                       \n",
       "1                                           4.158200                       \n",
       "2                                           4.158200                       \n",
       "3                                           0.119542                       \n",
       "4                                           0.000179                       \n",
       "\n",
       "   Data/NW_data2\\werkschool_nw_barabasi=1_1_percentage_1_reciprocity.csv  \\\n",
       "0                                      808408.000000                       \n",
       "1                                           3.639500                       \n",
       "2                                           3.639500                       \n",
       "3                                           0.122011                       \n",
       "4                                           1.000000                       \n",
       "\n",
       "   Data/NW_data2\\werkschool_nw_barabasi=1_50_percentage_0.5_reciprocity.csv  \\\n",
       "0                                       8.112460e+05                          \n",
       "1                                                inf                          \n",
       "2                                       5.761700e+00                          \n",
       "3                                       1.884543e-01                          \n",
       "4                                       6.668132e-01                          \n",
       "\n",
       "   Data/NW_data2\\werkschool_nw_barabasi=1_50_percentage_0_reciprocity.csv  \\\n",
       "0                                       8.112730e+05                        \n",
       "1                                                inf                        \n",
       "2                                       8.919500e+00                        \n",
       "3                                       1.723705e-01                        \n",
       "4                                       1.822736e-04                        \n",
       "\n",
       "   Data/NW_data2\\werkschool_nw_barabasi=1_5_percentage_0.5_reciprocity.csv  \n",
       "0                                       8.097910e+05                        \n",
       "1                                                inf                        \n",
       "2                                       5.790300e+00                        \n",
       "3                                       1.541266e-01                        \n",
       "4                                       6.667143e-01                        "
      ]
     },
     "execution_count": 53,
     "metadata": {},
     "output_type": "execute_result"
    }
   ],
   "source": [
    "df_buren"
   ]
  },
  {
   "cell_type": "code",
   "execution_count": 14,
   "metadata": {},
   "outputs": [
    {
     "ename": "FileNotFoundError",
     "evalue": "[Errno 2] No such file or directory: 'Data/Houshold_data/hhi2019en_1.0.dta'",
     "output_type": "error",
     "traceback": [
      "\u001b[1;31m---------------------------------------------------------------------------\u001b[0m",
      "\u001b[1;31mFileNotFoundError\u001b[0m                         Traceback (most recent call last)",
      "\u001b[1;32m<ipython-input-14-95cd792d2814>\u001b[0m in \u001b[0;36m<module>\u001b[1;34m\u001b[0m\n\u001b[1;32m----> 1\u001b[1;33m \u001b[0mdf\u001b[0m \u001b[1;33m=\u001b[0m \u001b[0mpd\u001b[0m\u001b[1;33m.\u001b[0m\u001b[0mread_stata\u001b[0m\u001b[1;33m(\u001b[0m\u001b[1;34m'Data/Houshold_data/hhi2019en_1.0.dta'\u001b[0m\u001b[1;33m)\u001b[0m\u001b[1;33m\u001b[0m\u001b[1;33m\u001b[0m\u001b[0m\n\u001b[0m\u001b[0;32m      2\u001b[0m \u001b[1;33m\u001b[0m\u001b[0m\n\u001b[0;32m      3\u001b[0m \u001b[1;31m# df[:10]Data\\Household_data\\hhi2019en_1.0.dta\u001b[0m\u001b[1;33m\u001b[0m\u001b[1;33m\u001b[0m\u001b[1;33m\u001b[0m\u001b[0m\n",
      "\u001b[1;32m~\\anaconda3\\lib\\site-packages\\pandas\\io\\stata.py\u001b[0m in \u001b[0;36mread_stata\u001b[1;34m(filepath_or_buffer, convert_dates, convert_categoricals, index_col, convert_missing, preserve_dtypes, columns, order_categoricals, chunksize, iterator)\u001b[0m\n\u001b[0;32m   1910\u001b[0m ) -> Union[DataFrame, StataReader]:\n\u001b[0;32m   1911\u001b[0m \u001b[1;33m\u001b[0m\u001b[0m\n\u001b[1;32m-> 1912\u001b[1;33m     reader = StataReader(\n\u001b[0m\u001b[0;32m   1913\u001b[0m         \u001b[0mfilepath_or_buffer\u001b[0m\u001b[1;33m,\u001b[0m\u001b[1;33m\u001b[0m\u001b[1;33m\u001b[0m\u001b[0m\n\u001b[0;32m   1914\u001b[0m         \u001b[0mconvert_dates\u001b[0m\u001b[1;33m=\u001b[0m\u001b[0mconvert_dates\u001b[0m\u001b[1;33m,\u001b[0m\u001b[1;33m\u001b[0m\u001b[1;33m\u001b[0m\u001b[0m\n",
      "\u001b[1;32m~\\anaconda3\\lib\\site-packages\\pandas\\io\\stata.py\u001b[0m in \u001b[0;36m__init__\u001b[1;34m(self, path_or_buf, convert_dates, convert_categoricals, index_col, convert_missing, preserve_dtypes, columns, order_categoricals, chunksize)\u001b[0m\n\u001b[0;32m   1072\u001b[0m \u001b[1;33m\u001b[0m\u001b[0m\n\u001b[0;32m   1073\u001b[0m         \u001b[1;32mif\u001b[0m \u001b[0misinstance\u001b[0m\u001b[1;33m(\u001b[0m\u001b[0mpath_or_buf\u001b[0m\u001b[1;33m,\u001b[0m \u001b[1;33m(\u001b[0m\u001b[0mstr\u001b[0m\u001b[1;33m,\u001b[0m \u001b[0mbytes\u001b[0m\u001b[1;33m)\u001b[0m\u001b[1;33m)\u001b[0m\u001b[1;33m:\u001b[0m\u001b[1;33m\u001b[0m\u001b[1;33m\u001b[0m\u001b[0m\n\u001b[1;32m-> 1074\u001b[1;33m             \u001b[0mself\u001b[0m\u001b[1;33m.\u001b[0m\u001b[0mpath_or_buf\u001b[0m \u001b[1;33m=\u001b[0m \u001b[0mopen\u001b[0m\u001b[1;33m(\u001b[0m\u001b[0mpath_or_buf\u001b[0m\u001b[1;33m,\u001b[0m \u001b[1;34m\"rb\"\u001b[0m\u001b[1;33m)\u001b[0m\u001b[1;33m\u001b[0m\u001b[1;33m\u001b[0m\u001b[0m\n\u001b[0m\u001b[0;32m   1075\u001b[0m         \u001b[1;32melif\u001b[0m \u001b[0misinstance\u001b[0m\u001b[1;33m(\u001b[0m\u001b[0mpath_or_buf\u001b[0m\u001b[1;33m,\u001b[0m \u001b[0mIOBase\u001b[0m\u001b[1;33m)\u001b[0m\u001b[1;33m:\u001b[0m\u001b[1;33m\u001b[0m\u001b[1;33m\u001b[0m\u001b[0m\n\u001b[0;32m   1076\u001b[0m             \u001b[1;31m# Copy to BytesIO, and ensure no encoding\u001b[0m\u001b[1;33m\u001b[0m\u001b[1;33m\u001b[0m\u001b[1;33m\u001b[0m\u001b[0m\n",
      "\u001b[1;31mFileNotFoundError\u001b[0m: [Errno 2] No such file or directory: 'Data/Houshold_data/hhi2019en_1.0.dta'"
     ]
    }
   ],
   "source": [
    "df = pd.read_stata('Data/Houshold_data/hhi2019en_1.0.dta')\n",
    "\n",
    "# df[:10]Data\\Household_data\\hhi2019en_1.0.dta"
   ]
  },
  {
   "cell_type": "code",
   "execution_count": 6,
   "metadata": {
    "scrolled": false
   },
   "outputs": [
    {
     "name": "stdout",
     "output_type": "stream",
     "text": [
      "2.8323309640969563\n",
      "10\n",
      "HBO (eerste of tweede fase) / vocational colleges 2\n",
      "HAVO/VWO / pre-university education 1\n",
      "Voorbereidend middelbaar beroepsonderwijs (VMBO) / pre-vocational education 1\n",
      "MBO of het leerlingwezen / senior vocational training or training through appren 3\n",
      "Kleuter-, lager- of basisonderwijs / kindergarten/primary education 2\n",
      "Wetenschappelijk onderwijs WO / university education 1\n",
      "(Voortgezet) speciaal onderwijs / (continued) special education 1\n",
      "Did not have education (yet) 1\n",
      "other sort of education/training 1\n"
     ]
    },
    {
     "data": {
      "text/plain": [
       "<AxesSubplot:xlabel='age_category', ylabel='Count'>"
      ]
     },
     "execution_count": 6,
     "metadata": {},
     "output_type": "execute_result"
    },
    {
     "data": {
      "image/png": "[encoded data removed]",
      "text/plain": [
       "<Figure size 432x288 with 1 Axes>"
      ]
     },
     "metadata": {
      "needs_background": "light"
     },
     "output_type": "display_data"
    }
   ],
   "source": [
    "import re\n",
    "import seaborn as sn\n",
    "import pandas as pd\n",
    "import matplotlib.pyplot as plt\n",
    "\n",
    "\n",
    "df_nodes = pd.read_csv('../Data/tab_n(with oplniv).csv')\n",
    "\n",
    "age_categories = sorted(df_nodes.lft.unique())\n",
    "\n",
    "age_categories\n",
    "df = pd.read_stata('../Data/Household_data/hhi2019en_1.0.dta')\n",
    "\n",
    "s = pd.Series(df['aantalhh'], dtype=\"Float64\")\n",
    "\n",
    "\n",
    "df['aantalhh2'] = df['aantalhh'].str.extract('(\\d+)').astype(int)\n",
    "\n",
    "df['age'] =  2019 - df['gebjaar']\n",
    "\n",
    "# df = df[df['regio'] == 'Three largest cities']\n",
    "# sn.histplot(data = df, x = 'aantalhh2', stat = 'probability', bins = 12)\n",
    "\n",
    "\n",
    "\n",
    "\n",
    "\n",
    "\n",
    "plt.xticks(rotation=90)\n",
    "print(df['aantalhh2'].mean())\n",
    "df['education'] = df.oplmet\n",
    "\n",
    "print(len(df.oplmet.unique()))\n",
    "\n",
    "education_dict = {}\n",
    "t = (2,1,1,3,2,1,1,1, 1)\n",
    "for i, j in zip(df.oplmet.unique(), t):\n",
    "    education_dict[i] = j\n",
    "    print(i, j)\n",
    "    \n",
    "    \n",
    "df['education'] = df['education'].replace(education_dict)\n",
    "\n",
    "df.education.unique()\n",
    "\n",
    "\n",
    "\n",
    "\n",
    "age_category_values = []\n",
    "\n",
    "for i in df['age']:\n",
    "    if i >=0 and i<21:\n",
    "        age_category_values.append(age_categories[0])\n",
    "    elif i <31:\n",
    "        age_category_values.append(age_categories[1])\n",
    "    elif i < 41:\n",
    "        age_category_values.append(age_categories[2])\n",
    "    elif i < 51:\n",
    "        age_category_values.append(age_categories[3])\n",
    "    elif i < 61:\n",
    "        age_category_values.append(age_categories[4])\n",
    "    elif i < 71:\n",
    "        age_category_values.append(age_categories[5])\n",
    "    elif i < 81:\n",
    "        age_category_values.append(age_categories[6])\n",
    "    else:\n",
    "        age_category_values.append(age_categories[7])\n",
    "        \n",
    "age_category_values\n",
    "\n",
    "df['age_category'] = age_category_values\n",
    "\n",
    "df = df.replace({'Female': 'Vrouw', 'Male': 'Man'})\n",
    "\n",
    "df['education'] = df['education'].fillna(1)\n",
    "# Data\\Houshold_data\\DHS_household_.csv\n",
    "df = df[['nohhold', 'geslacht', 'aantalhh', 'aantalki', 'positie','aantalhh2', 'age_category', 'education', 'age']]\n",
    "df.to_csv('../Data/Household_data/DHS_household_.csv')\n",
    "sn.histplot(data = df, x = 'age_category')"
   ]
  },
  {
   "cell_type": "code",
   "execution_count": 5,
   "metadata": {},
   "outputs": [
    {
     "data": {
      "text/html": [
       "<div>\n",
       "<style scoped>\n",
       "    .dataframe tbody tr th:only-of-type {\n",
       "        vertical-align: middle;\n",
       "    }\n",
       "\n",
       "    .dataframe tbody tr th {\n",
       "        vertical-align: top;\n",
       "    }\n",
       "\n",
       "    .dataframe thead th {\n",
       "        text-align: right;\n",
       "    }\n",
       "</style>\n",
       "<table border=\"1\" class=\"dataframe\">\n",
       "  <thead>\n",
       "    <tr style=\"text-align: right;\">\n",
       "      <th></th>\n",
       "      <th>nohhold</th>\n",
       "      <th>geslacht</th>\n",
       "      <th>aantalhh</th>\n",
       "      <th>aantalki</th>\n",
       "      <th>positie</th>\n",
       "      <th>aantalhh2</th>\n",
       "      <th>age_category</th>\n",
       "      <th>education</th>\n",
       "      <th>age</th>\n",
       "    </tr>\n",
       "  </thead>\n",
       "  <tbody>\n",
       "    <tr>\n",
       "      <th>0</th>\n",
       "      <td>6.0</td>\n",
       "      <td>Man</td>\n",
       "      <td>2 people</td>\n",
       "      <td>none</td>\n",
       "      <td>head of the household</td>\n",
       "      <td>2</td>\n",
       "      <td>[60,70)</td>\n",
       "      <td>2.0</td>\n",
       "      <td>63.0</td>\n",
       "    </tr>\n",
       "    <tr>\n",
       "      <th>1</th>\n",
       "      <td>6.0</td>\n",
       "      <td>Vrouw</td>\n",
       "      <td>2 people</td>\n",
       "      <td>none</td>\n",
       "      <td>spouse</td>\n",
       "      <td>2</td>\n",
       "      <td>[50,60)</td>\n",
       "      <td>1.0</td>\n",
       "      <td>59.0</td>\n",
       "    </tr>\n",
       "    <tr>\n",
       "      <th>2</th>\n",
       "      <td>21.0</td>\n",
       "      <td>Man</td>\n",
       "      <td>2 people</td>\n",
       "      <td>none</td>\n",
       "      <td>head of the household</td>\n",
       "      <td>2</td>\n",
       "      <td>[70,80)</td>\n",
       "      <td>1.0</td>\n",
       "      <td>77.0</td>\n",
       "    </tr>\n",
       "    <tr>\n",
       "      <th>3</th>\n",
       "      <td>21.0</td>\n",
       "      <td>Vrouw</td>\n",
       "      <td>2 people</td>\n",
       "      <td>none</td>\n",
       "      <td>spouse</td>\n",
       "      <td>2</td>\n",
       "      <td>[70,80)</td>\n",
       "      <td>1.0</td>\n",
       "      <td>74.0</td>\n",
       "    </tr>\n",
       "    <tr>\n",
       "      <th>4</th>\n",
       "      <td>38.0</td>\n",
       "      <td>Man</td>\n",
       "      <td>2 people</td>\n",
       "      <td>none</td>\n",
       "      <td>head of the household</td>\n",
       "      <td>2</td>\n",
       "      <td>[80,120]</td>\n",
       "      <td>1.0</td>\n",
       "      <td>91.0</td>\n",
       "    </tr>\n",
       "    <tr>\n",
       "      <th>...</th>\n",
       "      <td>...</td>\n",
       "      <td>...</td>\n",
       "      <td>...</td>\n",
       "      <td>...</td>\n",
       "      <td>...</td>\n",
       "      <td>...</td>\n",
       "      <td>...</td>\n",
       "      <td>...</td>\n",
       "      <td>...</td>\n",
       "    </tr>\n",
       "    <tr>\n",
       "      <th>5482</th>\n",
       "      <td>89972.0</td>\n",
       "      <td>Vrouw</td>\n",
       "      <td>3 people</td>\n",
       "      <td>1 child</td>\n",
       "      <td>spouse</td>\n",
       "      <td>3</td>\n",
       "      <td>[20,30)</td>\n",
       "      <td>3.0</td>\n",
       "      <td>29.0</td>\n",
       "    </tr>\n",
       "    <tr>\n",
       "      <th>5483</th>\n",
       "      <td>89972.0</td>\n",
       "      <td>Vrouw</td>\n",
       "      <td>3 people</td>\n",
       "      <td>1 child</td>\n",
       "      <td>child living at home</td>\n",
       "      <td>3</td>\n",
       "      <td>[0,20)</td>\n",
       "      <td>1.0</td>\n",
       "      <td>4.0</td>\n",
       "    </tr>\n",
       "    <tr>\n",
       "      <th>5484</th>\n",
       "      <td>89975.0</td>\n",
       "      <td>Vrouw</td>\n",
       "      <td>1 person</td>\n",
       "      <td>none</td>\n",
       "      <td>head of the household</td>\n",
       "      <td>1</td>\n",
       "      <td>[30,40)</td>\n",
       "      <td>2.0</td>\n",
       "      <td>33.0</td>\n",
       "    </tr>\n",
       "    <tr>\n",
       "      <th>5485</th>\n",
       "      <td>89986.0</td>\n",
       "      <td>Vrouw</td>\n",
       "      <td>2 people</td>\n",
       "      <td>none</td>\n",
       "      <td>spouse</td>\n",
       "      <td>2</td>\n",
       "      <td>[70,80)</td>\n",
       "      <td>1.0</td>\n",
       "      <td>72.0</td>\n",
       "    </tr>\n",
       "    <tr>\n",
       "      <th>5486</th>\n",
       "      <td>89986.0</td>\n",
       "      <td>Man</td>\n",
       "      <td>2 people</td>\n",
       "      <td>none</td>\n",
       "      <td>head of the household</td>\n",
       "      <td>2</td>\n",
       "      <td>[70,80)</td>\n",
       "      <td>3.0</td>\n",
       "      <td>74.0</td>\n",
       "    </tr>\n",
       "  </tbody>\n",
       "</table>\n",
       "<p>5487 rows × 9 columns</p>\n",
       "</div>"
      ],
      "text/plain": [
       "      nohhold geslacht  aantalhh aantalki                positie  aantalhh2  \\\n",
       "0         6.0      Man  2 people     none  head of the household          2   \n",
       "1         6.0    Vrouw  2 people     none                 spouse          2   \n",
       "2        21.0      Man  2 people     none  head of the household          2   \n",
       "3        21.0    Vrouw  2 people     none                 spouse          2   \n",
       "4        38.0      Man  2 people     none  head of the household          2   \n",
       "...       ...      ...       ...      ...                    ...        ...   \n",
       "5482  89972.0    Vrouw  3 people  1 child                 spouse          3   \n",
       "5483  89972.0    Vrouw  3 people  1 child   child living at home          3   \n",
       "5484  89975.0    Vrouw  1 person     none  head of the household          1   \n",
       "5485  89986.0    Vrouw  2 people     none                 spouse          2   \n",
       "5486  89986.0      Man  2 people     none  head of the household          2   \n",
       "\n",
       "     age_category  education   age  \n",
       "0         [60,70)        2.0  63.0  \n",
       "1         [50,60)        1.0  59.0  \n",
       "2         [70,80)        1.0  77.0  \n",
       "3         [70,80)        1.0  74.0  \n",
       "4        [80,120]        1.0  91.0  \n",
       "...           ...        ...   ...  \n",
       "5482      [20,30)        3.0  29.0  \n",
       "5483       [0,20)        1.0   4.0  \n",
       "5484      [30,40)        2.0  33.0  \n",
       "5485      [70,80)        1.0  72.0  \n",
       "5486      [70,80)        3.0  74.0  \n",
       "\n",
       "[5487 rows x 9 columns]"
      ]
     },
     "execution_count": 5,
     "metadata": {},
     "output_type": "execute_result"
    }
   ],
   "source": [
    "df"
   ]
  },
  {
   "cell_type": "code",
   "execution_count": 81,
   "metadata": {},
   "outputs": [
    {
     "data": {
      "text/plain": [
       "nohhold         0\n",
       "geslacht        0\n",
       "aantalhh        0\n",
       "aantalki        0\n",
       "positie         0\n",
       "aantalhh2       0\n",
       "age_category    0\n",
       "education       0\n",
       "age             2\n",
       "dtype: int64"
      ]
     },
     "execution_count": 81,
     "metadata": {},
     "output_type": "execute_result"
    }
   ],
   "source": [
    "df.isna().sum()"
   ]
  },
  {
   "cell_type": "code",
   "execution_count": 104,
   "metadata": {},
   "outputs": [
    {
     "name": "stdout",
     "output_type": "stream",
     "text": [
      "hoi\n",
      "[1, 1, 1, 1, 2, 2, 2, 3, 3, 4, 2, 3, 4, 5, 3, 4, 5, 4, 5, 5]\n",
      "[2, 3, 4, 5, 3, 4, 5, 4, 5, 5, 1, 1, 1, 1, 2, 2, 2, 3, 3, 4]\n"
     ]
    }
   ],
   "source": [
    "import itertools\n",
    "import numpy as np\n",
    "\n",
    "d = []\n",
    "s = []\n",
    "\n",
    "\n",
    "h = [1,2,3,4,5]\n",
    "\n",
    "if h:\n",
    "    print('hoi')\n",
    "    \n",
    "    \n",
    "    npalist = (np.array(list(itertools.combinations(h, 2))))\n",
    "    \n",
    "\n",
    "s.extend(npalist[:,0])\n",
    "d.extend(npalist[:,1])\n",
    "\n",
    "s.extend(npalist[:,1])\n",
    "d.extend(npalist[:,0])\n",
    "\n",
    "\n",
    "print(s)\n",
    "print(d)"
   ]
  }
 ],
 "metadata": {
  "kernelspec": {
   "display_name": "Python 3",
   "language": "python",
   "name": "python3"
  },
  "language_info": {
   "codemirror_mode": {
    "name": "ipython",
    "version": 3
   },
   "file_extension": ".py",
   "mimetype": "text/x-python",
   "name": "python",
   "nbconvert_exporter": "python",
   "pygments_lexer": "ipython3",
   "version": "3.8.5"
  }
 },
 "nbformat": 4,
 "nbformat_minor": 4
}
