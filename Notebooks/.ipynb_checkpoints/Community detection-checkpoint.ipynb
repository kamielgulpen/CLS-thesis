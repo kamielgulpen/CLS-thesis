{
 "cells": [
  {
   "cell_type": "markdown",
   "metadata": {},
   "source": [
    "# Statistics on social network layers\n",
    "\n",
    "### In this notebook I will focus on some of the most important statistics regarding social networks, these statistics are:\n",
    "\n",
    "- Modularity ==> s a measure of the structure of networks or graphs which measures the strength of division of a network into modules (also called groups, clusters or communities).\n",
    "- Transitivity ==>  A triplet is three nodes that are connected by either two (open triplet) or three (closed triplet) undirected ties.\n",
    "- Small-world property ==> A network is a small-world if its average shortest path (L) between nodes grows proportionally to log N or slower\n",
    "- Positive degree assortativity ==> Degree assortativity quantifies the tendency of nodes to connect to other nodes of similar degree.\n"
   ]
  },
  {
   "cell_type": "markdown",
   "metadata": {},
   "source": [
    "## Initialization\n",
    "\n",
    "Initializing the network so the statistics of the network can be calculated"
   ]
  },
  {
   "cell_type": "code",
   "execution_count": 3,
   "metadata": {},
   "outputs": [],
   "source": [
    "import matplotlib.pyplot as plt\n",
    "import networkx as nx\n",
    "import igraph as ig\n",
    "import pandas as pd\n",
    "import leidenalg as la\n",
    "import seaborn as sn\n",
    "import numpy as np\n",
    "optimiser = la.Optimiser()"
   ]
  },
  {
   "cell_type": "code",
   "execution_count": 48,
   "metadata": {},
   "outputs": [],
   "source": [
    "df1 = pd.read_csv('../Data/NW_data/overlap.csv')\n",
    "df2 = pd.read_csv('../Data/NW_data/hh_test.csv')\n",
    "df3 = pd.read_csv('../Data/NW_data/buren_test.csv')\n",
    "df4 = pd.read_csv('../Data/NW_data/werkschool_test.csv')\n",
    "# df = pd.read_csv('../overlap.csv')\n",
    "# Data\\NW_data2\\huishouden_nw_barabasi=0.csv"
   ]
  },
  {
   "cell_type": "code",
   "execution_count": 168,
   "metadata": {},
   "outputs": [],
   "source": [
    "df = pd.concat([df1, df2,df3, df4])"
   ]
  },
  {
   "cell_type": "code",
   "execution_count": 59,
   "metadata": {},
   "outputs": [
    {
     "data": {
      "text/plain": [
       "AtlasView({16582.0: {}, 376645.0: {}, 374804.0: {}, 347264.0: {}})"
      ]
     },
     "execution_count": 59,
     "metadata": {},
     "output_type": "execute_result"
    }
   ],
   "source": []
  },
  {
   "cell_type": "code",
   "execution_count": 32,
   "metadata": {},
   "outputs": [],
   "source": [
    "G = nx.from_pandas_edgelist(df1, 'source_id', 'destination_id' ,create_using=nx.DiGraph())"
   ]
  },
  {
   "cell_type": "code",
   "execution_count": 35,
   "metadata": {},
   "outputs": [
    {
     "data": {
      "text/plain": [
       "[nan]"
      ]
     },
     "execution_count": 35,
     "metadata": {},
     "output_type": "execute_result"
    }
   ],
   "source": [
    "# for i in G.nodes:\n",
    "#     print(list(G[i]))\n",
    "    \n",
    "list(sorted(G.nodes()))\n",
    "    \n",
    "\n",
    "G.get()\n"
   ]
  },
  {
   "cell_type": "code",
   "execution_count": 170,
   "metadata": {},
   "outputs": [],
   "source": [
    "tuples = [tuple([a, b]) for a, b in zip(df['source_id'], df['destination_id'])]\n",
    "# Gm = igraph.Graph.TupleList(tuples, directed = True, edge_attrs = ['weight'])"
   ]
  },
  {
   "cell_type": "code",
   "execution_count": 84,
   "metadata": {},
   "outputs": [
    {
     "data": {
      "text/html": [
       "<div>\n",
       "<style scoped>\n",
       "    .dataframe tbody tr th:only-of-type {\n",
       "        vertical-align: middle;\n",
       "    }\n",
       "\n",
       "    .dataframe tbody tr th {\n",
       "        vertical-align: top;\n",
       "    }\n",
       "\n",
       "    .dataframe thead th {\n",
       "        text-align: right;\n",
       "    }\n",
       "</style>\n",
       "<table border=\"1\" class=\"dataframe\">\n",
       "  <thead>\n",
       "    <tr style=\"text-align: right;\">\n",
       "      <th></th>\n",
       "      <th>source_id</th>\n",
       "      <th>destination_id</th>\n",
       "      <th>source_group</th>\n",
       "      <th>destination_group</th>\n",
       "    </tr>\n",
       "  </thead>\n",
       "  <tbody>\n",
       "    <tr>\n",
       "      <th>0</th>\n",
       "      <td>16</td>\n",
       "      <td>216</td>\n",
       "      <td>0</td>\n",
       "      <td>0</td>\n",
       "    </tr>\n",
       "    <tr>\n",
       "      <th>1</th>\n",
       "      <td>18</td>\n",
       "      <td>2437</td>\n",
       "      <td>0</td>\n",
       "      <td>0</td>\n",
       "    </tr>\n",
       "    <tr>\n",
       "      <th>2</th>\n",
       "      <td>27</td>\n",
       "      <td>3725</td>\n",
       "      <td>0</td>\n",
       "      <td>0</td>\n",
       "    </tr>\n",
       "    <tr>\n",
       "      <th>3</th>\n",
       "      <td>58</td>\n",
       "      <td>1544</td>\n",
       "      <td>0</td>\n",
       "      <td>0</td>\n",
       "    </tr>\n",
       "    <tr>\n",
       "      <th>4</th>\n",
       "      <td>64</td>\n",
       "      <td>2776</td>\n",
       "      <td>0</td>\n",
       "      <td>0</td>\n",
       "    </tr>\n",
       "    <tr>\n",
       "      <th>...</th>\n",
       "      <td>...</td>\n",
       "      <td>...</td>\n",
       "      <td>...</td>\n",
       "      <td>...</td>\n",
       "    </tr>\n",
       "    <tr>\n",
       "      <th>1381705</th>\n",
       "      <td>816802</td>\n",
       "      <td>860808</td>\n",
       "      <td>195</td>\n",
       "      <td>237</td>\n",
       "    </tr>\n",
       "    <tr>\n",
       "      <th>1381706</th>\n",
       "      <td>816560</td>\n",
       "      <td>860860</td>\n",
       "      <td>195</td>\n",
       "      <td>237</td>\n",
       "    </tr>\n",
       "    <tr>\n",
       "      <th>1381707</th>\n",
       "      <td>817414</td>\n",
       "      <td>860827</td>\n",
       "      <td>195</td>\n",
       "      <td>237</td>\n",
       "    </tr>\n",
       "    <tr>\n",
       "      <th>1381708</th>\n",
       "      <td>814788</td>\n",
       "      <td>860809</td>\n",
       "      <td>195</td>\n",
       "      <td>237</td>\n",
       "    </tr>\n",
       "    <tr>\n",
       "      <th>1381709</th>\n",
       "      <td>791223</td>\n",
       "      <td>860998</td>\n",
       "      <td>165</td>\n",
       "      <td>239</td>\n",
       "    </tr>\n",
       "  </tbody>\n",
       "</table>\n",
       "<p>1381710 rows × 4 columns</p>\n",
       "</div>"
      ],
      "text/plain": [
       "         source_id  destination_id  source_group  destination_group\n",
       "0               16             216             0                  0\n",
       "1               18            2437             0                  0\n",
       "2               27            3725             0                  0\n",
       "3               58            1544             0                  0\n",
       "4               64            2776             0                  0\n",
       "...            ...             ...           ...                ...\n",
       "1381705     816802          860808           195                237\n",
       "1381706     816560          860860           195                237\n",
       "1381707     817414          860827           195                237\n",
       "1381708     814788          860809           195                237\n",
       "1381709     791223          860998           165                239\n",
       "\n",
       "[1381710 rows x 4 columns]"
      ]
     },
     "execution_count": 84,
     "metadata": {},
     "output_type": "execute_result"
    }
   ],
   "source": [
    "df"
   ]
  },
  {
   "cell_type": "code",
   "execution_count": 171,
   "metadata": {},
   "outputs": [],
   "source": [
    "Gm = ig.Graph.TupleList(tuples, directed = True)\n"
   ]
  },
  {
   "cell_type": "code",
   "execution_count": 178,
   "metadata": {},
   "outputs": [],
   "source": [
    "edges = Gm.ecount()\n",
    "nodes = Gm.vcount()"
   ]
  },
  {
   "cell_type": "markdown",
   "metadata": {},
   "source": [
    "## Checking for modularity, transitivity, small-world property and degree assortativity for each layer\n",
    "\n",
    "### Results modularity:\n",
    "\n",
    "- Family: 0.6711623336876632\n",
    "- Neighbours: 0.884774334375547\n",
    "- Work/school:0.3831499680672851\n",
    "- Household:999990245801818\n",
    "- Combined:  0.34357482848028703\n",
    "- Random: -1.7422323611572512e-06\n",
    "\n",
    "### Results transitivity\n",
    "\n",
    "- Family: 0.00173\n",
    "- Neighbours: 0.3498588104708938\n",
    "- Work/school: 0.000259283371100701\n",
    "- Household: 1\n",
    "- Combined: 0.09609942952800941\n",
    "- Random:5.22374458907123e-06\n",
    "\n",
    "### Results small-world property\n",
    "\n",
    "- Family: average shortest path = 6.9729, inf = True\n",
    "- Neighbours: 5.1827\n",
    "- Work/school: 4.116\n",
    "- Household: inf\n",
    "- Combined: 3.7043\n",
    "- Random: inf \n",
    "\n",
    "### Results degree assortativity\n",
    "\n",
    "- Family:0.41728363400785057\n",
    "- Neighbours: 0.09320552506500217\n",
    "- Work/school: 0.18906038946967274\n",
    "- Household: 1\n",
    "- Combined: 0.12087295309397249\n",
    "- Random: 0.0020899405101452075"
   ]
  },
  {
   "cell_type": "code",
   "execution_count": 173,
   "metadata": {},
   "outputs": [],
   "source": [
    "partition = la.find_partition(Gm, la.ModularityVertexPartition)"
   ]
  },
  {
   "cell_type": "code",
   "execution_count": 188,
   "metadata": {},
   "outputs": [
    {
     "data": {
      "text/plain": [
       "2.6149000043041646"
      ]
     },
     "execution_count": 188,
     "metadata": {},
     "output_type": "execute_result"
    }
   ],
   "source": [
    "np.log(np.log(861000))"
   ]
  },
  {
   "cell_type": "code",
   "execution_count": 174,
   "metadata": {},
   "outputs": [
    {
     "data": {
      "text/plain": [
       "0.34357482848028703"
      ]
     },
     "execution_count": 174,
     "metadata": {},
     "output_type": "execute_result"
    }
   ],
   "source": [
    "Gm.modularity(partition)"
   ]
  },
  {
   "cell_type": "code",
   "execution_count": 175,
   "metadata": {
    "scrolled": true
   },
   "outputs": [
    {
     "data": {
      "text/plain": [
       "0.09609942952800941"
      ]
     },
     "execution_count": 175,
     "metadata": {},
     "output_type": "execute_result"
    }
   ],
   "source": [
    "\n",
    "\n",
    "Gm.transitivity_undirected()"
   ]
  },
  {
   "cell_type": "code",
   "execution_count": 176,
   "metadata": {},
   "outputs": [
    {
     "name": "stdout",
     "output_type": "stream",
     "text": [
      "[ 74216 308975 444113 596804 308149 647053 807971 462235 225208 738453\n",
      " 547095 542124 459855 616353 650129 289759 741411 186118 326996 103804\n",
      " 528214 549025 283810  64232 259528 177471 124306 155639   1619 459459\n",
      " 653085 146439  79132 114796 428026  79096 259059 146614 123329 792827\n",
      " 764062 149867 423695 782312 498029  27823 825857 154721 195365 306359\n",
      " 242479 124925 622980 444074 484842 359237 843949 741693 762340 391795\n",
      " 374885 675509 538274 803024  37264 731163 112280 282989 746277 192919\n",
      " 476974 243019 225447 624246 765375 326651  48004  62363 858927 549007\n",
      " 325625 127075 852066 690692 785352 102508  91425 803405 434619 854422\n",
      " 605587 252967 144484 312808 262480 497389 793425 492893      0   5047] [316602 817008 439940 378037 792711 101495 137601 739512 222079   5858\n",
      " 540574 794380 549399  20355 551245 184107 195822 182942 675945 827488\n",
      "  62641 300552 483319 819620 548335  27163 348198 421071 716172 455824\n",
      "  89742 744384  13063 708622 107684 299124 261153 472802 546765 177656\n",
      "  83975 843572 118026 101597 411899 304250  95305 264374 536969 831744\n",
      " 183525 224472 692618 236858 802935 581799 360536 773606 683786 668791\n",
      " 148443 662876 546688 671220 711822 453342 438376  42496 763881 445411\n",
      " 264281 245968 410366 519570 464413 616587 542015 584200 818759 116436\n",
      " 185198 142157 323381 171496 629522 462523 458607 473859 566816 252585\n",
      " 227451 204687 650445 812648  45679 541827 528994 334949  11606 122303]\n"
     ]
    }
   ],
   "source": [
    "# Calsulating the shortest path (100 nodes)\n",
    "\n",
    "rn = np.random.randint(nodes, size=(100,2))\n",
    "\n",
    "\n",
    "\n",
    "x = rn[:,0]\n",
    "\n",
    "y = rn[:,1]\n",
    "\n",
    "print(x,y)\n",
    "\n",
    "\n",
    "sp = Gm.shortest_paths(x, y, mode='in')\n",
    "\n"
   ]
  },
  {
   "cell_type": "code",
   "execution_count": 186,
   "metadata": {},
   "outputs": [
    {
     "data": {
      "text/plain": [
       "3.7043"
      ]
     },
     "execution_count": 186,
     "metadata": {},
     "output_type": "execute_result"
    }
   ],
   "source": [
    " \n",
    "\n",
    "sp = np.array(sp).flatten()\n",
    "\n",
    "sp\n",
    "\n",
    "# # sp = list(sp[sp == np.inf] = 0.0)\n",
    "\n",
    "# sp = list(sp).remove(np.inf)\n",
    "\n",
    "\n",
    "\n",
    "np.mean(sp)\n"
   ]
  },
  {
   "cell_type": "code",
   "execution_count": 177,
   "metadata": {},
   "outputs": [
    {
     "data": {
      "text/plain": [
       "0.12087295309397249"
      ]
     },
     "execution_count": 177,
     "metadata": {},
     "output_type": "execute_result"
    }
   ],
   "source": [
    "Gm.assortativity_degree()"
   ]
  },
  {
   "cell_type": "code",
   "execution_count": 179,
   "metadata": {},
   "outputs": [],
   "source": [
    "p = nodes/((861000 * (861000 - 1))/2)"
   ]
  },
  {
   "cell_type": "code",
   "execution_count": 180,
   "metadata": {},
   "outputs": [
    {
     "data": {
      "text/plain": [
       "2.3207976007785216e-06"
      ]
     },
     "execution_count": 180,
     "metadata": {},
     "output_type": "execute_result"
    }
   ],
   "source": [
    "p"
   ]
  },
  {
   "cell_type": "code",
   "execution_count": 181,
   "metadata": {},
   "outputs": [],
   "source": [
    "gm_ER = ig.Graph.Erdos_Renyi(861000, p)"
   ]
  },
  {
   "cell_type": "code",
   "execution_count": 182,
   "metadata": {},
   "outputs": [
    {
     "data": {
      "text/plain": [
       "5.22374458907123e-06"
      ]
     },
     "execution_count": 182,
     "metadata": {},
     "output_type": "execute_result"
    }
   ],
   "source": [
    "gm_ER.transitivity_undirected()"
   ]
  },
  {
   "cell_type": "code",
   "execution_count": 12,
   "metadata": {},
   "outputs": [],
   "source": [
    "gm_WS = ig.Graph.Watts_Strogatz(1, 861000, 100, p)"
   ]
  },
  {
   "cell_type": "code",
   "execution_count": 13,
   "metadata": {},
   "outputs": [
    {
     "data": {
      "text/plain": [
       "0.7461553592838793"
      ]
     },
     "execution_count": 13,
     "metadata": {},
     "output_type": "execute_result"
    }
   ],
   "source": [
    "gm_WS.transitivity_undirected()"
   ]
  },
  {
   "cell_type": "code",
   "execution_count": 15,
   "metadata": {},
   "outputs": [
    {
     "data": {
      "text/plain": [
       "86100000"
      ]
     },
     "execution_count": 15,
     "metadata": {},
     "output_type": "execute_result"
    }
   ],
   "source": [
    "len(gm_WS.get_edgelist())"
   ]
  },
  {
   "cell_type": "code",
   "execution_count": 16,
   "metadata": {},
   "outputs": [
    {
     "data": {
      "text/plain": [
       "5985200"
      ]
     },
     "execution_count": 16,
     "metadata": {},
     "output_type": "execute_result"
    }
   ],
   "source": [
    "len(Gm.get_edgelist())"
   ]
  },
  {
   "cell_type": "code",
   "execution_count": 189,
   "metadata": {},
   "outputs": [],
   "source": [
    "random_partition = gm_ER.community_leiden()"
   ]
  },
  {
   "cell_type": "code",
   "execution_count": 190,
   "metadata": {},
   "outputs": [
    {
     "data": {
      "text/plain": [
       "-1.7422323611572512e-06"
      ]
     },
     "execution_count": 190,
     "metadata": {},
     "output_type": "execute_result"
    }
   ],
   "source": [
    "gm_ER.modularity(random_partition)"
   ]
  },
  {
   "cell_type": "code",
   "execution_count": 191,
   "metadata": {},
   "outputs": [
    {
     "name": "stdout",
     "output_type": "stream",
     "text": [
      "[754677 245753 153542 624938 706261 597863 463776  52315 326051 771848\n",
      " 443126 110910 171839 307167 759374 839451 228544   2743 152511 462799\n",
      " 794413 314805 845903 117823 572315 311150  88263 129795  30670 521681\n",
      " 629109 105850 306960 553916 827801 536203 312125 234166 486759 256738\n",
      " 820376 312951 290832 658205 451397 155994 707776  36666 747948 112192\n",
      " 648784 400292 601308 400493 351631 434908 195059 579013 235757  95240\n",
      " 782624 496907 203580 471138 200683 450480 122145 570660 156881 590537\n",
      " 608848 171509 736296  76536 208324 844318 426327 396313 257226 223558\n",
      "  98994 257944 794342 428026 298813 114228 212184 646611 681797 769792\n",
      " 123532 216881 757491 712594 681305 222116 390974 814861 587760 419203] [672736 536487   5713 247954 308588 337667 843219 279914 727861 477584\n",
      " 508072 591628 517682 760146 690067 402661 110036 850052 763398 665460\n",
      " 807711 270805 337837 543138 657908 269372 674918 693514 176416  99523\n",
      " 200447 774536 586836 380289 261969 246500  72943 464471  97413 462343\n",
      " 204132 255171 334678 266636 856725 252352 538939 677835 229322 655160\n",
      " 760953 489414 790514 695939 805327 676806 617345 793666 734802 337260\n",
      " 450701  80609 657517 606318 483242 819128 639044 309697  21260 309898\n",
      " 397967 507208 378996 752368 477533 844668 188550 728062 433966 773164\n",
      " 523829 398726 646208 275567  93130 531681 818126  74037 428758 133829\n",
      " 782713 789714 725965 361584 334554 638843  22710 318985 398748  33241]\n"
     ]
    }
   ],
   "source": [
    "# Calsulating the shortest path (100 nodes)\n",
    "\n",
    "rn = np.random.randint(nodes, size=(100,2))\n",
    "\n",
    "\n",
    "\n",
    "x = rn[:,0]\n",
    "\n",
    "y = rn[:,1]\n",
    "\n",
    "print(x,y)\n",
    "\n",
    "\n",
    "sp = gm_ER.shortest_paths(x, y, mode='in')\n"
   ]
  },
  {
   "cell_type": "code",
   "execution_count": 196,
   "metadata": {},
   "outputs": [
    {
     "data": {
      "text/plain": [
       "0.0020899405101452075"
      ]
     },
     "execution_count": 196,
     "metadata": {},
     "output_type": "execute_result"
    }
   ],
   "source": [
    "gm_ER.assortativity_degree()"
   ]
  },
  {
   "cell_type": "code",
   "execution_count": 55,
   "metadata": {},
   "outputs": [
    {
     "data": {
      "text/plain": [
       "13.665849783409868"
      ]
     },
     "execution_count": 55,
     "metadata": {},
     "output_type": "execute_result"
    }
   ],
   "source": [
    "np.log(861000)"
   ]
  },
  {
   "cell_type": "markdown",
   "metadata": {},
   "source": [
    "## Looking at different indexes in the new social network"
   ]
  },
  {
   "cell_type": "code",
   "execution_count": null,
   "metadata": {},
   "outputs": [],
   "source": []
  },
  {
   "cell_type": "markdown",
   "metadata": {},
   "source": [
    "## Other dataset\n",
    "\n",
    "Checking the degree distribution of calls + bt contact in Copenhagen\n",
    "https://figshare.com/articles/dataset/The_Copenhagen_Networks_Study_interaction_data/7267433/1?file=14039048"
   ]
  },
  {
   "cell_type": "code",
   "execution_count": 62,
   "metadata": {},
   "outputs": [],
   "source": [
    "df = pd.read_csv('../Data/other/bt_symmetric.csv')\n",
    "df = df[(df['user_b'] != 0) & (df['user_b'] != -1) & (df['user_b'] != -2)]\n",
    "tuples = [tuple([a, b]) for a, b in zip(df['user_a'], df['user_b'])]"
   ]
  },
  {
   "cell_type": "code",
   "execution_count": 80,
   "metadata": {},
   "outputs": [],
   "source": [
    "df = pd.read_csv('../Data/other/calls.csv')\n",
    "tuples = [tuple([a, b]) for a, b in zip(df['caller'], df['callee'])]"
   ]
  },
  {
   "cell_type": "code",
   "execution_count": 79,
   "metadata": {},
   "outputs": [
    {
     "data": {
      "text/html": [
       "<div>\n",
       "<style scoped>\n",
       "    .dataframe tbody tr th:only-of-type {\n",
       "        vertical-align: middle;\n",
       "    }\n",
       "\n",
       "    .dataframe tbody tr th {\n",
       "        vertical-align: top;\n",
       "    }\n",
       "\n",
       "    .dataframe thead th {\n",
       "        text-align: right;\n",
       "    }\n",
       "</style>\n",
       "<table border=\"1\" class=\"dataframe\">\n",
       "  <thead>\n",
       "    <tr style=\"text-align: right;\">\n",
       "      <th></th>\n",
       "      <th>timestamp</th>\n",
       "      <th>caller</th>\n",
       "      <th>callee</th>\n",
       "      <th>duration</th>\n",
       "    </tr>\n",
       "  </thead>\n",
       "  <tbody>\n",
       "    <tr>\n",
       "      <th>0</th>\n",
       "      <td>184</td>\n",
       "      <td>300</td>\n",
       "      <td>301</td>\n",
       "      <td>121</td>\n",
       "    </tr>\n",
       "    <tr>\n",
       "      <th>1</th>\n",
       "      <td>3920</td>\n",
       "      <td>512</td>\n",
       "      <td>299</td>\n",
       "      <td>670</td>\n",
       "    </tr>\n",
       "    <tr>\n",
       "      <th>2</th>\n",
       "      <td>5623</td>\n",
       "      <td>301</td>\n",
       "      <td>300</td>\n",
       "      <td>504</td>\n",
       "    </tr>\n",
       "    <tr>\n",
       "      <th>3</th>\n",
       "      <td>9252</td>\n",
       "      <td>401</td>\n",
       "      <td>457</td>\n",
       "      <td>-1</td>\n",
       "    </tr>\n",
       "    <tr>\n",
       "      <th>4</th>\n",
       "      <td>15466</td>\n",
       "      <td>512</td>\n",
       "      <td>0</td>\n",
       "      <td>5</td>\n",
       "    </tr>\n",
       "    <tr>\n",
       "      <th>...</th>\n",
       "      <td>...</td>\n",
       "      <td>...</td>\n",
       "      <td>...</td>\n",
       "      <td>...</td>\n",
       "    </tr>\n",
       "    <tr>\n",
       "      <th>3595</th>\n",
       "      <td>2414934</td>\n",
       "      <td>706</td>\n",
       "      <td>401</td>\n",
       "      <td>78</td>\n",
       "    </tr>\n",
       "    <tr>\n",
       "      <th>3596</th>\n",
       "      <td>2415585</td>\n",
       "      <td>218</td>\n",
       "      <td>382</td>\n",
       "      <td>48</td>\n",
       "    </tr>\n",
       "    <tr>\n",
       "      <th>3597</th>\n",
       "      <td>2416059</td>\n",
       "      <td>561</td>\n",
       "      <td>631</td>\n",
       "      <td>13</td>\n",
       "    </tr>\n",
       "    <tr>\n",
       "      <th>3598</th>\n",
       "      <td>2416368</td>\n",
       "      <td>323</td>\n",
       "      <td>392</td>\n",
       "      <td>4</td>\n",
       "    </tr>\n",
       "    <tr>\n",
       "      <th>3599</th>\n",
       "      <td>2416399</td>\n",
       "      <td>323</td>\n",
       "      <td>392</td>\n",
       "      <td>3</td>\n",
       "    </tr>\n",
       "  </tbody>\n",
       "</table>\n",
       "<p>3600 rows × 4 columns</p>\n",
       "</div>"
      ],
      "text/plain": [
       "      timestamp  caller  callee  duration\n",
       "0           184     300     301       121\n",
       "1          3920     512     299       670\n",
       "2          5623     301     300       504\n",
       "3          9252     401     457        -1\n",
       "4         15466     512       0         5\n",
       "...         ...     ...     ...       ...\n",
       "3595    2414934     706     401        78\n",
       "3596    2415585     218     382        48\n",
       "3597    2416059     561     631        13\n",
       "3598    2416368     323     392         4\n",
       "3599    2416399     323     392         3\n",
       "\n",
       "[3600 rows x 4 columns]"
      ]
     },
     "execution_count": 79,
     "metadata": {},
     "output_type": "execute_result"
    }
   ],
   "source": [
    "df"
   ]
  },
  {
   "cell_type": "code",
   "execution_count": 81,
   "metadata": {},
   "outputs": [],
   "source": [
    "Gm_call = ig.Graph.TupleList(tuples, directed = True)\n"
   ]
  },
  {
   "cell_type": "code",
   "execution_count": 82,
   "metadata": {},
   "outputs": [
    {
     "data": {
      "text/plain": [
       "(array([414.,  68.,  31.,  11.,   3.,   7.,   0.,   0.,   1.,   1.]),\n",
       " array([  1. ,  17.7,  34.4,  51.1,  67.8,  84.5, 101.2, 117.9, 134.6,\n",
       "        151.3, 168. ]),\n",
       " <BarContainer object of 10 artists>)"
      ]
     },
     "execution_count": 82,
     "metadata": {},
     "output_type": "execute_result"
    },
    {
     "data": {
      "image/png": "[encoded data removed]",
      "text/plain": [
       "<Figure size 432x288 with 1 Axes>"
      ]
     },
     "metadata": {
      "needs_background": "light"
     },
     "output_type": "display_data"
    }
   ],
   "source": [
    "plt.hist(Gm_call.degree())"
   ]
  },
  {
   "cell_type": "code",
   "execution_count": 83,
   "metadata": {},
   "outputs": [
    {
     "data": {
      "text/plain": [
       "0.1836734693877551"
      ]
     },
     "execution_count": 83,
     "metadata": {},
     "output_type": "execute_result"
    }
   ],
   "source": [
    "Gm_call.transitivity_undirected()"
   ]
  },
  {
   "cell_type": "code",
   "execution_count": 160,
   "metadata": {},
   "outputs": [
    {
     "data": {
      "text/html": [
       "<div>\n",
       "<style scoped>\n",
       "    .dataframe tbody tr th:only-of-type {\n",
       "        vertical-align: middle;\n",
       "    }\n",
       "\n",
       "    .dataframe tbody tr th {\n",
       "        vertical-align: top;\n",
       "    }\n",
       "\n",
       "    .dataframe thead th {\n",
       "        text-align: right;\n",
       "    }\n",
       "</style>\n",
       "<table border=\"1\" class=\"dataframe\">\n",
       "  <thead>\n",
       "    <tr style=\"text-align: right;\">\n",
       "      <th></th>\n",
       "      <th>Leeftijd</th>\n",
       "      <th>Mannen</th>\n",
       "      <th>Vrouwen</th>\n",
       "    </tr>\n",
       "  </thead>\n",
       "  <tbody>\n",
       "    <tr>\n",
       "      <th>0</th>\n",
       "      <td>105 jaar of ouder</td>\n",
       "      <td>NaN</td>\n",
       "      <td>NaN</td>\n",
       "    </tr>\n",
       "    <tr>\n",
       "      <th>1</th>\n",
       "      <td>NaN</td>\n",
       "      <td>0</td>\n",
       "      <td>0</td>\n",
       "    </tr>\n",
       "    <tr>\n",
       "      <th>2</th>\n",
       "      <td>104 jaar</td>\n",
       "      <td>0</td>\n",
       "      <td>0</td>\n",
       "    </tr>\n",
       "    <tr>\n",
       "      <th>3</th>\n",
       "      <td>103 jaar</td>\n",
       "      <td>0</td>\n",
       "      <td>0</td>\n",
       "    </tr>\n",
       "    <tr>\n",
       "      <th>4</th>\n",
       "      <td>102 jaar</td>\n",
       "      <td>0</td>\n",
       "      <td>0</td>\n",
       "    </tr>\n",
       "    <tr>\n",
       "      <th>...</th>\n",
       "      <td>...</td>\n",
       "      <td>...</td>\n",
       "      <td>...</td>\n",
       "    </tr>\n",
       "    <tr>\n",
       "      <th>102</th>\n",
       "      <td>4 jaar</td>\n",
       "      <td>91 000</td>\n",
       "      <td>87 000</td>\n",
       "    </tr>\n",
       "    <tr>\n",
       "      <th>103</th>\n",
       "      <td>3 jaar</td>\n",
       "      <td>89 000</td>\n",
       "      <td>85 000</td>\n",
       "    </tr>\n",
       "    <tr>\n",
       "      <th>104</th>\n",
       "      <td>2 jaar</td>\n",
       "      <td>89 000</td>\n",
       "      <td>85 000</td>\n",
       "    </tr>\n",
       "    <tr>\n",
       "      <th>105</th>\n",
       "      <td>1 jaar</td>\n",
       "      <td>88 000</td>\n",
       "      <td>83 000</td>\n",
       "    </tr>\n",
       "    <tr>\n",
       "      <th>106</th>\n",
       "      <td>0 jaar</td>\n",
       "      <td>86 000</td>\n",
       "      <td>82 000</td>\n",
       "    </tr>\n",
       "  </tbody>\n",
       "</table>\n",
       "<p>107 rows × 3 columns</p>\n",
       "</div>"
      ],
      "text/plain": [
       "              Leeftijd  Mannen Vrouwen\n",
       "0    105 jaar of ouder     NaN     NaN\n",
       "1                  NaN       0       0\n",
       "2             104 jaar       0       0\n",
       "3             103 jaar       0       0\n",
       "4             102 jaar       0       0\n",
       "..                 ...     ...     ...\n",
       "102             4 jaar  91 000  87 000\n",
       "103             3 jaar  89 000  85 000\n",
       "104             2 jaar  89 000  85 000\n",
       "105             1 jaar  88 000  83 000\n",
       "106             0 jaar  86 000  82 000\n",
       "\n",
       "[107 rows x 3 columns]"
      ]
     },
     "execution_count": 160,
     "metadata": {},
     "output_type": "execute_result"
    }
   ],
   "source": []
  },
  {
   "cell_type": "code",
   "execution_count": 39,
   "metadata": {},
   "outputs": [
    {
     "data": {
      "text/plain": [
       "<BarContainer object of 21 artists>"
      ]
     },
     "execution_count": 39,
     "metadata": {},
     "output_type": "execute_result"
    },
    {
     "data": {
      "image/png": "[encoded data removed]",
      "text/plain": [
       "<Figure size 432x288 with 1 Axes>"
      ]
     },
     "metadata": {
      "needs_background": "light"
     },
     "output_type": "display_data"
    }
   ],
   "source": [
    "df = pd.read_csv('../Data/other/Leeftijdsopbouw Nederland 2019.csv', sep=';')\n",
    "\n",
    "df = df[2:]\n",
    "\n",
    "plt.bar(height = df.iloc[-21:]['Vrouwen'], x = df.iloc[-21:]['Leeftijd'])"
   ]
  },
  {
   "cell_type": "code",
   "execution_count": 243,
   "metadata": {},
   "outputs": [
    {
     "data": {
      "text/html": [
       "<div>\n",
       "<style scoped>\n",
       "    .dataframe tbody tr th:only-of-type {\n",
       "        vertical-align: middle;\n",
       "    }\n",
       "\n",
       "    .dataframe tbody tr th {\n",
       "        vertical-align: top;\n",
       "    }\n",
       "\n",
       "    .dataframe thead th {\n",
       "        text-align: right;\n",
       "    }\n",
       "</style>\n",
       "<table border=\"1\" class=\"dataframe\">\n",
       "  <thead>\n",
       "    <tr style=\"text-align: right;\">\n",
       "      <th></th>\n",
       "      <th>Leeftijd</th>\n",
       "      <th>Mannen</th>\n",
       "      <th>Vrouwen</th>\n",
       "    </tr>\n",
       "  </thead>\n",
       "  <tbody>\n",
       "    <tr>\n",
       "      <th>2</th>\n",
       "      <td>104 jaar</td>\n",
       "      <td>0</td>\n",
       "      <td>0</td>\n",
       "    </tr>\n",
       "    <tr>\n",
       "      <th>3</th>\n",
       "      <td>103 jaar</td>\n",
       "      <td>0</td>\n",
       "      <td>0</td>\n",
       "    </tr>\n",
       "    <tr>\n",
       "      <th>4</th>\n",
       "      <td>102 jaar</td>\n",
       "      <td>0</td>\n",
       "      <td>0</td>\n",
       "    </tr>\n",
       "    <tr>\n",
       "      <th>5</th>\n",
       "      <td>101 jaar</td>\n",
       "      <td>0</td>\n",
       "      <td>0</td>\n",
       "    </tr>\n",
       "    <tr>\n",
       "      <th>6</th>\n",
       "      <td>100 jaar</td>\n",
       "      <td>0</td>\n",
       "      <td>1 000</td>\n",
       "    </tr>\n",
       "    <tr>\n",
       "      <th>...</th>\n",
       "      <td>...</td>\n",
       "      <td>...</td>\n",
       "      <td>...</td>\n",
       "    </tr>\n",
       "    <tr>\n",
       "      <th>102</th>\n",
       "      <td>4 jaar</td>\n",
       "      <td>91 000</td>\n",
       "      <td>87 000</td>\n",
       "    </tr>\n",
       "    <tr>\n",
       "      <th>103</th>\n",
       "      <td>3 jaar</td>\n",
       "      <td>89 000</td>\n",
       "      <td>85 000</td>\n",
       "    </tr>\n",
       "    <tr>\n",
       "      <th>104</th>\n",
       "      <td>2 jaar</td>\n",
       "      <td>89 000</td>\n",
       "      <td>85 000</td>\n",
       "    </tr>\n",
       "    <tr>\n",
       "      <th>105</th>\n",
       "      <td>1 jaar</td>\n",
       "      <td>88 000</td>\n",
       "      <td>83 000</td>\n",
       "    </tr>\n",
       "    <tr>\n",
       "      <th>106</th>\n",
       "      <td>0 jaar</td>\n",
       "      <td>86 000</td>\n",
       "      <td>82 000</td>\n",
       "    </tr>\n",
       "  </tbody>\n",
       "</table>\n",
       "<p>105 rows × 3 columns</p>\n",
       "</div>"
      ],
      "text/plain": [
       "     Leeftijd  Mannen Vrouwen\n",
       "2    104 jaar       0       0\n",
       "3    103 jaar       0       0\n",
       "4    102 jaar       0       0\n",
       "5    101 jaar       0       0\n",
       "6    100 jaar       0   1 000\n",
       "..        ...     ...     ...\n",
       "102    4 jaar  91 000  87 000\n",
       "103    3 jaar  89 000  85 000\n",
       "104    2 jaar  89 000  85 000\n",
       "105    1 jaar  88 000  83 000\n",
       "106    0 jaar  86 000  82 000\n",
       "\n",
       "[105 rows x 3 columns]"
      ]
     },
     "execution_count": 243,
     "metadata": {},
     "output_type": "execute_result"
    }
   ],
   "source": [
    "df"
   ]
  },
  {
   "cell_type": "code",
   "execution_count": 40,
   "metadata": {},
   "outputs": [],
   "source": [
    "df.columns = df.columns.str.replace(' ', '')\n",
    "\n",
    "df['Mannen'] = df['Mannen'].str.replace(' ', '')\n",
    "df['Vrouwen'] = df['Vrouwen'].str.replace(' ', '')\n",
    "\n",
    "df['Mannen'] = pd.to_numeric(df['Mannen'])\n",
    "df['Vrouwen'] = pd.to_numeric(df['Vrouwen'])\n"
   ]
  },
  {
   "cell_type": "code",
   "execution_count": 41,
   "metadata": {},
   "outputs": [],
   "source": [
    "df.columns = df.columns.str.replace(' ', '')\n",
    "\n",
    "df['Leeftijd'] = df['Leeftijd'].str.replace(' jaar', '')\n",
    "\n",
    "\n",
    "df['Leeftijd'] = pd.to_numeric(df['Leeftijd'])\n",
    "# df['Vrouwen'] = pd.to_numeric(df['Vrouwen'])\n"
   ]
  },
  {
   "cell_type": "code",
   "execution_count": 42,
   "metadata": {
    "code_folding": []
   },
   "outputs": [
    {
     "data": {
      "text/html": [
       "<div>\n",
       "<style scoped>\n",
       "    .dataframe tbody tr th:only-of-type {\n",
       "        vertical-align: middle;\n",
       "    }\n",
       "\n",
       "    .dataframe tbody tr th {\n",
       "        vertical-align: top;\n",
       "    }\n",
       "\n",
       "    .dataframe thead th {\n",
       "        text-align: right;\n",
       "    }\n",
       "</style>\n",
       "<table border=\"1\" class=\"dataframe\">\n",
       "  <thead>\n",
       "    <tr style=\"text-align: right;\">\n",
       "      <th></th>\n",
       "      <th>Leeftijd</th>\n",
       "      <th>Mannen</th>\n",
       "      <th>Vrouwen</th>\n",
       "    </tr>\n",
       "  </thead>\n",
       "  <tbody>\n",
       "    <tr>\n",
       "      <th>2</th>\n",
       "      <td>104</td>\n",
       "      <td>0</td>\n",
       "      <td>0</td>\n",
       "    </tr>\n",
       "    <tr>\n",
       "      <th>3</th>\n",
       "      <td>103</td>\n",
       "      <td>0</td>\n",
       "      <td>0</td>\n",
       "    </tr>\n",
       "    <tr>\n",
       "      <th>4</th>\n",
       "      <td>102</td>\n",
       "      <td>0</td>\n",
       "      <td>0</td>\n",
       "    </tr>\n",
       "    <tr>\n",
       "      <th>5</th>\n",
       "      <td>101</td>\n",
       "      <td>0</td>\n",
       "      <td>0</td>\n",
       "    </tr>\n",
       "    <tr>\n",
       "      <th>6</th>\n",
       "      <td>100</td>\n",
       "      <td>0</td>\n",
       "      <td>1000</td>\n",
       "    </tr>\n",
       "    <tr>\n",
       "      <th>...</th>\n",
       "      <td>...</td>\n",
       "      <td>...</td>\n",
       "      <td>...</td>\n",
       "    </tr>\n",
       "    <tr>\n",
       "      <th>102</th>\n",
       "      <td>4</td>\n",
       "      <td>91000</td>\n",
       "      <td>87000</td>\n",
       "    </tr>\n",
       "    <tr>\n",
       "      <th>103</th>\n",
       "      <td>3</td>\n",
       "      <td>89000</td>\n",
       "      <td>85000</td>\n",
       "    </tr>\n",
       "    <tr>\n",
       "      <th>104</th>\n",
       "      <td>2</td>\n",
       "      <td>89000</td>\n",
       "      <td>85000</td>\n",
       "    </tr>\n",
       "    <tr>\n",
       "      <th>105</th>\n",
       "      <td>1</td>\n",
       "      <td>88000</td>\n",
       "      <td>83000</td>\n",
       "    </tr>\n",
       "    <tr>\n",
       "      <th>106</th>\n",
       "      <td>0</td>\n",
       "      <td>86000</td>\n",
       "      <td>82000</td>\n",
       "    </tr>\n",
       "  </tbody>\n",
       "</table>\n",
       "<p>105 rows × 3 columns</p>\n",
       "</div>"
      ],
      "text/plain": [
       "     Leeftijd  Mannen  Vrouwen\n",
       "2         104       0        0\n",
       "3         103       0        0\n",
       "4         102       0        0\n",
       "5         101       0        0\n",
       "6         100       0     1000\n",
       "..        ...     ...      ...\n",
       "102         4   91000    87000\n",
       "103         3   89000    85000\n",
       "104         2   89000    85000\n",
       "105         1   88000    83000\n",
       "106         0   86000    82000\n",
       "\n",
       "[105 rows x 3 columns]"
      ]
     },
     "execution_count": 42,
     "metadata": {},
     "output_type": "execute_result"
    }
   ],
   "source": [
    "df"
   ]
  },
  {
   "cell_type": "code",
   "execution_count": 43,
   "metadata": {},
   "outputs": [
    {
     "name": "stderr",
     "output_type": "stream",
     "text": [
      "<ipython-input-43-45517d0a5ad2>:16: SettingWithCopyWarning: \n",
      "A value is trying to be set on a copy of a slice from a DataFrame\n",
      "\n",
      "See the caveats in the documentation: https://pandas.pydata.org/pandas-docs/stable/user_guide/indexing.html#returning-a-view-versus-a-copy\n",
      "  age['fractie_Vrouwen'] = age['Vrouwen']/age['Vrouwen'].sum()\n",
      "C:\\Users\\KGulp\\anaconda3\\lib\\site-packages\\pandas\\core\\indexing.py:670: SettingWithCopyWarning: \n",
      "A value is trying to be set on a copy of a slice from a DataFrame\n",
      "\n",
      "See the caveats in the documentation: https://pandas.pydata.org/pandas-docs/stable/user_guide/indexing.html#returning-a-view-versus-a-copy\n",
      "  iloc._setitem_with_indexer(indexer, value)\n",
      "<ipython-input-43-45517d0a5ad2>:17: SettingWithCopyWarning: \n",
      "A value is trying to be set on a copy of a slice from a DataFrame\n",
      "\n",
      "See the caveats in the documentation: https://pandas.pydata.org/pandas-docs/stable/user_guide/indexing.html#returning-a-view-versus-a-copy\n",
      "  age['fractie_Mannen'] = age['Mannen']/age['Mannen'].sum()\n",
      "<ipython-input-43-45517d0a5ad2>:16: SettingWithCopyWarning: \n",
      "A value is trying to be set on a copy of a slice from a DataFrame.\n",
      "Try using .loc[row_indexer,col_indexer] = value instead\n",
      "\n",
      "See the caveats in the documentation: https://pandas.pydata.org/pandas-docs/stable/user_guide/indexing.html#returning-a-view-versus-a-copy\n",
      "  age['fractie_Vrouwen'] = age['Vrouwen']/age['Vrouwen'].sum()\n",
      "<ipython-input-43-45517d0a5ad2>:17: SettingWithCopyWarning: \n",
      "A value is trying to be set on a copy of a slice from a DataFrame.\n",
      "Try using .loc[row_indexer,col_indexer] = value instead\n",
      "\n",
      "See the caveats in the documentation: https://pandas.pydata.org/pandas-docs/stable/user_guide/indexing.html#returning-a-view-versus-a-copy\n",
      "  age['fractie_Mannen'] = age['Mannen']/age['Mannen'].sum()\n"
     ]
    }
   ],
   "source": [
    "ages = [\n",
    "df.iloc[-1],\n",
    "df.iloc[-10:-1],\n",
    "df.iloc[-20:-10],\n",
    "df.iloc[-30:-20],\n",
    "df.iloc[-40:-30],\n",
    "df.iloc[-50:-40],\n",
    "df.iloc[-60:-50],\n",
    "df.iloc[-70:-60],\n",
    "df.iloc[-80:-70],\n",
    "df.iloc[-90:-80],\n",
    "df.iloc[0:-90],\n",
    "]\n",
    "\n",
    "for age in ages:\n",
    "    age['fractie_Vrouwen'] = age['Vrouwen']/age['Vrouwen'].sum()\n",
    "    age['fractie_Mannen'] = age['Mannen']/age['Mannen'].sum()"
   ]
  },
  {
   "cell_type": "code",
   "execution_count": 27,
   "metadata": {},
   "outputs": [],
   "source": [
    "\n",
    "for count, age in enumerate(ages):\n",
    "    age.to_csv(f'../Data/other/Leeftijdsopbouw_group_{count}.csv')"
   ]
  },
  {
   "cell_type": "code",
   "execution_count": 44,
   "metadata": {},
   "outputs": [],
   "source": [
    "\n",
    "\n",
    "df = pd.read_csv('../Data/Other/Leeftijd overledenen, 2020 (x 1 000).csv', sep=';')\n",
    "\n",
    "df.columns = df.columns.str.replace(' ', '')\n",
    "\n",
    "df['Mannen'] = df['Mannen'].str.replace(',', '.')\n",
    "df['Vrouwen'] = df['Vrouwen'].str.replace(',', '.')\n",
    "\n",
    "df['Mannen'] = pd.to_numeric(df['Mannen']) * 1000\n",
    "df['Vrouwen'] = pd.to_numeric(df['Vrouwen']) *1000"
   ]
  },
  {
   "cell_type": "code",
   "execution_count": 45,
   "metadata": {},
   "outputs": [
    {
     "name": "stdout",
     "output_type": "stream",
     "text": [
      "[86000.0, 826000, 1029000, 1117000, 1060000, 1126000, 1259000, 1039000, 731000, 271000, 35000] [82000.0, 786000, 981000, 1083000, 1048000, 1133000, 1249000, 1052000, 791000, 401000, 91000]\n"
     ]
    },
    {
     "data": {
      "text/html": [
       "<div>\n",
       "<style scoped>\n",
       "    .dataframe tbody tr th:only-of-type {\n",
       "        vertical-align: middle;\n",
       "    }\n",
       "\n",
       "    .dataframe tbody tr th {\n",
       "        vertical-align: top;\n",
       "    }\n",
       "\n",
       "    .dataframe thead th {\n",
       "        text-align: right;\n",
       "    }\n",
       "</style>\n",
       "<table border=\"1\" class=\"dataframe\">\n",
       "  <thead>\n",
       "    <tr style=\"text-align: right;\">\n",
       "      <th></th>\n",
       "      <th>Leeftijd</th>\n",
       "      <th>Mannen</th>\n",
       "      <th>Vrouwen</th>\n",
       "    </tr>\n",
       "  </thead>\n",
       "  <tbody>\n",
       "    <tr>\n",
       "      <th>0</th>\n",
       "      <td>0 jaar</td>\n",
       "      <td>360.0</td>\n",
       "      <td>288.0</td>\n",
       "    </tr>\n",
       "    <tr>\n",
       "      <th>1</th>\n",
       "      <td>1 tot 10 jaar</td>\n",
       "      <td>74.0</td>\n",
       "      <td>59.0</td>\n",
       "    </tr>\n",
       "    <tr>\n",
       "      <th>2</th>\n",
       "      <td>10 tot 20 jaar</td>\n",
       "      <td>170.0</td>\n",
       "      <td>112.0</td>\n",
       "    </tr>\n",
       "    <tr>\n",
       "      <th>3</th>\n",
       "      <td>20 tot 30 jaar</td>\n",
       "      <td>443.0</td>\n",
       "      <td>229.0</td>\n",
       "    </tr>\n",
       "    <tr>\n",
       "      <th>4</th>\n",
       "      <td>30 tot 40 jaar</td>\n",
       "      <td>738.0</td>\n",
       "      <td>453.0</td>\n",
       "    </tr>\n",
       "    <tr>\n",
       "      <th>5</th>\n",
       "      <td>40 tot 50 jaar</td>\n",
       "      <td>1698.0</td>\n",
       "      <td>1198.0</td>\n",
       "    </tr>\n",
       "    <tr>\n",
       "      <th>6</th>\n",
       "      <td>50 tot 60 jaar</td>\n",
       "      <td>5053.0</td>\n",
       "      <td>3518.0</td>\n",
       "    </tr>\n",
       "    <tr>\n",
       "      <th>7</th>\n",
       "      <td>60 tot 70 jaar</td>\n",
       "      <td>11803.0</td>\n",
       "      <td>8302.0</td>\n",
       "    </tr>\n",
       "    <tr>\n",
       "      <th>8</th>\n",
       "      <td>70 tot 80 jaar</td>\n",
       "      <td>23890.0</td>\n",
       "      <td>16983.0</td>\n",
       "    </tr>\n",
       "    <tr>\n",
       "      <th>9</th>\n",
       "      <td>80 tot 90 jaar</td>\n",
       "      <td>29314.0</td>\n",
       "      <td>30561.0</td>\n",
       "    </tr>\n",
       "    <tr>\n",
       "      <th>10</th>\n",
       "      <td>90 jaar of ouder</td>\n",
       "      <td>10774.0</td>\n",
       "      <td>22658.0</td>\n",
       "    </tr>\n",
       "  </tbody>\n",
       "</table>\n",
       "</div>"
      ],
      "text/plain": [
       "            Leeftijd   Mannen  Vrouwen\n",
       "0             0 jaar    360.0    288.0\n",
       "1      1 tot 10 jaar     74.0     59.0\n",
       "2     10 tot 20 jaar    170.0    112.0\n",
       "3     20 tot 30 jaar    443.0    229.0\n",
       "4     30 tot 40 jaar    738.0    453.0\n",
       "5     40 tot 50 jaar   1698.0   1198.0\n",
       "6     50 tot 60 jaar   5053.0   3518.0\n",
       "7     60 tot 70 jaar  11803.0   8302.0\n",
       "8     70 tot 80 jaar  23890.0  16983.0\n",
       "9     80 tot 90 jaar  29314.0  30561.0\n",
       "10  90 jaar of ouder  10774.0  22658.0"
      ]
     },
     "execution_count": 45,
     "metadata": {},
     "output_type": "execute_result"
    }
   ],
   "source": [
    "mannen = []\n",
    "vrouwen = []\n",
    "for age in ages:\n",
    "    mannen.append(age['Mannen'].sum())\n",
    "    vrouwen.append(age['Vrouwen'].sum())\n",
    "    \n",
    "print(mannen, vrouwen)\n",
    "\n",
    "\n",
    "df"
   ]
  },
  {
   "cell_type": "code",
   "execution_count": 46,
   "metadata": {},
   "outputs": [],
   "source": [
    "df['percentage_m'] = df['Mannen']/mannen\n",
    "df['percentage_v'] = df['Vrouwen']/vrouwen"
   ]
  },
  {
   "cell_type": "code",
   "execution_count": 48,
   "metadata": {},
   "outputs": [
    {
     "data": {
      "text/html": [
       "<div>\n",
       "<style scoped>\n",
       "    .dataframe tbody tr th:only-of-type {\n",
       "        vertical-align: middle;\n",
       "    }\n",
       "\n",
       "    .dataframe tbody tr th {\n",
       "        vertical-align: top;\n",
       "    }\n",
       "\n",
       "    .dataframe thead th {\n",
       "        text-align: right;\n",
       "    }\n",
       "</style>\n",
       "<table border=\"1\" class=\"dataframe\">\n",
       "  <thead>\n",
       "    <tr style=\"text-align: right;\">\n",
       "      <th></th>\n",
       "      <th>Leeftijd</th>\n",
       "      <th>Mannen</th>\n",
       "      <th>Vrouwen</th>\n",
       "      <th>percentage_m</th>\n",
       "      <th>percentage_v</th>\n",
       "    </tr>\n",
       "  </thead>\n",
       "  <tbody>\n",
       "    <tr>\n",
       "      <th>0</th>\n",
       "      <td>0 jaar</td>\n",
       "      <td>360.0</td>\n",
       "      <td>288.0</td>\n",
       "      <td>0.004186</td>\n",
       "      <td>0.003512</td>\n",
       "    </tr>\n",
       "    <tr>\n",
       "      <th>1</th>\n",
       "      <td>1 tot 10 jaar</td>\n",
       "      <td>74.0</td>\n",
       "      <td>59.0</td>\n",
       "      <td>0.000090</td>\n",
       "      <td>0.000075</td>\n",
       "    </tr>\n",
       "    <tr>\n",
       "      <th>2</th>\n",
       "      <td>10 tot 20 jaar</td>\n",
       "      <td>170.0</td>\n",
       "      <td>112.0</td>\n",
       "      <td>0.000165</td>\n",
       "      <td>0.000114</td>\n",
       "    </tr>\n",
       "    <tr>\n",
       "      <th>3</th>\n",
       "      <td>20 tot 30 jaar</td>\n",
       "      <td>443.0</td>\n",
       "      <td>229.0</td>\n",
       "      <td>0.000397</td>\n",
       "      <td>0.000211</td>\n",
       "    </tr>\n",
       "    <tr>\n",
       "      <th>4</th>\n",
       "      <td>30 tot 40 jaar</td>\n",
       "      <td>738.0</td>\n",
       "      <td>453.0</td>\n",
       "      <td>0.000696</td>\n",
       "      <td>0.000432</td>\n",
       "    </tr>\n",
       "    <tr>\n",
       "      <th>5</th>\n",
       "      <td>40 tot 50 jaar</td>\n",
       "      <td>1698.0</td>\n",
       "      <td>1198.0</td>\n",
       "      <td>0.001508</td>\n",
       "      <td>0.001057</td>\n",
       "    </tr>\n",
       "    <tr>\n",
       "      <th>6</th>\n",
       "      <td>50 tot 60 jaar</td>\n",
       "      <td>5053.0</td>\n",
       "      <td>3518.0</td>\n",
       "      <td>0.004014</td>\n",
       "      <td>0.002817</td>\n",
       "    </tr>\n",
       "    <tr>\n",
       "      <th>7</th>\n",
       "      <td>60 tot 70 jaar</td>\n",
       "      <td>11803.0</td>\n",
       "      <td>8302.0</td>\n",
       "      <td>0.011360</td>\n",
       "      <td>0.007892</td>\n",
       "    </tr>\n",
       "    <tr>\n",
       "      <th>8</th>\n",
       "      <td>70 tot 80 jaar</td>\n",
       "      <td>23890.0</td>\n",
       "      <td>16983.0</td>\n",
       "      <td>0.032681</td>\n",
       "      <td>0.021470</td>\n",
       "    </tr>\n",
       "    <tr>\n",
       "      <th>9</th>\n",
       "      <td>80 tot 90 jaar</td>\n",
       "      <td>29314.0</td>\n",
       "      <td>30561.0</td>\n",
       "      <td>0.108170</td>\n",
       "      <td>0.076212</td>\n",
       "    </tr>\n",
       "    <tr>\n",
       "      <th>10</th>\n",
       "      <td>90 jaar of ouder</td>\n",
       "      <td>10774.0</td>\n",
       "      <td>22658.0</td>\n",
       "      <td>0.307829</td>\n",
       "      <td>0.248989</td>\n",
       "    </tr>\n",
       "  </tbody>\n",
       "</table>\n",
       "</div>"
      ],
      "text/plain": [
       "            Leeftijd   Mannen  Vrouwen  percentage_m  percentage_v\n",
       "0             0 jaar    360.0    288.0      0.004186      0.003512\n",
       "1      1 tot 10 jaar     74.0     59.0      0.000090      0.000075\n",
       "2     10 tot 20 jaar    170.0    112.0      0.000165      0.000114\n",
       "3     20 tot 30 jaar    443.0    229.0      0.000397      0.000211\n",
       "4     30 tot 40 jaar    738.0    453.0      0.000696      0.000432\n",
       "5     40 tot 50 jaar   1698.0   1198.0      0.001508      0.001057\n",
       "6     50 tot 60 jaar   5053.0   3518.0      0.004014      0.002817\n",
       "7     60 tot 70 jaar  11803.0   8302.0      0.011360      0.007892\n",
       "8     70 tot 80 jaar  23890.0  16983.0      0.032681      0.021470\n",
       "9     80 tot 90 jaar  29314.0  30561.0      0.108170      0.076212\n",
       "10  90 jaar of ouder  10774.0  22658.0      0.307829      0.248989"
      ]
     },
     "execution_count": 48,
     "metadata": {},
     "output_type": "execute_result"
    }
   ],
   "source": [
    "df.iloc[-1]['Mannen'] + df.iloc[-2]['Mannen']\n",
    "df.iloc[-1]['Vrouwen'] + df.iloc[-2]['Vrouwen']\n",
    "df"
   ]
  },
  {
   "cell_type": "code",
   "execution_count": 50,
   "metadata": {},
   "outputs": [],
   "source": [
    "df.to_csv('../Data/other/Leeftijd overledenen.csv')"
   ]
  },
  {
   "cell_type": "code",
   "execution_count": 64,
   "metadata": {
    "scrolled": true
   },
   "outputs": [],
   "source": [
    "df = pd.read_csv('../Data/Other/Aandeel geboorten 1e kind naar leeftijd moeder (%).csv', sep=';')"
   ]
  },
  {
   "cell_type": "code",
   "execution_count": 65,
   "metadata": {},
   "outputs": [],
   "source": [
    "df[df['Jaar'] == 2020]\n",
    "\n",
    "\n",
    "df['jonger dan 25 jaar'] = df['jonger dan 25 jaar'].str.replace(' ', '.')\n",
    "df['25 tot 30 jaar'] = df['25 tot 30 jaar'].str.replace(' ', '.')\n",
    "df['30 tot 35 jaar'] = df['30 tot 35 jaar'].str.replace(' ', '.')\n",
    "df['35 jaar of ouder'] = df['35 jaar of ouder'].str.replace(' ', '.')\n",
    "\n",
    "df['jonger dan 25 jaar'] = pd.to_numeric(df['jonger dan 25 jaar'])\n",
    "df['25 tot 30 jaar'] = pd.to_numeric(df['25 tot 30 jaar'])\n",
    "df['30 tot 35 jaar'] = pd.to_numeric(df['30 tot 35 jaar'])\n",
    "df['35 jaar of ouder'] = pd.to_numeric(df['35 jaar of ouder'])\n",
    "\n",
    "\n"
   ]
  },
  {
   "cell_type": "code",
   "execution_count": 66,
   "metadata": {
    "scrolled": true
   },
   "outputs": [
    {
     "data": {
      "text/html": [
       "<div>\n",
       "<style scoped>\n",
       "    .dataframe tbody tr th:only-of-type {\n",
       "        vertical-align: middle;\n",
       "    }\n",
       "\n",
       "    .dataframe tbody tr th {\n",
       "        vertical-align: top;\n",
       "    }\n",
       "\n",
       "    .dataframe thead th {\n",
       "        text-align: right;\n",
       "    }\n",
       "</style>\n",
       "<table border=\"1\" class=\"dataframe\">\n",
       "  <thead>\n",
       "    <tr style=\"text-align: right;\">\n",
       "      <th></th>\n",
       "      <th>0</th>\n",
       "    </tr>\n",
       "  </thead>\n",
       "  <tbody>\n",
       "    <tr>\n",
       "      <th>Jaar</th>\n",
       "      <td>80.80000</td>\n",
       "    </tr>\n",
       "    <tr>\n",
       "      <th>jonger dan 25 jaar</th>\n",
       "      <td>0.32936</td>\n",
       "    </tr>\n",
       "    <tr>\n",
       "      <th>25 tot 30 jaar</th>\n",
       "      <td>1.03808</td>\n",
       "    </tr>\n",
       "    <tr>\n",
       "      <th>30 tot 35 jaar</th>\n",
       "      <td>1.20404</td>\n",
       "    </tr>\n",
       "    <tr>\n",
       "      <th>35 jaar of ouder</th>\n",
       "      <td>0.49744</td>\n",
       "    </tr>\n",
       "  </tbody>\n",
       "</table>\n",
       "</div>"
      ],
      "text/plain": [
       "                           0\n",
       "Jaar                80.80000\n",
       "jonger dan 25 jaar   0.32936\n",
       "25 tot 30 jaar       1.03808\n",
       "30 tot 35 jaar       1.20404\n",
       "35 jaar of ouder     0.49744"
      ]
     },
     "execution_count": 66,
     "metadata": {},
     "output_type": "execute_result"
    }
   ],
   "source": [
    "df = df[df['Jaar'] == 2020] /100 * 4\n",
    "\n",
    "df.T"
   ]
  },
  {
   "cell_type": "code",
   "execution_count": 67,
   "metadata": {},
   "outputs": [],
   "source": [
    "df = pd.read_csv('../Data\\Other\\Aandeel kinderen naar leeftijd vader.csv', sep=';')"
   ]
  },
  {
   "cell_type": "code",
   "execution_count": 80,
   "metadata": {},
   "outputs": [
    {
     "data": {
      "text/html": [
       "<div>\n",
       "<style scoped>\n",
       "    .dataframe tbody tr th:only-of-type {\n",
       "        vertical-align: middle;\n",
       "    }\n",
       "\n",
       "    .dataframe tbody tr th {\n",
       "        vertical-align: top;\n",
       "    }\n",
       "\n",
       "    .dataframe thead th {\n",
       "        text-align: right;\n",
       "    }\n",
       "</style>\n",
       "<table border=\"1\" class=\"dataframe\">\n",
       "  <thead>\n",
       "    <tr style=\"text-align: right;\">\n",
       "      <th></th>\n",
       "      <th>Jaar</th>\n",
       "      <th>jonger dan 25 jaar</th>\n",
       "      <th>25 tot 30 jaar</th>\n",
       "      <th>30 tot 35 jaar</th>\n",
       "      <th>35 tot 40 jaar</th>\n",
       "      <th>40 tot 45 jaar</th>\n",
       "      <th>45 tot 50 jaar</th>\n",
       "      <th>50 jaar of ouder</th>\n",
       "    </tr>\n",
       "  </thead>\n",
       "  <tbody>\n",
       "    <tr>\n",
       "      <th>0</th>\n",
       "      <td>2020</td>\n",
       "      <td>4 361</td>\n",
       "      <td>26 151</td>\n",
       "      <td>62 831</td>\n",
       "      <td>47 999</td>\n",
       "      <td>18 769</td>\n",
       "      <td>5 756</td>\n",
       "      <td>2 814</td>\n",
       "    </tr>\n",
       "    <tr>\n",
       "      <th>1</th>\n",
       "      <td>2010</td>\n",
       "      <td>7 486</td>\n",
       "      <td>32 171</td>\n",
       "      <td>63 025</td>\n",
       "      <td>51 504</td>\n",
       "      <td>22 063</td>\n",
       "      <td>6 057</td>\n",
       "      <td>2 091</td>\n",
       "    </tr>\n",
       "    <tr>\n",
       "      <th>2</th>\n",
       "      <td>1996</td>\n",
       "      <td>6 640</td>\n",
       "      <td>39 007</td>\n",
       "      <td>78 028</td>\n",
       "      <td>47 302</td>\n",
       "      <td>13 623</td>\n",
       "      <td>3 487</td>\n",
       "      <td>1 434</td>\n",
       "    </tr>\n",
       "  </tbody>\n",
       "</table>\n",
       "</div>"
      ],
      "text/plain": [
       "   Jaar jonger dan 25 jaar 25 tot 30 jaar 30 tot 35 jaar 35 tot 40 jaar  \\\n",
       "0  2020              4 361         26 151         62 831         47 999   \n",
       "1  2010              7 486         32 171         63 025         51 504   \n",
       "2  1996              6 640         39 007         78 028         47 302   \n",
       "\n",
       "  40 tot 45 jaar 45 tot 50 jaar 50 jaar of ouder  \n",
       "0         18 769          5 756            2 814  \n",
       "1         22 063          6 057            2 091  \n",
       "2         13 623          3 487            1 434  "
      ]
     },
     "execution_count": 80,
     "metadata": {},
     "output_type": "execute_result"
    }
   ],
   "source": [
    "df['jonger dan 25 jaar'] = df['jonger dan 25 jaar'].str.replace(' ', '.')\n",
    "df['25 tot 30 jaar'] = df['25 tot 30 jaar'].str.replace(' ', '.')\n",
    "df['30 tot 35 jaar'] = df['30 tot 35 jaar'].str.replace(' ', '.')\n",
    "df['35 tot 40 jaar'] = df['35 tot 40 jaar'].str.replace(' ', '.')\n",
    "df['40 tot 45 jaar'] = df['40 tot 45 jaar'].str.replace(' ', '.')\n",
    "df['45 tot 50 jaar'] = df['45 tot 40 jaar'].str.replace(' ', '.')\n",
    "df['50 jaar of ouder'] = df['50 jaar of ouder'].str.replace(' ', '.')\n",
    "\n",
    "\n",
    "df['jonger dan 25 jaar'] = pd.to_numeric(df['jonger dan 25 jaar'])\n",
    "df['25 tot 30 jaar'] = pd.to_numeric(df['25 tot 30 jaar'])\n",
    "df['30 tot 35 jaar'] = pd.to_numeric(df['30 tot 35 jaar'])\n",
    "df['35 jaar of ouder'] = pd.to_numeric(df['35 jaar of ouder'])\n",
    "\n"
   ]
  },
  {
   "cell_type": "code",
   "execution_count": 75,
   "metadata": {},
   "outputs": [],
   "source": [
    "df_t = df[df['Jaar'] == 2020].T"
   ]
  },
  {
   "cell_type": "code",
   "execution_count": 79,
   "metadata": {},
   "outputs": [
    {
     "ename": "TypeError",
     "evalue": "unsupported operand type(s) for +: 'int' and 'str'",
     "output_type": "error",
     "traceback": [
      "\u001b[1;31m---------------------------------------------------------------------------\u001b[0m",
      "\u001b[1;31mTypeError\u001b[0m                                 Traceback (most recent call last)",
      "\u001b[1;32m<ipython-input-79-2c888ea1aab1>\u001b[0m in \u001b[0;36m<module>\u001b[1;34m\u001b[0m\n\u001b[1;32m----> 1\u001b[1;33m \u001b[0mdf_t\u001b[0m\u001b[1;33m[\u001b[0m\u001b[1;36m0\u001b[0m\u001b[1;33m]\u001b[0m \u001b[1;33m=\u001b[0m \u001b[0mdf_t\u001b[0m\u001b[1;33m[\u001b[0m\u001b[1;36m0\u001b[0m\u001b[1;33m]\u001b[0m\u001b[1;33m/\u001b[0m\u001b[0mdf_t\u001b[0m\u001b[1;33m[\u001b[0m\u001b[1;36m0\u001b[0m\u001b[1;33m]\u001b[0m\u001b[1;33m.\u001b[0m\u001b[0msum\u001b[0m\u001b[1;33m(\u001b[0m\u001b[1;33m)\u001b[0m\u001b[1;33m\u001b[0m\u001b[1;33m\u001b[0m\u001b[0m\n\u001b[0m",
      "\u001b[1;32m~\\anaconda3\\lib\\site-packages\\pandas\\core\\generic.py\u001b[0m in \u001b[0;36mstat_func\u001b[1;34m(self, axis, skipna, level, numeric_only, min_count, **kwargs)\u001b[0m\n\u001b[0;32m  11420\u001b[0m                 \u001b[0mname\u001b[0m\u001b[1;33m,\u001b[0m \u001b[0maxis\u001b[0m\u001b[1;33m=\u001b[0m\u001b[0maxis\u001b[0m\u001b[1;33m,\u001b[0m \u001b[0mlevel\u001b[0m\u001b[1;33m=\u001b[0m\u001b[0mlevel\u001b[0m\u001b[1;33m,\u001b[0m \u001b[0mskipna\u001b[0m\u001b[1;33m=\u001b[0m\u001b[0mskipna\u001b[0m\u001b[1;33m,\u001b[0m \u001b[0mmin_count\u001b[0m\u001b[1;33m=\u001b[0m\u001b[0mmin_count\u001b[0m\u001b[1;33m\u001b[0m\u001b[1;33m\u001b[0m\u001b[0m\n\u001b[0;32m  11421\u001b[0m             )\n\u001b[1;32m> 11422\u001b[1;33m         return self._reduce(\n\u001b[0m\u001b[0;32m  11423\u001b[0m             \u001b[0mfunc\u001b[0m\u001b[1;33m,\u001b[0m\u001b[1;33m\u001b[0m\u001b[1;33m\u001b[0m\u001b[0m\n\u001b[0;32m  11424\u001b[0m             \u001b[0mname\u001b[0m\u001b[1;33m=\u001b[0m\u001b[0mname\u001b[0m\u001b[1;33m,\u001b[0m\u001b[1;33m\u001b[0m\u001b[1;33m\u001b[0m\u001b[0m\n",
      "\u001b[1;32m~\\anaconda3\\lib\\site-packages\\pandas\\core\\series.py\u001b[0m in \u001b[0;36m_reduce\u001b[1;34m(self, op, name, axis, skipna, numeric_only, filter_type, **kwds)\u001b[0m\n\u001b[0;32m   4234\u001b[0m                 )\n\u001b[0;32m   4235\u001b[0m             \u001b[1;32mwith\u001b[0m \u001b[0mnp\u001b[0m\u001b[1;33m.\u001b[0m\u001b[0merrstate\u001b[0m\u001b[1;33m(\u001b[0m\u001b[0mall\u001b[0m\u001b[1;33m=\u001b[0m\u001b[1;34m\"ignore\"\u001b[0m\u001b[1;33m)\u001b[0m\u001b[1;33m:\u001b[0m\u001b[1;33m\u001b[0m\u001b[1;33m\u001b[0m\u001b[0m\n\u001b[1;32m-> 4236\u001b[1;33m                 \u001b[1;32mreturn\u001b[0m \u001b[0mop\u001b[0m\u001b[1;33m(\u001b[0m\u001b[0mdelegate\u001b[0m\u001b[1;33m,\u001b[0m \u001b[0mskipna\u001b[0m\u001b[1;33m=\u001b[0m\u001b[0mskipna\u001b[0m\u001b[1;33m,\u001b[0m \u001b[1;33m**\u001b[0m\u001b[0mkwds\u001b[0m\u001b[1;33m)\u001b[0m\u001b[1;33m\u001b[0m\u001b[1;33m\u001b[0m\u001b[0m\n\u001b[0m\u001b[0;32m   4237\u001b[0m \u001b[1;33m\u001b[0m\u001b[0m\n\u001b[0;32m   4238\u001b[0m     \u001b[1;32mdef\u001b[0m \u001b[0m_reindex_indexer\u001b[0m\u001b[1;33m(\u001b[0m\u001b[0mself\u001b[0m\u001b[1;33m,\u001b[0m \u001b[0mnew_index\u001b[0m\u001b[1;33m,\u001b[0m \u001b[0mindexer\u001b[0m\u001b[1;33m,\u001b[0m \u001b[0mcopy\u001b[0m\u001b[1;33m)\u001b[0m\u001b[1;33m:\u001b[0m\u001b[1;33m\u001b[0m\u001b[1;33m\u001b[0m\u001b[0m\n",
      "\u001b[1;32m~\\anaconda3\\lib\\site-packages\\pandas\\core\\nanops.py\u001b[0m in \u001b[0;36m_f\u001b[1;34m(*args, **kwargs)\u001b[0m\n\u001b[0;32m     69\u001b[0m             \u001b[1;32mtry\u001b[0m\u001b[1;33m:\u001b[0m\u001b[1;33m\u001b[0m\u001b[1;33m\u001b[0m\u001b[0m\n\u001b[0;32m     70\u001b[0m                 \u001b[1;32mwith\u001b[0m \u001b[0mnp\u001b[0m\u001b[1;33m.\u001b[0m\u001b[0merrstate\u001b[0m\u001b[1;33m(\u001b[0m\u001b[0minvalid\u001b[0m\u001b[1;33m=\u001b[0m\u001b[1;34m\"ignore\"\u001b[0m\u001b[1;33m)\u001b[0m\u001b[1;33m:\u001b[0m\u001b[1;33m\u001b[0m\u001b[1;33m\u001b[0m\u001b[0m\n\u001b[1;32m---> 71\u001b[1;33m                     \u001b[1;32mreturn\u001b[0m \u001b[0mf\u001b[0m\u001b[1;33m(\u001b[0m\u001b[1;33m*\u001b[0m\u001b[0margs\u001b[0m\u001b[1;33m,\u001b[0m \u001b[1;33m**\u001b[0m\u001b[0mkwargs\u001b[0m\u001b[1;33m)\u001b[0m\u001b[1;33m\u001b[0m\u001b[1;33m\u001b[0m\u001b[0m\n\u001b[0m\u001b[0;32m     72\u001b[0m             \u001b[1;32mexcept\u001b[0m \u001b[0mValueError\u001b[0m \u001b[1;32mas\u001b[0m \u001b[0me\u001b[0m\u001b[1;33m:\u001b[0m\u001b[1;33m\u001b[0m\u001b[1;33m\u001b[0m\u001b[0m\n\u001b[0;32m     73\u001b[0m                 \u001b[1;31m# we want to transform an object array\u001b[0m\u001b[1;33m\u001b[0m\u001b[1;33m\u001b[0m\u001b[1;33m\u001b[0m\u001b[0m\n",
      "\u001b[1;32m~\\anaconda3\\lib\\site-packages\\pandas\\core\\nanops.py\u001b[0m in \u001b[0;36mnansum\u001b[1;34m(values, axis, skipna, min_count, mask)\u001b[0m\n\u001b[0;32m    507\u001b[0m     \u001b[1;32melif\u001b[0m \u001b[0mis_timedelta64_dtype\u001b[0m\u001b[1;33m(\u001b[0m\u001b[0mdtype\u001b[0m\u001b[1;33m)\u001b[0m\u001b[1;33m:\u001b[0m\u001b[1;33m\u001b[0m\u001b[1;33m\u001b[0m\u001b[0m\n\u001b[0;32m    508\u001b[0m         \u001b[0mdtype_sum\u001b[0m \u001b[1;33m=\u001b[0m \u001b[0mnp\u001b[0m\u001b[1;33m.\u001b[0m\u001b[0mfloat64\u001b[0m\u001b[1;33m\u001b[0m\u001b[1;33m\u001b[0m\u001b[0m\n\u001b[1;32m--> 509\u001b[1;33m     \u001b[0mthe_sum\u001b[0m \u001b[1;33m=\u001b[0m \u001b[0mvalues\u001b[0m\u001b[1;33m.\u001b[0m\u001b[0msum\u001b[0m\u001b[1;33m(\u001b[0m\u001b[0maxis\u001b[0m\u001b[1;33m,\u001b[0m \u001b[0mdtype\u001b[0m\u001b[1;33m=\u001b[0m\u001b[0mdtype_sum\u001b[0m\u001b[1;33m)\u001b[0m\u001b[1;33m\u001b[0m\u001b[1;33m\u001b[0m\u001b[0m\n\u001b[0m\u001b[0;32m    510\u001b[0m     \u001b[0mthe_sum\u001b[0m \u001b[1;33m=\u001b[0m \u001b[0m_maybe_null_out\u001b[0m\u001b[1;33m(\u001b[0m\u001b[0mthe_sum\u001b[0m\u001b[1;33m,\u001b[0m \u001b[0maxis\u001b[0m\u001b[1;33m,\u001b[0m \u001b[0mmask\u001b[0m\u001b[1;33m,\u001b[0m \u001b[0mvalues\u001b[0m\u001b[1;33m.\u001b[0m\u001b[0mshape\u001b[0m\u001b[1;33m,\u001b[0m \u001b[0mmin_count\u001b[0m\u001b[1;33m=\u001b[0m\u001b[0mmin_count\u001b[0m\u001b[1;33m)\u001b[0m\u001b[1;33m\u001b[0m\u001b[1;33m\u001b[0m\u001b[0m\n\u001b[0;32m    511\u001b[0m \u001b[1;33m\u001b[0m\u001b[0m\n",
      "\u001b[1;32m~\\anaconda3\\lib\\site-packages\\numpy\\core\\_methods.py\u001b[0m in \u001b[0;36m_sum\u001b[1;34m(a, axis, dtype, out, keepdims, initial, where)\u001b[0m\n\u001b[0;32m     45\u001b[0m def _sum(a, axis=None, dtype=None, out=None, keepdims=False,\n\u001b[0;32m     46\u001b[0m          initial=_NoValue, where=True):\n\u001b[1;32m---> 47\u001b[1;33m     \u001b[1;32mreturn\u001b[0m \u001b[0mumr_sum\u001b[0m\u001b[1;33m(\u001b[0m\u001b[0ma\u001b[0m\u001b[1;33m,\u001b[0m \u001b[0maxis\u001b[0m\u001b[1;33m,\u001b[0m \u001b[0mdtype\u001b[0m\u001b[1;33m,\u001b[0m \u001b[0mout\u001b[0m\u001b[1;33m,\u001b[0m \u001b[0mkeepdims\u001b[0m\u001b[1;33m,\u001b[0m \u001b[0minitial\u001b[0m\u001b[1;33m,\u001b[0m \u001b[0mwhere\u001b[0m\u001b[1;33m)\u001b[0m\u001b[1;33m\u001b[0m\u001b[1;33m\u001b[0m\u001b[0m\n\u001b[0m\u001b[0;32m     48\u001b[0m \u001b[1;33m\u001b[0m\u001b[0m\n\u001b[0;32m     49\u001b[0m def _prod(a, axis=None, dtype=None, out=None, keepdims=False,\n",
      "\u001b[1;31mTypeError\u001b[0m: unsupported operand type(s) for +: 'int' and 'str'"
     ]
    }
   ],
   "source": [
    "df_t[0] = df_t[0]/df_t[0].sum()"
   ]
  }
 ],
 "metadata": {
  "kernelspec": {
   "display_name": "Python 3",
   "language": "python",
   "name": "python3"
  },
  "language_info": {
   "codemirror_mode": {
    "name": "ipython",
    "version": 3
   },
   "file_extension": ".py",
   "mimetype": "text/x-python",
   "name": "python",
   "nbconvert_exporter": "python",
   "pygments_lexer": "ipython3",
   "version": "3.8.5"
  }
 },
 "nbformat": 4,
 "nbformat_minor": 4
}
