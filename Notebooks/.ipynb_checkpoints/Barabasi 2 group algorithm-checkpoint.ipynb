{
 "cells": [
  {
   "cell_type": "code",
   "execution_count": 3,
   "metadata": {},
   "outputs": [],
   "source": [
    "import numba as nb\n",
    "import random\n",
    "import math\n",
    "import seaborn as sn\n",
    "import matplotlib.pyplot as plt"
   ]
  },
  {
   "cell_type": "code",
   "execution_count": 17,
   "metadata": {},
   "outputs": [],
   "source": [
    "def k_distrib(graph, scale='lin', colour='#40a6d1', alpha=.8, fit_line=False, expct_lo=1, expct_hi=10, expct_const=1):\n",
    "    \n",
    "    plt.close()\n",
    "    num_nodes = graph.number_of_nodes()\n",
    "    max_degree = 0\n",
    "    \n",
    "    # Calculate the maximum degree to know the range of x-axis\n",
    "    for n in graph.nodes():\n",
    "        if graph.degree(n) > max_degree:\n",
    "            max_degree = graph.degree(n)\n",
    "    \n",
    "    # X-axis and y-axis values\n",
    "    x = []\n",
    "    y_tmp = []\n",
    "    \n",
    "    # Loop over all degrees until the maximum to compute the portion of nodes for that degree\n",
    "    for i in range(max_degree + 1):\n",
    "        x.append(i)\n",
    "        y_tmp.append(0)\n",
    "        for n in graph.nodes():\n",
    "            if graph.degree(n) == i:\n",
    "                y_tmp[i] += 1\n",
    "        y = [i / num_nodes for i in y_tmp] \n",
    "    \n",
    "    # Check for the lin / log parameter and set axes scale\n",
    "    if scale == 'log':\n",
    "        plt.xscale('log')\n",
    "        plt.yscale('log')\n",
    "        plt.title('Degree distribution (log-log scale)')\n",
    "        plt.ylabel('log(P(k))')\n",
    "        plt.xlabel('log(k)')\n",
    "        plt.plot(x, y, linewidth = 0, marker = 'o', markersize = 8, color = colour, alpha = alpha)\n",
    "        \n",
    "        if fit_line:\n",
    "            # Add theoretical distribution line k^-3\n",
    "            # Note that you need to parametrize it manually\n",
    "            w = [a for a in range(expct_lo,expct_hi)]\n",
    "            z = []\n",
    "            for i in w:\n",
    "                x = (i**-3) * expct_const # set line's length and fit intercept\n",
    "                z.append(x)\n",
    "\n",
    "            plt.plot(w, z, 'k-', color='#7f7f7f')\n",
    "            \n",
    "    else:\n",
    "        plt.plot(x, y, linewidth = 0, marker = 'o', markersize = 8, color = colour, alpha = alpha)\n",
    "        plt.title('Degree distribution (linear scale)')\n",
    "        plt.ylabel('P(k)')\n",
    "        plt.xlabel('k')\n",
    "\n",
    "    plt.show()"
   ]
  },
  {
   "cell_type": "code",
   "execution_count": 12,
   "metadata": {},
   "outputs": [],
   "source": [
    "import random\n",
    "import networkx as nx\n",
    "\n",
    "def Barabasi(group1, group2, edges, percentage):\n",
    "    '''\n",
    "    Making a scale-free network properties when you have two groups\n",
    "\n",
    "    group1: Takes as input a list of nodes\n",
    "    group2: Takes as input a list of nodes\n",
    "\n",
    "    edges: int amount of edges your network has\n",
    "\n",
    "    percentage: float between 0 and 100 \n",
    "    '''\n",
    "  \n",
    "\n",
    "    # Algorithms that produce scale-free network properties when you have two groups\n",
    "\n",
    "\n",
    "    bin_ = random.sample(group1, k = math.ceil(len(group1)*(percentage/100)))\n",
    "\n",
    "    group1 = random.shuffle(group1)\n",
    "    group2 = random.shuffle(group2)\n",
    "    \n",
    "    edge_list = []\n",
    "\n",
    "    for i in range(edges):\n",
    "        \n",
    "        group2_node = random.choice(group2)\n",
    "  \n",
    "\n",
    "        chosen_node = random.choice(bin_)\n",
    "        bin_.append(chosen_node)\n",
    "\n",
    "        bin_.append(random.choice(group1))\n",
    "        \n",
    "\n",
    "        edge = tuple([group2_node, chosen_node])\n",
    "        edge_list.append(edge)\n",
    "\n",
    "\n",
    "    return edge_list\n",
    "\n",
    "\n"
   ]
  },
  {
   "cell_type": "code",
   "execution_count": 18,
   "metadata": {},
   "outputs": [],
   "source": [
    "group1 = random.sample(range(1, 100000), 10000)\n",
    "group2 = random.sample(range(100000, 200000), 10000)\n",
    "\n",
    "edges = 40000\n",
    "percentage  = 1\n",
    "\n",
    "edgelist = Barabasi(group1, group2, edges, percentage)\n",
    "\n",
    "# print(edgelist)\n",
    "H = nx.Graph(edgelist)"
   ]
  },
  {
   "cell_type": "code",
   "execution_count": null,
   "metadata": {},
   "outputs": [],
   "source": []
  },
  {
   "cell_type": "code",
   "execution_count": 19,
   "metadata": {},
   "outputs": [],
   "source": [
    "l_degrees = [ i[1] for i in H.degree()]"
   ]
  },
  {
   "cell_type": "code",
   "execution_count": 20,
   "metadata": {
    "scrolled": true
   },
   "outputs": [
    {
     "data": {
      "image/png": "[encoded data removed]",
      "text/plain": [
       "<Figure size 432x288 with 1 Axes>"
      ]
     },
     "metadata": {
      "needs_background": "light"
     },
     "output_type": "display_data"
    }
   ],
   "source": [
    "sn.histplot(data=l_degrees, bins = 30)\n",
    "plt.show()\n",
    "\n",
    "\n"
   ]
  },
  {
   "cell_type": "code",
   "execution_count": 21,
   "metadata": {},
   "outputs": [
    {
     "data": {
      "image/png": "[encoded data removed]",
      "text/plain": [
       "<Figure size 432x288 with 1 Axes>"
      ]
     },
     "metadata": {
      "needs_background": "light"
     },
     "output_type": "display_data"
    }
   ],
   "source": [
    "k_distrib(graph=H, colour='#40a6d1', scale='log', alpha=.8, fit_line=True, expct_lo=5, expct_hi=50, expct_const=12)"
   ]
  }
 ],
 "metadata": {
  "kernelspec": {
   "display_name": "Python 3",
   "language": "python",
   "name": "python3"
  },
  "language_info": {
   "codemirror_mode": {
    "name": "ipython",
    "version": 3
   },
   "file_extension": ".py",
   "mimetype": "text/x-python",
   "name": "python",
   "nbconvert_exporter": "python",
   "pygments_lexer": "ipython3",
   "version": "3.8.5"
  }
 },
 "nbformat": 4,
 "nbformat_minor": 4
}
