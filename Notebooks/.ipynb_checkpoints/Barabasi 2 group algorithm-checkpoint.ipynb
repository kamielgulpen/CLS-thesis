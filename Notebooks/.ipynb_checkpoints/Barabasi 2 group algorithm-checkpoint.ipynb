{
 "cells": [
  {
   "cell_type": "code",
   "execution_count": 84,
   "metadata": {},
   "outputs": [],
   "source": [
    "import numba as nb\n",
    "import random\n",
    "import math\n",
    "import numpy as np\n",
    "import seaborn as sn\n",
    "import matplotlib.pyplot as plt\n",
    "import powerlaw\n",
    "from collections import Counter\n"
   ]
  },
  {
   "cell_type": "code",
   "execution_count": 4,
   "metadata": {},
   "outputs": [],
   "source": [
    "def k_distrib(graph, scale='lin', colour='#40a6d1', alpha=.8, fit_line=False, expct_lo=1, expct_hi=10, expct_const=1, gamma = 3):\n",
    "    \n",
    "    plt.close()\n",
    "    num_nodes = graph.number_of_nodes()\n",
    "    max_degree = 0\n",
    "    \n",
    "    # Calculate the maximum degree to know the range of x-axis\n",
    "    for n in graph.nodes():\n",
    "        if graph.degree(n) > max_degree:\n",
    "            max_degree = graph.degree(n)\n",
    "    \n",
    "    # X-axis and y-axis values\n",
    "    x = []\n",
    "    y_tmp = []\n",
    "    \n",
    "    # Loop over all degrees until the maximum to compute the portion of nodes for that degree\n",
    "    for i in range(max_degree + 1):\n",
    "        x.append(i)\n",
    "        y_tmp.append(0)\n",
    "        for n in graph.nodes():\n",
    "            if graph.degree(n) == i:\n",
    "                y_tmp[i] += 1\n",
    "        y = [i / num_nodes for i in y_tmp] \n",
    "    \n",
    "    # Check for the lin / log parameter and set axes scale\n",
    "    if scale == 'log':\n",
    "        plt.xscale('log')\n",
    "        plt.yscale('log')\n",
    "        plt.title('Degree distribution (log-log scale)')\n",
    "        plt.ylabel('log(P(k))')\n",
    "        plt.xlabel('log(k)')\n",
    "        plt.plot(x, y, linewidth = 0, marker = 'o', markersize = 8, color = colour, alpha = alpha)\n",
    "        \n",
    "        if fit_line:\n",
    "            # Add theoretical distribution line k^-3\n",
    "            # Note that you need to parametrize it manually\n",
    "            w = [a for a in range(expct_lo,expct_hi)]\n",
    "            z = []\n",
    "            for i in w:\n",
    "                x = (i**-gamma) * expct_const # set line's length and fit intercept\n",
    "                z.append(x)\n",
    "\n",
    "            plt.plot(w, z, 'k-', color='#7f7f7f')\n",
    "            \n",
    "    else:\n",
    "        plt.plot(x, y, linewidth = 0, marker = 'o', markersize = 8, color = colour, alpha = alpha)\n",
    "        plt.title('Degree distribution (linear scale)')\n",
    "        plt.ylabel('P(k)')\n",
    "        plt.xlabel('k')\n",
    "\n",
    "    plt.show()"
   ]
  },
  {
   "cell_type": "code",
   "execution_count": 284,
   "metadata": {},
   "outputs": [],
   "source": [
    "import random\n",
    "import networkx as nx\n",
    "\n",
    "def Barabasi(group1, group2, edges, percentage):\n",
    "    '''\n",
    "    Making a scale-free network properties when you have two groups\n",
    "\n",
    "    group1: Takes as input a list of nodes\n",
    "    group2: Takes as input a list of nodes\n",
    "\n",
    "    edges: int amount of edges your network has\n",
    "\n",
    "    percentage: float between 0 and 100 \n",
    "    '''\n",
    "  \n",
    "\n",
    "    # Algorithms that produce scale-free network properties when you have two groups\n",
    "\n",
    "\n",
    "    bin_ = random.sample(group1, k = math.ceil(len(group1)*(percentage/100)))\n",
    "    print(bin_)\n",
    "    \n",
    "    x = bin_[0]\n",
    "#     bin_ = random.sample(group1, k = 1)\n",
    "    \n",
    "    p_sum = 0\n",
    "    edge_list = []\n",
    "    \n",
    "    destination_nodes = []\n",
    "    for _ in range(edges):\n",
    "        \n",
    "        \n",
    "        group2_node = random.choice(group2)\n",
    "  \n",
    "\n",
    "        chosen_node = random.choice(bin_)\n",
    "        \n",
    "        \n",
    "        \n",
    "        bin_.append(random.choice(group1))\n",
    "        if np.random.uniform() > percentage/100:\n",
    "            bin_.append(chosen_node)\n",
    "        \n",
    "        \n",
    "        \n",
    "        edge = tuple([group2_node, chosen_node])\n",
    "        edge_list.append(edge)\n",
    "        destination_nodes.append(chosen_node)\n",
    "        \n",
    "        c = destination_nodes.count(x)\n",
    "        \n",
    "        p = c/len(destination_nodes)\n",
    "        \n",
    "        p_sum += p\n",
    "        \n",
    "    \n",
    "    print(p_sum)\n",
    "    c = Counter(destination_nodes)\n",
    "    c.most_common(1)\n",
    "    print (\"\",c.most_common(1))\n",
    "  \n",
    "    return edge_list\n",
    "\n",
    "\n"
   ]
  },
  {
   "cell_type": "code",
   "execution_count": 311,
   "metadata": {},
   "outputs": [
    {
     "name": "stdout",
     "output_type": "stream",
     "text": [
      "[74080]\n",
      "133.94672645580317\n",
      " [(74080, 75)]\n"
     ]
    }
   ],
   "source": [
    "group1 = random.sample(range(1, 100000), 500)\n",
    "group2 = random.sample(range(100000, 200000), 500)\n",
    "\n",
    "edges = 2000\n",
    "percentage  = 0.01\n",
    "\n",
    "edgelist = Barabasi(group1, group2, edges, percentage)\n",
    "\n",
    "\n",
    "H = nx.Graph(edgelist)"
   ]
  },
  {
   "cell_type": "code",
   "execution_count": 312,
   "metadata": {},
   "outputs": [],
   "source": [
    "l_degrees = [ i[1] for i in H.degree()]"
   ]
  },
  {
   "cell_type": "code",
   "execution_count": null,
   "metadata": {},
   "outputs": [],
   "source": []
  },
  {
   "cell_type": "code",
   "execution_count": 313,
   "metadata": {
    "scrolled": true
   },
   "outputs": [
    {
     "data": {
      "image/png": "[encoded data removed]",
      "text/plain": [
       "<Figure size 432x288 with 1 Axes>"
      ]
     },
     "metadata": {
      "needs_background": "light"
     },
     "output_type": "display_data"
    },
    {
     "data": {
      "text/plain": [
       "1"
      ]
     },
     "execution_count": 313,
     "metadata": {},
     "output_type": "execute_result"
    }
   ],
   "source": [
    "sn.histplot(data=l_degrees, bins = 50)\n",
    "plt.show()\n",
    "\n",
    "max(l_degrees)\n",
    "min(l_degrees)"
   ]
  },
  {
   "cell_type": "code",
   "execution_count": 314,
   "metadata": {},
   "outputs": [
    {
     "name": "stdout",
     "output_type": "stream",
     "text": [
      "[18828]\n",
      "210.91770806101442\n",
      " [(18828, 124)]\n",
      "Counter({18: 25, 19: 15, 14: 14, 15: 14, 21: 13, 13: 12, 11: 10, 16: 9, 17: 9, 20: 8, 23: 6, 8: 6, 22: 5, 12: 5, 25: 5, 24: 5, 7: 4, 9: 4, 10: 3, 3: 3, 4: 3, 34: 2, 26: 2, 29: 2, 35: 2, 28: 2, 6: 2, 70: 1, 38: 1, 32: 1, 30: 1, 39: 1, 27: 1, 33: 1, 31: 1, 5: 1, 2: 1}) [19, 70, 14, 21, 38, 16, 17, 34, 15, 18, 26, 22, 29, 32, 10, 13, 30, 20, 12, 11, 39, 35, 25, 23, 24, 27, 28, 33, 8, 31, 7, 9, 3, 6, 4, 5, 2] [15, 1, 14, 13, 1, 9, 9, 2, 14, 25, 2, 5, 2, 1, 3, 12, 1, 8, 5, 10, 1, 2, 5, 6, 5, 1, 2, 1, 6, 1, 4, 4, 3, 2, 3, 1, 1]\n"
     ]
    }
   ],
   "source": [
    "\n",
    "x = []\n",
    "\n",
    "y = []\n",
    "\n",
    "z = []\n",
    "for i in range(100, 10000, 100):\n",
    "    group1 = random.sample(range(1, 100000), i)\n",
    "    group2 = random.sample(range(100000, 200000), i)\n",
    "\n",
    "    edges = 2000\n",
    "    percentage  = 0.01\n",
    "\n",
    "    edgelist = Barabasi(group1, group2, edges, percentage)\n",
    "\n",
    "\n",
    "    H = nx.Graph(edgelist)\n",
    "    l_degrees = [ i[1] for i in H.degree()]\n",
    "#     print(l)\n",
    "\n",
    "    d = Counter(l_degrees)\n",
    "    x = list(d.keys())\n",
    "    y = list(d.values())\n",
    "    z = [i] * len(x)\n",
    "    \n",
    "    \n",
    "    break\n",
    "    "
   ]
  },
  {
   "cell_type": "code",
   "execution_count": 123,
   "metadata": {},
   "outputs": [
    {
     "data": {
      "text/plain": [
       "(array([1.3000e+01, 8.3000e+01, 0.0000e+00, 4.3700e+02, 0.0000e+00,\n",
       "        1.5570e+03, 0.0000e+00, 3.9100e+03, 0.0000e+00, 7.6300e+03,\n",
       "        0.0000e+00, 1.2690e+04, 1.7890e+04, 0.0000e+00, 2.2913e+04,\n",
       "        0.0000e+00, 2.4693e+04, 0.0000e+00, 2.5146e+04, 0.0000e+00,\n",
       "        2.2761e+04, 0.0000e+00, 1.8826e+04, 0.0000e+00, 1.4408e+04,\n",
       "        1.0470e+04, 0.0000e+00, 6.9470e+03, 0.0000e+00, 4.2640e+03,\n",
       "        0.0000e+00, 2.5420e+03, 0.0000e+00, 1.3680e+03, 0.0000e+00,\n",
       "        7.3700e+02, 0.0000e+00, 3.9200e+02, 1.8100e+02, 0.0000e+00,\n",
       "        7.0000e+01, 0.0000e+00, 4.4000e+01, 0.0000e+00, 1.9000e+01,\n",
       "        0.0000e+00, 6.0000e+00, 0.0000e+00, 2.0000e+00, 1.0000e+00]),\n",
       " array([ 0.  ,  0.54,  1.08,  1.62,  2.16,  2.7 ,  3.24,  3.78,  4.32,\n",
       "         4.86,  5.4 ,  5.94,  6.48,  7.02,  7.56,  8.1 ,  8.64,  9.18,\n",
       "         9.72, 10.26, 10.8 , 11.34, 11.88, 12.42, 12.96, 13.5 , 14.04,\n",
       "        14.58, 15.12, 15.66, 16.2 , 16.74, 17.28, 17.82, 18.36, 18.9 ,\n",
       "        19.44, 19.98, 20.52, 21.06, 21.6 , 22.14, 22.68, 23.22, 23.76,\n",
       "        24.3 , 24.84, 25.38, 25.92, 26.46, 27.  ]),\n",
       " <BarContainer object of 50 artists>)"
      ]
     },
     "execution_count": 123,
     "metadata": {},
     "output_type": "execute_result"
    },
    {
     "data": {
      "image/png": "[encoded data removed]",
      "text/plain": [
       "<Figure size 432x288 with 1 Axes>"
      ]
     },
     "metadata": {
      "needs_background": "light"
     },
     "output_type": "display_data"
    }
   ],
   "source": [
    "from numpy import random as rn\n",
    "\n",
    "x = rn.poisson(lam=10, size=200000)\n",
    "\n",
    "plt.hist(x, bins = 50)\n"
   ]
  },
  {
   "cell_type": "code",
   "execution_count": 124,
   "metadata": {},
   "outputs": [
    {
     "data": {
      "image/png": "[encoded data removed]",
      "text/plain": [
       "<Figure size 432x288 with 1 Axes>"
      ]
     },
     "metadata": {
      "needs_background": "light"
     },
     "output_type": "display_data"
    }
   ],
   "source": [
    "k_distrib(graph=H, colour='#40a6d1', scale='log', alpha=.8, fit_line=True, expct_lo=min(l_degrees), expct_hi=max(l_degrees)\n",
    ", expct_const=12)"
   ]
  },
  {
   "cell_type": "code",
   "execution_count": 125,
   "metadata": {},
   "outputs": [
    {
     "name": "stderr",
     "output_type": "stream",
     "text": [
      "Calculating best minimal value for power law fit\n",
      "C:\\Users\\KGulp\\anaconda3\\lib\\site-packages\\powerlaw.py:699: RuntimeWarning: invalid value encountered in true_divide\n",
      "  (CDF_diff**2) /\n"
     ]
    }
   ],
   "source": [
    "l_degrees\n",
    "\n",
    "x = powerlaw.Fit(l_degrees)\n",
    "\n",
    "D = x.D"
   ]
  },
  {
   "cell_type": "code",
   "execution_count": 126,
   "metadata": {},
   "outputs": [
    {
     "name": "stdout",
     "output_type": "stream",
     "text": [
      "4.800567506711877\n"
     ]
    },
    {
     "name": "stderr",
     "output_type": "stream",
     "text": [
      "C:\\Users\\KGulp\\anaconda3\\lib\\site-packages\\powerlaw.py:1605: RuntimeWarning: invalid value encountered in true_divide\n",
      "  CDF = CDF/norm\n",
      "'nan' in fit cumulative distribution values.\n",
      "Likely underflow or overflow error: the optimal fit for this distribution gives values that are so extreme that we lack the numerical precision to calculate them.\n"
     ]
    },
    {
     "data": {
      "text/plain": [
       "(-0.5809675803663368, 0.3721090970072247)"
      ]
     },
     "execution_count": 126,
     "metadata": {},
     "output_type": "execute_result"
    }
   ],
   "source": [
    "print(x.power_law.alpha)\n",
    "\n",
    "x.distribution_compare('truncated_power_law', 'lognormal')\n",
    "\n"
   ]
  },
  {
   "cell_type": "code",
   "execution_count": 127,
   "metadata": {},
   "outputs": [
    {
     "data": {
      "text/plain": [
       "<AxesSubplot:>"
      ]
     },
     "execution_count": 127,
     "metadata": {},
     "output_type": "execute_result"
    },
    {
     "data": {
      "image/png": "[encoded data removed]",
      "text/plain": [
       "<Figure size 432x288 with 1 Axes>"
      ]
     },
     "metadata": {
      "needs_background": "light"
     },
     "output_type": "display_data"
    }
   ],
   "source": [
    "fig2 = x.plot_pdf(color='b', linear_bins = True)\n",
    "\n",
    "x.power_law.plot_pdf(color='b', linestyle='--', ax=fig2)\n",
    "\n"
   ]
  },
  {
   "cell_type": "code",
   "execution_count": 166,
   "metadata": {},
   "outputs": [
    {
     "data": {
      "text/plain": [
       "<AxesSubplot:>"
      ]
     },
     "execution_count": 166,
     "metadata": {},
     "output_type": "execute_result"
    },
    {
     "data": {
      "image/png": "[encoded data removed]",
      "text/plain": [
       "<Figure size 432x288 with 1 Axes>"
      ]
     },
     "metadata": {
      "needs_background": "light"
     },
     "output_type": "display_data"
    }
   ],
   "source": [
    "powerlaw.plot_pdf(l_degrees, linear_bins=True, color='r')"
   ]
  },
  {
   "cell_type": "code",
   "execution_count": 14,
   "metadata": {},
   "outputs": [],
   "source": [
    "def ER(group1, group2, edges, percentage):\n",
    "    '''\n",
    "    Making a scale-free network properties when you have two groups\n",
    "\n",
    "    group1: Takes as input a list of nodes\n",
    "    group2: Takes as input a list of nodes\n",
    "\n",
    "    edges: int amount of edges your network has\n",
    "\n",
    "    percentage: float between 0 and 100 \n",
    "    '''\n",
    "  \n",
    "\n",
    "    # Algorithms that produce scale-free network properties when you have two groups\n",
    "\n",
    "        \n",
    "    edge_list = []\n",
    "\n",
    "    for _ in range(edges):\n",
    "        \n",
    "        group2_node = random.choice(group2)\n",
    "        group1_node = random.choice(group1)\n",
    "  \n",
    "\n",
    "        \n",
    "    \n",
    " \n",
    "        \n",
    "        \n",
    "        edge = tuple([group2_node, group1_node])\n",
    "        edge_list.append(edge)\n",
    "\n",
    "\n",
    "    return edge_list"
   ]
  }
 ],
 "metadata": {
  "kernelspec": {
   "display_name": "Python 3",
   "language": "python",
   "name": "python3"
  },
  "language_info": {
   "codemirror_mode": {
    "name": "ipython",
    "version": 3
   },
   "file_extension": ".py",
   "mimetype": "text/x-python",
   "name": "python",
   "nbconvert_exporter": "python",
   "pygments_lexer": "ipython3",
   "version": "3.8.5"
  }
 },
 "nbformat": 4,
 "nbformat_minor": 4
}
