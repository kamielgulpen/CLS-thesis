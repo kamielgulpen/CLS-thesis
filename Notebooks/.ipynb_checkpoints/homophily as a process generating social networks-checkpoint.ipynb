{
 "cells": [
  {
   "cell_type": "code",
   "execution_count": 11,
   "metadata": {},
   "outputs": [],
   "source": [
    "\n",
    "\n",
    "import pandas as pd\n",
    "import numpy as np\n",
    "import math\n",
    "import scipy\n",
    "from scipy.spatial import distance, distance_matrix\n",
    "from scipy.spatial.distance import squareform \n",
    "import matplotlib.pyplot as plt\n",
    "import networkx as nx"
   ]
  },
  {
   "cell_type": "code",
   "execution_count": 4,
   "metadata": {},
   "outputs": [],
   "source": [
    "def simulate_uniform(N, ndim, a=0, b=1, **kwds):\n",
    "    return np.random.uniform(a, b, (N, ndim)), None\n",
    "\n",
    "def simulate_normal(N, ndim, mean=0, sd=1, **kwds):\n",
    "    return np.random.normal(mean, sd, (N, ndim)), None\n",
    "\n",
    "def simulate_lognormal(N, ndim, mean=0, sd=1, **kwds):\n",
    "    return np.random.lognormal(mean, sd, (N, ndim)), None\n",
    "\n",
    "def prob_function(d_ij, b, alpha):\n",
    "    p_ij =1/( 1 + ((1/b * d_ij) ** alpha))\n",
    "    \n",
    "    return p_ij\n",
    "\n",
    "def prob_1_0 (matrix):\n",
    "    random_matrix = np.random.random(matrix.shape)\n",
    "    \n",
    "    return matrix > random_matrix\n",
    "    "
   ]
  },
  {
   "cell_type": "code",
   "execution_count": null,
   "metadata": {},
   "outputs": [],
   "source": []
  },
  {
   "cell_type": "code",
   "execution_count": null,
   "metadata": {},
   "outputs": [],
   "source": []
  },
  {
   "cell_type": "code",
   "execution_count": 5,
   "metadata": {},
   "outputs": [],
   "source": [
    "system_size = 1000\n",
    "social_space = 'uniform'\n",
    "m = 1\n",
    "alpha = 2\n",
    "rewirering = 0\n",
    "k = 30"
   ]
  },
  {
   "cell_type": "code",
   "execution_count": 6,
   "metadata": {},
   "outputs": [],
   "source": [
    "mx = np.random.uniform(0, 1, (1000, 2))"
   ]
  },
  {
   "cell_type": "code",
   "execution_count": 7,
   "metadata": {},
   "outputs": [],
   "source": [
    "d = distance_matrix(mx, mx)"
   ]
  },
  {
   "cell_type": "code",
   "execution_count": 8,
   "metadata": {},
   "outputs": [
    {
     "data": {
      "text/plain": [
       "array([[0.        , 1.01897713, 0.95156074, ..., 0.54266597, 0.61923468,\n",
       "        0.40013244],\n",
       "       [1.01897713, 0.        , 0.10048406, ..., 0.77649533, 0.40237194,\n",
       "        0.72692868],\n",
       "       [0.95156074, 0.10048406, 0.        , ..., 0.67945943, 0.34774776,\n",
       "        0.63943264],\n",
       "       ...,\n",
       "       [0.54266597, 0.77649533, 0.67945943, ..., 0.        , 0.51412569,\n",
       "        0.18200949],\n",
       "       [0.61923468, 0.40237194, 0.34774776, ..., 0.51412569, 0.        ,\n",
       "        0.39166997],\n",
       "       [0.40013244, 0.72692868, 0.63943264, ..., 0.18200949, 0.39166997,\n",
       "        0.        ]])"
      ]
     },
     "execution_count": 8,
     "metadata": {},
     "output_type": "execute_result"
    }
   ],
   "source": [
    "d"
   ]
  },
  {
   "cell_type": "code",
   "execution_count": 9,
   "metadata": {},
   "outputs": [],
   "source": [
    "f = lambda x: 30 - (1/system_size * sum(sum(prob_function(d, x ,2))))"
   ]
  },
  {
   "cell_type": "code",
   "execution_count": 16,
   "metadata": {},
   "outputs": [
    {
     "ename": "AttributeError",
     "evalue": "module 'scipy' has no attribute 'optimize'",
     "output_type": "error",
     "traceback": [
      "\u001b[1;31m---------------------------------------------------------------------------\u001b[0m",
      "\u001b[1;31mAttributeError\u001b[0m                            Traceback (most recent call last)",
      "\u001b[1;32m<ipython-input-16-42b74d5624b4>\u001b[0m in \u001b[0;36m<module>\u001b[1;34m\u001b[0m\n\u001b[1;32m----> 1\u001b[1;33m \u001b[0mroot\u001b[0m \u001b[1;33m=\u001b[0m \u001b[0mscipy\u001b[0m\u001b[1;33m.\u001b[0m\u001b[0moptimize\u001b[0m\u001b[1;33m.\u001b[0m\u001b[0mbrentq\u001b[0m\u001b[1;33m(\u001b[0m\u001b[0mf\u001b[0m\u001b[1;33m,\u001b[0m \u001b[1;36m0.001\u001b[0m\u001b[1;33m,\u001b[0m \u001b[1;36m1\u001b[0m\u001b[1;33m,\u001b[0m \u001b[0mmaxiter\u001b[0m\u001b[1;33m=\u001b[0m\u001b[1;36m10\u001b[0m\u001b[1;33m)\u001b[0m\u001b[1;33m\u001b[0m\u001b[1;33m\u001b[0m\u001b[0m\n\u001b[0m",
      "\u001b[1;31mAttributeError\u001b[0m: module 'scipy' has no attribute 'optimize'"
     ]
    }
   ],
   "source": [
    "root = scipy.optimize.brentq(f, 0.001, 1, maxiter=10)"
   ]
  },
  {
   "cell_type": "code",
   "execution_count": 438,
   "metadata": {},
   "outputs": [
    {
     "data": {
      "text/plain": [
       "0.04773487580589803"
      ]
     },
     "execution_count": 438,
     "metadata": {},
     "output_type": "execute_result"
    }
   ],
   "source": [
    "root"
   ]
  },
  {
   "cell_type": "code",
   "execution_count": 439,
   "metadata": {},
   "outputs": [
    {
     "data": {
      "text/plain": [
       "2.915712116191571e-11"
      ]
     },
     "execution_count": 439,
     "metadata": {},
     "output_type": "execute_result"
    }
   ],
   "source": [
    "f(root)"
   ]
  },
  {
   "cell_type": "code",
   "execution_count": 440,
   "metadata": {},
   "outputs": [],
   "source": [
    "A = prob_1_0(prob_function(d, root ,2))\n",
    "   "
   ]
  },
  {
   "cell_type": "code",
   "execution_count": 441,
   "metadata": {},
   "outputs": [],
   "source": [
    "\n",
    "G = nx.from_numpy_matrix(A,create_using=nx.DiGraph())"
   ]
  },
  {
   "cell_type": "code",
   "execution_count": 442,
   "metadata": {},
   "outputs": [
    {
     "data": {
      "text/plain": [
       "30212"
      ]
     },
     "execution_count": 442,
     "metadata": {},
     "output_type": "execute_result"
    }
   ],
   "source": [
    "len(G.edges())"
   ]
  },
  {
   "cell_type": "code",
   "execution_count": 421,
   "metadata": {},
   "outputs": [],
   "source": [
    "x = 0\n",
    "for i in d:\n",
    "    for j in i:\n",
    "        x += j\n",
    "        "
   ]
  },
  {
   "cell_type": "code",
   "execution_count": 445,
   "metadata": {},
   "outputs": [],
   "source": [
    "# G.degree()\n",
    "\n",
    "l_degrees = [ i[1] for i in G.in_degree()]"
   ]
  },
  {
   "cell_type": "code",
   "execution_count": 446,
   "metadata": {},
   "outputs": [
    {
     "data": {
      "text/plain": [
       "30.212"
      ]
     },
     "execution_count": 446,
     "metadata": {},
     "output_type": "execute_result"
    }
   ],
   "source": []
  },
  {
   "cell_type": "code",
   "execution_count": 447,
   "metadata": {},
   "outputs": [
    {
     "data": {
      "text/plain": [
       "(array([  7.,  38.,  95., 166., 251., 254., 113.,  61.,  13.,   2.]),\n",
       " array([ 8. , 12.7, 17.4, 22.1, 26.8, 31.5, 36.2, 40.9, 45.6, 50.3, 55. ]),\n",
       " <BarContainer object of 10 artists>)"
      ]
     },
     "execution_count": 447,
     "metadata": {},
     "output_type": "execute_result"
    },
    {
     "data": {
      "image/png": "[encoded data removed]",
      "text/plain": [
       "<Figure size 432x288 with 1 Axes>"
      ]
     },
     "metadata": {
      "needs_background": "light"
     },
     "output_type": "display_data"
    }
   ],
   "source": [
    "plt.hist(l_degrees)"
   ]
  },
  {
   "cell_type": "code",
   "execution_count": null,
   "metadata": {},
   "outputs": [],
   "source": [
    "K = len(edges/destination_nodes)"
   ]
  }
 ],
 "metadata": {
  "kernelspec": {
   "display_name": "Python 3",
   "language": "python",
   "name": "python3"
  },
  "language_info": {
   "codemirror_mode": {
    "name": "ipython",
    "version": 3
   },
   "file_extension": ".py",
   "mimetype": "text/x-python",
   "name": "python",
   "nbconvert_exporter": "python",
   "pygments_lexer": "ipython3",
   "version": "3.8.5"
  }
 },
 "nbformat": 4,
 "nbformat_minor": 4
}
