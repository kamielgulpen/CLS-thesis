{
 "cells": [
  {
   "cell_type": "code",
   "execution_count": 1,
   "metadata": {},
   "outputs": [],
   "source": [
    "from pyvis.network import Network\n",
    "import networkx as nx\n",
    "import pandas as pd\n",
    "import math\n",
    "import numpy as np\n",
    "from scipy import stats\n",
    "import pandas as pd\n",
    "import igraph as ig\n",
    "import pylab \n",
    "\n",
    "import powerlaw\n",
    "\n",
    "\n",
    "import datashader as ds\n",
    "import datashader.transfer_functions as tf\n",
    "from datashader.layout import random_layout, circular_layout, forceatlas2_layout\n",
    "from datashader.bundling import connect_edges, hammer_bundle\n",
    "import matplotlib.pyplot as plt\n",
    "# from py3plex.core import multinet\n",
    "\n",
    "from itertools import chain\n",
    "import random\n",
    "import seaborn as sn"
   ]
  },
  {
   "cell_type": "code",
   "execution_count": 25,
   "metadata": {},
   "outputs": [
    {
     "data": {
      "text/plain": [
       "'[0,20), Autochtoon, Vrouw, 1'"
      ]
     },
     "execution_count": 25,
     "metadata": {},
     "output_type": "execute_result"
    }
   ],
   "source": [
    "def get_type_node(G, id):\n",
    "    \n",
    "    print(list(G[id].values()))\n",
    "    return list(G[id].values())[0]['source_group']\n",
    "\n",
    "def hash_groups():\n",
    "    hash_dict = {}\n",
    "    rehash_dict = {}\n",
    "\n",
    "    df = pd.read_csv('Data/tab_n_(with oplniv).csv')\n",
    "\n",
    "    for i in range(df.shape[0]):\n",
    "        group = df.iloc[i]\n",
    "                \n",
    "        age = group['lft']\n",
    "        etnc = group['etngrp']\n",
    "        gender = group['geslacht']\n",
    "        education = group['oplniv']\n",
    "\n",
    "\n",
    "        hash_dict[f'{age}, {etnc}, {gender}, {education}'] = i\n",
    "        rehash_dict[i] = f'{age}, {etnc}, {gender}, {education}' \n",
    "    \n",
    "    return hash_dict, rehash_dict\n",
    "\n",
    "hash_dict, rehash_dict = hash_groups()\n",
    "\n",
    "rehash_dict[12]\n"
   ]
  },
  {
   "cell_type": "code",
   "execution_count": 38,
   "metadata": {},
   "outputs": [
    {
     "data": {
      "text/plain": [
       "13.665849783409868"
      ]
     },
     "execution_count": 38,
     "metadata": {},
     "output_type": "execute_result"
    }
   ],
   "source": [
    "np.log(861000)"
   ]
  },
  {
   "cell_type": "markdown",
   "metadata": {},
   "source": [
    "# Buren\n",
    "\n",
    "Main things I wan to look at:\n",
    "- Sparsity\n",
    "- Non trivial clustering\n",
    "- Positive degree assortative\n",
    "- Small world property\n",
    "- Bonded degree distribution"
   ]
  },
  {
   "cell_type": "code",
   "execution_count": 27,
   "metadata": {},
   "outputs": [],
   "source": [
    "p = pd.read_csv(f'Data/NW_data/buren_nw_b=please.csv')\n",
    "# Data\\NW_data\\\n",
    "# Data\\NW_data\\buren_nw_b=0_0_reciprocity.csv\n",
    "\n",
    "# Data\\NW_data\\buren_nw_b=1_100_percentage.csv"
   ]
  },
  {
   "cell_type": "code",
   "execution_count": 29,
   "metadata": {},
   "outputs": [
    {
     "data": {
      "text/html": [
       "<div>\n",
       "<style scoped>\n",
       "    .dataframe tbody tr th:only-of-type {\n",
       "        vertical-align: middle;\n",
       "    }\n",
       "\n",
       "    .dataframe tbody tr th {\n",
       "        vertical-align: top;\n",
       "    }\n",
       "\n",
       "    .dataframe thead th {\n",
       "        text-align: right;\n",
       "    }\n",
       "</style>\n",
       "<table border=\"1\" class=\"dataframe\">\n",
       "  <thead>\n",
       "    <tr style=\"text-align: right;\">\n",
       "      <th></th>\n",
       "      <th>Unnamed: 0</th>\n",
       "      <th>source_id</th>\n",
       "      <th>destination_id</th>\n",
       "      <th>source_group</th>\n",
       "      <th>destination_group</th>\n",
       "    </tr>\n",
       "  </thead>\n",
       "  <tbody>\n",
       "  </tbody>\n",
       "</table>\n",
       "</div>"
      ],
      "text/plain": [
       "Empty DataFrame\n",
       "Columns: [Unnamed: 0, source_id, destination_id, source_group, destination_group]\n",
       "Index: []"
      ]
     },
     "execution_count": 29,
     "metadata": {},
     "output_type": "execute_result"
    }
   ],
   "source": [
    "df = p[p.duplicated(subset=['source_id','destination_id'], keep=False)]\n",
    "\n",
    "df"
   ]
  },
  {
   "cell_type": "code",
   "execution_count": 119,
   "metadata": {},
   "outputs": [],
   "source": [
    "df_s = df[(df['source_group'] == 6) & (df['destination_group'] == 6)]"
   ]
  },
  {
   "cell_type": "code",
   "execution_count": 30,
   "metadata": {},
   "outputs": [],
   "source": [
    "g = ig.Graph.TupleList(p[['source_id','destination_id']].itertuples(index=False), directed=True, weights=False)\n"
   ]
  },
  {
   "cell_type": "code",
   "execution_count": null,
   "metadata": {},
   "outputs": [],
   "source": [
    "g_s = ig.Graph.TupleList(df_s[['source_id','destination_id']].itertuples(index=False), directed=True, weights=False)\n"
   ]
  },
  {
   "cell_type": "code",
   "execution_count": 18,
   "metadata": {},
   "outputs": [],
   "source": [
    "G =  nx.from_pandas_edgelist(p, 'source_id', 'destination_id',['source_group', 'destination_group'],create_using=nx.DiGraph())"
   ]
  },
  {
   "cell_type": "code",
   "execution_count": 7,
   "metadata": {},
   "outputs": [],
   "source": [
    "l_degrees = [ i[1] for i in G.in_degree()]"
   ]
  },
  {
   "cell_type": "code",
   "execution_count": 31,
   "metadata": {},
   "outputs": [],
   "source": [
    "edge_list = g.get_edgelist()"
   ]
  },
  {
   "cell_type": "code",
   "execution_count": 32,
   "metadata": {},
   "outputs": [
    {
     "ename": "KeyboardInterrupt",
     "evalue": "",
     "output_type": "error",
     "traceback": [
      "\u001b[1;31m---------------------------------------------------------------------------\u001b[0m",
      "\u001b[1;31mKeyboardInterrupt\u001b[0m                         Traceback (most recent call last)",
      "\u001b[1;32m<ipython-input-32-7045e111341b>\u001b[0m in \u001b[0;36m<module>\u001b[1;34m\u001b[0m\n\u001b[1;32m----> 1\u001b[1;33m \u001b[0medge_list\u001b[0m \u001b[1;33m=\u001b[0m \u001b[0mnp\u001b[0m\u001b[1;33m.\u001b[0m\u001b[0marray\u001b[0m\u001b[1;33m(\u001b[0m\u001b[0medge_list\u001b[0m\u001b[1;33m)\u001b[0m\u001b[1;33m\u001b[0m\u001b[1;33m\u001b[0m\u001b[0m\n\u001b[0m",
      "\u001b[1;31mKeyboardInterrupt\u001b[0m: "
     ]
    }
   ],
   "source": [
    "edge_list = np.array(edge_list)"
   ]
  },
  {
   "cell_type": "code",
   "execution_count": 33,
   "metadata": {},
   "outputs": [],
   "source": [
    "max_e = np.max(edge_list.flatten())"
   ]
  },
  {
   "cell_type": "code",
   "execution_count": 34,
   "metadata": {},
   "outputs": [],
   "source": [
    "rn = np.random.randint(max_e, size=(100,2))\n",
    "\n",
    "x = rn[:,0]\n",
    "y = rn[:,1]"
   ]
  },
  {
   "cell_type": "code",
   "execution_count": 35,
   "metadata": {},
   "outputs": [],
   "source": [
    "sp = g.shortest_paths(x, y, mode='in')"
   ]
  },
  {
   "cell_type": "code",
   "execution_count": 36,
   "metadata": {},
   "outputs": [
    {
     "data": {
      "text/plain": [
       "4.7039"
      ]
     },
     "execution_count": 36,
     "metadata": {},
     "output_type": "execute_result"
    }
   ],
   "source": [
    "sp = np.array(sp)\n",
    "\n",
    "sp1 = sp.copy()\n",
    "sp1[sp == np.inf] = 100\n",
    "# sp = sp.flatten()\n",
    "\n",
    "# np.mean(sp1)\n",
    "# # list(sp).count(np.inf)\n",
    "# # len(sp)\n",
    "\n",
    "np.mean(sp.flatten())"
   ]
  },
  {
   "cell_type": "code",
   "execution_count": 37,
   "metadata": {},
   "outputs": [
    {
     "data": {
      "text/plain": [
       "0.9404778833493477"
      ]
     },
     "execution_count": 37,
     "metadata": {},
     "output_type": "execute_result"
    }
   ],
   "source": [
    "g.assortativity_degree()"
   ]
  },
  {
   "cell_type": "code",
   "execution_count": null,
   "metadata": {},
   "outputs": [],
   "source": [
    "degrees = g.degree(mode = 'in')\n",
    "sn.histplot(data=degrees, bins = 100)"
   ]
  },
  {
   "cell_type": "code",
   "execution_count": 144,
   "metadata": {},
   "outputs": [
    {
     "data": {
      "text/plain": [
       "176058"
      ]
     },
     "execution_count": 144,
     "metadata": {},
     "output_type": "execute_result"
    }
   ],
   "source": [
    "g.degree(mode = 'in').count(0)"
   ]
  },
  {
   "cell_type": "code",
   "execution_count": 8,
   "metadata": {
    "scrolled": true
   },
   "outputs": [
    {
     "data": {
      "text/plain": [
       "(array([8.33296e+05, 9.44000e+03, 2.57000e+02, 0.00000e+00, 0.00000e+00,\n",
       "        0.00000e+00, 2.40000e+01, 4.45400e+03, 1.15590e+04, 1.16800e+03]),\n",
       " array([  0. ,  38.4,  76.8, 115.2, 153.6, 192. , 230.4, 268.8, 307.2,\n",
       "        345.6, 384. ]),\n",
       " <BarContainer object of 10 artists>)"
      ]
     },
     "execution_count": 8,
     "metadata": {},
     "output_type": "execute_result"
    },
    {
     "data": {
      "image/png": "[encoded data removed]",
      "text/plain": [
       "<Figure size 432x288 with 1 Axes>"
      ]
     },
     "metadata": {
      "needs_background": "light"
     },
     "output_type": "display_data"
    }
   ],
   "source": [
    "plt.hist(l_degrees)"
   ]
  },
  {
   "cell_type": "code",
   "execution_count": 26,
   "metadata": {},
   "outputs": [
    {
     "name": "stdout",
     "output_type": "stream",
     "text": [
      "[{'source_group': 68, 'destination_group': 7}, {'source_group': 68, 'destination_group': 17}, {'source_group': 68, 'destination_group': 68}, {'source_group': 68, 'destination_group': 68}, {'source_group': 68, 'destination_group': 68}, {'source_group': 68, 'destination_group': 68}, {'source_group': 68, 'destination_group': 68}, {'source_group': 68, 'destination_group': 68}, {'source_group': 68, 'destination_group': 68}, {'source_group': 68, 'destination_group': 68}, {'source_group': 68, 'destination_group': 68}, {'source_group': 68, 'destination_group': 68}, {'source_group': 68, 'destination_group': 68}, {'source_group': 68, 'destination_group': 68}, {'source_group': 68, 'destination_group': 68}, {'source_group': 68, 'destination_group': 68}, {'source_group': 68, 'destination_group': 68}, {'source_group': 68, 'destination_group': 68}, {'source_group': 68, 'destination_group': 68}, {'source_group': 68, 'destination_group': 68}, {'source_group': 68, 'destination_group': 68}, {'source_group': 68, 'destination_group': 68}, {'source_group': 68, 'destination_group': 68}, {'source_group': 68, 'destination_group': 68}, {'source_group': 68, 'destination_group': 68}, {'source_group': 68, 'destination_group': 68}, {'source_group': 68, 'destination_group': 68}, {'source_group': 68, 'destination_group': 68}, {'source_group': 68, 'destination_group': 68}, {'source_group': 68, 'destination_group': 68}, {'source_group': 68, 'destination_group': 68}, {'source_group': 68, 'destination_group': 68}, {'source_group': 68, 'destination_group': 68}, {'source_group': 68, 'destination_group': 68}, {'source_group': 68, 'destination_group': 68}, {'source_group': 68, 'destination_group': 68}, {'source_group': 68, 'destination_group': 68}, {'source_group': 68, 'destination_group': 68}, {'source_group': 68, 'destination_group': 68}, {'source_group': 68, 'destination_group': 68}, {'source_group': 68, 'destination_group': 68}, {'source_group': 68, 'destination_group': 68}, {'source_group': 68, 'destination_group': 68}, {'source_group': 68, 'destination_group': 68}, {'source_group': 68, 'destination_group': 68}, {'source_group': 68, 'destination_group': 68}, {'source_group': 68, 'destination_group': 68}, {'source_group': 68, 'destination_group': 68}, {'source_group': 68, 'destination_group': 68}, {'source_group': 68, 'destination_group': 68}, {'source_group': 68, 'destination_group': 68}, {'source_group': 68, 'destination_group': 68}, {'source_group': 68, 'destination_group': 68}, {'source_group': 68, 'destination_group': 68}, {'source_group': 68, 'destination_group': 68}, {'source_group': 68, 'destination_group': 68}, {'source_group': 68, 'destination_group': 68}, {'source_group': 68, 'destination_group': 68}, {'source_group': 68, 'destination_group': 68}, {'source_group': 68, 'destination_group': 68}, {'source_group': 68, 'destination_group': 68}, {'source_group': 68, 'destination_group': 68}, {'source_group': 68, 'destination_group': 68}, {'source_group': 68, 'destination_group': 68}, {'source_group': 68, 'destination_group': 68}, {'source_group': 68, 'destination_group': 68}, {'source_group': 68, 'destination_group': 68}, {'source_group': 68, 'destination_group': 68}, {'source_group': 68, 'destination_group': 68}, {'source_group': 68, 'destination_group': 68}, {'source_group': 68, 'destination_group': 68}, {'source_group': 68, 'destination_group': 68}, {'source_group': 68, 'destination_group': 68}, {'source_group': 68, 'destination_group': 68}, {'source_group': 68, 'destination_group': 68}, {'source_group': 68, 'destination_group': 68}, {'source_group': 68, 'destination_group': 68}, {'source_group': 68, 'destination_group': 68}, {'source_group': 68, 'destination_group': 68}, {'source_group': 68, 'destination_group': 68}, {'source_group': 68, 'destination_group': 68}, {'source_group': 68, 'destination_group': 68}, {'source_group': 68, 'destination_group': 68}, {'source_group': 68, 'destination_group': 68}, {'source_group': 68, 'destination_group': 68}, {'source_group': 68, 'destination_group': 68}, {'source_group': 68, 'destination_group': 68}, {'source_group': 68, 'destination_group': 68}, {'source_group': 68, 'destination_group': 68}, {'source_group': 68, 'destination_group': 68}, {'source_group': 68, 'destination_group': 68}, {'source_group': 68, 'destination_group': 68}, {'source_group': 68, 'destination_group': 68}, {'source_group': 68, 'destination_group': 68}, {'source_group': 68, 'destination_group': 68}, {'source_group': 68, 'destination_group': 68}, {'source_group': 68, 'destination_group': 68}, {'source_group': 68, 'destination_group': 68}, {'source_group': 68, 'destination_group': 68}, {'source_group': 68, 'destination_group': 68}, {'source_group': 68, 'destination_group': 68}, {'source_group': 68, 'destination_group': 68}, {'source_group': 68, 'destination_group': 68}, {'source_group': 68, 'destination_group': 68}, {'source_group': 68, 'destination_group': 68}, {'source_group': 68, 'destination_group': 68}, {'source_group': 68, 'destination_group': 68}, {'source_group': 68, 'destination_group': 68}, {'source_group': 68, 'destination_group': 68}, {'source_group': 68, 'destination_group': 68}, {'source_group': 68, 'destination_group': 68}, {'source_group': 68, 'destination_group': 68}, {'source_group': 68, 'destination_group': 68}, {'source_group': 68, 'destination_group': 68}, {'source_group': 68, 'destination_group': 68}, {'source_group': 68, 'destination_group': 68}, {'source_group': 68, 'destination_group': 68}, {'source_group': 68, 'destination_group': 68}, {'source_group': 68, 'destination_group': 68}, {'source_group': 68, 'destination_group': 68}, {'source_group': 68, 'destination_group': 68}, {'source_group': 68, 'destination_group': 68}, {'source_group': 68, 'destination_group': 68}, {'source_group': 68, 'destination_group': 68}, {'source_group': 68, 'destination_group': 68}, {'source_group': 68, 'destination_group': 68}, {'source_group': 68, 'destination_group': 68}, {'source_group': 68, 'destination_group': 68}, {'source_group': 68, 'destination_group': 68}, {'source_group': 68, 'destination_group': 68}, {'source_group': 68, 'destination_group': 68}, {'source_group': 68, 'destination_group': 68}, {'source_group': 68, 'destination_group': 68}, {'source_group': 68, 'destination_group': 68}, {'source_group': 68, 'destination_group': 68}, {'source_group': 68, 'destination_group': 68}, {'source_group': 68, 'destination_group': 68}, {'source_group': 68, 'destination_group': 68}, {'source_group': 68, 'destination_group': 68}, {'source_group': 68, 'destination_group': 68}, {'source_group': 68, 'destination_group': 68}, {'source_group': 68, 'destination_group': 68}, {'source_group': 68, 'destination_group': 68}, {'source_group': 68, 'destination_group': 68}, {'source_group': 68, 'destination_group': 68}, {'source_group': 68, 'destination_group': 68}, {'source_group': 68, 'destination_group': 68}, {'source_group': 68, 'destination_group': 68}, {'source_group': 68, 'destination_group': 68}, {'source_group': 68, 'destination_group': 68}, {'source_group': 68, 'destination_group': 68}, {'source_group': 68, 'destination_group': 68}, {'source_group': 68, 'destination_group': 68}, {'source_group': 68, 'destination_group': 68}, {'source_group': 68, 'destination_group': 68}, {'source_group': 68, 'destination_group': 68}, {'source_group': 68, 'destination_group': 68}, {'source_group': 68, 'destination_group': 68}, {'source_group': 68, 'destination_group': 68}, {'source_group': 68, 'destination_group': 68}, {'source_group': 68, 'destination_group': 68}, {'source_group': 68, 'destination_group': 68}, {'source_group': 68, 'destination_group': 68}, {'source_group': 68, 'destination_group': 68}, {'source_group': 68, 'destination_group': 68}, {'source_group': 68, 'destination_group': 68}, {'source_group': 68, 'destination_group': 68}, {'source_group': 68, 'destination_group': 68}, {'source_group': 68, 'destination_group': 68}, {'source_group': 68, 'destination_group': 68}, {'source_group': 68, 'destination_group': 68}, {'source_group': 68, 'destination_group': 68}, {'source_group': 68, 'destination_group': 68}, {'source_group': 68, 'destination_group': 68}, {'source_group': 68, 'destination_group': 68}, {'source_group': 68, 'destination_group': 68}, {'source_group': 68, 'destination_group': 68}, {'source_group': 68, 'destination_group': 68}, {'source_group': 68, 'destination_group': 68}, {'source_group': 68, 'destination_group': 68}, {'source_group': 68, 'destination_group': 68}, {'source_group': 68, 'destination_group': 68}, {'source_group': 68, 'destination_group': 68}, {'source_group': 68, 'destination_group': 68}, {'source_group': 68, 'destination_group': 68}, {'source_group': 68, 'destination_group': 68}, {'source_group': 68, 'destination_group': 68}, {'source_group': 68, 'destination_group': 68}, {'source_group': 68, 'destination_group': 68}, {'source_group': 68, 'destination_group': 68}, {'source_group': 68, 'destination_group': 68}, {'source_group': 68, 'destination_group': 68}, {'source_group': 68, 'destination_group': 68}, {'source_group': 68, 'destination_group': 68}, {'source_group': 68, 'destination_group': 68}, {'source_group': 68, 'destination_group': 68}, {'source_group': 68, 'destination_group': 68}, {'source_group': 68, 'destination_group': 68}, {'source_group': 68, 'destination_group': 68}, {'source_group': 68, 'destination_group': 68}, {'source_group': 68, 'destination_group': 68}, {'source_group': 68, 'destination_group': 68}, {'source_group': 68, 'destination_group': 68}, {'source_group': 68, 'destination_group': 68}, {'source_group': 68, 'destination_group': 68}, {'source_group': 68, 'destination_group': 68}, {'source_group': 68, 'destination_group': 68}, {'source_group': 68, 'destination_group': 68}, {'source_group': 68, 'destination_group': 68}, {'source_group': 68, 'destination_group': 68}, {'source_group': 68, 'destination_group': 68}, {'source_group': 68, 'destination_group': 68}, {'source_group': 68, 'destination_group': 68}, {'source_group': 68, 'destination_group': 68}, {'source_group': 68, 'destination_group': 68}, {'source_group': 68, 'destination_group': 68}, {'source_group': 68, 'destination_group': 68}, {'source_group': 68, 'destination_group': 68}, {'source_group': 68, 'destination_group': 68}, {'source_group': 68, 'destination_group': 68}, {'source_group': 68, 'destination_group': 68}, {'source_group': 68, 'destination_group': 68}, {'source_group': 68, 'destination_group': 68}, {'source_group': 68, 'destination_group': 68}, {'source_group': 68, 'destination_group': 68}, {'source_group': 68, 'destination_group': 68}, {'source_group': 68, 'destination_group': 68}, {'source_group': 68, 'destination_group': 68}, {'source_group': 68, 'destination_group': 68}, {'source_group': 68, 'destination_group': 68}, {'source_group': 68, 'destination_group': 68}, {'source_group': 68, 'destination_group': 68}, {'source_group': 68, 'destination_group': 68}, {'source_group': 68, 'destination_group': 68}, {'source_group': 68, 'destination_group': 68}, {'source_group': 68, 'destination_group': 68}, {'source_group': 68, 'destination_group': 68}, {'source_group': 68, 'destination_group': 68}, {'source_group': 68, 'destination_group': 68}, {'source_group': 68, 'destination_group': 68}, {'source_group': 68, 'destination_group': 68}, {'source_group': 68, 'destination_group': 68}, {'source_group': 68, 'destination_group': 68}, {'source_group': 68, 'destination_group': 68}, {'source_group': 68, 'destination_group': 68}, {'source_group': 68, 'destination_group': 68}, {'source_group': 68, 'destination_group': 68}, {'source_group': 68, 'destination_group': 68}, {'source_group': 68, 'destination_group': 68}, {'source_group': 68, 'destination_group': 68}, {'source_group': 68, 'destination_group': 68}, {'source_group': 68, 'destination_group': 68}, {'source_group': 68, 'destination_group': 68}, {'source_group': 68, 'destination_group': 68}, {'source_group': 68, 'destination_group': 68}, {'source_group': 68, 'destination_group': 68}, {'source_group': 68, 'destination_group': 68}, {'source_group': 68, 'destination_group': 68}, {'source_group': 68, 'destination_group': 68}, {'source_group': 68, 'destination_group': 68}, {'source_group': 68, 'destination_group': 68}, {'source_group': 68, 'destination_group': 68}, {'source_group': 68, 'destination_group': 68}, {'source_group': 68, 'destination_group': 68}, {'source_group': 68, 'destination_group': 68}, {'source_group': 68, 'destination_group': 68}, {'source_group': 68, 'destination_group': 68}, {'source_group': 68, 'destination_group': 68}, {'source_group': 68, 'destination_group': 68}, {'source_group': 68, 'destination_group': 68}, {'source_group': 68, 'destination_group': 68}, {'source_group': 68, 'destination_group': 68}, {'source_group': 68, 'destination_group': 68}, {'source_group': 68, 'destination_group': 68}, {'source_group': 68, 'destination_group': 68}, {'source_group': 68, 'destination_group': 68}, {'source_group': 68, 'destination_group': 68}, {'source_group': 68, 'destination_group': 68}, {'source_group': 68, 'destination_group': 68}, {'source_group': 68, 'destination_group': 68}, {'source_group': 68, 'destination_group': 68}, {'source_group': 68, 'destination_group': 68}, {'source_group': 68, 'destination_group': 68}, {'source_group': 68, 'destination_group': 68}, {'source_group': 68, 'destination_group': 68}, {'source_group': 68, 'destination_group': 68}, {'source_group': 68, 'destination_group': 68}, {'source_group': 68, 'destination_group': 68}, {'source_group': 68, 'destination_group': 68}, {'source_group': 68, 'destination_group': 68}, {'source_group': 68, 'destination_group': 68}, {'source_group': 68, 'destination_group': 68}, {'source_group': 68, 'destination_group': 68}, {'source_group': 68, 'destination_group': 68}, {'source_group': 68, 'destination_group': 68}, {'source_group': 68, 'destination_group': 68}, {'source_group': 68, 'destination_group': 68}, {'source_group': 68, 'destination_group': 68}, {'source_group': 68, 'destination_group': 68}, {'source_group': 68, 'destination_group': 68}, {'source_group': 68, 'destination_group': 68}, {'source_group': 68, 'destination_group': 68}, {'source_group': 68, 'destination_group': 68}, {'source_group': 68, 'destination_group': 68}, {'source_group': 68, 'destination_group': 68}, {'source_group': 68, 'destination_group': 68}, {'source_group': 68, 'destination_group': 68}, {'source_group': 68, 'destination_group': 68}, {'source_group': 68, 'destination_group': 68}, {'source_group': 68, 'destination_group': 68}, {'source_group': 68, 'destination_group': 68}, {'source_group': 68, 'destination_group': 68}, {'source_group': 68, 'destination_group': 68}, {'source_group': 68, 'destination_group': 68}, {'source_group': 68, 'destination_group': 68}, {'source_group': 68, 'destination_group': 68}, {'source_group': 68, 'destination_group': 68}, {'source_group': 68, 'destination_group': 68}, {'source_group': 68, 'destination_group': 68}, {'source_group': 68, 'destination_group': 68}, {'source_group': 68, 'destination_group': 68}, {'source_group': 68, 'destination_group': 68}, {'source_group': 68, 'destination_group': 68}, {'source_group': 68, 'destination_group': 68}, {'source_group': 68, 'destination_group': 68}, {'source_group': 68, 'destination_group': 68}, {'source_group': 68, 'destination_group': 68}, {'source_group': 68, 'destination_group': 68}, {'source_group': 68, 'destination_group': 68}, {'source_group': 68, 'destination_group': 68}, {'source_group': 68, 'destination_group': 68}, {'source_group': 68, 'destination_group': 68}, {'source_group': 68, 'destination_group': 68}, {'source_group': 68, 'destination_group': 68}, {'source_group': 68, 'destination_group': 68}, {'source_group': 68, 'destination_group': 27}, {'source_group': 68, 'destination_group': 5}, {'source_group': 68, 'destination_group': 5}, {'source_group': 68, 'destination_group': 5}, {'source_group': 68, 'destination_group': 12}, {'source_group': 68, 'destination_group': 51}, {'source_group': 68, 'destination_group': 11}, {'source_group': 68, 'destination_group': 47}]\n"
     ]
    },
    {
     "data": {
      "text/plain": [
       "'[20,30), Overig, Man, 3'"
      ]
     },
     "execution_count": 26,
     "metadata": {},
     "output_type": "execute_result"
    }
   ],
   "source": [
    "in_degrees = {i[1]:i[0] for i in G.in_degree()}\n",
    "max_in_degree = max(in_degrees.keys())\n",
    "id_max_in_degree = in_degrees[max(in_degrees.keys())]\n",
    "\n",
    "id_max_in_degree\n",
    "type_max_in_degree = get_type_node(G,id_max_in_degree)\n",
    "# l_type_max_in_degree.append(type_max_in_degree)\n",
    "rehash_dict[type_max_in_degree]"
   ]
  },
  {
   "cell_type": "code",
   "execution_count": 118,
   "metadata": {},
   "outputs": [
    {
     "data": {
      "text/plain": [
       "0.004432430950335423"
      ]
     },
     "execution_count": 118,
     "metadata": {},
     "output_type": "execute_result"
    }
   ],
   "source": [
    "g.reciprocity()"
   ]
  },
  {
   "cell_type": "code",
   "execution_count": null,
   "metadata": {},
   "outputs": [],
   "source": []
  },
  {
   "cell_type": "code",
   "execution_count": null,
   "metadata": {},
   "outputs": [],
   "source": []
  },
  {
   "cell_type": "code",
   "execution_count": null,
   "metadata": {},
   "outputs": [],
   "source": [
    "g.diameter()\n"
   ]
  },
  {
   "cell_type": "code",
   "execution_count": 2,
   "metadata": {},
   "outputs": [],
   "source": [
    "df = pd.read_csv(f'Data/NW_data/huishouden_nw_b=0.csv')\n"
   ]
  },
  {
   "cell_type": "code",
   "execution_count": 4,
   "metadata": {},
   "outputs": [],
   "source": [
    "\n",
    "df2 =  pd.read_csv(f'Data/NW_data/familie_nw_b=0_1_reciprocity.csv')\n"
   ]
  },
  {
   "cell_type": "code",
   "execution_count": 34,
   "metadata": {},
   "outputs": [],
   "source": [
    "n_df = pd.concat([df, df2, df3])"
   ]
  },
  {
   "cell_type": "code",
   "execution_count": 6,
   "metadata": {},
   "outputs": [
    {
     "ename": "NameError",
     "evalue": "name 'n_df' is not defined",
     "output_type": "error",
     "traceback": [
      "\u001b[1;31m---------------------------------------------------------------------------\u001b[0m",
      "\u001b[1;31mNameError\u001b[0m                                 Traceback (most recent call last)",
      "\u001b[1;32m<ipython-input-6-13be55915927>\u001b[0m in \u001b[0;36m<module>\u001b[1;34m\u001b[0m\n\u001b[1;32m----> 1\u001b[1;33m \u001b[0mn_df\u001b[0m\u001b[1;33m.\u001b[0m\u001b[0mhead\u001b[0m\u001b[1;33m(\u001b[0m\u001b[1;33m)\u001b[0m\u001b[1;33m\u001b[0m\u001b[1;33m\u001b[0m\u001b[0m\n\u001b[0m",
      "\u001b[1;31mNameError\u001b[0m: name 'n_df' is not defined"
     ]
    }
   ],
   "source": [
    "n_df.head()"
   ]
  },
  {
   "cell_type": "code",
   "execution_count": 36,
   "metadata": {},
   "outputs": [],
   "source": [
    "g = ig.Graph.TupleList(n_df[['source_id','destination_id']].itertuples(index=False), directed=True, weights=False)"
   ]
  },
  {
   "cell_type": "code",
   "execution_count": 21,
   "metadata": {},
   "outputs": [],
   "source": [
    "edge_list = g.get_edgelist()"
   ]
  },
  {
   "cell_type": "code",
   "execution_count": 24,
   "metadata": {},
   "outputs": [],
   "source": [
    "edge_list = np.array(edge_list)"
   ]
  },
  {
   "cell_type": "code",
   "execution_count": 27,
   "metadata": {},
   "outputs": [
    {
     "data": {
      "text/plain": [
       "802930"
      ]
     },
     "execution_count": 27,
     "metadata": {},
     "output_type": "execute_result"
    }
   ],
   "source": [
    "max(edge_list.flatten())"
   ]
  },
  {
   "cell_type": "code",
   "execution_count": 28,
   "metadata": {},
   "outputs": [],
   "source": [
    "rn = np.random.randint(802930, size=(100,2))\n",
    "\n",
    "x = rn[:,0]\n",
    "y = rn[:,1]"
   ]
  },
  {
   "cell_type": "code",
   "execution_count": 29,
   "metadata": {},
   "outputs": [],
   "source": [
    "sp = g.shortest_paths(x, y, mode='in')"
   ]
  },
  {
   "cell_type": "code",
   "execution_count": 33,
   "metadata": {},
   "outputs": [
    {
     "data": {
      "text/plain": [
       "8.0138"
      ]
     },
     "execution_count": 33,
     "metadata": {},
     "output_type": "execute_result"
    }
   ],
   "source": [
    "sp = np.array(sp)\n",
    "\n",
    "sp1 = sp.copy()\n",
    "sp1[sp == np.inf] = 20\n",
    "# sp = sp.flatten()\n",
    "\n",
    "# np.mean(sp1)\n",
    "# # list(sp).count(np.inf)\n",
    "# # len(sp)\n",
    "\n",
    "np.mean(sp1.flatten())"
   ]
  },
  {
   "cell_type": "code",
   "execution_count": 5,
   "metadata": {},
   "outputs": [],
   "source": []
  },
  {
   "cell_type": "code",
   "execution_count": 28,
   "metadata": {},
   "outputs": [
    {
     "data": {
      "text/plain": [
       "8.1632"
      ]
     },
     "execution_count": 28,
     "metadata": {},
     "output_type": "execute_result"
    }
   ],
   "source": []
  },
  {
   "cell_type": "code",
   "execution_count": 25,
   "metadata": {},
   "outputs": [
    {
     "data": {
      "text/plain": [
       "2"
      ]
     },
     "execution_count": 25,
     "metadata": {},
     "output_type": "execute_result"
    }
   ],
   "source": [
    "len(g.clusters('strong')[0])"
   ]
  },
  {
   "cell_type": "code",
   "execution_count": 2,
   "metadata": {},
   "outputs": [],
   "source": [
    "df = pd.read_csv('all_values.csv')"
   ]
  },
  {
   "cell_type": "code",
   "execution_count": 39,
   "metadata": {},
   "outputs": [
    {
     "data": {
      "text/html": [
       "<div>\n",
       "<style scoped>\n",
       "    .dataframe tbody tr th:only-of-type {\n",
       "        vertical-align: middle;\n",
       "    }\n",
       "\n",
       "    .dataframe tbody tr th {\n",
       "        vertical-align: top;\n",
       "    }\n",
       "\n",
       "    .dataframe thead th {\n",
       "        text-align: right;\n",
       "    }\n",
       "</style>\n",
       "<table border=\"1\" class=\"dataframe\">\n",
       "  <thead>\n",
       "    <tr style=\"text-align: right;\">\n",
       "      <th></th>\n",
       "      <th>Unnamed: 0</th>\n",
       "      <th>Data/NW_data2\\buren_nw_b=0_0_reciprocity.csv</th>\n",
       "      <th>Data/NW_data2\\buren_nw_barabasi=0_spatial.csv</th>\n",
       "      <th>Data/NW_data2\\buren_nw_barabasi=1_100_percentage_0.5_reciprocity.csv</th>\n",
       "      <th>Data/NW_data2\\buren_nw_barabasi=1_100_percentage_0_reciprocity.csv</th>\n",
       "      <th>Data/NW_data2\\buren_nw_barabasi=1_10_percentage_0.5_reciprocity.csv</th>\n",
       "      <th>Data/NW_data2\\buren_nw_barabasi=1_10_percentage_0_reciprocity.csv</th>\n",
       "      <th>Data/NW_data2\\buren_nw_barabasi=1_1_percentage_0.5_reciprocity.csv</th>\n",
       "      <th>Data/NW_data2\\buren_nw_barabasi=1_1_percentage_0_reciprocity.csv</th>\n",
       "      <th>Data/NW_data2\\buren_nw_barabasi=1_1_percentage_1_reciprocity.csv</th>\n",
       "      <th>...</th>\n",
       "      <th>Data/NW_data2\\werkschool_nw_barabasi=1_100_percentage_0_reciprocity.csv</th>\n",
       "      <th>Data/NW_data2\\werkschool_nw_barabasi=1_10_percentage_0.5_reciprocity.csv</th>\n",
       "      <th>Data/NW_data2\\werkschool_nw_barabasi=1_10_percentage_0_reciprocity.csv</th>\n",
       "      <th>Data/NW_data2\\werkschool_nw_barabasi=1_1_percentage_0.5_reciprocity.csv</th>\n",
       "      <th>Data/NW_data2\\werkschool_nw_barabasi=1_1_percentage_0_reciprocity.csv</th>\n",
       "      <th>Data/NW_data2\\werkschool_nw_barabasi=1_1_percentage_1_reciprocity.csv</th>\n",
       "      <th>Data/NW_data2\\werkschool_nw_barabasi=1_50_percentage_0.5_reciprocity.csv</th>\n",
       "      <th>Data/NW_data2\\werkschool_nw_barabasi=1_50_percentage_0_reciprocity.csv</th>\n",
       "      <th>Data/NW_data2\\werkschool_nw_barabasi=1_5_percentage_0.5_reciprocity.csv</th>\n",
       "      <th>Data/NW_data2\\werkschool_nw_barabasi=1_5_percentage_0_reciprocity.csv</th>\n",
       "    </tr>\n",
       "  </thead>\n",
       "  <tbody>\n",
       "    <tr>\n",
       "      <th>0</th>\n",
       "      <td>Connected nodes</td>\n",
       "      <td>8.601900e+05</td>\n",
       "      <td>8.601480e+05</td>\n",
       "      <td>860157.000000</td>\n",
       "      <td>860157.000000</td>\n",
       "      <td>8.599190e+05</td>\n",
       "      <td>859970.000000</td>\n",
       "      <td>859827.000000</td>\n",
       "      <td>8.598120e+05</td>\n",
       "      <td>859816.000000</td>\n",
       "      <td>...</td>\n",
       "      <td>8.114010e+05</td>\n",
       "      <td>810300.000000</td>\n",
       "      <td>8.103500e+05</td>\n",
       "      <td>808400.000000</td>\n",
       "      <td>808335.000000</td>\n",
       "      <td>808408.000000</td>\n",
       "      <td>8.112460e+05</td>\n",
       "      <td>8.112730e+05</td>\n",
       "      <td>8.097910e+05</td>\n",
       "      <td>8.097660e+05</td>\n",
       "    </tr>\n",
       "    <tr>\n",
       "      <th>1</th>\n",
       "      <td>Shortest path</td>\n",
       "      <td>inf</td>\n",
       "      <td>inf</td>\n",
       "      <td>4.257800</td>\n",
       "      <td>4.731400</td>\n",
       "      <td>inf</td>\n",
       "      <td>4.785100</td>\n",
       "      <td>4.248200</td>\n",
       "      <td>inf</td>\n",
       "      <td>3.963300</td>\n",
       "      <td>...</td>\n",
       "      <td>inf</td>\n",
       "      <td>3.812700</td>\n",
       "      <td>inf</td>\n",
       "      <td>3.864000</td>\n",
       "      <td>4.158200</td>\n",
       "      <td>3.639500</td>\n",
       "      <td>inf</td>\n",
       "      <td>inf</td>\n",
       "      <td>inf</td>\n",
       "      <td>inf</td>\n",
       "    </tr>\n",
       "    <tr>\n",
       "      <th>2</th>\n",
       "      <td>Shortest path2</td>\n",
       "      <td>5.616000e+00</td>\n",
       "      <td>9.688200e+00</td>\n",
       "      <td>4.257800</td>\n",
       "      <td>4.731400</td>\n",
       "      <td>5.218700e+00</td>\n",
       "      <td>4.785100</td>\n",
       "      <td>4.248200</td>\n",
       "      <td>6.756200e+00</td>\n",
       "      <td>3.963300</td>\n",
       "      <td>...</td>\n",
       "      <td>6.113400e+00</td>\n",
       "      <td>3.812700</td>\n",
       "      <td>6.048300e+00</td>\n",
       "      <td>3.864000</td>\n",
       "      <td>4.158200</td>\n",
       "      <td>3.639500</td>\n",
       "      <td>5.761700e+00</td>\n",
       "      <td>8.919500e+00</td>\n",
       "      <td>5.790300e+00</td>\n",
       "      <td>6.089800e+00</td>\n",
       "    </tr>\n",
       "    <tr>\n",
       "      <th>3</th>\n",
       "      <td>Assortativity</td>\n",
       "      <td>9.404163e-01</td>\n",
       "      <td>9.413774e-01</td>\n",
       "      <td>0.932237</td>\n",
       "      <td>0.922721</td>\n",
       "      <td>9.230751e-01</td>\n",
       "      <td>0.905312</td>\n",
       "      <td>0.910105</td>\n",
       "      <td>8.825498e-01</td>\n",
       "      <td>0.916592</td>\n",
       "      <td>...</td>\n",
       "      <td>1.787071e-01</td>\n",
       "      <td>0.165316</td>\n",
       "      <td>1.533481e-01</td>\n",
       "      <td>0.122122</td>\n",
       "      <td>0.119542</td>\n",
       "      <td>0.122011</td>\n",
       "      <td>1.884543e-01</td>\n",
       "      <td>1.723705e-01</td>\n",
       "      <td>1.541266e-01</td>\n",
       "      <td>1.440313e-01</td>\n",
       "    </tr>\n",
       "    <tr>\n",
       "      <th>4</th>\n",
       "      <td>Reciprocity</td>\n",
       "      <td>4.432431e-03</td>\n",
       "      <td>7.925256e-02</td>\n",
       "      <td>0.667819</td>\n",
       "      <td>0.004467</td>\n",
       "      <td>6.677678e-01</td>\n",
       "      <td>0.004463</td>\n",
       "      <td>0.667749</td>\n",
       "      <td>4.421738e-03</td>\n",
       "      <td>1.000000</td>\n",
       "      <td>...</td>\n",
       "      <td>1.781187e-04</td>\n",
       "      <td>0.666659</td>\n",
       "      <td>1.857474e-04</td>\n",
       "      <td>0.666561</td>\n",
       "      <td>0.000179</td>\n",
       "      <td>1.000000</td>\n",
       "      <td>6.668132e-01</td>\n",
       "      <td>1.822736e-04</td>\n",
       "      <td>6.667143e-01</td>\n",
       "      <td>1.873822e-04</td>\n",
       "    </tr>\n",
       "  </tbody>\n",
       "</table>\n",
       "<p>5 rows × 31 columns</p>\n",
       "</div>"
      ],
      "text/plain": [
       "        Unnamed: 0  Data/NW_data2\\buren_nw_b=0_0_reciprocity.csv  \\\n",
       "0  Connected nodes                                  8.601900e+05   \n",
       "1    Shortest path                                           inf   \n",
       "2   Shortest path2                                  5.616000e+00   \n",
       "3   Assortativity                                   9.404163e-01   \n",
       "4      Reciprocity                                  4.432431e-03   \n",
       "\n",
       "   Data/NW_data2\\buren_nw_barabasi=0_spatial.csv  \\\n",
       "0                                   8.601480e+05   \n",
       "1                                            inf   \n",
       "2                                   9.688200e+00   \n",
       "3                                   9.413774e-01   \n",
       "4                                   7.925256e-02   \n",
       "\n",
       "   Data/NW_data2\\buren_nw_barabasi=1_100_percentage_0.5_reciprocity.csv  \\\n",
       "0                                      860157.000000                      \n",
       "1                                           4.257800                      \n",
       "2                                           4.257800                      \n",
       "3                                           0.932237                      \n",
       "4                                           0.667819                      \n",
       "\n",
       "   Data/NW_data2\\buren_nw_barabasi=1_100_percentage_0_reciprocity.csv  \\\n",
       "0                                      860157.000000                    \n",
       "1                                           4.731400                    \n",
       "2                                           4.731400                    \n",
       "3                                           0.922721                    \n",
       "4                                           0.004467                    \n",
       "\n",
       "   Data/NW_data2\\buren_nw_barabasi=1_10_percentage_0.5_reciprocity.csv  \\\n",
       "0                                       8.599190e+05                     \n",
       "1                                                inf                     \n",
       "2                                       5.218700e+00                     \n",
       "3                                       9.230751e-01                     \n",
       "4                                       6.677678e-01                     \n",
       "\n",
       "   Data/NW_data2\\buren_nw_barabasi=1_10_percentage_0_reciprocity.csv  \\\n",
       "0                                      859970.000000                   \n",
       "1                                           4.785100                   \n",
       "2                                           4.785100                   \n",
       "3                                           0.905312                   \n",
       "4                                           0.004463                   \n",
       "\n",
       "   Data/NW_data2\\buren_nw_barabasi=1_1_percentage_0.5_reciprocity.csv  \\\n",
       "0                                      859827.000000                    \n",
       "1                                           4.248200                    \n",
       "2                                           4.248200                    \n",
       "3                                           0.910105                    \n",
       "4                                           0.667749                    \n",
       "\n",
       "   Data/NW_data2\\buren_nw_barabasi=1_1_percentage_0_reciprocity.csv  \\\n",
       "0                                       8.598120e+05                  \n",
       "1                                                inf                  \n",
       "2                                       6.756200e+00                  \n",
       "3                                       8.825498e-01                  \n",
       "4                                       4.421738e-03                  \n",
       "\n",
       "   Data/NW_data2\\buren_nw_barabasi=1_1_percentage_1_reciprocity.csv  ...  \\\n",
       "0                                      859816.000000                 ...   \n",
       "1                                           3.963300                 ...   \n",
       "2                                           3.963300                 ...   \n",
       "3                                           0.916592                 ...   \n",
       "4                                           1.000000                 ...   \n",
       "\n",
       "   Data/NW_data2\\werkschool_nw_barabasi=1_100_percentage_0_reciprocity.csv  \\\n",
       "0                                       8.114010e+05                         \n",
       "1                                                inf                         \n",
       "2                                       6.113400e+00                         \n",
       "3                                       1.787071e-01                         \n",
       "4                                       1.781187e-04                         \n",
       "\n",
       "   Data/NW_data2\\werkschool_nw_barabasi=1_10_percentage_0.5_reciprocity.csv  \\\n",
       "0                                      810300.000000                          \n",
       "1                                           3.812700                          \n",
       "2                                           3.812700                          \n",
       "3                                           0.165316                          \n",
       "4                                           0.666659                          \n",
       "\n",
       "   Data/NW_data2\\werkschool_nw_barabasi=1_10_percentage_0_reciprocity.csv  \\\n",
       "0                                       8.103500e+05                        \n",
       "1                                                inf                        \n",
       "2                                       6.048300e+00                        \n",
       "3                                       1.533481e-01                        \n",
       "4                                       1.857474e-04                        \n",
       "\n",
       "   Data/NW_data2\\werkschool_nw_barabasi=1_1_percentage_0.5_reciprocity.csv  \\\n",
       "0                                      808400.000000                         \n",
       "1                                           3.864000                         \n",
       "2                                           3.864000                         \n",
       "3                                           0.122122                         \n",
       "4                                           0.666561                         \n",
       "\n",
       "   Data/NW_data2\\werkschool_nw_barabasi=1_1_percentage_0_reciprocity.csv  \\\n",
       "0                                      808335.000000                       \n",
       "1                                           4.158200                       \n",
       "2                                           4.158200                       \n",
       "3                                           0.119542                       \n",
       "4                                           0.000179                       \n",
       "\n",
       "   Data/NW_data2\\werkschool_nw_barabasi=1_1_percentage_1_reciprocity.csv  \\\n",
       "0                                      808408.000000                       \n",
       "1                                           3.639500                       \n",
       "2                                           3.639500                       \n",
       "3                                           0.122011                       \n",
       "4                                           1.000000                       \n",
       "\n",
       "   Data/NW_data2\\werkschool_nw_barabasi=1_50_percentage_0.5_reciprocity.csv  \\\n",
       "0                                       8.112460e+05                          \n",
       "1                                                inf                          \n",
       "2                                       5.761700e+00                          \n",
       "3                                       1.884543e-01                          \n",
       "4                                       6.668132e-01                          \n",
       "\n",
       "   Data/NW_data2\\werkschool_nw_barabasi=1_50_percentage_0_reciprocity.csv  \\\n",
       "0                                       8.112730e+05                        \n",
       "1                                                inf                        \n",
       "2                                       8.919500e+00                        \n",
       "3                                       1.723705e-01                        \n",
       "4                                       1.822736e-04                        \n",
       "\n",
       "   Data/NW_data2\\werkschool_nw_barabasi=1_5_percentage_0.5_reciprocity.csv  \\\n",
       "0                                       8.097910e+05                         \n",
       "1                                                inf                         \n",
       "2                                       5.790300e+00                         \n",
       "3                                       1.541266e-01                         \n",
       "4                                       6.667143e-01                         \n",
       "\n",
       "   Data/NW_data2\\werkschool_nw_barabasi=1_5_percentage_0_reciprocity.csv  \n",
       "0                                       8.097660e+05                      \n",
       "1                                                inf                      \n",
       "2                                       6.089800e+00                      \n",
       "3                                       1.440313e-01                      \n",
       "4                                       1.873822e-04                      \n",
       "\n",
       "[5 rows x 31 columns]"
      ]
     },
     "execution_count": 39,
     "metadata": {},
     "output_type": "execute_result"
    }
   ],
   "source": [
    "df"
   ]
  },
  {
   "cell_type": "code",
   "execution_count": 45,
   "metadata": {},
   "outputs": [],
   "source": [
    " df_buren = df. iloc[:, 0:17]"
   ]
  },
  {
   "cell_type": "code",
   "execution_count": 40,
   "metadata": {},
   "outputs": [
    {
     "data": {
      "text/html": [
       "<div>\n",
       "<style scoped>\n",
       "    .dataframe tbody tr th:only-of-type {\n",
       "        vertical-align: middle;\n",
       "    }\n",
       "\n",
       "    .dataframe tbody tr th {\n",
       "        vertical-align: top;\n",
       "    }\n",
       "\n",
       "    .dataframe thead th {\n",
       "        text-align: right;\n",
       "    }\n",
       "</style>\n",
       "<table border=\"1\" class=\"dataframe\">\n",
       "  <thead>\n",
       "    <tr style=\"text-align: right;\">\n",
       "      <th></th>\n",
       "      <th>Unnamed: 0</th>\n",
       "      <th>Data/NW_data2\\buren_nw_b=0_0_reciprocity.csv</th>\n",
       "      <th>Data/NW_data2\\buren_nw_barabasi=0_spatial.csv</th>\n",
       "      <th>Data/NW_data2\\buren_nw_barabasi=1_100_percentage_0.5_reciprocity.csv</th>\n",
       "      <th>Data/NW_data2\\buren_nw_barabasi=1_100_percentage_0_reciprocity.csv</th>\n",
       "      <th>Data/NW_data2\\buren_nw_barabasi=1_10_percentage_0.5_reciprocity.csv</th>\n",
       "      <th>Data/NW_data2\\buren_nw_barabasi=1_10_percentage_0_reciprocity.csv</th>\n",
       "      <th>Data/NW_data2\\buren_nw_barabasi=1_1_percentage_0.5_reciprocity.csv</th>\n",
       "      <th>Data/NW_data2\\buren_nw_barabasi=1_1_percentage_0_reciprocity.csv</th>\n",
       "      <th>Data/NW_data2\\buren_nw_barabasi=1_1_percentage_1_reciprocity.csv</th>\n",
       "      <th>Data/NW_data2\\buren_nw_barabasi=1_50_percentage_0.5_reciprocity.csv</th>\n",
       "      <th>Data/NW_data2\\buren_nw_barabasi=1_50_percentage_0_reciprocity.csv</th>\n",
       "      <th>Data/NW_data2\\buren_nw_barabasi=1_5_percentage_0.5_reciprocity.csv</th>\n",
       "      <th>Data/NW_data2\\buren_nw_barabasi=1_5_percentage_0_reciprocity.csv</th>\n",
       "      <th>Data/NW_data2\\buren_nw_barabasi=1_5_percentage_1_reciprocity.csv</th>\n",
       "    </tr>\n",
       "  </thead>\n",
       "  <tbody>\n",
       "    <tr>\n",
       "      <th>2</th>\n",
       "      <td>Shortest path2</td>\n",
       "      <td>5.616000</td>\n",
       "      <td>9.688200</td>\n",
       "      <td>4.257800</td>\n",
       "      <td>4.731400</td>\n",
       "      <td>5.218700</td>\n",
       "      <td>4.785100</td>\n",
       "      <td>4.248200</td>\n",
       "      <td>6.756200</td>\n",
       "      <td>3.9633</td>\n",
       "      <td>4.21750</td>\n",
       "      <td>4.763900</td>\n",
       "      <td>6.159700</td>\n",
       "      <td>5.721100</td>\n",
       "      <td>5.8159</td>\n",
       "    </tr>\n",
       "    <tr>\n",
       "      <th>4</th>\n",
       "      <td>Reciprocity</td>\n",
       "      <td>0.004432</td>\n",
       "      <td>0.079253</td>\n",
       "      <td>0.667819</td>\n",
       "      <td>0.004467</td>\n",
       "      <td>0.667768</td>\n",
       "      <td>0.004463</td>\n",
       "      <td>0.667749</td>\n",
       "      <td>0.004422</td>\n",
       "      <td>1.0000</td>\n",
       "      <td>0.66787</td>\n",
       "      <td>0.004472</td>\n",
       "      <td>0.667644</td>\n",
       "      <td>0.004424</td>\n",
       "      <td>1.0000</td>\n",
       "    </tr>\n",
       "  </tbody>\n",
       "</table>\n",
       "</div>"
      ],
      "text/plain": [
       "       Unnamed: 0  Data/NW_data2\\buren_nw_b=0_0_reciprocity.csv  \\\n",
       "2  Shortest path2                                      5.616000   \n",
       "4     Reciprocity                                      0.004432   \n",
       "\n",
       "   Data/NW_data2\\buren_nw_barabasi=0_spatial.csv  \\\n",
       "2                                       9.688200   \n",
       "4                                       0.079253   \n",
       "\n",
       "   Data/NW_data2\\buren_nw_barabasi=1_100_percentage_0.5_reciprocity.csv  \\\n",
       "2                                           4.257800                      \n",
       "4                                           0.667819                      \n",
       "\n",
       "   Data/NW_data2\\buren_nw_barabasi=1_100_percentage_0_reciprocity.csv  \\\n",
       "2                                           4.731400                    \n",
       "4                                           0.004467                    \n",
       "\n",
       "   Data/NW_data2\\buren_nw_barabasi=1_10_percentage_0.5_reciprocity.csv  \\\n",
       "2                                           5.218700                     \n",
       "4                                           0.667768                     \n",
       "\n",
       "   Data/NW_data2\\buren_nw_barabasi=1_10_percentage_0_reciprocity.csv  \\\n",
       "2                                           4.785100                   \n",
       "4                                           0.004463                   \n",
       "\n",
       "   Data/NW_data2\\buren_nw_barabasi=1_1_percentage_0.5_reciprocity.csv  \\\n",
       "2                                           4.248200                    \n",
       "4                                           0.667749                    \n",
       "\n",
       "   Data/NW_data2\\buren_nw_barabasi=1_1_percentage_0_reciprocity.csv  \\\n",
       "2                                           6.756200                  \n",
       "4                                           0.004422                  \n",
       "\n",
       "   Data/NW_data2\\buren_nw_barabasi=1_1_percentage_1_reciprocity.csv  \\\n",
       "2                                             3.9633                  \n",
       "4                                             1.0000                  \n",
       "\n",
       "   Data/NW_data2\\buren_nw_barabasi=1_50_percentage_0.5_reciprocity.csv  \\\n",
       "2                                            4.21750                     \n",
       "4                                            0.66787                     \n",
       "\n",
       "   Data/NW_data2\\buren_nw_barabasi=1_50_percentage_0_reciprocity.csv  \\\n",
       "2                                           4.763900                   \n",
       "4                                           0.004472                   \n",
       "\n",
       "   Data/NW_data2\\buren_nw_barabasi=1_5_percentage_0.5_reciprocity.csv  \\\n",
       "2                                           6.159700                    \n",
       "4                                           0.667644                    \n",
       "\n",
       "   Data/NW_data2\\buren_nw_barabasi=1_5_percentage_0_reciprocity.csv  \\\n",
       "2                                           5.721100                  \n",
       "4                                           0.004424                  \n",
       "\n",
       "   Data/NW_data2\\buren_nw_barabasi=1_5_percentage_1_reciprocity.csv  \n",
       "2                                             5.8159                 \n",
       "4                                             1.0000                 "
      ]
     },
     "execution_count": 40,
     "metadata": {},
     "output_type": "execute_result"
    }
   ],
   "source": [
    "df_buren[(df_buren['Unnamed: 0'] == 'Shortest path2') | (df_buren['Unnamed: 0'] == 'Reciprocity')]"
   ]
  },
  {
   "cell_type": "code",
   "execution_count": 47,
   "metadata": {},
   "outputs": [
    {
     "data": {
      "text/html": [
       "<div>\n",
       "<style scoped>\n",
       "    .dataframe tbody tr th:only-of-type {\n",
       "        vertical-align: middle;\n",
       "    }\n",
       "\n",
       "    .dataframe tbody tr th {\n",
       "        vertical-align: top;\n",
       "    }\n",
       "\n",
       "    .dataframe thead th {\n",
       "        text-align: right;\n",
       "    }\n",
       "</style>\n",
       "<table border=\"1\" class=\"dataframe\">\n",
       "  <thead>\n",
       "    <tr style=\"text-align: right;\">\n",
       "      <th></th>\n",
       "      <th>Unnamed: 0</th>\n",
       "      <th>Data/NW_data2\\buren_nw_b=0_0_reciprocity.csv</th>\n",
       "      <th>Data/NW_data2\\buren_nw_barabasi=0_spatial.csv</th>\n",
       "      <th>Data/NW_data2\\buren_nw_barabasi=1_100_percentage_0.5_reciprocity.csv</th>\n",
       "      <th>Data/NW_data2\\buren_nw_barabasi=1_100_percentage_0_reciprocity.csv</th>\n",
       "      <th>Data/NW_data2\\buren_nw_barabasi=1_10_percentage_0.5_reciprocity.csv</th>\n",
       "      <th>Data/NW_data2\\buren_nw_barabasi=1_10_percentage_0_reciprocity.csv</th>\n",
       "      <th>Data/NW_data2\\buren_nw_barabasi=1_1_percentage_0.5_reciprocity.csv</th>\n",
       "      <th>Data/NW_data2\\buren_nw_barabasi=1_1_percentage_0_reciprocity.csv</th>\n",
       "      <th>Data/NW_data2\\buren_nw_barabasi=1_1_percentage_1_reciprocity.csv</th>\n",
       "      <th>...</th>\n",
       "      <th>Data/NW_data2\\werkschool_nw_barabasi=1_100_percentage_0_reciprocity.csv</th>\n",
       "      <th>Data/NW_data2\\werkschool_nw_barabasi=1_10_percentage_0.5_reciprocity.csv</th>\n",
       "      <th>Data/NW_data2\\werkschool_nw_barabasi=1_10_percentage_0_reciprocity.csv</th>\n",
       "      <th>Data/NW_data2\\werkschool_nw_barabasi=1_1_percentage_0.5_reciprocity.csv</th>\n",
       "      <th>Data/NW_data2\\werkschool_nw_barabasi=1_1_percentage_0_reciprocity.csv</th>\n",
       "      <th>Data/NW_data2\\werkschool_nw_barabasi=1_1_percentage_1_reciprocity.csv</th>\n",
       "      <th>Data/NW_data2\\werkschool_nw_barabasi=1_50_percentage_0.5_reciprocity.csv</th>\n",
       "      <th>Data/NW_data2\\werkschool_nw_barabasi=1_50_percentage_0_reciprocity.csv</th>\n",
       "      <th>Data/NW_data2\\werkschool_nw_barabasi=1_5_percentage_0.5_reciprocity.csv</th>\n",
       "      <th>Data/NW_data2\\werkschool_nw_barabasi=1_5_percentage_0_reciprocity.csv</th>\n",
       "    </tr>\n",
       "  </thead>\n",
       "  <tbody>\n",
       "    <tr>\n",
       "      <th>0</th>\n",
       "      <td>Connected nodes</td>\n",
       "      <td>8.601900e+05</td>\n",
       "      <td>8.601480e+05</td>\n",
       "      <td>860157.000000</td>\n",
       "      <td>860157.000000</td>\n",
       "      <td>8.599190e+05</td>\n",
       "      <td>859970.000000</td>\n",
       "      <td>859827.000000</td>\n",
       "      <td>8.598120e+05</td>\n",
       "      <td>859816.000000</td>\n",
       "      <td>...</td>\n",
       "      <td>8.114010e+05</td>\n",
       "      <td>810300.000000</td>\n",
       "      <td>8.103500e+05</td>\n",
       "      <td>808400.000000</td>\n",
       "      <td>808335.000000</td>\n",
       "      <td>808408.000000</td>\n",
       "      <td>8.112460e+05</td>\n",
       "      <td>8.112730e+05</td>\n",
       "      <td>8.097910e+05</td>\n",
       "      <td>8.097660e+05</td>\n",
       "    </tr>\n",
       "    <tr>\n",
       "      <th>1</th>\n",
       "      <td>Shortest path</td>\n",
       "      <td>inf</td>\n",
       "      <td>inf</td>\n",
       "      <td>4.257800</td>\n",
       "      <td>4.731400</td>\n",
       "      <td>inf</td>\n",
       "      <td>4.785100</td>\n",
       "      <td>4.248200</td>\n",
       "      <td>inf</td>\n",
       "      <td>3.963300</td>\n",
       "      <td>...</td>\n",
       "      <td>inf</td>\n",
       "      <td>3.812700</td>\n",
       "      <td>inf</td>\n",
       "      <td>3.864000</td>\n",
       "      <td>4.158200</td>\n",
       "      <td>3.639500</td>\n",
       "      <td>inf</td>\n",
       "      <td>inf</td>\n",
       "      <td>inf</td>\n",
       "      <td>inf</td>\n",
       "    </tr>\n",
       "    <tr>\n",
       "      <th>2</th>\n",
       "      <td>Shortest path2</td>\n",
       "      <td>5.616000e+00</td>\n",
       "      <td>9.688200e+00</td>\n",
       "      <td>4.257800</td>\n",
       "      <td>4.731400</td>\n",
       "      <td>5.218700e+00</td>\n",
       "      <td>4.785100</td>\n",
       "      <td>4.248200</td>\n",
       "      <td>6.756200e+00</td>\n",
       "      <td>3.963300</td>\n",
       "      <td>...</td>\n",
       "      <td>6.113400e+00</td>\n",
       "      <td>3.812700</td>\n",
       "      <td>6.048300e+00</td>\n",
       "      <td>3.864000</td>\n",
       "      <td>4.158200</td>\n",
       "      <td>3.639500</td>\n",
       "      <td>5.761700e+00</td>\n",
       "      <td>8.919500e+00</td>\n",
       "      <td>5.790300e+00</td>\n",
       "      <td>6.089800e+00</td>\n",
       "    </tr>\n",
       "    <tr>\n",
       "      <th>3</th>\n",
       "      <td>Assortativity</td>\n",
       "      <td>9.404163e-01</td>\n",
       "      <td>9.413774e-01</td>\n",
       "      <td>0.932237</td>\n",
       "      <td>0.922721</td>\n",
       "      <td>9.230751e-01</td>\n",
       "      <td>0.905312</td>\n",
       "      <td>0.910105</td>\n",
       "      <td>8.825498e-01</td>\n",
       "      <td>0.916592</td>\n",
       "      <td>...</td>\n",
       "      <td>1.787071e-01</td>\n",
       "      <td>0.165316</td>\n",
       "      <td>1.533481e-01</td>\n",
       "      <td>0.122122</td>\n",
       "      <td>0.119542</td>\n",
       "      <td>0.122011</td>\n",
       "      <td>1.884543e-01</td>\n",
       "      <td>1.723705e-01</td>\n",
       "      <td>1.541266e-01</td>\n",
       "      <td>1.440313e-01</td>\n",
       "    </tr>\n",
       "    <tr>\n",
       "      <th>4</th>\n",
       "      <td>Reciprocity</td>\n",
       "      <td>4.432431e-03</td>\n",
       "      <td>7.925256e-02</td>\n",
       "      <td>0.667819</td>\n",
       "      <td>0.004467</td>\n",
       "      <td>6.677678e-01</td>\n",
       "      <td>0.004463</td>\n",
       "      <td>0.667749</td>\n",
       "      <td>4.421738e-03</td>\n",
       "      <td>1.000000</td>\n",
       "      <td>...</td>\n",
       "      <td>1.781187e-04</td>\n",
       "      <td>0.666659</td>\n",
       "      <td>1.857474e-04</td>\n",
       "      <td>0.666561</td>\n",
       "      <td>0.000179</td>\n",
       "      <td>1.000000</td>\n",
       "      <td>6.668132e-01</td>\n",
       "      <td>1.822736e-04</td>\n",
       "      <td>6.667143e-01</td>\n",
       "      <td>1.873822e-04</td>\n",
       "    </tr>\n",
       "  </tbody>\n",
       "</table>\n",
       "<p>5 rows × 31 columns</p>\n",
       "</div>"
      ],
      "text/plain": [
       "        Unnamed: 0  Data/NW_data2\\buren_nw_b=0_0_reciprocity.csv  \\\n",
       "0  Connected nodes                                  8.601900e+05   \n",
       "1    Shortest path                                           inf   \n",
       "2   Shortest path2                                  5.616000e+00   \n",
       "3   Assortativity                                   9.404163e-01   \n",
       "4      Reciprocity                                  4.432431e-03   \n",
       "\n",
       "   Data/NW_data2\\buren_nw_barabasi=0_spatial.csv  \\\n",
       "0                                   8.601480e+05   \n",
       "1                                            inf   \n",
       "2                                   9.688200e+00   \n",
       "3                                   9.413774e-01   \n",
       "4                                   7.925256e-02   \n",
       "\n",
       "   Data/NW_data2\\buren_nw_barabasi=1_100_percentage_0.5_reciprocity.csv  \\\n",
       "0                                      860157.000000                      \n",
       "1                                           4.257800                      \n",
       "2                                           4.257800                      \n",
       "3                                           0.932237                      \n",
       "4                                           0.667819                      \n",
       "\n",
       "   Data/NW_data2\\buren_nw_barabasi=1_100_percentage_0_reciprocity.csv  \\\n",
       "0                                      860157.000000                    \n",
       "1                                           4.731400                    \n",
       "2                                           4.731400                    \n",
       "3                                           0.922721                    \n",
       "4                                           0.004467                    \n",
       "\n",
       "   Data/NW_data2\\buren_nw_barabasi=1_10_percentage_0.5_reciprocity.csv  \\\n",
       "0                                       8.599190e+05                     \n",
       "1                                                inf                     \n",
       "2                                       5.218700e+00                     \n",
       "3                                       9.230751e-01                     \n",
       "4                                       6.677678e-01                     \n",
       "\n",
       "   Data/NW_data2\\buren_nw_barabasi=1_10_percentage_0_reciprocity.csv  \\\n",
       "0                                      859970.000000                   \n",
       "1                                           4.785100                   \n",
       "2                                           4.785100                   \n",
       "3                                           0.905312                   \n",
       "4                                           0.004463                   \n",
       "\n",
       "   Data/NW_data2\\buren_nw_barabasi=1_1_percentage_0.5_reciprocity.csv  \\\n",
       "0                                      859827.000000                    \n",
       "1                                           4.248200                    \n",
       "2                                           4.248200                    \n",
       "3                                           0.910105                    \n",
       "4                                           0.667749                    \n",
       "\n",
       "   Data/NW_data2\\buren_nw_barabasi=1_1_percentage_0_reciprocity.csv  \\\n",
       "0                                       8.598120e+05                  \n",
       "1                                                inf                  \n",
       "2                                       6.756200e+00                  \n",
       "3                                       8.825498e-01                  \n",
       "4                                       4.421738e-03                  \n",
       "\n",
       "   Data/NW_data2\\buren_nw_barabasi=1_1_percentage_1_reciprocity.csv  ...  \\\n",
       "0                                      859816.000000                 ...   \n",
       "1                                           3.963300                 ...   \n",
       "2                                           3.963300                 ...   \n",
       "3                                           0.916592                 ...   \n",
       "4                                           1.000000                 ...   \n",
       "\n",
       "   Data/NW_data2\\werkschool_nw_barabasi=1_100_percentage_0_reciprocity.csv  \\\n",
       "0                                       8.114010e+05                         \n",
       "1                                                inf                         \n",
       "2                                       6.113400e+00                         \n",
       "3                                       1.787071e-01                         \n",
       "4                                       1.781187e-04                         \n",
       "\n",
       "   Data/NW_data2\\werkschool_nw_barabasi=1_10_percentage_0.5_reciprocity.csv  \\\n",
       "0                                      810300.000000                          \n",
       "1                                           3.812700                          \n",
       "2                                           3.812700                          \n",
       "3                                           0.165316                          \n",
       "4                                           0.666659                          \n",
       "\n",
       "   Data/NW_data2\\werkschool_nw_barabasi=1_10_percentage_0_reciprocity.csv  \\\n",
       "0                                       8.103500e+05                        \n",
       "1                                                inf                        \n",
       "2                                       6.048300e+00                        \n",
       "3                                       1.533481e-01                        \n",
       "4                                       1.857474e-04                        \n",
       "\n",
       "   Data/NW_data2\\werkschool_nw_barabasi=1_1_percentage_0.5_reciprocity.csv  \\\n",
       "0                                      808400.000000                         \n",
       "1                                           3.864000                         \n",
       "2                                           3.864000                         \n",
       "3                                           0.122122                         \n",
       "4                                           0.666561                         \n",
       "\n",
       "   Data/NW_data2\\werkschool_nw_barabasi=1_1_percentage_0_reciprocity.csv  \\\n",
       "0                                      808335.000000                       \n",
       "1                                           4.158200                       \n",
       "2                                           4.158200                       \n",
       "3                                           0.119542                       \n",
       "4                                           0.000179                       \n",
       "\n",
       "   Data/NW_data2\\werkschool_nw_barabasi=1_1_percentage_1_reciprocity.csv  \\\n",
       "0                                      808408.000000                       \n",
       "1                                           3.639500                       \n",
       "2                                           3.639500                       \n",
       "3                                           0.122011                       \n",
       "4                                           1.000000                       \n",
       "\n",
       "   Data/NW_data2\\werkschool_nw_barabasi=1_50_percentage_0.5_reciprocity.csv  \\\n",
       "0                                       8.112460e+05                          \n",
       "1                                                inf                          \n",
       "2                                       5.761700e+00                          \n",
       "3                                       1.884543e-01                          \n",
       "4                                       6.668132e-01                          \n",
       "\n",
       "   Data/NW_data2\\werkschool_nw_barabasi=1_50_percentage_0_reciprocity.csv  \\\n",
       "0                                       8.112730e+05                        \n",
       "1                                                inf                        \n",
       "2                                       8.919500e+00                        \n",
       "3                                       1.723705e-01                        \n",
       "4                                       1.822736e-04                        \n",
       "\n",
       "   Data/NW_data2\\werkschool_nw_barabasi=1_5_percentage_0.5_reciprocity.csv  \\\n",
       "0                                       8.097910e+05                         \n",
       "1                                                inf                         \n",
       "2                                       5.790300e+00                         \n",
       "3                                       1.541266e-01                         \n",
       "4                                       6.667143e-01                         \n",
       "\n",
       "   Data/NW_data2\\werkschool_nw_barabasi=1_5_percentage_0_reciprocity.csv  \n",
       "0                                       8.097660e+05                      \n",
       "1                                                inf                      \n",
       "2                                       6.089800e+00                      \n",
       "3                                       1.440313e-01                      \n",
       "4                                       1.873822e-04                      \n",
       "\n",
       "[5 rows x 31 columns]"
      ]
     },
     "execution_count": 47,
     "metadata": {},
     "output_type": "execute_result"
    }
   ],
   "source": [
    "df"
   ]
  },
  {
   "cell_type": "code",
   "execution_count": 52,
   "metadata": {},
   "outputs": [],
   "source": [
    " df_buren = df. iloc[:, 19:-1]"
   ]
  },
  {
   "cell_type": "code",
   "execution_count": 53,
   "metadata": {},
   "outputs": [
    {
     "data": {
      "text/html": [
       "<div>\n",
       "<style scoped>\n",
       "    .dataframe tbody tr th:only-of-type {\n",
       "        vertical-align: middle;\n",
       "    }\n",
       "\n",
       "    .dataframe tbody tr th {\n",
       "        vertical-align: top;\n",
       "    }\n",
       "\n",
       "    .dataframe thead th {\n",
       "        text-align: right;\n",
       "    }\n",
       "</style>\n",
       "<table border=\"1\" class=\"dataframe\">\n",
       "  <thead>\n",
       "    <tr style=\"text-align: right;\">\n",
       "      <th></th>\n",
       "      <th>Data/NW_data2\\werkschool_nw_b=0.csv</th>\n",
       "      <th>Data/NW_data2\\werkschool_nw_barabasi=1_100_percentage_0.5_reciprocity.csv</th>\n",
       "      <th>Data/NW_data2\\werkschool_nw_barabasi=1_100_percentage_0_reciprocity.csv</th>\n",
       "      <th>Data/NW_data2\\werkschool_nw_barabasi=1_10_percentage_0.5_reciprocity.csv</th>\n",
       "      <th>Data/NW_data2\\werkschool_nw_barabasi=1_10_percentage_0_reciprocity.csv</th>\n",
       "      <th>Data/NW_data2\\werkschool_nw_barabasi=1_1_percentage_0.5_reciprocity.csv</th>\n",
       "      <th>Data/NW_data2\\werkschool_nw_barabasi=1_1_percentage_0_reciprocity.csv</th>\n",
       "      <th>Data/NW_data2\\werkschool_nw_barabasi=1_1_percentage_1_reciprocity.csv</th>\n",
       "      <th>Data/NW_data2\\werkschool_nw_barabasi=1_50_percentage_0.5_reciprocity.csv</th>\n",
       "      <th>Data/NW_data2\\werkschool_nw_barabasi=1_50_percentage_0_reciprocity.csv</th>\n",
       "      <th>Data/NW_data2\\werkschool_nw_barabasi=1_5_percentage_0.5_reciprocity.csv</th>\n",
       "    </tr>\n",
       "  </thead>\n",
       "  <tbody>\n",
       "    <tr>\n",
       "      <th>0</th>\n",
       "      <td>8.023700e+05</td>\n",
       "      <td>811363.000000</td>\n",
       "      <td>8.114010e+05</td>\n",
       "      <td>810300.000000</td>\n",
       "      <td>8.103500e+05</td>\n",
       "      <td>808400.000000</td>\n",
       "      <td>808335.000000</td>\n",
       "      <td>808408.000000</td>\n",
       "      <td>8.112460e+05</td>\n",
       "      <td>8.112730e+05</td>\n",
       "      <td>8.097910e+05</td>\n",
       "    </tr>\n",
       "    <tr>\n",
       "      <th>1</th>\n",
       "      <td>inf</td>\n",
       "      <td>3.819600</td>\n",
       "      <td>inf</td>\n",
       "      <td>3.812700</td>\n",
       "      <td>inf</td>\n",
       "      <td>3.864000</td>\n",
       "      <td>4.158200</td>\n",
       "      <td>3.639500</td>\n",
       "      <td>inf</td>\n",
       "      <td>inf</td>\n",
       "      <td>inf</td>\n",
       "    </tr>\n",
       "    <tr>\n",
       "      <th>2</th>\n",
       "      <td>3.229830e+01</td>\n",
       "      <td>3.819600</td>\n",
       "      <td>6.113400e+00</td>\n",
       "      <td>3.812700</td>\n",
       "      <td>6.048300e+00</td>\n",
       "      <td>3.864000</td>\n",
       "      <td>4.158200</td>\n",
       "      <td>3.639500</td>\n",
       "      <td>5.761700e+00</td>\n",
       "      <td>8.919500e+00</td>\n",
       "      <td>5.790300e+00</td>\n",
       "    </tr>\n",
       "    <tr>\n",
       "      <th>3</th>\n",
       "      <td>1.109439e-01</td>\n",
       "      <td>0.196428</td>\n",
       "      <td>1.787071e-01</td>\n",
       "      <td>0.165316</td>\n",
       "      <td>1.533481e-01</td>\n",
       "      <td>0.122122</td>\n",
       "      <td>0.119542</td>\n",
       "      <td>0.122011</td>\n",
       "      <td>1.884543e-01</td>\n",
       "      <td>1.723705e-01</td>\n",
       "      <td>1.541266e-01</td>\n",
       "    </tr>\n",
       "    <tr>\n",
       "      <th>4</th>\n",
       "      <td>1.205047e-04</td>\n",
       "      <td>0.666762</td>\n",
       "      <td>1.781187e-04</td>\n",
       "      <td>0.666659</td>\n",
       "      <td>1.857474e-04</td>\n",
       "      <td>0.666561</td>\n",
       "      <td>0.000179</td>\n",
       "      <td>1.000000</td>\n",
       "      <td>6.668132e-01</td>\n",
       "      <td>1.822736e-04</td>\n",
       "      <td>6.667143e-01</td>\n",
       "    </tr>\n",
       "  </tbody>\n",
       "</table>\n",
       "</div>"
      ],
      "text/plain": [
       "   Data/NW_data2\\werkschool_nw_b=0.csv  \\\n",
       "0                         8.023700e+05   \n",
       "1                                  inf   \n",
       "2                         3.229830e+01   \n",
       "3                         1.109439e-01   \n",
       "4                         1.205047e-04   \n",
       "\n",
       "   Data/NW_data2\\werkschool_nw_barabasi=1_100_percentage_0.5_reciprocity.csv  \\\n",
       "0                                      811363.000000                           \n",
       "1                                           3.819600                           \n",
       "2                                           3.819600                           \n",
       "3                                           0.196428                           \n",
       "4                                           0.666762                           \n",
       "\n",
       "   Data/NW_data2\\werkschool_nw_barabasi=1_100_percentage_0_reciprocity.csv  \\\n",
       "0                                       8.114010e+05                         \n",
       "1                                                inf                         \n",
       "2                                       6.113400e+00                         \n",
       "3                                       1.787071e-01                         \n",
       "4                                       1.781187e-04                         \n",
       "\n",
       "   Data/NW_data2\\werkschool_nw_barabasi=1_10_percentage_0.5_reciprocity.csv  \\\n",
       "0                                      810300.000000                          \n",
       "1                                           3.812700                          \n",
       "2                                           3.812700                          \n",
       "3                                           0.165316                          \n",
       "4                                           0.666659                          \n",
       "\n",
       "   Data/NW_data2\\werkschool_nw_barabasi=1_10_percentage_0_reciprocity.csv  \\\n",
       "0                                       8.103500e+05                        \n",
       "1                                                inf                        \n",
       "2                                       6.048300e+00                        \n",
       "3                                       1.533481e-01                        \n",
       "4                                       1.857474e-04                        \n",
       "\n",
       "   Data/NW_data2\\werkschool_nw_barabasi=1_1_percentage_0.5_reciprocity.csv  \\\n",
       "0                                      808400.000000                         \n",
       "1                                           3.864000                         \n",
       "2                                           3.864000                         \n",
       "3                                           0.122122                         \n",
       "4                                           0.666561                         \n",
       "\n",
       "   Data/NW_data2\\werkschool_nw_barabasi=1_1_percentage_0_reciprocity.csv  \\\n",
       "0                                      808335.000000                       \n",
       "1                                           4.158200                       \n",
       "2                                           4.158200                       \n",
       "3                                           0.119542                       \n",
       "4                                           0.000179                       \n",
       "\n",
       "   Data/NW_data2\\werkschool_nw_barabasi=1_1_percentage_1_reciprocity.csv  \\\n",
       "0                                      808408.000000                       \n",
       "1                                           3.639500                       \n",
       "2                                           3.639500                       \n",
       "3                                           0.122011                       \n",
       "4                                           1.000000                       \n",
       "\n",
       "   Data/NW_data2\\werkschool_nw_barabasi=1_50_percentage_0.5_reciprocity.csv  \\\n",
       "0                                       8.112460e+05                          \n",
       "1                                                inf                          \n",
       "2                                       5.761700e+00                          \n",
       "3                                       1.884543e-01                          \n",
       "4                                       6.668132e-01                          \n",
       "\n",
       "   Data/NW_data2\\werkschool_nw_barabasi=1_50_percentage_0_reciprocity.csv  \\\n",
       "0                                       8.112730e+05                        \n",
       "1                                                inf                        \n",
       "2                                       8.919500e+00                        \n",
       "3                                       1.723705e-01                        \n",
       "4                                       1.822736e-04                        \n",
       "\n",
       "   Data/NW_data2\\werkschool_nw_barabasi=1_5_percentage_0.5_reciprocity.csv  \n",
       "0                                       8.097910e+05                        \n",
       "1                                                inf                        \n",
       "2                                       5.790300e+00                        \n",
       "3                                       1.541266e-01                        \n",
       "4                                       6.667143e-01                        "
      ]
     },
     "execution_count": 53,
     "metadata": {},
     "output_type": "execute_result"
    }
   ],
   "source": [
    "df_buren"
   ]
  }
 ],
 "metadata": {
  "kernelspec": {
   "display_name": "Python 3",
   "language": "python",
   "name": "python3"
  },
  "language_info": {
   "codemirror_mode": {
    "name": "ipython",
    "version": 3
   },
   "file_extension": ".py",
   "mimetype": "text/x-python",
   "name": "python",
   "nbconvert_exporter": "python",
   "pygments_lexer": "ipython3",
   "version": "3.8.5"
  }
 },
 "nbformat": 4,
 "nbformat_minor": 4
}
